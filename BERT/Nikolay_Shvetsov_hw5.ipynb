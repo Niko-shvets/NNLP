{
  "nbformat": 4,
  "nbformat_minor": 0,
  "metadata": {
    "colab": {
      "name": "Untitled0.ipynb",
      "provenance": [],
      "machine_shape": "hm"
    },
    "kernelspec": {
      "name": "python3",
      "display_name": "Python 3"
    },
    "accelerator": "GPU"
  },
  "cells": [
    {
      "cell_type": "code",
      "metadata": {
        "id": "3WCY_p759M_3",
        "colab_type": "code",
        "outputId": "2b7204c6-7925-4d70-d1f6-34681bde69c6",
        "colab": {
          "base_uri": "https://localhost:8080/",
          "height": 683
        }
      },
      "source": [
        "from google.colab import drive\n",
        "drive.mount('/content/gdrive')\n",
        "%cd /content/gdrive/My Drive/Colab Notebooks/NNLP\n",
        "%ls"
      ],
      "execution_count": 1,
      "outputs": [
        {
          "output_type": "stream",
          "text": [
            "Go to this URL in a browser: https://accounts.google.com/o/oauth2/auth?client_id=947318989803-6bn6qk8qdgf4n4g3pfee6491hc0brc4i.apps.googleusercontent.com&redirect_uri=urn%3aietf%3awg%3aoauth%3a2.0%3aoob&response_type=code&scope=email%20https%3a%2f%2fwww.googleapis.com%2fauth%2fdocs.test%20https%3a%2f%2fwww.googleapis.com%2fauth%2fdrive%20https%3a%2f%2fwww.googleapis.com%2fauth%2fdrive.photos.readonly%20https%3a%2f%2fwww.googleapis.com%2fauth%2fpeopleapi.readonly\n",
            "\n",
            "Enter your authorization code:\n",
            "··········\n",
            "Mounted at /content/gdrive\n",
            "/content/gdrive/My Drive/Colab Notebooks/NNLP\n",
            " assignment22.ipynb\n",
            " assignment2.ipynb\n",
            " assignment3.ipynb\n",
            " assignment4.ipynb\n",
            " classifier_doc_embeddings.py\n",
            " classifier_ffnn.py\n",
            " classifier_lr.py\n",
            " classifier_word_embeddings.py\n",
            " comments.tsv\n",
            "'Copy of 01_seminar_starter.ipynb'\n",
            "'Copy of sem_28_11.ipynb'\n",
            " d2v.model\n",
            " elmo_2x2048_256_2048cnn_1xhighway_options.json\n",
            " elmo_2x2048_256_2048cnn_1xhighway_weights.hdf5\n",
            " file2_ff.tsv\n",
            " file2.tsv\n",
            " file3.tsv\n",
            " file_ll.tsv\n",
            " file_l.tsv\n",
            " file_sk_lr.tsv\n",
            " \u001b[0m\u001b[01;34mFILIMDB\u001b[0m/\n",
            " glove.6B.300d.txt\n",
            " lstm_text_classification.ipynb\n",
            " Nikolay_Shvetsov_assignment2.ipynb\n",
            " \u001b[01;34mProject\u001b[0m/\n",
            " \u001b[01;34m__pycache__\u001b[0m/\n",
            " stomack.zip\n",
            " tut1-model\n",
            " tut1-model_last.pt\n",
            " tut1-model.pt\n",
            " Untitled0.ipynb\n",
            "'Копия assignment4.ipynb'\n"
          ],
          "name": "stdout"
        }
      ]
    },
    {
      "cell_type": "code",
      "metadata": {
        "id": "dcYHJCLI84wO",
        "colab_type": "code",
        "colab": {
          "base_uri": "https://localhost:8080/",
          "height": 870
        },
        "outputId": "95f29b6a-8f77-4bcf-e8e2-3e49323faf71"
      },
      "source": [
        "!pip install transformers==2.1.1 \n",
        "!pip install tensorboard==1.9\n",
        "# !pip install pytorch_pretrained_bert\n"
      ],
      "execution_count": 2,
      "outputs": [
        {
          "output_type": "stream",
          "text": [
            "Collecting transformers==2.1.1\n",
            "\u001b[?25l  Downloading https://files.pythonhosted.org/packages/fd/f9/51824e40f0a23a49eab4fcaa45c1c797cbf9761adedd0b558dab7c958b34/transformers-2.1.1-py3-none-any.whl (311kB)\n",
            "\r\u001b[K     |█                               | 10kB 18.5MB/s eta 0:00:01\r\u001b[K     |██                              | 20kB 1.8MB/s eta 0:00:01\r\u001b[K     |███▏                            | 30kB 2.6MB/s eta 0:00:01\r\u001b[K     |████▏                           | 40kB 1.7MB/s eta 0:00:01\r\u001b[K     |█████▎                          | 51kB 2.1MB/s eta 0:00:01\r\u001b[K     |██████▎                         | 61kB 2.5MB/s eta 0:00:01\r\u001b[K     |███████▍                        | 71kB 2.9MB/s eta 0:00:01\r\u001b[K     |████████▍                       | 81kB 2.3MB/s eta 0:00:01\r\u001b[K     |█████████▌                      | 92kB 2.5MB/s eta 0:00:01\r\u001b[K     |██████████▌                     | 102kB 2.8MB/s eta 0:00:01\r\u001b[K     |███████████▋                    | 112kB 2.8MB/s eta 0:00:01\r\u001b[K     |████████████▋                   | 122kB 2.8MB/s eta 0:00:01\r\u001b[K     |█████████████▊                  | 133kB 2.8MB/s eta 0:00:01\r\u001b[K     |██████████████▊                 | 143kB 2.8MB/s eta 0:00:01\r\u001b[K     |███████████████▊                | 153kB 2.8MB/s eta 0:00:01\r\u001b[K     |████████████████▉               | 163kB 2.8MB/s eta 0:00:01\r\u001b[K     |█████████████████▉              | 174kB 2.8MB/s eta 0:00:01\r\u001b[K     |███████████████████             | 184kB 2.8MB/s eta 0:00:01\r\u001b[K     |████████████████████            | 194kB 2.8MB/s eta 0:00:01\r\u001b[K     |█████████████████████           | 204kB 2.8MB/s eta 0:00:01\r\u001b[K     |██████████████████████          | 215kB 2.8MB/s eta 0:00:01\r\u001b[K     |███████████████████████▏        | 225kB 2.8MB/s eta 0:00:01\r\u001b[K     |████████████████████████▏       | 235kB 2.8MB/s eta 0:00:01\r\u001b[K     |█████████████████████████▎      | 245kB 2.8MB/s eta 0:00:01\r\u001b[K     |██████████████████████████▎     | 256kB 2.8MB/s eta 0:00:01\r\u001b[K     |███████████████████████████▍    | 266kB 2.8MB/s eta 0:00:01\r\u001b[K     |████████████████████████████▍   | 276kB 2.8MB/s eta 0:00:01\r\u001b[K     |█████████████████████████████▍  | 286kB 2.8MB/s eta 0:00:01\r\u001b[K     |██████████████████████████████▌ | 296kB 2.8MB/s eta 0:00:01\r\u001b[K     |███████████████████████████████▌| 307kB 2.8MB/s eta 0:00:01\r\u001b[K     |████████████████████████████████| 317kB 2.8MB/s \n",
            "\u001b[?25hRequirement already satisfied: requests in /usr/local/lib/python3.6/dist-packages (from transformers==2.1.1) (2.21.0)\n",
            "Requirement already satisfied: tqdm in /usr/local/lib/python3.6/dist-packages (from transformers==2.1.1) (4.28.1)\n",
            "Collecting sacremoses\n",
            "\u001b[?25l  Downloading https://files.pythonhosted.org/packages/1f/8e/ed5364a06a9ba720fddd9820155cc57300d28f5f43a6fd7b7e817177e642/sacremoses-0.0.35.tar.gz (859kB)\n",
            "\u001b[K     |████████████████████████████████| 860kB 52.2MB/s \n",
            "\u001b[?25hRequirement already satisfied: regex in /usr/local/lib/python3.6/dist-packages (from transformers==2.1.1) (2019.12.9)\n",
            "Requirement already satisfied: boto3 in /usr/local/lib/python3.6/dist-packages (from transformers==2.1.1) (1.10.40)\n",
            "Collecting sentencepiece\n",
            "\u001b[?25l  Downloading https://files.pythonhosted.org/packages/74/f4/2d5214cbf13d06e7cb2c20d84115ca25b53ea76fa1f0ade0e3c9749de214/sentencepiece-0.1.85-cp36-cp36m-manylinux1_x86_64.whl (1.0MB)\n",
            "\u001b[K     |████████████████████████████████| 1.0MB 41.2MB/s \n",
            "\u001b[?25hRequirement already satisfied: numpy in /usr/local/lib/python3.6/dist-packages (from transformers==2.1.1) (1.17.4)\n",
            "Requirement already satisfied: idna<2.9,>=2.5 in /usr/local/lib/python3.6/dist-packages (from requests->transformers==2.1.1) (2.8)\n",
            "Requirement already satisfied: certifi>=2017.4.17 in /usr/local/lib/python3.6/dist-packages (from requests->transformers==2.1.1) (2019.11.28)\n",
            "Requirement already satisfied: urllib3<1.25,>=1.21.1 in /usr/local/lib/python3.6/dist-packages (from requests->transformers==2.1.1) (1.24.3)\n",
            "Requirement already satisfied: chardet<3.1.0,>=3.0.2 in /usr/local/lib/python3.6/dist-packages (from requests->transformers==2.1.1) (3.0.4)\n",
            "Requirement already satisfied: six in /usr/local/lib/python3.6/dist-packages (from sacremoses->transformers==2.1.1) (1.12.0)\n",
            "Requirement already satisfied: click in /usr/local/lib/python3.6/dist-packages (from sacremoses->transformers==2.1.1) (7.0)\n",
            "Requirement already satisfied: joblib in /usr/local/lib/python3.6/dist-packages (from sacremoses->transformers==2.1.1) (0.14.1)\n",
            "Requirement already satisfied: botocore<1.14.0,>=1.13.40 in /usr/local/lib/python3.6/dist-packages (from boto3->transformers==2.1.1) (1.13.40)\n",
            "Requirement already satisfied: s3transfer<0.3.0,>=0.2.0 in /usr/local/lib/python3.6/dist-packages (from boto3->transformers==2.1.1) (0.2.1)\n",
            "Requirement already satisfied: jmespath<1.0.0,>=0.7.1 in /usr/local/lib/python3.6/dist-packages (from boto3->transformers==2.1.1) (0.9.4)\n",
            "Requirement already satisfied: docutils<0.16,>=0.10 in /usr/local/lib/python3.6/dist-packages (from botocore<1.14.0,>=1.13.40->boto3->transformers==2.1.1) (0.15.2)\n",
            "Requirement already satisfied: python-dateutil<2.8.1,>=2.1; python_version >= \"2.7\" in /usr/local/lib/python3.6/dist-packages (from botocore<1.14.0,>=1.13.40->boto3->transformers==2.1.1) (2.6.1)\n",
            "Building wheels for collected packages: sacremoses\n",
            "  Building wheel for sacremoses (setup.py) ... \u001b[?25l\u001b[?25hdone\n",
            "  Created wheel for sacremoses: filename=sacremoses-0.0.35-cp36-none-any.whl size=883999 sha256=d7a88aec061efd44a84c14c7f7b8e73983ebcaf4ced659f372d14726605bed40\n",
            "  Stored in directory: /root/.cache/pip/wheels/63/2a/db/63e2909042c634ef551d0d9ac825b2b0b32dede4a6d87ddc94\n",
            "Successfully built sacremoses\n",
            "Installing collected packages: sacremoses, sentencepiece, transformers\n",
            "Successfully installed sacremoses-0.0.35 sentencepiece-0.1.85 transformers-2.1.1\n",
            "Collecting tensorboard==1.9\n",
            "\u001b[?25l  Downloading https://files.pythonhosted.org/packages/9e/1f/3da43860db614e294a034e42d4be5c8f7f0d2c75dc1c428c541116d8cdab/tensorboard-1.9.0-py3-none-any.whl (3.3MB)\n",
            "\u001b[K     |████████████████████████████████| 3.3MB 1.9MB/s \n",
            "\u001b[?25hRequirement already satisfied: six>=1.10.0 in /usr/local/lib/python3.6/dist-packages (from tensorboard==1.9) (1.12.0)\n",
            "Requirement already satisfied: numpy>=1.12.0 in /usr/local/lib/python3.6/dist-packages (from tensorboard==1.9) (1.17.4)\n",
            "Requirement already satisfied: wheel>=0.26; python_version >= \"3\" in /usr/local/lib/python3.6/dist-packages (from tensorboard==1.9) (0.33.6)\n",
            "Requirement already satisfied: markdown>=2.6.8 in /usr/local/lib/python3.6/dist-packages (from tensorboard==1.9) (3.1.1)\n",
            "Requirement already satisfied: protobuf>=3.4.0 in /usr/local/lib/python3.6/dist-packages (from tensorboard==1.9) (3.10.0)\n",
            "Requirement already satisfied: werkzeug>=0.11.10 in /usr/local/lib/python3.6/dist-packages (from tensorboard==1.9) (0.16.0)\n",
            "Requirement already satisfied: setuptools>=36 in /usr/local/lib/python3.6/dist-packages (from markdown>=2.6.8->tensorboard==1.9) (42.0.2)\n",
            "\u001b[31mERROR: tensorflow 1.15.0 has requirement tensorboard<1.16.0,>=1.15.0, but you'll have tensorboard 1.9.0 which is incompatible.\u001b[0m\n",
            "Installing collected packages: tensorboard\n",
            "  Found existing installation: tensorboard 1.15.0\n",
            "    Uninstalling tensorboard-1.15.0:\n",
            "      Successfully uninstalled tensorboard-1.15.0\n",
            "Successfully installed tensorboard-1.9.0\n"
          ],
          "name": "stdout"
        }
      ]
    },
    {
      "cell_type": "code",
      "metadata": {
        "id": "6wBMbWgO-9T5",
        "colab_type": "code",
        "colab": {
          "base_uri": "https://localhost:8080/",
          "height": 80
        },
        "outputId": "c07469b2-a255-4d4b-e6ab-17aa95c303af"
      },
      "source": [
        "import torch\n",
        "import torch.nn as nn\n",
        "from transformers import BertModel, BertConfig#,BertForSequenceClassification\n",
        "import pandas as pd\n",
        "from tqdm import tqdm\n",
        "from sklearn.metrics import accuracy_score\n",
        "import numpy as np\n",
        "from collections import Counter, defaultdict\n",
        "import codecs\n",
        "import matplotlib.pyplot as plt\n",
        "import re\n",
        "import seaborn as sns\n",
        "import string\n",
        "from time import time\n",
        "import string \n",
        "%matplotlib inline\n",
        "import torch.nn.functional as F\n",
        "import torch.optim as optim\n",
        "from torch.utils.data import DataLoader\n",
        "import torch.utils.data as data_utils\n",
        "from transformers import BertTokenizer"
      ],
      "execution_count": 3,
      "outputs": [
        {
          "output_type": "stream",
          "text": [
            "WARNING:root:Limited tf.compat.v2.summary API due to missing TensorBoard installation.\n"
          ],
          "name": "stderr"
        },
        {
          "output_type": "display_data",
          "data": {
            "text/html": [
              "<p style=\"color: red;\">\n",
              "The default version of TensorFlow in Colab will soon switch to TensorFlow 2.x.<br>\n",
              "We recommend you <a href=\"https://www.tensorflow.org/guide/migrate\" target=\"_blank\">upgrade</a> now \n",
              "or ensure your notebook will continue to use TensorFlow 1.x via the <code>%tensorflow_version 1.x</code> magic:\n",
              "<a href=\"https://colab.research.google.com/notebooks/tensorflow_version.ipynb\" target=\"_blank\">more info</a>.</p>\n"
            ],
            "text/plain": [
              "<IPython.core.display.HTML object>"
            ]
          },
          "metadata": {
            "tags": []
          }
        }
      ]
    },
    {
      "cell_type": "code",
      "metadata": {
        "id": "sPnaoJOUAwr4",
        "colab_type": "code",
        "outputId": "c3578dbe-e2cd-435a-ba4c-7b29a98fe9c8",
        "colab": {
          "base_uri": "https://localhost:8080/",
          "height": 34
        }
      },
      "source": [
        "tokenizer = BertTokenizer.from_pretrained('bert-base-uncased', do_lower_case=True)"
      ],
      "execution_count": 4,
      "outputs": [
        {
          "output_type": "stream",
          "text": [
            "100%|██████████| 231508/231508 [00:00<00:00, 5740012.36B/s]\n"
          ],
          "name": "stderr"
        }
      ]
    },
    {
      "cell_type": "code",
      "metadata": {
        "id": "lkGOLNx3A_F-",
        "colab_type": "code",
        "colab": {}
      },
      "source": [
        "translator = str.maketrans('', '', string.punctuation)\n",
        "\n",
        "def surround_non_symbols(word):\n",
        "    new_word=''\n",
        "    list_letters=list(word)    \n",
        "    for symbol in list_letters:\n",
        "        if symbol in set(string.punctuation):\n",
        "            symbol=' '+symbol+' '\n",
        "        else:\n",
        "            symbol=symbol\n",
        "        new_word+=symbol\n",
        "    return new_word\n",
        "    \n",
        "\n",
        "def preprocess_text(Text,punct=False,figures=False):\n",
        "    result=[]\n",
        "    for sentense in Text:\n",
        "        string=(sentense.lower())\n",
        "        string = \" \".join([surround_non_symbols(word) for word in string.split()])\n",
        "        clear_sentence=\" \".join(string.split())\n",
        "        if punct==True:\n",
        "            clear_sentence=clear_sentence.translate(translator)\n",
        "        if figures==True:\n",
        "            clear_sentence=re.sub(r'\\d+', '', clear_sentence)\n",
        "        result.append(clear_sentence)\n",
        "    return result\n",
        "\n",
        "def tokenization(data):\n",
        "    data_tok =[line.split() for line in tqdm(data)]\n",
        "    return data_tok\n",
        "\n",
        "def text_readers(path):\n",
        "    file=codecs.open(path,'r','utf_8_sig')\n",
        "    text=file.read()\n",
        "    file.close()\n",
        "    text=text.split('\\n')\n",
        "    text=text[:-1]\n",
        "    return text\n",
        "\n",
        "train_labels=pd.read_csv('FILIMDB/train.labels',header=None)\n",
        "dev_labels=pd.read_csv('FILIMDB/dev.labels',header=None)\n",
        "dev_labels_b=pd.read_csv('FILIMDB/dev-b.labels',header=None)\n",
        "\n",
        "train_text=text_readers('FILIMDB/train.texts')\n",
        "dev=text_readers('FILIMDB/dev.texts')\n",
        "test=text_readers('FILIMDB/test.texts')\n",
        "dev_b=text_readers('FILIMDB/dev-b.texts')\n",
        "test_b=text_readers('FILIMDB/test-b.texts')"
      ],
      "execution_count": 0,
      "outputs": []
    },
    {
      "cell_type": "code",
      "metadata": {
        "id": "WdNOd0tkBMwE",
        "colab_type": "code",
        "colab": {}
      },
      "source": [
        "train_tokens=preprocess_text(train_text)"
      ],
      "execution_count": 0,
      "outputs": []
    },
    {
      "cell_type": "code",
      "metadata": {
        "id": "zNZFzMspDDal",
        "colab_type": "code",
        "outputId": "7ff2e7ab-0e12-4c31-998d-66bb4cc3ce78",
        "colab": {
          "base_uri": "https://localhost:8080/",
          "height": 54
        }
      },
      "source": [
        "bert_tokens=tokenizer.tokenize(train_tokens[0])\n",
        "bert_tokens_subtoken_idxs = tokenizer.convert_tokens_to_ids(bert_tokens)"
      ],
      "execution_count": 7,
      "outputs": [
        {
          "output_type": "stream",
          "text": [
            "WARNING:transformers.tokenization_utils:Token indices sequence length is longer than the specified maximum sequence length for this model (561 > 512). Running this sequence through the model will result in indexing errors\n"
          ],
          "name": "stderr"
        }
      ]
    },
    {
      "cell_type": "code",
      "metadata": {
        "id": "qrlq9lmUDO1S",
        "colab_type": "code",
        "colab": {}
      },
      "source": [
        "#mask creation\n",
        "def bpe_tokenize(bpe_tokenizer, words):\n",
        "    new_words = []\n",
        "    bpe_masks = []\n",
        "    pad_token = '[PAD]'\n",
        "    toks=bpe_tokenizer.tokenize(words)\n",
        "    if len(toks)<512:\n",
        "      pad_size=512-len(toks)\n",
        "      toks=toks+pad_size*[pad_token]\n",
        "    for word in toks:\n",
        "        bpe_tokens = bpe_tokenizer.tokenize(word)\n",
        "        new_words += bpe_tokens        \n",
        "        bpe_masks += [1] + [0] * (len(bpe_tokens) - 1)\n",
        "\n",
        "    return new_words, bpe_masks"
      ],
      "execution_count": 0,
      "outputs": []
    },
    {
      "cell_type": "code",
      "metadata": {
        "id": "hXa7UUTcD8aP",
        "colab_type": "code",
        "colab": {}
      },
      "source": [
        "tokens,masks=bpe_tokenize(tokenizer,train_text[1])\n"
      ],
      "execution_count": 0,
      "outputs": []
    },
    {
      "cell_type": "code",
      "metadata": {
        "id": "dHZoFYH5HPBc",
        "colab_type": "code",
        "colab": {}
      },
      "source": [
        "\n",
        "def vectorize_ex( texts, label):\n",
        "    label_id=[1 if label == 'pos' else 0 ]\n",
        "    sep_token = '[SEP]'\n",
        "    cls_token = '[CLS]'\n",
        "    pad_token = '[PAD]'\n",
        "\n",
        "    sep_vid = tokenizer.vocab[sep_token]\n",
        "    cls_vid = tokenizer.vocab[cls_token]\n",
        "    pad_vid = tokenizer.vocab[pad_token]\n",
        "\n",
        "\n",
        "\n",
        "    tokens,mask=bpe_tokenize(tokenizer,texts)\n",
        "    tokens=tokens[:512]\n",
        "    mask=mask[:512]\n",
        "  \n",
        " \n",
        "\n",
        "    src_txt = [' '.join(sent) for sent in [tokens]]\n",
        "    text = ' {} {} '.format(sep_token, cls_token).join(src_txt)\n",
        "\n",
        "    src_subtokens = tokenizer.tokenize(text)\n",
        "\n",
        "    src_subtokens = [cls_token] + src_subtokens + [sep_token]\n",
        "    src_subtokens=src_subtokens[:511]+ [sep_token]\n",
        "    subtoken_idxs = tokenizer.convert_tokens_to_ids(src_subtokens)\n",
        "    _segs = [-1] + [i for i, t in enumerate(subtoken_idxs) if t == sep_vid]\n",
        "    segs = [_segs[i] - _segs[i - 1] for i in range(1, len(_segs))]\n",
        "    segments_ids = []\n",
        "    for i, s in enumerate(segs):\n",
        "        if (i % 2 == 0):\n",
        "            segments_ids += s * [0]\n",
        "        else:\n",
        "            segments_ids += s * [1]\n",
        "\n",
        "\n",
        "    return subtoken_idxs, segments_ids, mask[:512], label_id"
      ],
      "execution_count": 0,
      "outputs": []
    },
    {
      "cell_type": "markdown",
      "metadata": {
        "id": "EqyMKW7qXuL0",
        "colab_type": "text"
      },
      "source": [
        "answers on questions:\n",
        "\n",
        "a) we and such tokens  '[SEP]','[CLS]','[PAD]'. sep set in begin of sentences, cls in the end\n",
        "\n",
        "b)length of  positional embeddings is 512\n",
        "\n",
        "\n"
      ]
    },
    {
      "cell_type": "code",
      "metadata": {
        "id": "RRI-7XgkIfmz",
        "colab_type": "code",
        "colab": {}
      },
      "source": [
        "train_labels_list=list(train_labels[0])\n",
        "subtoken_idxs, segments_ids, mask, label_id=vectorize_ex(train_text[0],train_labels_list[1])"
      ],
      "execution_count": 0,
      "outputs": []
    },
    {
      "cell_type": "code",
      "metadata": {
        "id": "Kf-qotg4erv-",
        "colab_type": "code",
        "colab": {}
      },
      "source": [
        "from torch.utils.data import (DataLoader, RandomSampler, SequentialSampler, TensorDataset)\n",
        "from tqdm import tqdm"
      ],
      "execution_count": 0,
      "outputs": []
    },
    {
      "cell_type": "code",
      "metadata": {
        "id": "EuIrq-TtfZnN",
        "colab_type": "code",
        "colab": {}
      },
      "source": [
        "subtoken_idxs_all=[]\n",
        "segments_ids_all=[]\n",
        "mask_all=[]\n",
        "label_id_all=[]\n",
        "for i in (range(len(train_text))):\n",
        "  subtoken_idxs, segments_ids, mask, label_id=vectorize_ex(train_text[i],train_labels_list[i])\n",
        "  subtoken_idxs_all.append(subtoken_idxs)\n",
        "  segments_ids_all.append(segments_ids)\n",
        "  mask_all.append(mask)\n",
        "  label_id_all.append(label_id)"
      ],
      "execution_count": 0,
      "outputs": []
    },
    {
      "cell_type": "code",
      "metadata": {
        "id": "d7Hs-9JRg0eV",
        "colab_type": "code",
        "colab": {}
      },
      "source": [
        "subtoken_idxs_all_=torch.tensor(subtoken_idxs_all)\n",
        "mask_all_=torch.tensor(mask_all)\n",
        "segments_ids_all_=torch.tensor(segments_ids_all)\n",
        "label_id_all_=torch.tensor(label_id_all)\n",
        "\n"
      ],
      "execution_count": 0,
      "outputs": []
    },
    {
      "cell_type": "code",
      "metadata": {
        "id": "ySzWEZV7wy_o",
        "colab_type": "code",
        "colab": {}
      },
      "source": [
        "train_data = TensorDataset(subtoken_idxs_all_, mask_all_, label_id_all_)\n",
        "train_sampler = RandomSampler(train_data)\n",
        "train_dataloader = DataLoader(train_data, sampler=train_sampler, batch_size=4)"
      ],
      "execution_count": 0,
      "outputs": []
    },
    {
      "cell_type": "code",
      "metadata": {
        "id": "7W8yTMIVfT36",
        "colab_type": "code",
        "colab": {}
      },
      "source": [
        "bert = BertModel.from_pretrained('bert-base-uncased')\n",
        "\n",
        "class BertBinaryClassifier(nn.Module):\n",
        "    def __init__(self, dropout=0.1):\n",
        "        super(BertBinaryClassifier, self).__init__()\n",
        "        self.bert = BertModel.from_pretrained('bert-base-uncased')\n",
        "        self.linear = nn.Linear(768, 1)\n",
        "        self.sigmoid = nn.Sigmoid()\n",
        "    \n",
        "    def forward(self, tokens,mask):\n",
        "        _, pooled_output = self.bert(tokens,attention_mask=mask)\n",
        "        linear_output = self.linear(pooled_output)\n",
        "        proba = self.sigmoid(linear_output)\n",
        "        return proba"
      ],
      "execution_count": 0,
      "outputs": []
    },
    {
      "cell_type": "code",
      "metadata": {
        "id": "o9GgvP27sbUd",
        "colab_type": "code",
        "colab": {}
      },
      "source": [
        "bert_clf = BertBinaryClassifier().cuda()\n",
        "\n",
        "optimizer = optim.Adam(bert_clf.parameters(), lr=3e-6)\n",
        "loss_func = nn.BCEWithLogitsLoss()"
      ],
      "execution_count": 0,
      "outputs": []
    },
    {
      "cell_type": "code",
      "metadata": {
        "id": "sf6oY5H9-vBP",
        "colab_type": "code",
        "colab": {}
      },
      "source": [
        "from sklearn.metrics import accuracy_score"
      ],
      "execution_count": 0,
      "outputs": []
    },
    {
      "cell_type": "code",
      "metadata": {
        "id": "T9hYv7OsspXx",
        "colab_type": "code",
        "colab": {
          "base_uri": "https://localhost:8080/",
          "height": 85
        },
        "outputId": "348e6dae-160b-4ce9-c61e-65cfd34e9bce"
      },
      "source": [
        "accuracy_tot=[]\n",
        "loss_tot=[]\n",
        "for epoch_num in range(2):\n",
        "    bert_clf.train(True)\n",
        "    loss_epoch=[]\n",
        "    accuracy_epoch=[]\n",
        "    for ids,mask,lab in tqdm(train_dataloader):\n",
        "        # token_ids, labels = tuple(t.to(device) for t in batch_data)\n",
        "        ids=ids.cuda()\n",
        "        mask=mask.cuda()\n",
        "        lab=lab.cuda()\n",
        "        probas = bert_clf(ids,mask)\n",
        "        loss_func = nn.BCELoss()\n",
        "        \n",
        "        batch_loss = loss_func(probas, lab.float())\n",
        "        bert_clf.zero_grad()\n",
        "        batch_loss.backward()\n",
        "        optimizer.step()\n",
        "        acc=accuracy_score(probas.detach().cpu().numpy().round(),lab.detach().cpu().numpy())\n",
        "        loss_epoch.append(batch_loss.detach().cpu().numpy())\n",
        "        accuracy_epoch.append(acc)\n",
        "    bert_clf.train(False)\n",
        "    accuracy_tot.append(np.mean(accuracy_epoch))\n",
        "    loss_tot.append(np.mean(loss_epoch))\n",
        "    print(accuracy_tot[-1])\n",
        "\n",
        "        "
      ],
      "execution_count": 70,
      "outputs": [
        {
          "output_type": "stream",
          "text": [
            "100%|██████████| 3750/3750 [17:30<00:00,  3.57it/s]\n",
            "  0%|          | 0/3750 [00:00<?, ?it/s]"
          ],
          "name": "stderr"
        },
        {
          "output_type": "stream",
          "text": [
            "0.8514\n"
          ],
          "name": "stdout"
        },
        {
          "output_type": "stream",
          "text": [
            "100%|██████████| 3750/3750 [17:31<00:00,  3.56it/s]"
          ],
          "name": "stderr"
        },
        {
          "output_type": "stream",
          "text": [
            "0.928\n"
          ],
          "name": "stdout"
        },
        {
          "output_type": "stream",
          "text": [
            "\n"
          ],
          "name": "stderr"
        }
      ]
    },
    {
      "cell_type": "code",
      "metadata": {
        "id": "eLnUmxT3Rv0G",
        "colab_type": "code",
        "colab": {
          "base_uri": "https://localhost:8080/",
          "height": 298
        },
        "outputId": "c31e0a83-d4e6-40ef-9e3c-1cdebec92b2b"
      },
      "source": [
        "plt.subplot(211)\n",
        "plt.plot(accuracy_tot)\n",
        "plt.title('accuracy')\n",
        "plt.subplot(221)\n",
        "plt.semilogy(loss_tot)\n",
        "plt.title('loss')"
      ],
      "execution_count": 74,
      "outputs": [
        {
          "output_type": "execute_result",
          "data": {
            "text/plain": [
              "Text(0.5, 1.0, 'loss')"
            ]
          },
          "metadata": {
            "tags": []
          },
          "execution_count": 74
        },
        {
          "output_type": "display_data",
          "data": {
            "image/png": "[encoded data removed]",
            "text/plain": [
              "<Figure size 432x288 with 2 Axes>"
            ]
          },
          "metadata": {
            "tags": []
          }
        }
      ]
    },
    {
      "cell_type": "code",
      "metadata": {
        "colab_type": "code",
        "id": "i5E_PFVUBOkC",
        "colab": {}
      },
      "source": [
        "def bert_features(text,labels_list): \n",
        "  subtoken_idxs_all=[]\n",
        "  segments_ids_all=[]\n",
        "  mask_all=[]\n",
        "  label_id_all=[]\n",
        "  for i in (range(len(text))):\n",
        "    subtoken_idxs, segments_ids, mask, label_id=vectorize_ex(text[i],labels_list[i])\n",
        "    subtoken_idxs_all.append(subtoken_idxs)\n",
        "    segments_ids_all.append(segments_ids)\n",
        "    mask_all.append(mask)\n",
        "    label_id_all.append(label_id)\n",
        "  return subtoken_idxs_all,segments_ids_all,mask_all,label_id_all\n",
        "dev_labels_list=dev_labels[0].tolist()\n",
        "dev_labels_b_list=dev_labels_b[0].tolist()"
      ],
      "execution_count": 0,
      "outputs": []
    },
    {
      "cell_type": "code",
      "metadata": {
        "id": "EPzHHwf4-wSN",
        "colab_type": "code",
        "colab": {}
      },
      "source": [
        "#make bert tokens for dev and dev_b\n",
        "subtoken_idxs_all_dev,segments_ids_all_dev,mask_all_dev,label_id_all_dev=bert_features(dev,dev_labels_list)\n",
        "subtoken_idxs_all_dev_b,segments_ids_all_dev_b,mask_all_dev_b,label_id_all_dev_b=bert_features(dev_b,dev_labels_b_list)"
      ],
      "execution_count": 0,
      "outputs": []
    },
    {
      "cell_type": "code",
      "metadata": {
        "id": "hE48q9VR-z2Y",
        "colab_type": "code",
        "colab": {}
      },
      "source": [
        "def predict(model,subtoken_idxs_all,mask_all,segments_ids_all):\n",
        "  subtoken_idxs_all_=torch.tensor(subtoken_idxs_all)\n",
        "  mask_all_=torch.tensor(mask_all)\n",
        "  segments_ids_all_=torch.tensor(segments_ids_all)\n",
        "  # label_id_all_=torch.tensor(label_id_all)\n",
        "\n",
        "  train_data = TensorDataset(subtoken_idxs_all_, mask_all_)\n",
        "  \n",
        "  train_dataloader = DataLoader(train_data, batch_size=4)\n",
        "  model.eval()\n",
        "  preds=[]\n",
        "  for ids,mask in tqdm(train_dataloader):\n",
        "    # token_ids, labels = tuple(t.to(device) for t in batch_data)\n",
        "    ids=ids.cuda()\n",
        "    mask=mask.cuda()\n",
        "    # lab=lab.cuda()\n",
        "    probas = model(ids,mask)\n",
        "    preds.append(probas.detach().cpu().numpy().round())\n",
        "  preds=np.concatenate(preds)\n",
        "  return preds\n",
        "\n"
      ],
      "execution_count": 0,
      "outputs": []
    },
    {
      "cell_type": "code",
      "metadata": {
        "id": "GVRXM-MTR55y",
        "colab_type": "code",
        "colab": {
          "base_uri": "https://localhost:8080/",
          "height": 68
        },
        "outputId": "7481250f-e53f-4482-cef5-2e9c8b9a9d71"
      },
      "source": [
        "y_pred_train=predict(bert_clf,subtoken_idxs_all,mask_all,segments_ids_all)\n",
        "y_pred_train_dev=predict(bert_clf,subtoken_idxs_all_dev,mask_all_dev,segments_ids_all_dev)\n",
        "y_pred_train_dev_b=predict(bert_clf,subtoken_idxs_all_dev_b,mask_all_dev_b,segments_ids_all_dev_b)"
      ],
      "execution_count": 104,
      "outputs": [
        {
          "output_type": "stream",
          "text": [
            "100%|██████████| 3750/3750 [04:59<00:00, 12.49it/s]\n",
            "100%|██████████| 2500/2500 [03:19<00:00, 12.51it/s]\n",
            "100%|██████████| 500/500 [00:39<00:00, 12.52it/s]\n"
          ],
          "name": "stderr"
        }
      ]
    },
    {
      "cell_type": "code",
      "metadata": {
        "id": "tK6sEtSgSQqp",
        "colab_type": "code",
        "colab": {}
      },
      "source": [
        ""
      ],
      "execution_count": 0,
      "outputs": []
    },
    {
      "cell_type": "code",
      "metadata": {
        "id": "_5mT4eZSYekX",
        "colab_type": "code",
        "colab": {}
      },
      "source": [
        "train_labels_=train_labels[0].replace(['neg','pos'],[0,1])\n",
        "dev_labels_=dev_labels[0].replace(['neg','pos'],[0,1])\n",
        "dev_labels_b_=dev_labels_b[0].replace(['neg','pos'],[0,1])"
      ],
      "execution_count": 0,
      "outputs": []
    },
    {
      "cell_type": "code",
      "metadata": {
        "id": "PUnz3xo5Y7Y4",
        "colab_type": "code",
        "colab": {
          "base_uri": "https://localhost:8080/",
          "height": 68
        },
        "outputId": "3eb2bd09-0b54-4edb-fe19-fec0fcbf3ac0"
      },
      "source": [
        "print('train accuracy',accuracy_score(y_pred_train,train_labels_))\n",
        "print('dev accuracy',accuracy_score(y_pred_train_dev,dev_labels_))\n",
        "print('dev_v accuracy',accuracy_score(y_pred_train_dev_b,dev_labels_b_))"
      ],
      "execution_count": 106,
      "outputs": [
        {
          "output_type": "stream",
          "text": [
            "train accuracy 0.9606666666666667\n",
            "dev accuracy 0.9071\n",
            "dev_v accuracy 0.771\n"
          ],
          "name": "stdout"
        }
      ]
    },
    {
      "cell_type": "code",
      "metadata": {
        "id": "qIk3YmpBoid1",
        "colab_type": "code",
        "colab": {}
      },
      "source": [
        "# functions for making bert tokens without labels\n",
        "def vectorize_ex( texts):\n",
        "   \n",
        "    sep_token = '[SEP]'\n",
        "    cls_token = '[CLS]'\n",
        "    pad_token = '[PAD]'\n",
        "\n",
        "    sep_vid = tokenizer.vocab[sep_token]\n",
        "    cls_vid = tokenizer.vocab[cls_token]\n",
        "    pad_vid = tokenizer.vocab[pad_token]\n",
        "\n",
        "\n",
        "\n",
        "    tokens,mask=bpe_tokenize(tokenizer,texts)\n",
        "    tokens=tokens[:512]\n",
        "    mask=mask[:512]\n",
        "  \n",
        " \n",
        "\n",
        "    src_txt = [' '.join(sent) for sent in [tokens]]\n",
        "    text = ' {} {} '.format(sep_token, cls_token).join(src_txt)\n",
        "\n",
        "    src_subtokens = tokenizer.tokenize(text)\n",
        "\n",
        "    src_subtokens = [cls_token] + src_subtokens + [sep_token]\n",
        "    src_subtokens=src_subtokens[:511]+ [sep_token]\n",
        "    subtoken_idxs = tokenizer.convert_tokens_to_ids(src_subtokens)\n",
        "    _segs = [-1] + [i for i, t in enumerate(subtoken_idxs) if t == sep_vid]\n",
        "    segs = [_segs[i] - _segs[i - 1] for i in range(1, len(_segs))]\n",
        "    segments_ids = []\n",
        "    for i, s in enumerate(segs):\n",
        "        if (i % 2 == 0):\n",
        "            segments_ids += s * [0]\n",
        "        else:\n",
        "            segments_ids += s * [1]\n",
        "\n",
        "\n",
        "    return subtoken_idxs, segments_ids, mask\n",
        "\n",
        "def bert_features_test(text): \n",
        "  subtoken_idxs_all=[]\n",
        "  segments_ids_all=[]\n",
        "  mask_all=[]\n",
        "  \n",
        "  for i in (range(len(text))):\n",
        "    subtoken_idxs, segments_ids, mask=vectorize_ex(text[i])\n",
        "    subtoken_idxs_all.append(subtoken_idxs)\n",
        "    segments_ids_all.append(segments_ids)\n",
        "    mask_all.append(mask)\n",
        "\n",
        "  return subtoken_idxs_all,segments_ids_all,mask_all\n"
      ],
      "execution_count": 0,
      "outputs": []
    },
    {
      "cell_type": "code",
      "metadata": {
        "id": "EQdSCL9eqHeU",
        "colab_type": "code",
        "colab": {
          "base_uri": "https://localhost:8080/",
          "height": 34
        },
        "outputId": "03661f93-3101-46fa-b96f-27233da32dfc"
      },
      "source": [
        "subtoken_idxs_all_test,segments_ids_all_test,mask_all_test=bert_features_test(test)\n",
        "subtoken_idxs_all_test_b,segments_ids_all_test_b,mask_all_test_b=bert_features_test(test_b)\n",
        "\n",
        "y_pred_test=predict(bert_clf,subtoken_idxs_all_test,mask_all_test,segments_ids_all_test)\n",
        "y_pred_train_test_b=predict(bert_clf,subtoken_idxs_all_test_b,mask_all_test_b,segments_ids_all_test_b)"
      ],
      "execution_count": 118,
      "outputs": [
        {
          "output_type": "stream",
          "text": [
            "100%|██████████| 2150/2150 [02:51<00:00, 12.93it/s]\n"
          ],
          "name": "stderr"
        }
      ]
    },
    {
      "cell_type": "code",
      "metadata": {
        "id": "KDiuHVUvrhoY",
        "colab_type": "code",
        "colab": {
          "base_uri": "https://localhost:8080/",
          "height": 34
        },
        "outputId": "226de910-7e45-4174-dd06-4163645fc589"
      },
      "source": [
        "def to_df(predictions):    \n",
        "    dataframes=[]\n",
        "    tokens=[train_text,dev,test,dev_b,test_b]\n",
        "    names=['train/','dev/','test/','dev-b/','test-b/']\n",
        "    for token,name,pred in tqdm(zip(tokens,names,predictions)):\n",
        "        first_column=[]\n",
        "        for i in range(len(token)):\n",
        "            first_column.append(name+str(i))\n",
        "        df = pd.DataFrame([first_column,pred]).T\n",
        "        dataframes.append(df)\n",
        "    result=pd.concat(dataframes,ignore_index=True) \n",
        "    result[1]=result[1].replace([0,1],['neg','pos'])\n",
        "    return result\n",
        "preds=[y_pred_train,y_pred_train_dev,y_pred_test,y_pred_train_dev_b,y_pred_train_test_b]\n",
        "result=to_df(preds)\n",
        "result.to_csv('file5.tsv',index=False,header=False,sep='\\t')"
      ],
      "execution_count": 119,
      "outputs": [
        {
          "output_type": "stream",
          "text": [
            "5it [00:05,  1.10s/it]\n"
          ],
          "name": "stderr"
        }
      ]
    },
    {
      "cell_type": "code",
      "metadata": {
        "id": "MDcF0PpQ2_Rl",
        "colab_type": "code",
        "colab": {}
      },
      "source": [
        ""
      ],
      "execution_count": 0,
      "outputs": []
    }
  ]
}