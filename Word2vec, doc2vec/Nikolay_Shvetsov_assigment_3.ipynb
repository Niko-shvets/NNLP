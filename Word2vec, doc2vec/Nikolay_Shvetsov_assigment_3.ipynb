{
 "cells": [
  {
   "cell_type": "markdown",
   "metadata": {
    "colab_type": "text",
    "id": "FEM7clAgCfn2"
   },
   "source": [
    "# Assignment 3. Sentiment analysis using word and document embeddings."
   ]
  },
  {
   "cell_type": "code",
   "execution_count": 1,
   "metadata": {
    "colab": {
     "base_uri": "https://localhost:8080/",
     "height": 378
    },
    "colab_type": "code",
    "id": "v2dAnMxkCogl",
    "outputId": "513aec66-f8d0-4262-a275-09d3c4aa404b"
   },
   "outputs": [
    {
     "name": "stdout",
     "output_type": "stream",
     "text": [
      "Go to this URL in a browser: https://accounts.google.com/o/oauth2/auth?client_id=947318989803-6bn6qk8qdgf4n4g3pfee6491hc0brc4i.apps.googleusercontent.com&redirect_uri=urn%3aietf%3awg%3aoauth%3a2.0%3aoob&response_type=code&scope=email%20https%3a%2f%2fwww.googleapis.com%2fauth%2fdocs.test%20https%3a%2f%2fwww.googleapis.com%2fauth%2fdrive%20https%3a%2f%2fwww.googleapis.com%2fauth%2fdrive.photos.readonly%20https%3a%2f%2fwww.googleapis.com%2fauth%2fpeopleapi.readonly\n",
      "\n",
      "Enter your authorization code:\n",
      "··········\n",
      "Mounted at /content/gdrive\n",
      "/content/gdrive/My Drive/Colab Notebooks/NNLP\n",
      " assignment22.ipynb                  file_ll.tsv\n",
      " assignment2.ipynb                   file_l.tsv\n",
      " assignment3.ipynb                   file_sk_lr.tsv\n",
      " classifier_doc_embeddings.py        \u001b[0m\u001b[01;34mFILIMDB\u001b[0m/\n",
      " classifier_ffnn.py                  glove.6B.100d.txt\n",
      " classifier_lr.py                    glove.6B.100d.w2vformat.txt\n",
      " classifier_word_embeddings.py       glove.6B.200d.txt\n",
      " comments.tsv                        glove.6B.200d.w2vformat.txt\n",
      "'Copy of 01_seminar_starter.ipynb'   glove.6B.300d.txt\n",
      " d2v.model                           glove.6B.300d.w2vformat.txt\n",
      " d2v.model.trainables.syn1neg.npy    glove.6B.50d.txt\n",
      " d2v.model.wv.vectors.npy            glove.6B.50d.w2vformat.txt\n",
      " file2_ff.tsv                        Nikolay_Shvetsov_assignment2.ipynb\n",
      " file2.tsv                           \u001b[01;34m__pycache__\u001b[0m/\n",
      " file3.tsv                           wiki-news-300d-1M.vec\n"
     ]
    }
   ],
   "source": [
    "from google.colab import drive\n",
    "drive.mount('/content/gdrive')\n",
    "%cd /content/gdrive/My Drive/Colab Notebooks/NNLP\n",
    "%ls"
   ]
  },
  {
   "cell_type": "markdown",
   "metadata": {
    "colab_type": "text",
    "id": "THj-D56MCfoA"
   },
   "source": [
    "Full instructions on completion of this assignment can be found in Canvas."
   ]
  },
  {
   "cell_type": "markdown",
   "metadata": {
    "colab_type": "text",
    "id": "R4ufxZZkCfoE"
   },
   "source": [
    "## 1. Theoretical part\n",
    "\n",
    "### 1.1 Word embeddings\n",
    "\n",
    "Write down objective functions of the Skip-Gram word embedding models assuming negative sampling (SGNS)."
   ]
  },
  {
   "cell_type": "markdown",
   "metadata": {
    "colab_type": "text",
    "id": "v5IKzpFF4BDY"
   },
   "source": [
    "$J_{n e g-s a m p l e}\\left(\\boldsymbol{o}, \\boldsymbol{v}_{c}, \\boldsymbol{U}\\right)=-\\log \\left(\\sigma\\left(\\boldsymbol{u}_{o}^{\\top} \\boldsymbol{v}_{c}\\right)\\right)-\\sum_{k=1}^{K} \\log \\left(\\sigma\\left(-\\boldsymbol{u}_{k}^{\\top} \\boldsymbol{v}_{c}\\right)\\right)$\n",
    "\n"
   ]
  },
  {
   "cell_type": "markdown",
   "metadata": {
    "colab_type": "text",
    "id": "MjREWjaMCfoT"
   },
   "source": [
    "Write down derivatives with respect to the parameters (weights) of this loss function."
   ]
  },
  {
   "cell_type": "markdown",
   "metadata": {
    "colab_type": "text",
    "id": "X_-MDi679xNY"
   },
   "source": [
    "$$\\begin{aligned} \\frac{\\partial J}{\\partial \\boldsymbol{v}_{c}} &=\\left(\\sigma\\left(\\boldsymbol{u}_{o}^{\\top} v_{c}\\right)-1\\right) \\boldsymbol{u}_{o}-\\sum_{k=1}^{K}\\left(\\sigma\\left(-\\boldsymbol{u}_{k}^{\\top} \\boldsymbol{v}_{c}\\right)-1\\right) \\boldsymbol{u}_{k} \\\\ \\frac{\\partial J}{\\partial \\boldsymbol{u}_{o}} &=\\left(\\sigma\\left(\\boldsymbol{u}_{o}^{\\top} \\boldsymbol{v}_{c}\\right)-1\\right) \\boldsymbol{v}_{c} \\\\ \\frac{\\partial J}{\\partial \\boldsymbol{u}_{k}} &=-\\left(\\sigma\\left(-\\boldsymbol{u}_{k}^{\\top} \\boldsymbol{v}_{c}\\right)-1\\right) \\boldsymbol{v}_{c}, \\quad \\text { for all } k=1,2, \\ldots, K \\end{aligned}$$"
   ]
  },
  {
   "cell_type": "code",
   "execution_count": 1,
   "metadata": {},
   "outputs": [],
   "source": [
    "import numpy as np\n",
    "from sklearn.metrics import accuracy_score\n",
    "from gensim.models.doc2vec import Doc2Vec, TaggedDocument\n",
    "import gensim\n",
    "from sklearn.linear_model import LogisticRegression\n",
    "import pandas as pd\n",
    "from sklearn.metrics import accuracy_score\n",
    "import numpy as np\n",
    "from collections import Counter, defaultdict\n",
    "import codecs\n",
    "import matplotlib.pyplot as plt\n",
    "import re\n",
    "import seaborn as sns\n",
    "import string\n",
    "from time import time\n",
    "import string \n",
    "%matplotlib inline\n",
    "model = Doc2Vec(vector_size=300, min_count=1, epochs=55)\n",
    "def gensim_preprocess_tain(data,labels):\n",
    "  train_documents = [TaggedDocument(gensim.utils.simple_preprocess(doc), [label]) for  doc,label in zip(data,labels)]\n",
    "  return train_documents\n",
    "\n",
    "def gensim_preprocess_test(data):\n",
    "  preprocessed=[gensim.utils.simple_preprocess(sentence) for sentence in data]\n",
    "  return preprocessed\n",
    "\n",
    "def vectors_creature(model,tokens_list:list):\n",
    "  vectors=[model.infer_vector(sentence) for sentence in (tokens_list) ]\n",
    "  return vectors\n",
    "\n",
    "def train(text,labels):\n",
    "    \n",
    "    labels=labels[0].replace(['neg','pos'],[0,1])\n",
    "    train_gensim_data=gensim_preprocess_tain(text,labels)\n",
    "    data_train=gensim_preprocess_test(text)\n",
    "    model.build_vocab(train_gensim_data)\n",
    "    model.epochs=2\n",
    "    model.train(train_gensim_data, total_examples=model.corpus_count, epochs=model.epochs) \n",
    "    vectors=vectors_creature(model,data_train)\n",
    "    logreg = LogisticRegression(C=0.01,penalty='l2',max_iter=200,random_state=42,solver='saga')\n",
    "    logreg.fit(vectors,train_labels)\n",
    "    return logreg\n",
    "\n",
    "def classify(data,logreg):\n",
    "    data_train=gensim_preprocess_test(data)\n",
    "    vectors=vectors_creature(model,data_train)\n",
    "    y_pred=logreg.predict(vectors) \n",
    "    return y_pred\n"
   ]
  },
  {
   "cell_type": "code",
   "execution_count": 3,
   "metadata": {},
   "outputs": [
    {
     "name": "stderr",
     "output_type": "stream",
     "text": [
      "C:\\Users\\nikos\\Anaconda3\\lib\\site-packages\\sklearn\\utils\\validation.py:578: DataConversionWarning: A column-vector y was passed when a 1d array was expected. Please change the shape of y to (n_samples, ), for example using ravel().\n",
      "  y = column_or_1d(y, warn=True)\n"
     ]
    }
   ],
   "source": [
    "logreg=train(train_text,train_labels)"
   ]
  },
  {
   "cell_type": "code",
   "execution_count": 4,
   "metadata": {},
   "outputs": [],
   "source": [
    "y_pred=classify(train_text,logreg)"
   ]
  },
  {
   "cell_type": "code",
   "execution_count": 5,
   "metadata": {},
   "outputs": [
    {
     "data": {
      "text/plain": [
       "0.8350666666666666"
      ]
     },
     "execution_count": 5,
     "metadata": {},
     "output_type": "execute_result"
    }
   ],
   "source": [
    "accuracy_score(y_pred,train_labels)"
   ]
  },
  {
   "cell_type": "code",
   "execution_count": 2,
   "metadata": {},
   "outputs": [],
   "source": [
    "def text_readers(path):\n",
    "    file=codecs.open(path,'r','utf_8_sig')\n",
    "    text=file.read()\n",
    "    file.close()\n",
    "    text=text.split('\\n')\n",
    "    text=text[:-1]\n",
    "    return text\n",
    "\n",
    "train_labels=pd.read_csv('FILIMDB/train.labels',header=None)\n",
    "dev_labels=pd.read_csv('FILIMDB/dev.labels',header=None)\n",
    "dev_labels_b=pd.read_csv('FILIMDB/dev-b.labels',header=None)\n",
    "\n",
    "train_text=text_readers('FILIMDB/train.texts')\n",
    "dev=text_readers('FILIMDB/dev.texts')\n",
    "test=text_readers('FILIMDB/test.texts')\n",
    "dev_b=text_readers('FILIMDB/dev-b.texts')\n",
    "test_b=text_readers('FILIMDB/test-b.texts')"
   ]
  },
  {
   "cell_type": "code",
   "execution_count": null,
   "metadata": {},
   "outputs": [],
   "source": []
  },
  {
   "cell_type": "code",
   "execution_count": 1,
   "metadata": {
    "colab": {},
    "colab_type": "code",
    "id": "3OiseOogCfoW"
   },
   "outputs": [],
   "source": [
    "import numpy as np\n",
    "import torch\n",
    "import torch.nn as nn\n",
    "import torch.nn.functional as F\n",
    "import torch.optim as optim\n",
    "import torch.utils.data as data_utils\n",
    "from sklearn.metrics import accuracy_score\n",
    "import matplotlib.pyplot as plt\n",
    "from gensim.scripts.glove2word2vec import glove2word2vec\n",
    "from gensim.models.keyedvectors import KeyedVectors\n",
    "import pandas as pd\n",
    "from tqdm import tqdm\n",
    "from sklearn.metrics import accuracy_score\n",
    "import numpy as np\n",
    "from collections import Counter, defaultdict\n",
    "import codecs\n",
    "import matplotlib.pyplot as plt\n",
    "import re\n",
    "import seaborn as sns\n",
    "import string\n",
    "from time import time\n",
    "import string \n",
    "%matplotlib inline\n",
    "\n",
    "import torch\n",
    "import torch.nn as nn\n",
    "import torch.nn.functional as F\n",
    "import torch.optim as optim\n",
    "from torch.utils.data import DataLoader\n",
    "import torch.utils.data as data_utils\n",
    "\n",
    "def text_readers(path):\n",
    "    file=codecs.open(path,'r','utf_8_sig')\n",
    "    text=file.read()\n",
    "    file.close()\n",
    "    text=text.split('\\n')\n",
    "    text=text[:-1]\n",
    "    return text\n",
    "\n",
    "train_labels=pd.read_csv('FILIMDB/train.labels',header=None)\n",
    "dev_labels=pd.read_csv('FILIMDB/dev.labels',header=None)\n",
    "dev_labels_b=pd.read_csv('FILIMDB/dev-b.labels',header=None)\n",
    "\n",
    "train_text=text_readers('FILIMDB/train.texts')\n",
    "dev=text_readers('FILIMDB/dev.texts')\n",
    "test=text_readers('FILIMDB/test.texts')\n",
    "dev_b=text_readers('FILIMDB/dev-b.texts')\n",
    "test_b=text_readers('FILIMDB/test-b.texts')\n",
    "\n",
    "translator = str.maketrans('', '', string.punctuation)\n",
    "\n",
    "def surround_non_symbols(word):\n",
    "    new_word=''\n",
    "    list_letters=list(word)    \n",
    "    for symbol in list_letters:\n",
    "        if symbol in set(string.punctuation):\n",
    "            symbol=' '+symbol+' '\n",
    "        else:\n",
    "            symbol=symbol\n",
    "        new_word+=symbol\n",
    "    return new_word\n",
    "    \n",
    "\n",
    "def preprocess_text(Text,punct=False,figures=False):\n",
    "    result=[]\n",
    "    for sentense in Text:\n",
    "        string=(sentense.lower())\n",
    "        string = \" \".join([surround_non_symbols(word) for word in string.split()])\n",
    "        clear_sentence=\" \".join(string.split())\n",
    "        if punct==True:\n",
    "            clear_sentence=clear_sentence.translate(translator)\n",
    "        if figures==True:\n",
    "            clear_sentence=re.sub(r'\\d+', '', clear_sentence)\n",
    "        result.append(clear_sentence)\n",
    "    return result\n",
    "\n",
    "\n",
    "def tokenization(data):\n",
    "    data_tok =[line.split() for line in data]\n",
    "    return data_tok\n",
    "\n",
    "def sent_vec(sent,glove_model):\n",
    "    wv_res = np.zeros(glove_model.vector_size)\n",
    "    ctr = 1\n",
    "    for w in sent:\n",
    "        if w in glove_model:\n",
    "            ctr += 1\n",
    "            wv_res += glove_model[w]\n",
    "    wv_res = wv_res/ctr\n",
    "    #return (wv_res, ctr)\n",
    "    return wv_res\n",
    "\n",
    "def vector(tokens:list,glove_model):\n",
    "  doc_vecs=[]\n",
    "  for sentence in (tokens):\n",
    "    doc_vecs.append(sent_vec(sentence,glove_model))\n",
    "  return doc_vecs\n",
    "def tensor_from_array(array_list:list):\n",
    "  tensors=[torch.FloatTensor(array_list[ind]) for ind in range(len(array_list))]\n",
    "  return tensors\n",
    "\n",
    "def dataLoader(X,y,batchsize):\n",
    "  y=torch.from_numpy(np.array(y)).float()\n",
    "  tensor_set=torch.stack([torch.Tensor(i) for i in X])\n",
    "  data_set=data_utils.TensorDataset(tensor_set,y)\n",
    "  train_loader=data_utils.DataLoader(data_set,batch_size=batchsize,shuffle=True)\n",
    "  return train_loader\n",
    "\n",
    "\n",
    "class Feedforward(torch.nn.Module):\n",
    "        def __init__(self, input_size, hidden_size):\n",
    "            super(Feedforward, self).__init__()\n",
    "            self.input_size = input_size\n",
    "            self.hidden_size  = hidden_size\n",
    "            self.fc1 = torch.nn.Linear(self.input_size, self.hidden_size)\n",
    "            self.tanh = torch.nn.ReLU()\n",
    "            self.fc2 = torch.nn.Linear(self.hidden_size, 10)\n",
    "            self.tanh1 = torch.nn.ReLU()\n",
    "            self.fc3=torch.nn.Linear(10,1)\n",
    "            self.sigmoid = torch.nn.Sigmoid()\n",
    "        def forward(self, x):\n",
    "            hidden = self.fc1(x)\n",
    "            tanh = self.tanh(hidden)\n",
    "\n",
    "            output = self.fc2(tanh)\n",
    "            output = self.tanh1(output)\n",
    "\n",
    "            output = self.fc3(output)\n",
    "            output = self.sigmoid(output)\n",
    "            return output\n",
    "        \n",
    "def train(text,labels):\n",
    "  batch_size=50  \n",
    "  preprocessed_train = preprocess_text(text,True,False)\n",
    "  train_tokens=tokenization(preprocessed_train)\n",
    "\n",
    "  labels=labels[0].replace(['neg','pos'],[0,1])\n",
    "  glove_input_file = 'glove.6B.300d.txt'\n",
    "  word2vec_output_file = 'glove.6B.300d.w2vformat.txt'\n",
    "  glove2word2vec(glove_input_file, word2vec_output_file)\n",
    "  glove_model_300 = KeyedVectors.load_word2vec_format(\"glove.6B.300d.w2vformat.txt\", binary=False)\n",
    "\n",
    "  train_doc_vecs=vector(train_tokens,glove_model_300)\n",
    "  train_tensors=tensor_from_array(train_doc_vecs) \n",
    "\n",
    "  train_loader=dataLoader(train_tensors,labels,batch_size)  \n",
    "  model = Feedforward(300, 50)#.cuda()\n",
    "  optimizer = optim.Adam(model.parameters())\n",
    "  loss_function = nn.BCEWithLogitsLoss()\n",
    "  loader=dataLoader(train_tensors,labels,batch_size)\n",
    "  train_losses=[]\n",
    "  train_accuracy=[]\n",
    "  for epoch in range((20)):\n",
    "    model.train(True)\n",
    "    loss_epoch=[]\n",
    "    accuracy_epoch=[]\n",
    "    for x_batch,y_batch in (loader):\n",
    "\n",
    "      prediction=model(x_batch)\n",
    "\n",
    "      loss=loss_function(prediction.view(-1),y_batch)\n",
    "\n",
    "      loss.backward()\n",
    "      optimizer.step()\n",
    "      optimizer.zero_grad()\n",
    "      loss_epoch.append(loss.data.cpu().numpy())\n",
    "\n",
    "      accuracy_epoch.append(accuracy_score(prediction.detach().cpu().numpy().round(),y_batch.detach().cpu().numpy()))\n",
    "\n",
    "    model.train(False)\n",
    "    train_losses.append(np.mean(loss_epoch))\n",
    "    train_accuracy.append(np.mean(accuracy_epoch))\n",
    "    if epoch%10==0:\n",
    "        print('epoch: ',epoch,' accuracy: ',train_accuracy[-1],' loss: ', train_losses[-1])\n",
    "  return model\n",
    "\n",
    "def classify(text,model):\n",
    "  preprocessed_train = preprocess_text(text,True,False)\n",
    "  train_tokens=tokenization(preprocessed_train)\n",
    "\n",
    "  glove_input_file = 'glove.6B.300d.txt'\n",
    "  word2vec_output_file = 'glove.6B.300d.w2vformat.txt'\n",
    "  glove2word2vec(glove_input_file, word2vec_output_file)\n",
    "  glove_model_300 = KeyedVectors.load_word2vec_format(\"glove.6B.300d.w2vformat.txt\", binary=False)\n",
    "\n",
    "  train_doc_vecs=vector(train_tokens,glove_model_300)\n",
    "  train_tensors=tensor_from_array(train_doc_vecs) \n",
    "\n",
    "  preds=[]\n",
    "  model.eval()\n",
    "  tensor_set=torch.stack([torch.Tensor(i) for i in train_tensors])\n",
    "  data_set=data_utils.TensorDataset(tensor_set,torch.zeros(tensor_set.shape[0]),)\n",
    "  loader=data_utils.DataLoader(data_set,batch_size=50,shuffle=False)\n",
    "  \n",
    "  for test_batch,y in loader:\n",
    "    predictions = model(test_batch)\n",
    "    preds.append(predictions.detach().numpy().round())\n",
    "  y_pred=np.concatenate(preds).reshape(-1)\n",
    "  y_pred=pd.Series(y_pred)\n",
    "  y_pred=y_pred.replace([0,1],['neg','pos'])  \n",
    "    \n",
    "  return y_pred\n",
    "        "
   ]
  },
  {
   "cell_type": "code",
   "execution_count": 2,
   "metadata": {},
   "outputs": [
    {
     "name": "stdout",
     "output_type": "stream",
     "text": [
      "epoch:  0  accuracy:  0.5112000000000001  loss:  0.69163686\n",
      "epoch:  10  accuracy:  0.8277333333333334  loss:  0.5814921\n"
     ]
    }
   ],
   "source": [
    "model=train_NN(train_text,train_labels)\n"
   ]
  },
  {
   "cell_type": "code",
   "execution_count": 3,
   "metadata": {},
   "outputs": [
    {
     "data": {
      "text/plain": [
       "0.8061333333333334"
      ]
     },
     "execution_count": 3,
     "metadata": {},
     "output_type": "execute_result"
    }
   ],
   "source": [
    "preds_train=classify(train_text,model)\n",
    "accuracy_score(preds_train,train_labels)"
   ]
  },
  {
   "cell_type": "markdown",
   "metadata": {
    "colab_type": "text",
    "id": "_ByvFc4QCfoc"
   },
   "source": [
    "## 2. Practical part"
   ]
  },
  {
   "cell_type": "code",
   "execution_count": 1,
   "metadata": {
    "colab": {},
    "colab_type": "code",
    "id": "JmL7mB3hCfoe"
   },
   "outputs": [],
   "source": [
    "import pandas as pd\n",
    "from tqdm import tqdm\n",
    "from sklearn.metrics import accuracy_score\n",
    "import numpy as np\n",
    "from collections import Counter, defaultdict\n",
    "import codecs\n",
    "import matplotlib.pyplot as plt\n",
    "import re\n",
    "import seaborn as sns\n",
    "import string\n",
    "from time import time\n",
    "import string \n",
    "%matplotlib inline\n",
    "\n",
    "import torch\n",
    "import torch.nn as nn\n",
    "import torch.nn.functional as F\n",
    "import torch.optim as optim\n",
    "from torch.utils.data import DataLoader\n",
    "import torch.utils.data as data_utils"
   ]
  },
  {
   "cell_type": "markdown",
   "metadata": {
    "colab_type": "text",
    "id": "k4YO0MmuCfon"
   },
   "source": [
    "### 2.1 Use word embeddings for text classification - Logistic Regression"
   ]
  },
  {
   "cell_type": "markdown",
   "metadata": {
    "colab_type": "text",
    "id": "sP2phoL1Cfop"
   },
   "source": [
    "Implement using a text classifier based on logistic regression where pre-trained word embeddings are used. You need to simply average word embeddings of a sentence (perform average pooling of word vectors) and they apply the logistic regression to the output representation."
   ]
  },
  {
   "cell_type": "markdown",
   "metadata": {
    "colab_type": "text",
    "id": "ZdEq2BvFCfou"
   },
   "source": [
    "The process for using word embeddings as the initial embedding matrix involves first loading the\n",
    "embeddings from the disk, then selecting the correct subset of embeddings for the words that are\n",
    "actually present in the data, and finally setting the Embedding layer’s weight matrix as the loaded\n",
    "subset"
   ]
  },
  {
   "cell_type": "markdown",
   "metadata": {
    "colab_type": "text",
    "id": "WxLghPSNCfow"
   },
   "source": [
    "If you use ``torch`` use the ``torch.nn.Embedding`` to load pre-trained word embeddings. Use the [GloVe](http://nlp.stanford.edu/data/wordvecs/glove.6B.zip) embeddings. Otherwise you can use ``gensim`` and ``sklearn`` or similar packages."
   ]
  },
  {
   "cell_type": "code",
   "execution_count": 2,
   "metadata": {
    "colab": {},
    "colab_type": "code",
    "id": "-BMVA6IaCfoz"
   },
   "outputs": [],
   "source": [
    "#lets preprocess data\n",
    "def text_readers(path):\n",
    "    file=codecs.open(path,'r','utf_8_sig')\n",
    "    text=file.read()\n",
    "    file.close()\n",
    "    text=text.split('\\n')\n",
    "    text=text[:-1]\n",
    "    return text\n",
    "\n",
    "train_labels=pd.read_csv('FILIMDB/train.labels',header=None)\n",
    "dev_labels=pd.read_csv('FILIMDB/dev.labels',header=None)\n",
    "dev_labels_b=pd.read_csv('FILIMDB/dev-b.labels',header=None)\n",
    "\n",
    "train_text=text_readers('FILIMDB/train.texts')\n",
    "dev=text_readers('FILIMDB/dev.texts')\n",
    "test=text_readers('FILIMDB/test.texts')\n",
    "dev_b=text_readers('FILIMDB/dev-b.texts')\n",
    "test_b=text_readers('FILIMDB/test-b.texts')\n",
    "\n",
    "# train_labels=train_labels[0].replace(['neg','pos'],[0,1])\n",
    "# dev_labels=dev_labels[0].replace(['neg','pos'],[0,1])\n",
    "# dev_labels_b=dev_labels_b[0].replace(['neg','pos'],[0,1])"
   ]
  },
  {
   "cell_type": "code",
   "execution_count": 3,
   "metadata": {
    "colab": {
     "base_uri": "https://localhost:8080/",
     "height": 98
    },
    "colab_type": "code",
    "id": "GEQdVGTrCfo7",
    "outputId": "1d877137-503b-4c7f-8329-05edfe5c82c5"
   },
   "outputs": [],
   "source": [
    "translator = str.maketrans('', '', string.punctuation)\n",
    "\n",
    "def surround_non_symbols(word):\n",
    "    new_word=''\n",
    "    list_letters=list(word)    \n",
    "    for symbol in list_letters:\n",
    "        if symbol in set(string.punctuation):\n",
    "            symbol=' '+symbol+' '\n",
    "        else:\n",
    "            symbol=symbol\n",
    "        new_word+=symbol\n",
    "    return new_word\n",
    "    \n",
    "\n",
    "def preprocess_text(Text,punct=False,figures=False):\n",
    "    result=[]\n",
    "    for sentense in Text:\n",
    "        string=(sentense.lower())\n",
    "        string = \" \".join([surround_non_symbols(word) for word in string.split()])\n",
    "        clear_sentence=\" \".join(string.split())\n",
    "        if punct==True:\n",
    "            clear_sentence=clear_sentence.translate(translator)\n",
    "        if figures==True:\n",
    "            clear_sentence=re.sub(r'\\d+', '', clear_sentence)\n",
    "        result.append(clear_sentence)\n",
    "    return result\n",
    "\n",
    "\n",
    "\n",
    "\n",
    "def tokenization(data):\n",
    "    data_tok =[line.split() for line in tqdm(data)]\n",
    "    return data_tok\n",
    "\n",
    "from gensim.scripts.glove2word2vec import glove2word2vec\n",
    "\n",
    "\n",
    "from gensim.models.keyedvectors import KeyedVectors\n",
    "def sent_vec(sent,glove_model):\n",
    "    wv_res = np.zeros(glove_model.vector_size)\n",
    "    ctr = 1\n",
    "    for w in sent:\n",
    "        if w in glove_model:\n",
    "            ctr += 1\n",
    "            wv_res += glove_model[w]\n",
    "    wv_res = wv_res/ctr\n",
    "    #return (wv_res, ctr)\n",
    "    return wv_res\n",
    "\n",
    "def vector(tokens:list,glove_model):\n",
    "  doc_vecs=[]\n",
    "  for sentence in tqdm(tokens):\n",
    "    doc_vecs.append(sent_vec(sentence,glove_model))\n",
    "  return doc_vecs\n",
    "def tensor_from_array(array_list:list):\n",
    "  tensors=[torch.FloatTensor(array_list[ind]) for ind in range(len(array_list))]\n",
    "  return tensors\n",
    "\n",
    "def dataLoader(X,y,batchsize):\n",
    "  y=torch.from_numpy(np.array(y)).float()\n",
    "  tensor_set=torch.stack([torch.Tensor(i) for i in X])\n",
    "  data_set=data_utils.TensorDataset(tensor_set,y)\n",
    "  train_loader=data_utils.DataLoader(data_set,batch_size=batchsize,shuffle=True)\n",
    "  return train_loader\n"
   ]
  },
  {
   "cell_type": "code",
   "execution_count": 28,
   "metadata": {},
   "outputs": [],
   "source": [
    "class LogisticRegressionBow(nn.Module):\n",
    "  def __init__(self, vectors,num_labels):\n",
    "    super().__init__()\n",
    "    self.linear = nn.Linear(vectors, num_labels)\n",
    "    #self.sigmoid=torch.nn.Sigmoid()\n",
    "  def forward(self, bow_vec):\n",
    "    linear=self.linear(bow_vec)\n",
    "   # res=self.sigmoid(linear)\n",
    "    return linear"
   ]
  },
  {
   "cell_type": "code",
   "execution_count": 31,
   "metadata": {},
   "outputs": [],
   "source": [
    "def train(text,labels):\n",
    "    batch_size=50\n",
    "    preprocessed_train = preprocess_text(text,True,False)\n",
    "    train_tokens=tokenization(preprocessed_train)\n",
    "    \n",
    "    labels=labels[0].replace(['neg','pos'],[0,1])\n",
    "    glove_input_file = 'glove.6B.300d.txt'\n",
    "    word2vec_output_file = 'glove.6B.300d.w2vformat.txt'\n",
    "    glove2word2vec(glove_input_file, word2vec_output_file)\n",
    "    glove_model_300 = KeyedVectors.load_word2vec_format(\"glove.6B.300d.w2vformat.txt\", binary=False)\n",
    "    \n",
    "    train_doc_vecs=vector(train_tokens,glove_model_300)\n",
    "    train_tensors=tensor_from_array(train_doc_vecs) \n",
    "    \n",
    "    train_loader=dataLoader(train_tensors,labels,batch_size)\n",
    "    model = LogisticRegressionBow(300, 2)#.cuda()\n",
    "    optimizer = optim.Adam(model.parameters())\n",
    "    loss_function = nn.CrossEntropyLoss()\n",
    "    for epoch in tqdm(range(50)):\n",
    "     # model.train(True)\n",
    "\n",
    "        for X,y in (train_loader):\n",
    "      \n",
    "            y=y.type(torch.LongTensor)\n",
    "            optimizer.zero_grad()\n",
    "            l_probs = model(X)\n",
    "\n",
    "            loss = loss_function(l_probs, y)\n",
    "            loss.backward()\n",
    "            optimizer.step()\n",
    "            \n",
    "\n",
    "    return model"
   ]
  },
  {
   "cell_type": "code",
   "execution_count": 32,
   "metadata": {},
   "outputs": [
    {
     "name": "stderr",
     "output_type": "stream",
     "text": [
      "100%|█████████████████████████████████████████████████████████████████████████| 15000/15000 [00:00<00:00, 19054.88it/s]\n",
      "100%|███████████████████████████████████████████████████████████████████████████| 15000/15000 [00:40<00:00, 368.18it/s]\n",
      "100%|████████████████████████████████████████████████████████████████████████████████████| 2/2 [00:07<00:00,  4.90s/it]\n"
     ]
    }
   ],
   "source": [
    "model=train(train_text,train_labels)"
   ]
  },
  {
   "cell_type": "code",
   "execution_count": 50,
   "metadata": {},
   "outputs": [],
   "source": [
    "def classify(data,model):\n",
    "  batchsize=50 \n",
    "  preprocessed_train = preprocess_text(data,True,False)\n",
    "  train_tokens=tokenization(preprocessed_train)\n",
    "  glove_input_file = 'glove.6B.300d.txt'\n",
    "  word2vec_output_file = 'glove.6B.300d.w2vformat.txt'\n",
    "  glove2word2vec(glove_input_file, word2vec_output_file)\n",
    "  glove_model_300 = KeyedVectors.load_word2vec_format(\"glove.6B.300d.w2vformat.txt\", binary=False)\n",
    "\n",
    "  train_doc_vecs=vector(train_tokens,glove_model_300)\n",
    "  train_tensors=tensor_from_array(train_doc_vecs)  \n",
    "\n",
    "  preds=[]\n",
    "  model.eval()\n",
    "  tensor_set=torch.stack([torch.Tensor(i) for i in train_tensors])\n",
    "  data_set=data_utils.TensorDataset(tensor_set,torch.zeros(tensor_set.shape[0]),)\n",
    "  loader=data_utils.DataLoader(data_set,batch_size=batchsize,shuffle=False)\n",
    "  \n",
    "  for test_batch,y in loader:\n",
    "    predictions = model(test_batch)\n",
    "    preds.append(predictions.detach().numpy().round())\n",
    "  y_pred_=np.concatenate(preds)\n",
    "  y_pred=pd.Series(y_pred_)\n",
    "  y_pred.replace([0,1],['neg','pos'])\n",
    "  return y_pred_,y_pred"
   ]
  },
  {
   "cell_type": "code",
   "execution_count": 51,
   "metadata": {},
   "outputs": [
    {
     "name": "stderr",
     "output_type": "stream",
     "text": [
      "100%|█████████████████████████████████████████████████████████████████████████| 15000/15000 [00:00<00:00, 19275.29it/s]\n",
      "100%|███████████████████████████████████████████████████████████████████████████| 15000/15000 [00:42<00:00, 351.33it/s]\n"
     ]
    }
   ],
   "source": [
    "y_pred_,y_pred=classify(train_text,model)"
   ]
  },
  {
   "cell_type": "code",
   "execution_count": 52,
   "metadata": {},
   "outputs": [
    {
     "data": {
      "text/plain": [
       "0.49866666666666665"
      ]
     },
     "execution_count": 52,
     "metadata": {},
     "output_type": "execute_result"
    }
   ],
   "source": [
    "train_labels=train_labels[0].replace(['neg','pos'],[0,1])\n",
    "accuracy_score(train_labels,y_pred_)"
   ]
  },
  {
   "cell_type": "code",
   "execution_count": 5,
   "metadata": {
    "colab": {
     "base_uri": "https://localhost:8080/",
     "height": 86
    },
    "colab_type": "code",
    "id": "1DoD7gVWCfpK",
    "outputId": "e3c3975f-b0a1-41d4-8c33-bfab7e923114"
   },
   "outputs": [
    {
     "name": "stderr",
     "output_type": "stream",
     "text": [
      "/usr/local/lib/python3.6/dist-packages/smart_open/smart_open_lib.py:402: UserWarning: This function is deprecated, use smart_open.open instead. See the migration notes for details: https://github.com/RaRe-Technologies/smart_open/blob/master/README.rst#migrating-to-the-new-open-function\n",
      "  'See the migration notes for details: %s' % _MIGRATION_NOTES_URL\n"
     ]
    },
    {
     "data": {
      "text/plain": [
       "(400001, 50)"
      ]
     },
     "execution_count": 5,
     "metadata": {
      "tags": []
     },
     "output_type": "execute_result"
    }
   ],
   "source": [
    "from gensim.scripts.glove2word2vec import glove2word2vec\n",
    "glove_input_file = 'glove.6B.300d.txt'\n",
    "word2vec_output_file = 'glove.6B.300d.w2vformat.txt'\n",
    "glove2word2vec(glove_input_file, word2vec_output_file)\n",
    "\n",
    "glove_input_file = 'glove.6B.200d.txt'\n",
    "word2vec_output_file = 'glove.6B.200d.w2vformat.txt'\n",
    "glove2word2vec(glove_input_file, word2vec_output_file)\n",
    "\n",
    "\n",
    "glove_input_file = 'glove.6B.100d.txt'\n",
    "word2vec_output_file = 'glove.6B.100d.w2vformat.txt'\n",
    "glove2word2vec(glove_input_file, word2vec_output_file)\n",
    "\n",
    "\n",
    "glove_input_file = 'glove.6B.50d.txt'\n",
    "word2vec_output_file = 'glove.6B.50d.w2vformat.txt'\n",
    "glove2word2vec(glove_input_file, word2vec_output_file)"
   ]
  },
  {
   "cell_type": "code",
   "execution_count": 6,
   "metadata": {
    "colab": {
     "base_uri": "https://localhost:8080/",
     "height": 70
    },
    "colab_type": "code",
    "id": "6ESNrXeYCfpT",
    "outputId": "bf730134-52f0-41d8-93e7-9e31965d5bc9"
   },
   "outputs": [
    {
     "name": "stderr",
     "output_type": "stream",
     "text": [
      "/usr/local/lib/python3.6/dist-packages/smart_open/smart_open_lib.py:402: UserWarning: This function is deprecated, use smart_open.open instead. See the migration notes for details: https://github.com/RaRe-Technologies/smart_open/blob/master/README.rst#migrating-to-the-new-open-function\n",
      "  'See the migration notes for details: %s' % _MIGRATION_NOTES_URL\n"
     ]
    }
   ],
   "source": [
    "from gensim.models.keyedvectors import KeyedVectors\n",
    "glove_model_300 = KeyedVectors.load_word2vec_format(\"glove.6B.300d.w2vformat.txt\", binary=False)\n",
    "glove_model_200 = KeyedVectors.load_word2vec_format(\"glove.6B.200d.w2vformat.txt\", binary=False)\n",
    "glove_model_100 = KeyedVectors.load_word2vec_format(\"glove.6B.100d.w2vformat.txt\", binary=False)\n",
    "glove_model_50 = KeyedVectors.load_word2vec_format(\"glove.6B.50d.w2vformat.txt\", binary=False)"
   ]
  },
  {
   "cell_type": "code",
   "execution_count": 0,
   "metadata": {
    "colab": {},
    "colab_type": "code",
    "id": "OMqiXahKCfpv"
   },
   "outputs": [],
   "source": [
    "#find average by sentence\n",
    "def sent_vec(sent,glove_model):\n",
    "    wv_res = np.zeros(glove_model.vector_size)\n",
    "    ctr = 1\n",
    "    for w in sent:\n",
    "        if w in glove_model:\n",
    "            ctr += 1\n",
    "            wv_res += glove_model[w]\n",
    "    wv_res = wv_res/ctr\n",
    "    #return (wv_res, ctr)\n",
    "    return wv_res"
   ]
  },
  {
   "cell_type": "code",
   "execution_count": 0,
   "metadata": {
    "colab": {},
    "colab_type": "code",
    "id": "Opeumcn_QFFq"
   },
   "outputs": [],
   "source": [
    "def vector(tokens:list,glove_models:list):\n",
    "  docs_gloves=[]\n",
    "  for glove_model in tqdm(glove_models):\n",
    "    doc_vecs=[]\n",
    "    for sentence in tokens:\n",
    "      doc_vecs.append(sent_vec(sentence,glove_model))\n",
    "    docs_gloves.append(doc_vecs)\n",
    "  return docs_gloves\n",
    "  "
   ]
  },
  {
   "cell_type": "code",
   "execution_count": 9,
   "metadata": {
    "colab": {
     "base_uri": "https://localhost:8080/",
     "height": 98
    },
    "colab_type": "code",
    "id": "wjXAI5gNQpCr",
    "outputId": "f8378771-02b9-42d6-cf57-32cac00f9dc7"
   },
   "outputs": [
    {
     "name": "stderr",
     "output_type": "stream",
     "text": [
      "100%|██████████| 4/4 [01:06<00:00, 16.59s/it]\n",
      "100%|██████████| 4/4 [00:43<00:00, 10.84s/it]\n",
      "100%|██████████| 4/4 [00:00<00:00,  4.90it/s]\n",
      "100%|██████████| 4/4 [01:47<00:00, 26.96s/it]\n",
      "100%|██████████| 4/4 [00:03<00:00,  1.17it/s]\n"
     ]
    }
   ],
   "source": [
    "glove_models=[glove_model_50,glove_model_100,glove_model_200,glove_model_300]\n",
    "train_doc_vecs=vector(train_tokens,glove_models)\n",
    "dev_doc_vecs=vector(dev_tokens,glove_models)\n",
    "dev_b_doc_vecs=vector(dev_b_tokens,glove_models)\n",
    "test_doc_vecs=vector(test_tokens,glove_models)\n",
    "test_b_doc_vecs=vector(test_b_tokens,glove_models)"
   ]
  },
  {
   "cell_type": "code",
   "execution_count": 0,
   "metadata": {
    "colab": {},
    "colab_type": "code",
    "id": "WRh9ZHS-R00h"
   },
   "outputs": [],
   "source": [
    "#import models and additional functions(dataloader,train,predict)\n",
    "from classifier_word_embeddings import LogisticRegressionBow\n",
    "from classifier_word_embeddings import dataLoader\n",
    "from classifier_word_embeddings import train\n",
    "from classifier_word_embeddings import prediction"
   ]
  },
  {
   "cell_type": "code",
   "execution_count": 0,
   "metadata": {
    "colab": {},
    "colab_type": "code",
    "id": "VWcdRdwMULbC"
   },
   "outputs": [],
   "source": [
    "def tensor_from_array(array_list:list):\n",
    "  tensors=[torch.FloatTensor(array_list[ind]) for ind in range(len(array_list))]\n",
    "  return tensors"
   ]
  },
  {
   "cell_type": "code",
   "execution_count": 0,
   "metadata": {
    "colab": {},
    "colab_type": "code",
    "id": "RslKCX7eULr7"
   },
   "outputs": [],
   "source": [
    "train_tensors=[tensor_from_array(docs) for docs in train_doc_vecs]\n",
    "dev_tensors=[tensor_from_array(docs) for docs in dev_doc_vecs]\n",
    "dev_b_tensors=[tensor_from_array(docs) for docs in dev_b_doc_vecs]\n",
    "test_tensors=[tensor_from_array(docs) for docs in test_doc_vecs]\n",
    "test_b_tensors=[tensor_from_array(docs) for docs in test_b_doc_vecs]\n"
   ]
  },
  {
   "cell_type": "code",
   "execution_count": 0,
   "metadata": {
    "colab": {
     "base_uri": "https://localhost:8080/",
     "height": 1000
    },
    "colab_type": "code",
    "id": "H5xai3GZVDn9",
    "outputId": "9c3f72ba-c25d-498f-d459-fe501f13b224"
   },
   "outputs": [
    {
     "name": "stdout",
     "output_type": "stream",
     "text": [
      "epoch:  0  accuracy:  0.6264000000000001  loss:  0.67295283\n",
      "epoch:  10  accuracy:  0.7302  loss:  0.5560174\n",
      "epoch:  20  accuracy:  0.744  loss:  0.53373563\n",
      "epoch:  30  accuracy:  0.746  loss:  0.52535194\n",
      "epoch:  40  accuracy:  0.7480666666666668  loss:  0.521232\n"
     ]
    },
    {
     "data": {
      "image/png": "[encoded data removed]",
      "text/plain": [
       "<Figure size 864x432 with 2 Axes>"
      ]
     },
     "metadata": {
      "tags": []
     },
     "output_type": "display_data"
    },
    {
     "name": "stdout",
     "output_type": "stream",
     "text": [
      "accuracy train for dims:  50 0.7486666666666667\n",
      "accuracy dev for dims:  50 0.7498\n",
      "accuracy dev_b for dims:  50 0.6815\n",
      "epoch:  0  accuracy:  0.6258666666666667  loss:  0.66840994\n",
      "epoch:  10  accuracy:  0.7560666666666667  loss:  0.5283264\n",
      "epoch:  20  accuracy:  0.7706666666666666  loss:  0.49766764\n",
      "epoch:  30  accuracy:  0.7743333333333333  loss:  0.48354778\n",
      "epoch:  40  accuracy:  0.781  loss:  0.47555095\n"
     ]
    },
    {
     "data": {
      "image/png": "[encoded data removed]",
      "text/plain": [
       "<Figure size 864x432 with 2 Axes>"
      ]
     },
     "metadata": {
      "tags": []
     },
     "output_type": "display_data"
    },
    {
     "name": "stdout",
     "output_type": "stream",
     "text": [
      "accuracy train for dims:  100 0.7851333333333333\n",
      "accuracy dev for dims:  100 0.7814\n",
      "accuracy dev_b for dims:  100 0.6985\n",
      "epoch:  0  accuracy:  0.6586666666666667  loss:  0.654094\n",
      "epoch:  10  accuracy:  0.7923333333333333  loss:  0.47704834\n",
      "epoch:  20  accuracy:  0.8060666666666666  loss:  0.44212127\n",
      "epoch:  30  accuracy:  0.8121333333333333  loss:  0.42601374\n",
      "epoch:  40  accuracy:  0.8158000000000001  loss:  0.41697267\n"
     ]
    },
    {
     "data": {
      "image/png": "[encoded data removed]",
      "text/plain": [
       "<Figure size 864x432 with 2 Axes>"
      ]
     },
     "metadata": {
      "tags": []
     },
     "output_type": "display_data"
    },
    {
     "name": "stdout",
     "output_type": "stream",
     "text": [
      "accuracy train for dims:  200 0.8196\n",
      "accuracy dev for dims:  200 0.8175\n",
      "accuracy dev_b for dims:  200 0.7435\n",
      "epoch:  0  accuracy:  0.6742666666666667  loss:  0.64499605\n",
      "epoch:  10  accuracy:  0.8128  loss:  0.44757986\n",
      "epoch:  20  accuracy:  0.826  loss:  0.411085\n",
      "epoch:  30  accuracy:  0.8318666666666666  loss:  0.395252\n",
      "epoch:  40  accuracy:  0.8355333333333334  loss:  0.38623384\n"
     ]
    },
    {
     "data": {
      "image/png": "[encoded data removed]",
      "text/plain": [
       "<Figure size 864x432 with 2 Axes>"
      ]
     },
     "metadata": {
      "tags": []
     },
     "output_type": "display_data"
    },
    {
     "name": "stdout",
     "output_type": "stream",
     "text": [
      "accuracy train for dims:  300 0.8382\n",
      "accuracy dev for dims:  300 0.8334\n",
      "accuracy dev_b for dims:  300 0.7525\n"
     ]
    }
   ],
   "source": [
    "vector_dims=[50,100,200,300]\n",
    "predictions_train=[]\n",
    "predictions_dev=[]\n",
    "predictions_test=[]\n",
    "predictions_dev_b=[]\n",
    "predictions_test_b=[]\n",
    "\n",
    "\n",
    "for size,i in zip(vector_dims, range(len(train_tensors))):\n",
    "  model = LogisticRegressionBow(size, 2)#.cuda()\n",
    "  optimizer = optim.Adam(model.parameters())\n",
    "  loss_function = nn.CrossEntropyLoss()\n",
    "\n",
    "  acc,losses=train(model,optimizer,loss_function,train_tensors[i],train_labels=train_labels,batch_size=50,epochs=50,accuracy_score=accuracy_score)\n",
    "\n",
    "\n",
    "  plt.figure(figsize=(12, 6))\n",
    "  plt.subplot(121)\n",
    "  plt.title('accuracy')\n",
    "  plt.plot(acc,label='loss')\n",
    "  plt.subplot(122)\n",
    "  plt.semilogy(losses,label='loss')\n",
    "  plt.title('loss')\n",
    "  plt.legend()\n",
    "  plt.show()\n",
    "\n",
    "  preds_train=prediction(model,train_tensors[i],20)\n",
    "  preds_dev=prediction(model,dev_tensors[i],20)\n",
    "  preds_dev_b=prediction(model,dev_b_tensors[i],20)\n",
    "  preds_test=prediction(model,test_tensors[i],20)\n",
    "  preds_test_b=prediction(model,test_b_tensors[i],20)\n",
    "  print('accuracy train for dims: ', size,accuracy_score(preds_train,train_labels))\n",
    "  print('accuracy dev for dims: ',size,accuracy_score(preds_dev,dev_labels))\n",
    "  print('accuracy dev_b for dims: ',size,accuracy_score(preds_dev_b,dev_labels_b))\n",
    "  predictions_train.append(preds_train)\n",
    "  predictions_dev.append(preds_dev)\n",
    "  predictions_test.append(preds_test)\n",
    "  predictions_dev_b.append(preds_dev_b)\n",
    "  predictions_test_b.append(preds_test_b)"
   ]
  },
  {
   "cell_type": "markdown",
   "metadata": {
    "colab_type": "text",
    "id": "NR7o2QpYobGW"
   },
   "source": [
    "#### Now we can see that embedding dim=300 is best, now lets try to tune the model with different lr."
   ]
  },
  {
   "cell_type": "code",
   "execution_count": 0,
   "metadata": {
    "colab": {
     "base_uri": "https://localhost:8080/",
     "height": 1000
    },
    "colab_type": "code",
    "id": "9GFdyKEIon2i",
    "outputId": "2ffc1217-3ce0-445a-80b3-3f5a259e187b"
   },
   "outputs": [
    {
     "name": "stdout",
     "output_type": "stream",
     "text": [
      "epoch:  0  accuracy:  0.7740666666666667  loss:  0.48348877\n",
      "epoch:  10  accuracy:  0.8199333333333333  loss:  0.41318747\n",
      "epoch:  20  accuracy:  0.8274000000000001  loss:  0.40353814\n",
      "epoch:  30  accuracy:  0.8251333333333332  loss:  0.40971968\n",
      "epoch:  40  accuracy:  0.8277333333333333  loss:  0.39799404\n"
     ]
    },
    {
     "data": {
      "image/png": "[encoded data removed]",
      "text/plain": [
       "<Figure size 864x432 with 2 Axes>"
      ]
     },
     "metadata": {
      "tags": []
     },
     "output_type": "display_data"
    },
    {
     "name": "stdout",
     "output_type": "stream",
     "text": [
      "accuracy train:  0.8465333333333334\n",
      "accuracy dev:  0.8328\n",
      "accuracy dev_b:  0.7425\n",
      "epoch:  0  accuracy:  0.7602666666666668  loss:  0.52411175\n",
      "epoch:  10  accuracy:  0.8404666666666668  loss:  0.37474376\n",
      "epoch:  20  accuracy:  0.8414  loss:  0.36879015\n",
      "epoch:  30  accuracy:  0.8414  loss:  0.36593956\n",
      "epoch:  40  accuracy:  0.8458666666666668  loss:  0.3670729\n"
     ]
    },
    {
     "data": {
      "image/png": "[encoded data removed]",
      "text/plain": [
       "<Figure size 864x432 with 2 Axes>"
      ]
     },
     "metadata": {
      "tags": []
     },
     "output_type": "display_data"
    },
    {
     "name": "stdout",
     "output_type": "stream",
     "text": [
      "accuracy train:  0.847\n",
      "accuracy dev:  0.8333\n",
      "accuracy dev_b:  0.7435\n",
      "epoch:  0  accuracy:  0.6785333333333333  loss:  0.64521027\n",
      "epoch:  10  accuracy:  0.8106666666666668  loss:  0.446646\n",
      "epoch:  20  accuracy:  0.828  loss:  0.41094595\n",
      "epoch:  30  accuracy:  0.8334666666666667  loss:  0.39478034\n",
      "epoch:  40  accuracy:  0.8368000000000001  loss:  0.3860252\n"
     ]
    },
    {
     "data": {
      "image/png": "[encoded data removed]",
      "text/plain": [
       "<Figure size 864x432 with 2 Axes>"
      ]
     },
     "metadata": {
      "tags": []
     },
     "output_type": "display_data"
    },
    {
     "name": "stdout",
     "output_type": "stream",
     "text": [
      "accuracy train:  0.839\n",
      "accuracy dev:  0.8336\n",
      "accuracy dev_b:  0.752\n",
      "epoch:  0  accuracy:  0.5911333333333334  loss:  0.68846893\n",
      "epoch:  10  accuracy:  0.7276666666666667  loss:  0.6046142\n",
      "epoch:  20  accuracy:  0.7542  loss:  0.56028974\n",
      "epoch:  30  accuracy:  0.7728666666666667  loss:  0.52988696\n",
      "epoch:  40  accuracy:  0.7855333333333333  loss:  0.5077006\n"
     ]
    },
    {
     "data": {
      "image/png": "[encoded data removed]",
      "text/plain": [
       "<Figure size 864x432 with 2 Axes>"
      ]
     },
     "metadata": {
      "tags": []
     },
     "output_type": "display_data"
    },
    {
     "name": "stdout",
     "output_type": "stream",
     "text": [
      "accuracy train:  0.7936666666666666\n",
      "accuracy dev:  0.7924\n",
      "accuracy dev_b:  0.723\n",
      "epoch:  0  accuracy:  0.49866666666666665  loss:  0.70770305\n",
      "epoch:  10  accuracy:  0.6794  loss:  0.6815609\n",
      "epoch:  20  accuracy:  0.6951333333333332  loss:  0.6696271\n",
      "epoch:  30  accuracy:  0.6988  loss:  0.65878165\n",
      "epoch:  40  accuracy:  0.7055333333333332  loss:  0.64899546\n"
     ]
    },
    {
     "data": {
      "image/png": "[encoded data removed]",
      "text/plain": [
       "<Figure size 864x432 with 2 Axes>"
      ]
     },
     "metadata": {
      "tags": []
     },
     "output_type": "display_data"
    },
    {
     "name": "stdout",
     "output_type": "stream",
     "text": [
      "accuracy train:  0.71\n",
      "accuracy dev:  0.7059\n",
      "accuracy dev_b:  0.662\n"
     ]
    }
   ],
   "source": [
    "rates=[1e-1,1e-2,1e-3,1e-4,1e-5]\n",
    "\n",
    "predictions_train=[]\n",
    "predictions_dev=[]\n",
    "predictions_test=[]\n",
    "predictions_dev_b=[]\n",
    "predictions_test_b=[]\n",
    "\n",
    "for rate in rates:\n",
    "  model = LogisticRegressionBow(300, 2)#.cuda()\n",
    "  optimizer = optim.Adam(model.parameters(),lr=rate)\n",
    "  loss_function = nn.CrossEntropyLoss()\n",
    "  acc,losses=train(model,optimizer,loss_function,train_tensors[-1],train_labels=train_labels,batch_size=50,epochs=50,accuracy_score=accuracy_score)\n",
    "\n",
    "\n",
    "  plt.figure(figsize=(12, 6))\n",
    "  plt.subplot(121)\n",
    "  plt.title('accuracy')\n",
    "  plt.plot(acc,label='loss')\n",
    "  plt.subplot(122)\n",
    "  plt.semilogy(losses,label='loss')\n",
    "  plt.title('loss')\n",
    "  plt.legend()\n",
    "  plt.show()\n",
    "\n",
    "  preds_train=prediction(model,train_tensors[-1],50)\n",
    "  preds_dev=prediction(model,dev_tensors[-1],50)\n",
    "  preds_dev_b=prediction(model,dev_b_tensors[-1],50)\n",
    "  preds_test=prediction(model,test_tensors[-1],50)\n",
    "  preds_test_b=prediction(model,test_b_tensors[-1],50)\n",
    "  print('accuracy train: ',accuracy_score(preds_train,train_labels))\n",
    "  print('accuracy dev: ',accuracy_score(preds_dev,dev_labels))\n",
    "  print('accuracy dev_b: ',accuracy_score(preds_dev_b,dev_labels_b))\n",
    "  predictions_train.append(preds_train)\n",
    "  predictions_dev.append(preds_dev)\n",
    "  predictions_test.append(preds_test)\n",
    "  predictions_dev_b.append(preds_dev_b)\n",
    "  predictions_test_b.append(preds_test_b)"
   ]
  },
  {
   "cell_type": "markdown",
   "metadata": {
    "colab_type": "text",
    "id": "fT_VuhpqeEb1"
   },
   "source": [
    "# Finally lets train more epochs with Best hyperparams dim=300, lr=1e-3"
   ]
  },
  {
   "cell_type": "code",
   "execution_count": 0,
   "metadata": {
    "colab": {},
    "colab_type": "code",
    "id": "O81a0Y24xm99"
   },
   "outputs": [],
   "source": [
    "from sklearn.metrics import accuracy_score"
   ]
  },
  {
   "cell_type": "code",
   "execution_count": 14,
   "metadata": {
    "colab": {
     "base_uri": "https://localhost:8080/",
     "height": 1000
    },
    "colab_type": "code",
    "id": "QZXDYhig2xQf",
    "outputId": "8db34b9f-21fe-4300-e6f9-859d151cdc9c"
   },
   "outputs": [
    {
     "name": "stdout",
     "output_type": "stream",
     "text": [
      "epoch:  0  accuracy:  0.6802666666666667  loss:  0.6434098\n",
      "epoch:  10  accuracy:  0.8119999999999999  loss:  0.44620436\n",
      "epoch:  20  accuracy:  0.8274666666666667  loss:  0.41051075\n",
      "epoch:  30  accuracy:  0.8328  loss:  0.39488515\n",
      "epoch:  40  accuracy:  0.835  loss:  0.38660094\n",
      "epoch:  50  accuracy:  0.8379333333333334  loss:  0.3811567\n",
      "epoch:  60  accuracy:  0.8390666666666667  loss:  0.37694892\n",
      "epoch:  70  accuracy:  0.8401333333333334  loss:  0.37407285\n",
      "epoch:  80  accuracy:  0.8419333333333334  loss:  0.37194747\n",
      "epoch:  90  accuracy:  0.8426666666666667  loss:  0.37021285\n",
      "epoch:  100  accuracy:  0.8422  loss:  0.3689472\n",
      "epoch:  110  accuracy:  0.8438666666666667  loss:  0.36820653\n",
      "epoch:  120  accuracy:  0.8438666666666668  loss:  0.36676356\n",
      "epoch:  130  accuracy:  0.8445333333333332  loss:  0.3659515\n",
      "epoch:  140  accuracy:  0.8439333333333333  loss:  0.36551586\n",
      "epoch:  150  accuracy:  0.8450666666666667  loss:  0.3650322\n",
      "epoch:  160  accuracy:  0.8452000000000001  loss:  0.36410558\n",
      "epoch:  170  accuracy:  0.8446  loss:  0.36408773\n",
      "epoch:  180  accuracy:  0.8458666666666667  loss:  0.36361286\n",
      "epoch:  190  accuracy:  0.8456  loss:  0.3632987\n",
      "epoch:  200  accuracy:  0.8460666666666667  loss:  0.36266196\n",
      "epoch:  210  accuracy:  0.8466  loss:  0.36233768\n",
      "epoch:  220  accuracy:  0.8473333333333334  loss:  0.36200246\n",
      "epoch:  230  accuracy:  0.8465333333333334  loss:  0.36231694\n",
      "epoch:  240  accuracy:  0.8453333333333334  loss:  0.3619282\n",
      "epoch:  250  accuracy:  0.8466666666666667  loss:  0.36125255\n",
      "epoch:  260  accuracy:  0.8466666666666667  loss:  0.36096105\n",
      "epoch:  270  accuracy:  0.8482000000000001  loss:  0.3609038\n",
      "epoch:  280  accuracy:  0.8475333333333334  loss:  0.360858\n",
      "epoch:  290  accuracy:  0.8480666666666666  loss:  0.36063513\n",
      "epoch:  300  accuracy:  0.8456666666666667  loss:  0.36065707\n",
      "epoch:  310  accuracy:  0.8472  loss:  0.36026308\n",
      "epoch:  320  accuracy:  0.8475333333333332  loss:  0.36053422\n",
      "epoch:  330  accuracy:  0.8477333333333334  loss:  0.3603065\n",
      "epoch:  340  accuracy:  0.8475333333333332  loss:  0.36008438\n",
      "epoch:  350  accuracy:  0.8481333333333333  loss:  0.36002994\n",
      "epoch:  360  accuracy:  0.8480000000000001  loss:  0.35976487\n",
      "epoch:  370  accuracy:  0.847  loss:  0.35986617\n",
      "epoch:  380  accuracy:  0.8480666666666667  loss:  0.35965025\n",
      "epoch:  390  accuracy:  0.8463333333333333  loss:  0.35922867\n",
      "epoch:  400  accuracy:  0.8476000000000001  loss:  0.3598961\n",
      "epoch:  410  accuracy:  0.8488666666666668  loss:  0.35916492\n",
      "epoch:  420  accuracy:  0.8488666666666667  loss:  0.35981634\n",
      "epoch:  430  accuracy:  0.8481333333333333  loss:  0.3591552\n",
      "epoch:  440  accuracy:  0.8473333333333334  loss:  0.35908088\n",
      "epoch:  450  accuracy:  0.8489333333333334  loss:  0.35887644\n",
      "epoch:  460  accuracy:  0.8495333333333334  loss:  0.3591325\n",
      "epoch:  470  accuracy:  0.8486666666666668  loss:  0.35874113\n",
      "epoch:  480  accuracy:  0.8470666666666666  loss:  0.35943493\n",
      "epoch:  490  accuracy:  0.8482  loss:  0.3588123\n",
      "epoch:  500  accuracy:  0.8493333333333332  loss:  0.35871822\n",
      "epoch:  510  accuracy:  0.8478666666666667  loss:  0.35876173\n",
      "epoch:  520  accuracy:  0.8488  loss:  0.3586111\n",
      "epoch:  530  accuracy:  0.8497333333333333  loss:  0.35880065\n",
      "epoch:  540  accuracy:  0.8489333333333333  loss:  0.3583312\n",
      "epoch:  550  accuracy:  0.8484666666666667  loss:  0.3585774\n",
      "epoch:  560  accuracy:  0.8486666666666667  loss:  0.35788396\n",
      "epoch:  570  accuracy:  0.8498  loss:  0.3579422\n",
      "epoch:  580  accuracy:  0.8482000000000001  loss:  0.35830706\n",
      "epoch:  590  accuracy:  0.8484666666666667  loss:  0.35830173\n",
      "epoch:  600  accuracy:  0.8488  loss:  0.3582603\n",
      "epoch:  610  accuracy:  0.8484000000000002  loss:  0.35822278\n",
      "epoch:  620  accuracy:  0.8499333333333334  loss:  0.3583733\n",
      "epoch:  630  accuracy:  0.8496666666666668  loss:  0.35801604\n",
      "epoch:  640  accuracy:  0.8497333333333333  loss:  0.35835576\n",
      "epoch:  650  accuracy:  0.8484666666666667  loss:  0.358325\n",
      "epoch:  660  accuracy:  0.8493999999999999  loss:  0.35789517\n",
      "epoch:  670  accuracy:  0.8485333333333333  loss:  0.3582951\n",
      "epoch:  680  accuracy:  0.8481333333333334  loss:  0.35787505\n",
      "epoch:  690  accuracy:  0.8494  loss:  0.35802546\n",
      "epoch:  700  accuracy:  0.8496666666666667  loss:  0.35778084\n",
      "epoch:  710  accuracy:  0.8497333333333333  loss:  0.3579132\n",
      "epoch:  720  accuracy:  0.8488666666666668  loss:  0.3576953\n",
      "epoch:  730  accuracy:  0.8475333333333332  loss:  0.35800868\n",
      "epoch:  740  accuracy:  0.8482666666666667  loss:  0.3577552\n",
      "epoch:  750  accuracy:  0.8487333333333333  loss:  0.35778144\n",
      "epoch:  760  accuracy:  0.8485333333333333  loss:  0.35754883\n",
      "epoch:  770  accuracy:  0.8486000000000001  loss:  0.3574913\n",
      "epoch:  780  accuracy:  0.8486666666666668  loss:  0.35742286\n",
      "epoch:  790  accuracy:  0.85  loss:  0.35739264\n",
      "epoch:  800  accuracy:  0.8490666666666667  loss:  0.35750076\n",
      "epoch:  810  accuracy:  0.8485333333333333  loss:  0.35731578\n",
      "epoch:  820  accuracy:  0.8499333333333333  loss:  0.35769472\n",
      "epoch:  830  accuracy:  0.8483333333333334  loss:  0.3574727\n",
      "epoch:  840  accuracy:  0.849  loss:  0.35714158\n",
      "epoch:  850  accuracy:  0.8488666666666668  loss:  0.35747203\n",
      "epoch:  860  accuracy:  0.849  loss:  0.35730645\n",
      "epoch:  870  accuracy:  0.8492  loss:  0.3573956\n",
      "epoch:  880  accuracy:  0.8480666666666667  loss:  0.35775465\n",
      "epoch:  890  accuracy:  0.8493333333333334  loss:  0.3574991\n",
      "epoch:  900  accuracy:  0.8494  loss:  0.35755804\n",
      "epoch:  910  accuracy:  0.8482  loss:  0.35751563\n",
      "epoch:  920  accuracy:  0.8492666666666667  loss:  0.3571179\n",
      "epoch:  930  accuracy:  0.8498  loss:  0.35733393\n",
      "epoch:  940  accuracy:  0.8486666666666668  loss:  0.35719845\n",
      "epoch:  950  accuracy:  0.8493333333333334  loss:  0.35751253\n",
      "epoch:  960  accuracy:  0.8494666666666667  loss:  0.35726824\n",
      "epoch:  970  accuracy:  0.8491333333333334  loss:  0.35729375\n",
      "epoch:  980  accuracy:  0.8484666666666667  loss:  0.35736546\n",
      "epoch:  990  accuracy:  0.8486  loss:  0.35708705\n"
     ]
    },
    {
     "data": {
      "image/png": "[encoded data removed]",
      "text/plain": [
       "<Figure size 864x432 with 2 Axes>"
      ]
     },
     "metadata": {
      "tags": []
     },
     "output_type": "display_data"
    },
    {
     "name": "stdout",
     "output_type": "stream",
     "text": [
      "accuracy train:  0.8468\n",
      "accuracy dev:  0.8336\n",
      "accuracy dev_b:  0.7495\n"
     ]
    }
   ],
   "source": [
    "from classifier_word_embeddings import train\n",
    "model = LogisticRegressionBow(300, 2)#.cuda()\n",
    "optimizer = optim.Adam(model.parameters(),lr=1e-3)\n",
    "loss_function = nn.CrossEntropyLoss()\n",
    "acc,losses=train(model,optimizer,loss_function,train_tensors[-1],train_labels=train_labels,batch_size=50,epochs=1000,accuracy_score=accuracy_score)\n",
    "\n",
    "plt.figure(figsize=(12, 6))\n",
    "plt.subplot(121)\n",
    "plt.title('accuracy')\n",
    "plt.plot(acc,label='loss')\n",
    "plt.subplot(122)\n",
    "plt.semilogy(losses,label='loss')\n",
    "plt.title('loss')\n",
    "plt.legend()\n",
    "plt.show()\n",
    "\n",
    "preds_train=prediction(model,train_tensors[-1],50)\n",
    "preds_dev=prediction(model,dev_tensors[-1],50)\n",
    "preds_dev_b=prediction(model,dev_b_tensors[-1],50)\n",
    "preds_test=prediction(model,test_tensors[-1],50)\n",
    "preds_test_b=prediction(model,test_b_tensors[-1],50)\n",
    "print('accuracy train: ',accuracy_score(preds_train,train_labels))\n",
    "print('accuracy dev: ',accuracy_score(preds_dev,dev_labels))\n",
    "print('accuracy dev_b: ',accuracy_score(preds_dev_b,dev_labels_b))"
   ]
  },
  {
   "cell_type": "code",
   "execution_count": 16,
   "metadata": {},
   "outputs": [
    {
     "data": {
      "text/plain": [
       "0    neg\n",
       "1    pos\n",
       "2    neg\n",
       "3    pos\n",
       "4    neg\n",
       "5    pos\n",
       "6    pos\n",
       "7    pos\n",
       "8    neg\n",
       "dtype: object"
      ]
     },
     "execution_count": 16,
     "metadata": {},
     "output_type": "execute_result"
    }
   ],
   "source": [
    "a=np.array([0,1,0,1,0,1,1,1,0])\n",
    "a=pd.Series(a)\n",
    "a.replace([0,1],['neg','pos'])"
   ]
  },
  {
   "cell_type": "code",
   "execution_count": 0,
   "metadata": {
    "colab": {
     "base_uri": "https://localhost:8080/",
     "height": 33
    },
    "colab_type": "code",
    "id": "6zGNnrzkZXx9",
    "outputId": "d9962682-d34f-4dd1-ad0e-e2dfc75476e5"
   },
   "outputs": [
    {
     "name": "stderr",
     "output_type": "stream",
     "text": [
      "5it [00:04,  1.19it/s]\n"
     ]
    }
   ],
   "source": [
    "def to_df(predictions):    \n",
    "    dataframes=[]\n",
    "    tokens=[train_tokens,dev_tokens,test_tokens,dev_b_tokens,test_b_tokens]\n",
    "    names=['train/','dev/','test/','dev-b/','test-b/']\n",
    "    for token,name,pred in tqdm(zip(tokens,names,predictions)):\n",
    "        first_column=[]\n",
    "        for i in range(len(token)):\n",
    "            first_column.append(name+str(i))\n",
    "        df = pd.DataFrame([first_column,pred]).T\n",
    "        dataframes.append(df)\n",
    "    result=pd.concat(dataframes,ignore_index=True) \n",
    "    result[1]=result[1].replace([0,1],['neg','pos'])\n",
    "    return result\n",
    "preds=[preds_train,preds_dev,preds_test,preds_dev_b,preds_test_b]\n",
    "\n",
    "result=to_df(preds)\n",
    "result.to_csv('file_ll.tsv',index=False,header=False,sep='\\t')"
   ]
  },
  {
   "cell_type": "markdown",
   "metadata": {
    "colab_type": "text",
    "id": "rtEozSPNCfr6"
   },
   "source": [
    "### 2.2 Use word embeddings for text classification - FFNN"
   ]
  },
  {
   "cell_type": "markdown",
   "metadata": {
    "colab_type": "text",
    "id": "FU7GW5x_Cfr8"
   },
   "source": [
    "Use the same pre-trained word embeddings, but use instead of Logistic Regression a feedforward neural network. For both logistic regression and FFNN model, perform tuning of meta-parameters, such as the learning rate."
   ]
  },
  {
   "cell_type": "markdown",
   "metadata": {
    "colab_type": "text",
    "id": "CmyyMve5thy3"
   },
   "source": [
    "## FFNN"
   ]
  },
  {
   "cell_type": "code",
   "execution_count": 0,
   "metadata": {
    "colab": {},
    "colab_type": "code",
    "id": "qOrSBMO6Tll5"
   },
   "outputs": [],
   "source": [
    "#load model \n",
    "from classifier_word_embeddings import Feedforward\n",
    "from classifier_word_embeddings import train_NN\n",
    "from classifier_word_embeddings import prediction_nn"
   ]
  },
  {
   "cell_type": "code",
   "execution_count": 4,
   "metadata": {},
   "outputs": [],
   "source": [
    "class Feedforward(torch.nn.Module):\n",
    "        def __init__(self, input_size, hidden_size):\n",
    "            super(Feedforward, self).__init__()\n",
    "            self.input_size = input_size\n",
    "            self.hidden_size  = hidden_size\n",
    "            self.fc1 = torch.nn.Linear(self.input_size, self.hidden_size)\n",
    "            self.tanh = torch.nn.ReLU()\n",
    "            self.fc2 = torch.nn.Linear(self.hidden_size, 10)\n",
    "            self.tanh1 = torch.nn.ReLU()\n",
    "            self.fc3=torch.nn.Linear(10,1)\n",
    "            self.sigmoid = torch.nn.Sigmoid()\n",
    "        def forward(self, x):\n",
    "            hidden = self.fc1(x)\n",
    "            tanh = self.tanh(hidden)\n",
    "\n",
    "            output = self.fc2(tanh)\n",
    "            output = self.tanh1(output)\n",
    "\n",
    "            output = self.fc3(output)\n",
    "            output = self.sigmoid(output)\n",
    "            return output"
   ]
  },
  {
   "cell_type": "code",
   "execution_count": 5,
   "metadata": {},
   "outputs": [
    {
     "name": "stderr",
     "output_type": "stream",
     "text": [
      "100%|█████████████████████████████████████████████████████████████████████████| 15000/15000 [00:00<00:00, 22149.72it/s]\n",
      "100%|███████████████████████████████████████████████████████████████████████████| 15000/15000 [00:48<00:00, 316.68it/s]\n"
     ]
    }
   ],
   "source": [
    "text,labels=train_text,train_labels\n",
    "batch_size=50\n",
    "preprocessed_train = preprocess_text(text,True,False)\n",
    "train_tokens=tokenization(preprocessed_train)\n",
    "\n",
    "labels=labels[0].replace(['neg','pos'],[0,1])\n",
    "glove_input_file = 'glove.6B.300d.txt'\n",
    "word2vec_output_file = 'glove.6B.300d.w2vformat.txt'\n",
    "glove2word2vec(glove_input_file, word2vec_output_file)\n",
    "glove_model_300 = KeyedVectors.load_word2vec_format(\"glove.6B.300d.w2vformat.txt\", binary=False)\n",
    "\n",
    "train_doc_vecs=vector(train_tokens,glove_model_300)\n",
    "train_tensors=tensor_from_array(train_doc_vecs) \n",
    "\n",
    "train_loader=dataLoader(train_tensors,labels,batch_size)"
   ]
  },
  {
   "cell_type": "code",
   "execution_count": 6,
   "metadata": {},
   "outputs": [],
   "source": [
    "model = Feedforward(300, 50)#.cuda()\n",
    "optimizer = optim.Adam(model.parameters())\n",
    "loss_function = nn.BCEWithLogitsLoss()"
   ]
  },
  {
   "cell_type": "code",
   "execution_count": 46,
   "metadata": {},
   "outputs": [],
   "source": [
    "def train_NN(text,labels):\n",
    "  preprocessed_train = preprocess_text(text,True,False)\n",
    "  train_tokens=tokenization(preprocessed_train)\n",
    "\n",
    "  labels=labels[0].replace(['neg','pos'],[0,1])\n",
    "  glove_input_file = 'glove.6B.300d.txt'\n",
    "  word2vec_output_file = 'glove.6B.300d.w2vformat.txt'\n",
    "  glove2word2vec(glove_input_file, word2vec_output_file)\n",
    "  glove_model_300 = KeyedVectors.load_word2vec_format(\"glove.6B.300d.w2vformat.txt\", binary=False)\n",
    "\n",
    "  train_doc_vecs=vector(train_tokens,glove_model_300)\n",
    "  train_tensors=tensor_from_array(train_doc_vecs) \n",
    "\n",
    "  train_loader=dataLoader(train_tensors,labels,batch_size)  \n",
    "  model = Feedforward(300, 50)#.cuda()\n",
    "  optimizer = optim.Adam(model.parameters())\n",
    "  loss_function = nn.BCEWithLogitsLoss()\n",
    "  loader=dataLoader(train_tensors,labels,batch_size)\n",
    "  train_losses=[]\n",
    "  train_accuracy=[]\n",
    "  for epoch in range((20)):\n",
    "    model.train(True)\n",
    "    loss_epoch=[]\n",
    "    accuracy_epoch=[]\n",
    "    for x_batch,y_batch in (loader):\n",
    "\n",
    "      prediction=model(x_batch)\n",
    "\n",
    "      loss=loss_function(prediction.view(-1),y_batch)\n",
    "\n",
    "      loss.backward()\n",
    "      optimizer.step()\n",
    "      optimizer.zero_grad()\n",
    "      loss_epoch.append(loss.data.cpu().numpy())\n",
    "\n",
    "      accuracy_epoch.append(accuracy_score(prediction.detach().cpu().numpy().round(),y_batch.detach().cpu().numpy()))\n",
    "\n",
    "    model.train(False)\n",
    "    train_losses.append(np.mean(loss_epoch))\n",
    "    train_accuracy.append(np.mean(accuracy_epoch))\n",
    "    if epoch%10==0:\n",
    "        print('epoch: ',epoch,' accuracy: ',train_accuracy[-1],' loss: ', train_losses[-1])\n",
    "  return model\n",
    "    "
   ]
  },
  {
   "cell_type": "code",
   "execution_count": 9,
   "metadata": {},
   "outputs": [],
   "source": [
    "train_labels1=train_labels[0].replace(['neg','pos'],[0,1])"
   ]
  },
  {
   "cell_type": "code",
   "execution_count": 47,
   "metadata": {},
   "outputs": [
    {
     "name": "stderr",
     "output_type": "stream",
     "text": [
      "100%|█████████████████████████████████████████████████████████████████████████| 15000/15000 [00:01<00:00, 11643.37it/s]\n",
      "100%|███████████████████████████████████████████████████████████████████████████| 15000/15000 [00:44<00:00, 338.13it/s]\n"
     ]
    },
    {
     "name": "stdout",
     "output_type": "stream",
     "text": [
      "epoch:  0  accuracy:  0.5021333333333334  loss:  0.691882\n",
      "epoch:  10  accuracy:  0.8296  loss:  0.5796722\n"
     ]
    }
   ],
   "source": [
    "model=train_NN(train_text,train_labels)\n",
    "preds_train=classify(train_text,model)\n",
    "accuracy_score(preds_train,train_labels)"
   ]
  },
  {
   "cell_type": "code",
   "execution_count": 55,
   "metadata": {},
   "outputs": [
    {
     "name": "stderr",
     "output_type": "stream",
     "text": [
      "100%|█████████████████████████████████████████████████████████████████████████| 15000/15000 [00:01<00:00, 10696.27it/s]\n",
      "100%|███████████████████████████████████████████████████████████████████████████| 15000/15000 [00:40<00:00, 367.05it/s]\n"
     ]
    }
   ],
   "source": [
    "def classify(text,model):\n",
    "  preprocessed_train = preprocess_text(text,True,False)\n",
    "  train_tokens=tokenization(preprocessed_train)\n",
    "\n",
    "  glove_input_file = 'glove.6B.300d.txt'\n",
    "  word2vec_output_file = 'glove.6B.300d.w2vformat.txt'\n",
    "  glove2word2vec(glove_input_file, word2vec_output_file)\n",
    "  glove_model_300 = KeyedVectors.load_word2vec_format(\"glove.6B.300d.w2vformat.txt\", binary=False)\n",
    "\n",
    "  train_doc_vecs=vector(train_tokens,glove_model_300)\n",
    "  train_tensors=tensor_from_array(train_doc_vecs) \n",
    "\n",
    "  preds=[]\n",
    "  model.eval()\n",
    "  tensor_set=torch.stack([torch.Tensor(i) for i in train_tensors])\n",
    "  data_set=data_utils.TensorDataset(tensor_set,torch.zeros(tensor_set.shape[0]),)\n",
    "  loader=data_utils.DataLoader(data_set,batch_size=50,shuffle=False)\n",
    "  \n",
    "  for test_batch,y in loader:\n",
    "    predictions = model(test_batch)\n",
    "    preds.append(predictions.detach().numpy().round())\n",
    "  y_pred=np.concatenate(preds).reshape(-1)\n",
    "  y_pred=pd.Series(y_pred)\n",
    "  y_pred=y_pred.replace([0,1],['neg','pos'])  \n",
    "    \n",
    "  return y_pred\n",
    "preds_train=classify(train_text,model)"
   ]
  },
  {
   "cell_type": "code",
   "execution_count": 56,
   "metadata": {},
   "outputs": [
    {
     "data": {
      "text/plain": [
       "0.8298666666666666"
      ]
     },
     "execution_count": 56,
     "metadata": {},
     "output_type": "execute_result"
    }
   ],
   "source": [
    "accuracy_score(preds_train,train_labels)"
   ]
  },
  {
   "cell_type": "code",
   "execution_count": 85,
   "metadata": {},
   "outputs": [],
   "source": [
    "def train(text,labels):\n",
    "    batch_size=50\n",
    "    preprocessed_train = preprocess_text(text,True,False)\n",
    "    train_tokens=tokenization(preprocessed_train)\n",
    "    \n",
    "    labels=labels[0].replace(['neg','pos'],[0,1])\n",
    "    glove_input_file = 'glove.6B.300d.txt'\n",
    "    word2vec_output_file = 'glove.6B.300d.w2vformat.txt'\n",
    "    glove2word2vec(glove_input_file, word2vec_output_file)\n",
    "    glove_model_300 = KeyedVectors.load_word2vec_format(\"glove.6B.300d.w2vformat.txt\", binary=False)\n",
    "    \n",
    "    train_doc_vecs=vector(train_tokens,glove_model_300)\n",
    "    train_tensors=tensor_from_array(train_doc_vecs) \n",
    "    \n",
    "    train_loader=dataLoader(train_tensors,labels,batch_size)\n",
    "    model = Feedforward(300, 50)#.cuda()\n",
    "    optimizer = optim.Adam(model.parameters(),lr=1e-3)\n",
    "    loss_function = nn.BCEWithLogitsLoss()\n",
    "    for epoch in tqdm(range(10)):\n",
    "        model.train(True)\n",
    "        loss_epoch=[]\n",
    "        accuracy_epoch=[]\n",
    "        for x_batch,y_batch in (loader):\n",
    "\n",
    "          prediction=model(x_batch)\n",
    "\n",
    "          loss=loss_function(prediction.view(-1),y_batch)\n",
    "\n",
    "          loss.backward()\n",
    "          optimizer.step()\n",
    "          optimizer.zero_grad()\n",
    "\n",
    "        model.train(False)\n",
    "\n",
    "    return model"
   ]
  },
  {
   "cell_type": "code",
   "execution_count": 86,
   "metadata": {},
   "outputs": [
    {
     "name": "stderr",
     "output_type": "stream",
     "text": [
      "100%|█████████████████████████████████████████████████████████████████████████| 15000/15000 [00:00<00:00, 18473.84it/s]\n",
      "100%|███████████████████████████████████████████████████████████████████████████| 15000/15000 [00:45<00:00, 327.15it/s]\n",
      "100%|██████████████████████████████████████████████████████████████████████████████████| 10/10 [00:15<00:00,  1.50s/it]\n"
     ]
    }
   ],
   "source": [
    "model=train(train_text,train_labels)"
   ]
  },
  {
   "cell_type": "code",
   "execution_count": 87,
   "metadata": {},
   "outputs": [],
   "source": [
    "def classify(data,model):\n",
    "  batchsize=50 \n",
    "  preprocessed_train = preprocess_text(data,True,False)\n",
    "  train_tokens=tokenization(preprocessed_train)\n",
    "  glove_input_file = 'glove.6B.300d.txt'\n",
    "  word2vec_output_file = 'glove.6B.300d.w2vformat.txt'\n",
    "  glove2word2vec(glove_input_file, word2vec_output_file)\n",
    "  glove_model_300 = KeyedVectors.load_word2vec_format(\"glove.6B.300d.w2vformat.txt\", binary=False)\n",
    "\n",
    "  train_doc_vecs=vector(train_tokens,glove_model_300)\n",
    "  train_tensors=tensor_from_array(train_doc_vecs)  \n",
    "\n",
    "  preds=[]\n",
    "  model.eval()\n",
    "  tensor_set=torch.stack([torch.Tensor(i) for i in train_tensors])\n",
    "  data_set=data_utils.TensorDataset(tensor_set,torch.zeros(tensor_set.shape[0]),)\n",
    "  loader=data_utils.DataLoader(data_set,batch_size=batchsize,shuffle=False)\n",
    "  \n",
    "  for test_batch,y in loader:\n",
    "    predictions = model(test_batch)\n",
    "    preds.append(predictions.detach().numpy().round())\n",
    "  y_pred=np.concatenate(preds)\n",
    "  y_pred=pd.Series(y_pred)\n",
    "  y_pred.replace([0,1],['neg','pos'])\n",
    "  return y_pred"
   ]
  },
  {
   "cell_type": "code",
   "execution_count": 88,
   "metadata": {},
   "outputs": [
    {
     "name": "stderr",
     "output_type": "stream",
     "text": [
      "100%|█████████████████████████████████████████████████████████████████████████| 15000/15000 [00:00<00:00, 18949.16it/s]\n",
      "100%|███████████████████████████████████████████████████████████████████████████| 15000/15000 [00:45<00:00, 328.94it/s]\n"
     ]
    },
    {
     "ename": "Exception",
     "evalue": "Data must be 1-dimensional",
     "output_type": "error",
     "traceback": [
      "\u001b[1;31m---------------------------------------------------------------------------\u001b[0m",
      "\u001b[1;31mException\u001b[0m                                 Traceback (most recent call last)",
      "\u001b[1;32m<ipython-input-88-821af7de2ed7>\u001b[0m in \u001b[0;36m<module>\u001b[1;34m()\u001b[0m\n\u001b[1;32m----> 1\u001b[1;33m \u001b[0my_pred\u001b[0m\u001b[1;33m=\u001b[0m\u001b[0mclassify\u001b[0m\u001b[1;33m(\u001b[0m\u001b[0mtrain_text\u001b[0m\u001b[1;33m,\u001b[0m\u001b[0mmodel\u001b[0m\u001b[1;33m)\u001b[0m\u001b[1;33m\u001b[0m\u001b[0m\n\u001b[0m",
      "\u001b[1;32m<ipython-input-87-ee3c41922a7f>\u001b[0m in \u001b[0;36mclassify\u001b[1;34m(data, model)\u001b[0m\n\u001b[0;32m     21\u001b[0m     \u001b[0mpreds\u001b[0m\u001b[1;33m.\u001b[0m\u001b[0mappend\u001b[0m\u001b[1;33m(\u001b[0m\u001b[0mpredictions\u001b[0m\u001b[1;33m.\u001b[0m\u001b[0mdetach\u001b[0m\u001b[1;33m(\u001b[0m\u001b[1;33m)\u001b[0m\u001b[1;33m.\u001b[0m\u001b[0mnumpy\u001b[0m\u001b[1;33m(\u001b[0m\u001b[1;33m)\u001b[0m\u001b[1;33m.\u001b[0m\u001b[0mround\u001b[0m\u001b[1;33m(\u001b[0m\u001b[1;33m)\u001b[0m\u001b[1;33m)\u001b[0m\u001b[1;33m\u001b[0m\u001b[0m\n\u001b[0;32m     22\u001b[0m   \u001b[0my_pred\u001b[0m\u001b[1;33m=\u001b[0m\u001b[0mnp\u001b[0m\u001b[1;33m.\u001b[0m\u001b[0mconcatenate\u001b[0m\u001b[1;33m(\u001b[0m\u001b[0mpreds\u001b[0m\u001b[1;33m)\u001b[0m\u001b[1;33m\u001b[0m\u001b[0m\n\u001b[1;32m---> 23\u001b[1;33m   \u001b[0my_pred\u001b[0m\u001b[1;33m=\u001b[0m\u001b[0mpd\u001b[0m\u001b[1;33m.\u001b[0m\u001b[0mSeries\u001b[0m\u001b[1;33m(\u001b[0m\u001b[0my_pred\u001b[0m\u001b[1;33m)\u001b[0m\u001b[1;33m\u001b[0m\u001b[0m\n\u001b[0m\u001b[0;32m     24\u001b[0m   \u001b[0my_pred\u001b[0m\u001b[1;33m.\u001b[0m\u001b[0mreplace\u001b[0m\u001b[1;33m(\u001b[0m\u001b[1;33m[\u001b[0m\u001b[1;36m0\u001b[0m\u001b[1;33m,\u001b[0m\u001b[1;36m1\u001b[0m\u001b[1;33m]\u001b[0m\u001b[1;33m,\u001b[0m\u001b[1;33m[\u001b[0m\u001b[1;34m'neg'\u001b[0m\u001b[1;33m,\u001b[0m\u001b[1;34m'pos'\u001b[0m\u001b[1;33m]\u001b[0m\u001b[1;33m)\u001b[0m\u001b[1;33m\u001b[0m\u001b[0m\n\u001b[0;32m     25\u001b[0m   \u001b[1;32mreturn\u001b[0m \u001b[0my_pred\u001b[0m\u001b[1;33m\u001b[0m\u001b[0m\n",
      "\u001b[1;32m~\\Anaconda3\\lib\\site-packages\\pandas\\core\\series.py\u001b[0m in \u001b[0;36m__init__\u001b[1;34m(self, data, index, dtype, name, copy, fastpath)\u001b[0m\n\u001b[0;32m    260\u001b[0m             \u001b[1;32melse\u001b[0m\u001b[1;33m:\u001b[0m\u001b[1;33m\u001b[0m\u001b[0m\n\u001b[0;32m    261\u001b[0m                 data = sanitize_array(data, index, dtype, copy,\n\u001b[1;32m--> 262\u001b[1;33m                                       raise_cast_failure=True)\n\u001b[0m\u001b[0;32m    263\u001b[0m \u001b[1;33m\u001b[0m\u001b[0m\n\u001b[0;32m    264\u001b[0m                 \u001b[0mdata\u001b[0m \u001b[1;33m=\u001b[0m \u001b[0mSingleBlockManager\u001b[0m\u001b[1;33m(\u001b[0m\u001b[0mdata\u001b[0m\u001b[1;33m,\u001b[0m \u001b[0mindex\u001b[0m\u001b[1;33m,\u001b[0m \u001b[0mfastpath\u001b[0m\u001b[1;33m=\u001b[0m\u001b[1;32mTrue\u001b[0m\u001b[1;33m)\u001b[0m\u001b[1;33m\u001b[0m\u001b[0m\n",
      "\u001b[1;32m~\\Anaconda3\\lib\\site-packages\\pandas\\core\\internals\\construction.py\u001b[0m in \u001b[0;36msanitize_array\u001b[1;34m(data, index, dtype, copy, raise_cast_failure)\u001b[0m\n\u001b[0;32m    656\u001b[0m     \u001b[1;32melif\u001b[0m \u001b[0msubarr\u001b[0m\u001b[1;33m.\u001b[0m\u001b[0mndim\u001b[0m \u001b[1;33m>\u001b[0m \u001b[1;36m1\u001b[0m\u001b[1;33m:\u001b[0m\u001b[1;33m\u001b[0m\u001b[0m\n\u001b[0;32m    657\u001b[0m         \u001b[1;32mif\u001b[0m \u001b[0misinstance\u001b[0m\u001b[1;33m(\u001b[0m\u001b[0mdata\u001b[0m\u001b[1;33m,\u001b[0m \u001b[0mnp\u001b[0m\u001b[1;33m.\u001b[0m\u001b[0mndarray\u001b[0m\u001b[1;33m)\u001b[0m\u001b[1;33m:\u001b[0m\u001b[1;33m\u001b[0m\u001b[0m\n\u001b[1;32m--> 658\u001b[1;33m             \u001b[1;32mraise\u001b[0m \u001b[0mException\u001b[0m\u001b[1;33m(\u001b[0m\u001b[1;34m'Data must be 1-dimensional'\u001b[0m\u001b[1;33m)\u001b[0m\u001b[1;33m\u001b[0m\u001b[0m\n\u001b[0m\u001b[0;32m    659\u001b[0m         \u001b[1;32melse\u001b[0m\u001b[1;33m:\u001b[0m\u001b[1;33m\u001b[0m\u001b[0m\n\u001b[0;32m    660\u001b[0m             \u001b[0msubarr\u001b[0m \u001b[1;33m=\u001b[0m \u001b[0mcom\u001b[0m\u001b[1;33m.\u001b[0m\u001b[0masarray_tuplesafe\u001b[0m\u001b[1;33m(\u001b[0m\u001b[0mdata\u001b[0m\u001b[1;33m,\u001b[0m \u001b[0mdtype\u001b[0m\u001b[1;33m=\u001b[0m\u001b[0mdtype\u001b[0m\u001b[1;33m)\u001b[0m\u001b[1;33m\u001b[0m\u001b[0m\n",
      "\u001b[1;31mException\u001b[0m: Data must be 1-dimensional"
     ]
    }
   ],
   "source": [
    "y_pred=classify(train_text,model)"
   ]
  },
  {
   "cell_type": "code",
   "execution_count": null,
   "metadata": {},
   "outputs": [],
   "source": [
    "y_pred"
   ]
  },
  {
   "cell_type": "code",
   "execution_count": null,
   "metadata": {},
   "outputs": [],
   "source": [
    "def prediction_nn(model,data,batchsize):\n",
    "  preds=[]\n",
    "  model.eval()\n",
    "  tensor_set=torch.stack([torch.Tensor(i) for i in data])\n",
    "  data_set=data_utils.TensorDataset(tensor_set,torch.zeros(tensor_set.shape[0]),)\n",
    "  loader=data_utils.DataLoader(data_set,batch_size=batchsize,shuffle=False)\n",
    "  \n",
    "  for test_batch,y in loader:\n",
    "    predictions = model(test_batch)\n",
    "    preds.append(predictions.detach().numpy().round())\n",
    "  y_pred=np.concatenate(preds)\n",
    "  return y_pred\n",
    "preds_train=prediction_nn(model,train_tensors,50)"
   ]
  },
  {
   "cell_type": "code",
   "execution_count": null,
   "metadata": {},
   "outputs": [],
   "source": [
    "text,labels=train_text,train_labels\n",
    "batch_size=50\n",
    "preprocessed_train = preprocess_text(text,True,False)\n",
    "train_tokens=tokenization(preprocessed_train)\n",
    "\n",
    "labels=labels[0].replace(['neg','pos'],[0,1])\n",
    "glove_input_file = 'glove.6B.300d.txt'\n",
    "word2vec_output_file = 'glove.6B.300d.w2vformat.txt'\n",
    "glove2word2vec(glove_input_file, word2vec_output_file)\n",
    "glove_model_300 = KeyedVectors.load_word2vec_format(\"glove.6B.300d.w2vformat.txt\", binary=False)\n",
    "\n",
    "train_doc_vecs=vector(train_tokens,glove_model_300)\n",
    "train_tensors=tensor_from_array(train_doc_vecs) \n",
    "\n",
    "train_loader=dataLoader(train_tensors,labels,batch_size)\n",
    "model = Feedforward(300, 50)#.cuda()\n",
    "optimizer = optim.Adam(model.parameters(),lr=1e-3)\n",
    "loss_function = nn.BCEWithLogitsLoss()\n",
    "for epoch in tqdm(range(10)):\n",
    "    model.train(True)\n",
    "    for X,y in (train_loader):\n",
    "\n",
    "    #             y=y.type(torch.LongTensor)\n",
    "\n",
    "        l_probs = model(X)\n",
    "\n",
    "        loss=loss_function(l_probs.view(-1),y)\n",
    "        loss.backward()\n",
    "        optimizer.step()\n",
    "        optimizer.zero_grad()\n",
    "    model.train(False)  "
   ]
  },
  {
   "cell_type": "code",
   "execution_count": 57,
   "metadata": {},
   "outputs": [],
   "source": [
    "acc=[]\n",
    "loader=dataLoader(train_tensors,labels,batch_size)\n",
    "model = Feedforward(300, 50)#.cuda()\n",
    "optimizer = optim.Adam(model.parameters(),lr=1e-3)\n",
    "loss_function = nn.BCEWithLogitsLoss()\n",
    "for epoch in range((10)):\n",
    "    model.train(True)\n",
    "    loss_epoch=[]\n",
    "    accuracy_epoch=[]\n",
    "    for x_batch,y_batch in (loader):\n",
    "        prediction=model(x_batch)\n",
    "        loss=loss_function(prediction.view(-1),y_batch)\n",
    "        loss.backward()\n",
    "        optimizer.step()\n",
    "        optimizer.zero_grad()\n",
    "        loss_epoch.append(loss.data.cpu().numpy())\n",
    "        accuracy_epoch.append(accuracy_score(prediction.detach().cpu().numpy().round(),y_batch.detach().cpu().numpy()))\n",
    "\n",
    "    model.train(False)\n",
    "    acc.append(np.mean(loss_epoch))\n"
   ]
  },
  {
   "cell_type": "code",
   "execution_count": 58,
   "metadata": {},
   "outputs": [
    {
     "data": {
      "text/plain": [
       "[0.6888774,\n",
       " 0.63148254,\n",
       " 0.60484254,\n",
       " 0.5957966,\n",
       " 0.5912626,\n",
       " 0.58808196,\n",
       " 0.5855881,\n",
       " 0.58413106,\n",
       " 0.5829008,\n",
       " 0.5816734]"
      ]
     },
     "execution_count": 58,
     "metadata": {},
     "output_type": "execute_result"
    }
   ],
   "source": [
    "acc"
   ]
  },
  {
   "cell_type": "code",
   "execution_count": null,
   "metadata": {},
   "outputs": [],
   "source": [
    "def prediction(model,data,batchsize):\n",
    "  preds=[]\n",
    "  model.eval()\n",
    "  tensor_set=torch.stack([torch.Tensor(i) for i in data])\n",
    "  data_set=data_utils.TensorDataset(tensor_set,torch.zeros(tensor_set.shape[0]),)\n",
    "  loader=data_utils.DataLoader(data_set,batch_size=batchsize,shuffle=False)\n",
    "  \n",
    "  for test_batch,y in loader:\n",
    "    predictions = model(test_batch)\n",
    "    preds.append(predictions.detach().numpy().round())\n",
    "  y_pred=np.concatenate(preds)\n",
    "  return y_pred"
   ]
  },
  {
   "cell_type": "code",
   "execution_count": 78,
   "metadata": {},
   "outputs": [],
   "source": [
    "preds=[]\n",
    "model.eval()\n",
    "tensor_set=torch.stack([torch.Tensor(i) for i in train_tensors])\n",
    "data_set=data_utils.TensorDataset(tensor_set,torch.zeros(tensor_set.shape[0]),)\n",
    "loader=data_utils.DataLoader(data_set,batch_size=50,shuffle=False)\n",
    "\n",
    "for test_batch,y in loader:\n",
    "    predictions = model(test_batch)\n",
    "    preds.append(predictions.detach().numpy().round())\n",
    "y_pred=np.concatenate(preds)"
   ]
  },
  {
   "cell_type": "code",
   "execution_count": 79,
   "metadata": {},
   "outputs": [
    {
     "data": {
      "text/plain": [
       "0        neg\n",
       "1        neg\n",
       "2        neg\n",
       "3        neg\n",
       "4        neg\n",
       "5        neg\n",
       "6        neg\n",
       "7        neg\n",
       "8        neg\n",
       "9        neg\n",
       "10       neg\n",
       "11       neg\n",
       "12       neg\n",
       "13       neg\n",
       "14       neg\n",
       "15       neg\n",
       "16       neg\n",
       "17       neg\n",
       "18       neg\n",
       "19       neg\n",
       "20       neg\n",
       "21       neg\n",
       "22       neg\n",
       "23       neg\n",
       "24       neg\n",
       "25       neg\n",
       "26       neg\n",
       "27       neg\n",
       "28       neg\n",
       "29       neg\n",
       "        ... \n",
       "14970    neg\n",
       "14971    neg\n",
       "14972    neg\n",
       "14973    neg\n",
       "14974    neg\n",
       "14975    neg\n",
       "14976    neg\n",
       "14977    neg\n",
       "14978    neg\n",
       "14979    neg\n",
       "14980    neg\n",
       "14981    neg\n",
       "14982    neg\n",
       "14983    neg\n",
       "14984    neg\n",
       "14985    neg\n",
       "14986    neg\n",
       "14987    neg\n",
       "14988    neg\n",
       "14989    neg\n",
       "14990    neg\n",
       "14991    neg\n",
       "14992    neg\n",
       "14993    neg\n",
       "14994    neg\n",
       "14995    neg\n",
       "14996    neg\n",
       "14997    neg\n",
       "14998    neg\n",
       "14999    neg\n",
       "Length: 15000, dtype: object"
      ]
     },
     "execution_count": 79,
     "metadata": {},
     "output_type": "execute_result"
    }
   ],
   "source": [
    "y_pred=pd.Series(y_pred_)\n",
    "y_pred.replace([0,1],['neg','pos'])"
   ]
  },
  {
   "cell_type": "code",
   "execution_count": 11,
   "metadata": {},
   "outputs": [],
   "source": [
    "def train(text,labels):\n",
    "    batch_size=50\n",
    "    preprocessed_train = preprocess_text(text,True,False)\n",
    "    train_tokens=tokenization(preprocessed_train)\n",
    "    \n",
    "    labels=labels[0].replace(['neg','pos'],[0,1])\n",
    "    glove_input_file = 'glove.6B.300d.txt'\n",
    "    word2vec_output_file = 'glove.6B.300d.w2vformat.txt'\n",
    "    glove2word2vec(glove_input_file, word2vec_output_file)\n",
    "    glove_model_300 = KeyedVectors.load_word2vec_format(\"glove.6B.300d.w2vformat.txt\", binary=False)\n",
    "    \n",
    "    train_doc_vecs=vector(train_tokens,glove_model_300)\n",
    "    train_tensors=tensor_from_array(train_doc_vecs) \n",
    "    \n",
    "    train_loader=dataLoader(train_tensors,labels,batch_size)\n",
    "    model = Feedforward(300, 50)#.cuda()\n",
    "    optimizer = optim.Adam(model.parameters(),lr=1e-3)\n",
    "    loss_function = nn.BCEWithLogitsLoss()\n",
    "    for epoch in tqdm(range(10)):\n",
    "        model.train(True)\n",
    "        for X,y in (train_loader):\n",
    "      \n",
    "#             y=y.type(torch.LongTensor)\n",
    "            \n",
    "            l_probs = model(X)\n",
    "\n",
    "            loss=loss_function(l_probs.view(-1),y)\n",
    "            loss.backward()\n",
    "            optimizer.step()\n",
    "            optimizer.zero_grad()\n",
    "    \n",
    "        model.train(False)       \n",
    "\n",
    "    return model"
   ]
  },
  {
   "cell_type": "code",
   "execution_count": 59,
   "metadata": {},
   "outputs": [],
   "source": [
    "def train_NN(model,optimizer,loss_function,train_tensors,train_labels,batch_size,epochs,accuracy_score):\n",
    "  loader=dataLoader(train_tensors,train_labels,batch_size)\n",
    "\n",
    "  for epoch in range((epochs)):\n",
    "    model.train(True)\n",
    "    loss_epoch=[]\n",
    "    accuracy_epoch=[]\n",
    "    for x_batch,y_batch in (loader):\n",
    "\n",
    "      prediction=model(x_batch)\n",
    "\n",
    "      loss=loss_function(prediction.view(-1),y_batch)\n",
    "\n",
    "      loss.backward()\n",
    "      optimizer.step()\n",
    "      optimizer.zero_grad()\n",
    "      loss_epoch.append(loss.data.cpu().numpy())\n",
    "\n",
    "      accuracy_epoch.append(accuracy_score(prediction.detach().cpu().numpy().round(),y_batch.detach().cpu().numpy()))\n",
    "\n",
    "    model.train(False)\n",
    "    train_losses.append(np.mean(loss_epoch))\n",
    "    train_accuracy.append(np.mean(accuracy_epoch))\n",
    "    if epoch%10==0:\n",
    "        print('epoch: ',epoch,' accuracy: ',train_accuracy[-1],' loss: ', train_losses[-1])\n",
    "  return train_accuracy,train_losses"
   ]
  },
  {
   "cell_type": "code",
   "execution_count": 12,
   "metadata": {},
   "outputs": [],
   "source": [
    "def classify(data,model):\n",
    "  batchsize=50 \n",
    "  preprocessed_train = preprocess_text(data,True,False)\n",
    "  train_tokens=tokenization(preprocessed_train)\n",
    "  glove_input_file = 'glove.6B.300d.txt'\n",
    "  word2vec_output_file = 'glove.6B.300d.w2vformat.txt'\n",
    "  glove2word2vec(glove_input_file, word2vec_output_file)\n",
    "  glove_model_300 = KeyedVectors.load_word2vec_format(\"glove.6B.300d.w2vformat.txt\", binary=False)\n",
    "\n",
    "  train_doc_vecs=vector(train_tokens,glove_model_300)\n",
    "  train_tensors=tensor_from_array(train_doc_vecs)  \n",
    "\n",
    "  preds=[]\n",
    "  model.eval()\n",
    "  tensor_set=torch.stack([torch.Tensor(i) for i in train_tensors])\n",
    "  data_set=data_utils.TensorDataset(tensor_set,torch.zeros(tensor_set.shape[0]),)\n",
    "  loader=data_utils.DataLoader(data_set,batch_size=batchsize,shuffle=False)\n",
    "  \n",
    "  for test_batch,y in loader:\n",
    "    predictions = model(test_batch)\n",
    "    preds.append(predictions.detach().numpy().round())\n",
    "  y_pred_=np.concatenate(preds)\n",
    "  y_pred=pd.Series(y_pred_)\n",
    "  y_pred.replace([0,1],['neg','pos'])\n",
    "  return y_pred_,y_pred"
   ]
  },
  {
   "cell_type": "code",
   "execution_count": 13,
   "metadata": {},
   "outputs": [
    {
     "name": "stderr",
     "output_type": "stream",
     "text": [
      "100%|█████████████████████████████████████████████████████████████████████████| 15000/15000 [00:00<00:00, 19399.97it/s]\n",
      "100%|███████████████████████████████████████████████████████████████████████████| 15000/15000 [00:48<00:00, 311.43it/s]\n",
      "100%|██████████████████████████████████████████████████████████████████████████████████| 10/10 [00:17<00:00,  1.72s/it]\n"
     ]
    }
   ],
   "source": [
    "model=train(train_text,train_labels)"
   ]
  },
  {
   "cell_type": "code",
   "execution_count": 14,
   "metadata": {},
   "outputs": [
    {
     "name": "stderr",
     "output_type": "stream",
     "text": [
      "100%|█████████████████████████████████████████████████████████████████████████| 15000/15000 [00:00<00:00, 20570.99it/s]\n",
      "100%|███████████████████████████████████████████████████████████████████████████| 15000/15000 [00:45<00:00, 326.47it/s]\n"
     ]
    },
    {
     "ename": "Exception",
     "evalue": "Data must be 1-dimensional",
     "output_type": "error",
     "traceback": [
      "\u001b[1;31m---------------------------------------------------------------------------\u001b[0m",
      "\u001b[1;31mException\u001b[0m                                 Traceback (most recent call last)",
      "\u001b[1;32m<ipython-input-14-c76905256714>\u001b[0m in \u001b[0;36m<module>\u001b[1;34m()\u001b[0m\n\u001b[1;32m----> 1\u001b[1;33m \u001b[0my_pred_\u001b[0m\u001b[1;33m,\u001b[0m\u001b[0my_pred\u001b[0m\u001b[1;33m=\u001b[0m\u001b[0mclassify\u001b[0m\u001b[1;33m(\u001b[0m\u001b[0mtrain_text\u001b[0m\u001b[1;33m,\u001b[0m\u001b[0mmodel\u001b[0m\u001b[1;33m)\u001b[0m\u001b[1;33m\u001b[0m\u001b[0m\n\u001b[0m",
      "\u001b[1;32m<ipython-input-12-e08b70d30dc9>\u001b[0m in \u001b[0;36mclassify\u001b[1;34m(data, model)\u001b[0m\n\u001b[0;32m     21\u001b[0m     \u001b[0mpreds\u001b[0m\u001b[1;33m.\u001b[0m\u001b[0mappend\u001b[0m\u001b[1;33m(\u001b[0m\u001b[0mpredictions\u001b[0m\u001b[1;33m.\u001b[0m\u001b[0mdetach\u001b[0m\u001b[1;33m(\u001b[0m\u001b[1;33m)\u001b[0m\u001b[1;33m.\u001b[0m\u001b[0mnumpy\u001b[0m\u001b[1;33m(\u001b[0m\u001b[1;33m)\u001b[0m\u001b[1;33m.\u001b[0m\u001b[0mround\u001b[0m\u001b[1;33m(\u001b[0m\u001b[1;33m)\u001b[0m\u001b[1;33m)\u001b[0m\u001b[1;33m\u001b[0m\u001b[0m\n\u001b[0;32m     22\u001b[0m   \u001b[0my_pred_\u001b[0m\u001b[1;33m=\u001b[0m\u001b[0mnp\u001b[0m\u001b[1;33m.\u001b[0m\u001b[0mconcatenate\u001b[0m\u001b[1;33m(\u001b[0m\u001b[0mpreds\u001b[0m\u001b[1;33m)\u001b[0m\u001b[1;33m\u001b[0m\u001b[0m\n\u001b[1;32m---> 23\u001b[1;33m   \u001b[0my_pred\u001b[0m\u001b[1;33m=\u001b[0m\u001b[0mpd\u001b[0m\u001b[1;33m.\u001b[0m\u001b[0mSeries\u001b[0m\u001b[1;33m(\u001b[0m\u001b[0my_pred_\u001b[0m\u001b[1;33m)\u001b[0m\u001b[1;33m\u001b[0m\u001b[0m\n\u001b[0m\u001b[0;32m     24\u001b[0m   \u001b[0my_pred\u001b[0m\u001b[1;33m.\u001b[0m\u001b[0mreplace\u001b[0m\u001b[1;33m(\u001b[0m\u001b[1;33m[\u001b[0m\u001b[1;36m0\u001b[0m\u001b[1;33m,\u001b[0m\u001b[1;36m1\u001b[0m\u001b[1;33m]\u001b[0m\u001b[1;33m,\u001b[0m\u001b[1;33m[\u001b[0m\u001b[1;34m'neg'\u001b[0m\u001b[1;33m,\u001b[0m\u001b[1;34m'pos'\u001b[0m\u001b[1;33m]\u001b[0m\u001b[1;33m)\u001b[0m\u001b[1;33m\u001b[0m\u001b[0m\n\u001b[0;32m     25\u001b[0m   \u001b[1;32mreturn\u001b[0m \u001b[0my_pred_\u001b[0m\u001b[1;33m,\u001b[0m\u001b[0my_pred\u001b[0m\u001b[1;33m\u001b[0m\u001b[0m\n",
      "\u001b[1;32m~\\Anaconda3\\lib\\site-packages\\pandas\\core\\series.py\u001b[0m in \u001b[0;36m__init__\u001b[1;34m(self, data, index, dtype, name, copy, fastpath)\u001b[0m\n\u001b[0;32m    260\u001b[0m             \u001b[1;32melse\u001b[0m\u001b[1;33m:\u001b[0m\u001b[1;33m\u001b[0m\u001b[0m\n\u001b[0;32m    261\u001b[0m                 data = sanitize_array(data, index, dtype, copy,\n\u001b[1;32m--> 262\u001b[1;33m                                       raise_cast_failure=True)\n\u001b[0m\u001b[0;32m    263\u001b[0m \u001b[1;33m\u001b[0m\u001b[0m\n\u001b[0;32m    264\u001b[0m                 \u001b[0mdata\u001b[0m \u001b[1;33m=\u001b[0m \u001b[0mSingleBlockManager\u001b[0m\u001b[1;33m(\u001b[0m\u001b[0mdata\u001b[0m\u001b[1;33m,\u001b[0m \u001b[0mindex\u001b[0m\u001b[1;33m,\u001b[0m \u001b[0mfastpath\u001b[0m\u001b[1;33m=\u001b[0m\u001b[1;32mTrue\u001b[0m\u001b[1;33m)\u001b[0m\u001b[1;33m\u001b[0m\u001b[0m\n",
      "\u001b[1;32m~\\Anaconda3\\lib\\site-packages\\pandas\\core\\internals\\construction.py\u001b[0m in \u001b[0;36msanitize_array\u001b[1;34m(data, index, dtype, copy, raise_cast_failure)\u001b[0m\n\u001b[0;32m    656\u001b[0m     \u001b[1;32melif\u001b[0m \u001b[0msubarr\u001b[0m\u001b[1;33m.\u001b[0m\u001b[0mndim\u001b[0m \u001b[1;33m>\u001b[0m \u001b[1;36m1\u001b[0m\u001b[1;33m:\u001b[0m\u001b[1;33m\u001b[0m\u001b[0m\n\u001b[0;32m    657\u001b[0m         \u001b[1;32mif\u001b[0m \u001b[0misinstance\u001b[0m\u001b[1;33m(\u001b[0m\u001b[0mdata\u001b[0m\u001b[1;33m,\u001b[0m \u001b[0mnp\u001b[0m\u001b[1;33m.\u001b[0m\u001b[0mndarray\u001b[0m\u001b[1;33m)\u001b[0m\u001b[1;33m:\u001b[0m\u001b[1;33m\u001b[0m\u001b[0m\n\u001b[1;32m--> 658\u001b[1;33m             \u001b[1;32mraise\u001b[0m \u001b[0mException\u001b[0m\u001b[1;33m(\u001b[0m\u001b[1;34m'Data must be 1-dimensional'\u001b[0m\u001b[1;33m)\u001b[0m\u001b[1;33m\u001b[0m\u001b[0m\n\u001b[0m\u001b[0;32m    659\u001b[0m         \u001b[1;32melse\u001b[0m\u001b[1;33m:\u001b[0m\u001b[1;33m\u001b[0m\u001b[0m\n\u001b[0;32m    660\u001b[0m             \u001b[0msubarr\u001b[0m \u001b[1;33m=\u001b[0m \u001b[0mcom\u001b[0m\u001b[1;33m.\u001b[0m\u001b[0masarray_tuplesafe\u001b[0m\u001b[1;33m(\u001b[0m\u001b[0mdata\u001b[0m\u001b[1;33m,\u001b[0m \u001b[0mdtype\u001b[0m\u001b[1;33m=\u001b[0m\u001b[0mdtype\u001b[0m\u001b[1;33m)\u001b[0m\u001b[1;33m\u001b[0m\u001b[0m\n",
      "\u001b[1;31mException\u001b[0m: Data must be 1-dimensional"
     ]
    }
   ],
   "source": [
    "y_pred_,y_pred=classify(train_text,model)"
   ]
  },
  {
   "cell_type": "code",
   "execution_count": null,
   "metadata": {},
   "outputs": [],
   "source": [
    "train_labels_1=train_labels[0].replace(['neg','pos'],[0,1])\n",
    "accuracy_score(y_pred_,train_labels_1)"
   ]
  },
  {
   "cell_type": "code",
   "execution_count": 8,
   "metadata": {},
   "outputs": [],
   "source": [
    "def classify(data,model):\n",
    "  batchsize=50 \n",
    "  preprocessed_train = preprocess_text(data,True,False)\n",
    "  train_tokens=tokenization(preprocessed_train)\n",
    "  glove_input_file = 'glove.6B.300d.txt'\n",
    "  word2vec_output_file = 'glove.6B.300d.w2vformat.txt'\n",
    "  glove2word2vec(glove_input_file, word2vec_output_file)\n",
    "  glove_model_300 = KeyedVectors.load_word2vec_format(\"glove.6B.300d.w2vformat.txt\", binary=False)\n",
    "\n",
    "  train_doc_vecs=vector(train_tokens,glove_model_300)\n",
    "  train_tensors=tensor_from_array(train_doc_vecs)  \n",
    "\n",
    "  preds=[]\n",
    "  model.eval()\n",
    "  tensor_set=torch.stack([torch.Tensor(i) for i in train_tensors])\n",
    "  data_set=data_utils.TensorDataset(tensor_set,torch.zeros(tensor_set.shape[0]),)\n",
    "  loader=data_utils.DataLoader(data_set,batch_size=batchsize,shuffle=False)\n",
    "  \n",
    "  for test_batch,y in loader:\n",
    "    predictions = model(test_batch)\n",
    "    preds.append(np.argmax(predictions.detach().numpy(),axis=1))\n",
    "  y_pred_=np.concatenate(preds)\n",
    "  y_pred=pd.Series(y_pred_)\n",
    "  y_pred.replace([0,1],['neg','pos'])\n",
    "  return y_pred_,y_pred"
   ]
  },
  {
   "cell_type": "code",
   "execution_count": null,
   "metadata": {},
   "outputs": [],
   "source": []
  },
  {
   "cell_type": "code",
   "execution_count": null,
   "metadata": {},
   "outputs": [],
   "source": [
    "def prediction(model,data,batchsize):\n",
    "  preds=[]\n",
    "  model.eval()\n",
    "  tensor_set=torch.stack([torch.Tensor(i) for i in data])\n",
    "  data_set=data_utils.TensorDataset(tensor_set,torch.zeros(tensor_set.shape[0]),)\n",
    "  loader=data_utils.DataLoader(data_set,batch_size=batchsize,shuffle=False)\n",
    "  \n",
    "  for test_batch,y in loader:\n",
    "    predictions = model(test_batch)\n",
    "    preds.append(predictions.detach().numpy().round())\n",
    "  y_pred=np.concatenate(preds)\n",
    "  return y_pred"
   ]
  },
  {
   "cell_type": "code",
   "execution_count": 65,
   "metadata": {},
   "outputs": [],
   "source": [
    "def train_NN(model,optimizer,loss_function,train_tensors,train_labels,batch_size,epochs,accuracy_score):\n",
    "  loader=dataLoader(train_tensors,train_labels,batch_size)\n",
    "  train_losses=[] \n",
    "  train_accuracy=[]  \n",
    "  for epoch in range((epochs)):\n",
    "    model.train(True)\n",
    "    loss_epoch=[]\n",
    "    accuracy_epoch=[]\n",
    "    for x_batch,y_batch in (loader):\n",
    "\n",
    "      prediction=model(x_batch)\n",
    "\n",
    "      loss=loss_function(prediction.view(-1),y_batch)\n",
    "\n",
    "      loss.backward()\n",
    "      optimizer.step()\n",
    "      optimizer.zero_grad()\n",
    "      loss_epoch.append(loss.data.cpu().numpy())\n",
    "\n",
    "      accuracy_epoch.append(accuracy_score(prediction.detach().cpu().numpy().round(),y_batch.detach().cpu().numpy()))\n",
    "\n",
    "    model.train(False)\n",
    "    train_losses.append(np.mean(loss_epoch))\n",
    "    train_accuracy.append(np.mean(accuracy_epoch))\n",
    "    if epoch%10==0:\n",
    "        print('epoch: ',epoch,' accuracy: ',train_accuracy[-1],' loss: ', train_losses[-1])\n",
    "  return train_accuracy,train_losses"
   ]
  },
  {
   "cell_type": "code",
   "execution_count": 0,
   "metadata": {
    "colab": {
     "base_uri": "https://localhost:8080/",
     "height": 1000
    },
    "colab_type": "code",
    "id": "EDWk0DG5ugqM",
    "outputId": "02c53531-2c5a-48e0-a58e-cf542d7b5007"
   },
   "outputs": [
    {
     "name": "stdout",
     "output_type": "stream",
     "text": [
      "epoch:  0  accuracy:  0.49946666666666667  loss:  0.6959338\n",
      "epoch:  10  accuracy:  0.7336  loss:  0.62052864\n",
      "epoch:  20  accuracy:  0.7408  loss:  0.61718696\n",
      "epoch:  30  accuracy:  0.7418  loss:  0.6160294\n",
      "epoch:  40  accuracy:  0.7460666666666667  loss:  0.61469686\n",
      "epoch:  50  accuracy:  0.746  loss:  0.6143468\n",
      "epoch:  60  accuracy:  0.7499333333333333  loss:  0.61322683\n",
      "epoch:  70  accuracy:  0.7489333333333333  loss:  0.6127528\n",
      "epoch:  80  accuracy:  0.754  loss:  0.6112789\n",
      "epoch:  90  accuracy:  0.7574666666666667  loss:  0.61086744\n",
      "epoch:  100  accuracy:  0.7567333333333333  loss:  0.6104997\n",
      "epoch:  110  accuracy:  0.7568  loss:  0.61080486\n",
      "epoch:  120  accuracy:  0.7633333333333334  loss:  0.6088781\n",
      "epoch:  130  accuracy:  0.7616  loss:  0.60857\n",
      "epoch:  140  accuracy:  0.7623333333333333  loss:  0.6077289\n",
      "epoch:  150  accuracy:  0.7617999999999999  loss:  0.60815793\n",
      "epoch:  160  accuracy:  0.7667333333333333  loss:  0.6066978\n",
      "epoch:  170  accuracy:  0.7666000000000001  loss:  0.6062266\n",
      "epoch:  180  accuracy:  0.7643333333333334  loss:  0.6071547\n",
      "epoch:  190  accuracy:  0.7713333333333334  loss:  0.6049314\n",
      "epoch:  200  accuracy:  0.7737999999999999  loss:  0.6036784\n",
      "epoch:  210  accuracy:  0.7762666666666667  loss:  0.6025303\n",
      "epoch:  220  accuracy:  0.7762  loss:  0.6025041\n",
      "epoch:  230  accuracy:  0.7778666666666667  loss:  0.6017805\n",
      "epoch:  240  accuracy:  0.781  loss:  0.60064507\n",
      "epoch:  250  accuracy:  0.7804  loss:  0.60120654\n",
      "epoch:  260  accuracy:  0.7778  loss:  0.6013353\n",
      "epoch:  270  accuracy:  0.7822666666666667  loss:  0.59996146\n",
      "epoch:  280  accuracy:  0.7824  loss:  0.5996333\n",
      "epoch:  290  accuracy:  0.7864666666666666  loss:  0.59862775\n",
      "epoch:  300  accuracy:  0.7862  loss:  0.5985725\n",
      "epoch:  310  accuracy:  0.7847333333333334  loss:  0.59864175\n",
      "epoch:  320  accuracy:  0.7878666666666666  loss:  0.5973115\n",
      "epoch:  330  accuracy:  0.7858  loss:  0.59788257\n",
      "epoch:  340  accuracy:  0.7898  loss:  0.59644854\n",
      "epoch:  350  accuracy:  0.7886666666666667  loss:  0.59637505\n",
      "epoch:  360  accuracy:  0.787  loss:  0.59711486\n",
      "epoch:  370  accuracy:  0.7898666666666667  loss:  0.5962439\n",
      "epoch:  380  accuracy:  0.7914000000000001  loss:  0.5954868\n",
      "epoch:  390  accuracy:  0.7946666666666666  loss:  0.59467745\n",
      "epoch:  400  accuracy:  0.7923333333333333  loss:  0.595276\n",
      "epoch:  410  accuracy:  0.7936666666666666  loss:  0.5946384\n",
      "epoch:  420  accuracy:  0.7951333333333334  loss:  0.5938261\n",
      "epoch:  430  accuracy:  0.7968666666666667  loss:  0.59341025\n",
      "epoch:  440  accuracy:  0.7987333333333333  loss:  0.59251237\n"
     ]
    },
    {
     "data": {
      "image/png": "[encoded data removed]",
      "text/plain": [
       "<Figure size 864x432 with 2 Axes>"
      ]
     },
     "metadata": {
      "tags": []
     },
     "output_type": "display_data"
    },
    {
     "name": "stdout",
     "output_type": "stream",
     "text": [
      "accuracy train for dims:  50 0.8001333333333334\n",
      "accuracy dev for dims:  50 0.7531\n",
      "accuracy dev_b for dims:  50 0.6805\n",
      "epoch:  0  accuracy:  0.5022666666666666  loss:  0.6930288\n",
      "epoch:  10  accuracy:  0.7672666666666667  loss:  0.6055523\n",
      "epoch:  20  accuracy:  0.776  loss:  0.60198414\n",
      "epoch:  30  accuracy:  0.7814666666666666  loss:  0.59953386\n",
      "epoch:  40  accuracy:  0.785  loss:  0.59843016\n",
      "epoch:  50  accuracy:  0.7807999999999999  loss:  0.59996885\n",
      "epoch:  60  accuracy:  0.7858  loss:  0.5978696\n",
      "epoch:  70  accuracy:  0.7872  loss:  0.5965568\n",
      "epoch:  80  accuracy:  0.7898666666666668  loss:  0.59643495\n",
      "epoch:  90  accuracy:  0.7901333333333334  loss:  0.595486\n",
      "epoch:  100  accuracy:  0.7877333333333333  loss:  0.5961784\n",
      "epoch:  110  accuracy:  0.7901999999999999  loss:  0.5960963\n",
      "epoch:  120  accuracy:  0.7955333333333334  loss:  0.59419745\n",
      "epoch:  130  accuracy:  0.7899333333333334  loss:  0.5962691\n",
      "epoch:  140  accuracy:  0.7940666666666668  loss:  0.5946244\n",
      "epoch:  150  accuracy:  0.7895333333333334  loss:  0.59601516\n",
      "epoch:  160  accuracy:  0.7950666666666667  loss:  0.5948844\n",
      "epoch:  170  accuracy:  0.7923333333333333  loss:  0.59506613\n",
      "epoch:  180  accuracy:  0.7915333333333333  loss:  0.59485734\n",
      "epoch:  190  accuracy:  0.7936666666666666  loss:  0.5945793\n",
      "epoch:  200  accuracy:  0.7875333333333333  loss:  0.596216\n",
      "epoch:  210  accuracy:  0.7935333333333333  loss:  0.59499073\n",
      "epoch:  220  accuracy:  0.7933333333333333  loss:  0.5943818\n",
      "epoch:  230  accuracy:  0.7937333333333334  loss:  0.5948173\n",
      "epoch:  240  accuracy:  0.7946666666666666  loss:  0.59404886\n",
      "epoch:  250  accuracy:  0.7925333333333334  loss:  0.5942992\n",
      "epoch:  260  accuracy:  0.7968000000000001  loss:  0.59317046\n",
      "epoch:  270  accuracy:  0.7982666666666667  loss:  0.5935336\n",
      "epoch:  280  accuracy:  0.7904666666666668  loss:  0.5957623\n",
      "epoch:  290  accuracy:  0.7973999999999999  loss:  0.59309316\n",
      "epoch:  300  accuracy:  0.7952666666666667  loss:  0.59349495\n",
      "epoch:  310  accuracy:  0.7972666666666666  loss:  0.59311867\n",
      "epoch:  320  accuracy:  0.7971333333333332  loss:  0.593748\n",
      "epoch:  330  accuracy:  0.7962666666666667  loss:  0.5935925\n",
      "epoch:  340  accuracy:  0.7966666666666666  loss:  0.5930124\n",
      "epoch:  350  accuracy:  0.7956666666666667  loss:  0.59325325\n",
      "epoch:  360  accuracy:  0.7952666666666667  loss:  0.59330016\n",
      "epoch:  370  accuracy:  0.7944000000000001  loss:  0.59379566\n",
      "epoch:  380  accuracy:  0.8031333333333334  loss:  0.59109163\n",
      "epoch:  390  accuracy:  0.7990666666666666  loss:  0.59243685\n",
      "epoch:  400  accuracy:  0.7999333333333333  loss:  0.5911328\n",
      "epoch:  410  accuracy:  0.8008666666666666  loss:  0.5913976\n",
      "epoch:  420  accuracy:  0.8014  loss:  0.5911828\n",
      "epoch:  430  accuracy:  0.8040666666666667  loss:  0.5898311\n",
      "epoch:  440  accuracy:  0.8050666666666666  loss:  0.589832\n"
     ]
    },
    {
     "data": {
      "image/png": "[encoded data removed]",
      "text/plain": [
       "<Figure size 864x432 with 2 Axes>"
      ]
     },
     "metadata": {
      "tags": []
     },
     "output_type": "display_data"
    },
    {
     "name": "stdout",
     "output_type": "stream",
     "text": [
      "accuracy train for dims:  100 0.8119333333333333\n",
      "accuracy dev for dims:  100 0.788\n",
      "accuracy dev_b for dims:  100 0.7025\n",
      "epoch:  0  accuracy:  0.4988666666666667  loss:  0.6959275\n",
      "epoch:  10  accuracy:  0.8055333333333333  loss:  0.5903568\n",
      "epoch:  20  accuracy:  0.8161333333333333  loss:  0.5850844\n",
      "epoch:  30  accuracy:  0.8209333333333333  loss:  0.58298993\n",
      "epoch:  40  accuracy:  0.8198666666666666  loss:  0.582674\n",
      "epoch:  50  accuracy:  0.8255333333333335  loss:  0.5809479\n",
      "epoch:  60  accuracy:  0.8256  loss:  0.5810222\n",
      "epoch:  70  accuracy:  0.8268666666666669  loss:  0.5802049\n",
      "epoch:  80  accuracy:  0.8266666666666667  loss:  0.58062166\n",
      "epoch:  90  accuracy:  0.8274  loss:  0.57934105\n",
      "epoch:  100  accuracy:  0.8316666666666668  loss:  0.57771915\n",
      "epoch:  110  accuracy:  0.8300666666666668  loss:  0.578544\n",
      "epoch:  120  accuracy:  0.8309333333333333  loss:  0.5780795\n",
      "epoch:  130  accuracy:  0.8312  loss:  0.5782917\n",
      "epoch:  140  accuracy:  0.8353333333333333  loss:  0.5768528\n",
      "epoch:  150  accuracy:  0.8318  loss:  0.57783294\n",
      "epoch:  160  accuracy:  0.8340666666666667  loss:  0.5765054\n",
      "epoch:  170  accuracy:  0.8340666666666667  loss:  0.57666945\n",
      "epoch:  180  accuracy:  0.8290666666666666  loss:  0.5780873\n",
      "epoch:  190  accuracy:  0.8348000000000001  loss:  0.576675\n",
      "epoch:  200  accuracy:  0.8332  loss:  0.57711124\n",
      "epoch:  210  accuracy:  0.8394666666666668  loss:  0.5747037\n",
      "epoch:  220  accuracy:  0.8377999999999999  loss:  0.5751395\n",
      "epoch:  230  accuracy:  0.8393999999999999  loss:  0.57438487\n",
      "epoch:  240  accuracy:  0.8366666666666667  loss:  0.5759608\n",
      "epoch:  250  accuracy:  0.8391333333333334  loss:  0.57421815\n",
      "epoch:  260  accuracy:  0.8412000000000001  loss:  0.57384044\n",
      "epoch:  270  accuracy:  0.8405333333333332  loss:  0.5744617\n",
      "epoch:  280  accuracy:  0.8428  loss:  0.57334924\n",
      "epoch:  290  accuracy:  0.8396000000000001  loss:  0.5739468\n",
      "epoch:  300  accuracy:  0.8418666666666667  loss:  0.5734337\n",
      "epoch:  310  accuracy:  0.8418000000000001  loss:  0.57359004\n",
      "epoch:  320  accuracy:  0.8411333333333334  loss:  0.57409227\n",
      "epoch:  330  accuracy:  0.8423333333333334  loss:  0.5733771\n",
      "epoch:  340  accuracy:  0.8442  loss:  0.5723388\n",
      "epoch:  350  accuracy:  0.8456666666666667  loss:  0.57225364\n",
      "epoch:  360  accuracy:  0.8438  loss:  0.572451\n",
      "epoch:  370  accuracy:  0.8431333333333333  loss:  0.5730682\n",
      "epoch:  380  accuracy:  0.8498666666666667  loss:  0.5701365\n",
      "epoch:  390  accuracy:  0.8485333333333334  loss:  0.5704271\n",
      "epoch:  400  accuracy:  0.8402000000000001  loss:  0.5744748\n",
      "epoch:  410  accuracy:  0.8480000000000001  loss:  0.5710032\n",
      "epoch:  420  accuracy:  0.8519333333333333  loss:  0.56898576\n",
      "epoch:  430  accuracy:  0.8522666666666667  loss:  0.569008\n",
      "epoch:  440  accuracy:  0.8542  loss:  0.56805336\n"
     ]
    },
    {
     "data": {
      "image/png": "[encoded data removed]",
      "text/plain": [
       "<Figure size 864x432 with 2 Axes>"
      ]
     },
     "metadata": {
      "tags": []
     },
     "output_type": "display_data"
    },
    {
     "name": "stdout",
     "output_type": "stream",
     "text": [
      "accuracy train for dims:  200 0.8354\n",
      "accuracy dev for dims:  200 0.8053\n",
      "accuracy dev_b for dims:  200 0.7425\n",
      "epoch:  0  accuracy:  0.5085333333333334  loss:  0.69062054\n",
      "epoch:  10  accuracy:  0.8294000000000001  loss:  0.5808198\n",
      "epoch:  20  accuracy:  0.8348000000000001  loss:  0.57730675\n",
      "epoch:  30  accuracy:  0.8397333333333333  loss:  0.57510144\n",
      "epoch:  40  accuracy:  0.8422666666666667  loss:  0.57359946\n",
      "epoch:  50  accuracy:  0.8434666666666666  loss:  0.573731\n",
      "epoch:  60  accuracy:  0.8467333333333334  loss:  0.57205\n",
      "epoch:  70  accuracy:  0.8471333333333333  loss:  0.5720671\n",
      "epoch:  80  accuracy:  0.8474  loss:  0.5718234\n",
      "epoch:  90  accuracy:  0.8509333333333333  loss:  0.56972736\n",
      "epoch:  100  accuracy:  0.8528666666666667  loss:  0.56913716\n",
      "epoch:  110  accuracy:  0.8538666666666666  loss:  0.5694028\n",
      "epoch:  120  accuracy:  0.8549333333333334  loss:  0.56822914\n",
      "epoch:  130  accuracy:  0.8570666666666666  loss:  0.5676268\n",
      "epoch:  140  accuracy:  0.8602  loss:  0.5661188\n",
      "epoch:  150  accuracy:  0.859  loss:  0.56633586\n",
      "epoch:  160  accuracy:  0.8611333333333334  loss:  0.5655147\n",
      "epoch:  170  accuracy:  0.8622666666666668  loss:  0.5649185\n",
      "epoch:  180  accuracy:  0.8610666666666666  loss:  0.56501174\n",
      "epoch:  190  accuracy:  0.8636666666666667  loss:  0.5643899\n",
      "epoch:  200  accuracy:  0.8634  loss:  0.5642149\n",
      "epoch:  210  accuracy:  0.8641333333333333  loss:  0.56485456\n",
      "epoch:  220  accuracy:  0.8654666666666666  loss:  0.56351626\n",
      "epoch:  230  accuracy:  0.8682666666666667  loss:  0.5622529\n",
      "epoch:  240  accuracy:  0.8674666666666667  loss:  0.56242514\n",
      "epoch:  250  accuracy:  0.8676000000000001  loss:  0.5621885\n",
      "epoch:  260  accuracy:  0.8717999999999999  loss:  0.56069285\n",
      "epoch:  270  accuracy:  0.8688666666666668  loss:  0.56178355\n",
      "epoch:  280  accuracy:  0.8741333333333333  loss:  0.55957776\n",
      "epoch:  290  accuracy:  0.8760666666666667  loss:  0.5586994\n",
      "epoch:  300  accuracy:  0.8737999999999999  loss:  0.559805\n",
      "epoch:  310  accuracy:  0.8764666666666666  loss:  0.55855024\n",
      "epoch:  320  accuracy:  0.8799333333333333  loss:  0.55698675\n",
      "epoch:  330  accuracy:  0.8792  loss:  0.55729425\n",
      "epoch:  340  accuracy:  0.8787333333333334  loss:  0.5573947\n",
      "epoch:  350  accuracy:  0.8770666666666667  loss:  0.55777395\n",
      "epoch:  360  accuracy:  0.8816666666666667  loss:  0.5562794\n",
      "epoch:  370  accuracy:  0.8788666666666668  loss:  0.55772614\n",
      "epoch:  380  accuracy:  0.8813333333333333  loss:  0.55651695\n",
      "epoch:  390  accuracy:  0.8776  loss:  0.5577133\n",
      "epoch:  400  accuracy:  0.8810666666666669  loss:  0.5564008\n",
      "epoch:  410  accuracy:  0.8820000000000001  loss:  0.55634266\n",
      "epoch:  420  accuracy:  0.8833333333333333  loss:  0.555304\n",
      "epoch:  430  accuracy:  0.8822666666666666  loss:  0.5557093\n",
      "epoch:  440  accuracy:  0.8866666666666667  loss:  0.5540773\n"
     ]
    },
    {
     "data": {
      "image/png": "[encoded data removed]",
      "text/plain": [
       "<Figure size 864x432 with 2 Axes>"
      ]
     },
     "metadata": {
      "tags": []
     },
     "output_type": "display_data"
    },
    {
     "name": "stdout",
     "output_type": "stream",
     "text": [
      "accuracy train for dims:  300 0.8882\n",
      "accuracy dev for dims:  300 0.8305\n",
      "accuracy dev_b for dims:  300 0.7505\n"
     ]
    }
   ],
   "source": [
    "vector_dims=[50,100,200,300]\n",
    "predictions_train_nn=[]\n",
    "predictions_dev_nn=[]\n",
    "predictions_test_nn=[]\n",
    "predictions_dev_b_nn=[]\n",
    "predictions_test_b_nn=[]\n",
    "\n",
    "\n",
    "for size,i in zip(vector_dims, range(len(train_tensors))):\n",
    "  model = Feedforward(size, 50)#.cuda()\n",
    "  optimizer = optim.Adam(model.parameters())\n",
    "  loss_function = nn.BCEWithLogitsLoss()\n",
    "\n",
    "  acc,losses=train_NN(model,optimizer,loss_function,train_tensors[i],train_labels=train_labels,batch_size=50,epochs=450,accuracy_score=accuracy_score)\n",
    "\n",
    "  plt.figure(figsize=(12, 6))\n",
    "  plt.subplot(121)\n",
    "  plt.title('accuracy')\n",
    "  plt.plot(acc,label='loss')\n",
    "  plt.subplot(122)\n",
    "  plt.semilogy(losses,label='loss')\n",
    "  plt.title('loss')\n",
    "  plt.legend()\n",
    "  plt.show()\n",
    "\n",
    "  preds_train=prediction_nn(model,train_tensors[i],50)\n",
    "  preds_dev=prediction_nn(model,dev_tensors[i],50)\n",
    "  preds_dev_b=prediction_nn(model,dev_b_tensors[i],50)\n",
    "  preds_test=prediction_nn(model,test_tensors[i],50)\n",
    "  preds_test_b=prediction_nn(model,test_b_tensors[i],50)\n",
    "  print('accuracy train for dims: ', size,accuracy_score(preds_train,train_labels))\n",
    "  print('accuracy dev for dims: ',size,accuracy_score(preds_dev,dev_labels))\n",
    "  print('accuracy dev_b for dims: ',size,accuracy_score(preds_dev_b,dev_labels_b))\n",
    "  predictions_train_nn.append(preds_train)\n",
    "  predictions_dev_nn.append(preds_dev)\n",
    "  predictions_test_nn.append(preds_test)\n",
    "  predictions_dev_b_nn.append(preds_dev_b)\n",
    "  predictions_test_b_nn.append(preds_test_b)"
   ]
  },
  {
   "cell_type": "markdown",
   "metadata": {
    "colab_type": "text",
    "id": "EBD2UgNJvh01"
   },
   "source": [
    "### as we can see for FFNN the embedding dim=300 is better too, now lets choose lr"
   ]
  },
  {
   "cell_type": "code",
   "execution_count": 62,
   "metadata": {},
   "outputs": [],
   "source": [
    "train_labels1=train_labels[0].replace(['neg','pos'],[0,1])"
   ]
  },
  {
   "cell_type": "code",
   "execution_count": 66,
   "metadata": {
    "colab": {
     "base_uri": "https://localhost:8080/",
     "height": 1000
    },
    "colab_type": "code",
    "id": "tGqFuk7juhj_",
    "outputId": "72eed3bb-4ad7-4f94-fec1-be11e23c0834"
   },
   "outputs": [
    {
     "name": "stdout",
     "output_type": "stream",
     "text": [
      "epoch:  0  accuracy:  0.49866666666666665  loss:  0.6932167\n"
     ]
    },
    {
     "data": {
      "image/png": "[encoded data removed]",
      "text/plain": [
       "<Figure size 864x432 with 2 Axes>"
      ]
     },
     "metadata": {},
     "output_type": "display_data"
    },
    {
     "name": "stdout",
     "output_type": "stream",
     "text": [
      "epoch:  0  accuracy:  0.6952666666666667  loss:  0.6317176\n"
     ]
    },
    {
     "data": {
      "image/png": "[encoded data removed]",
      "text/plain": [
       "<Figure size 864x432 with 2 Axes>"
      ]
     },
     "metadata": {},
     "output_type": "display_data"
    },
    {
     "name": "stdout",
     "output_type": "stream",
     "text": [
      "epoch:  0  accuracy:  0.5062  loss:  0.6919998\n"
     ]
    },
    {
     "data": {
      "image/png": "[encoded data removed]",
      "text/plain": [
       "<Figure size 864x432 with 2 Axes>"
      ]
     },
     "metadata": {},
     "output_type": "display_data"
    },
    {
     "name": "stdout",
     "output_type": "stream",
     "text": [
      "epoch:  0  accuracy:  0.5028  loss:  0.7176365\n"
     ]
    },
    {
     "data": {
      "image/png": "[encoded data removed]",
      "text/plain": [
       "<Figure size 864x432 with 2 Axes>"
      ]
     },
     "metadata": {},
     "output_type": "display_data"
    },
    {
     "name": "stdout",
     "output_type": "stream",
     "text": [
      "epoch:  0  accuracy:  0.5032666666666666  loss:  0.7226689\n"
     ]
    },
    {
     "data": {
      "image/png": "[encoded data removed]",
      "text/plain": [
       "<Figure size 864x432 with 2 Axes>"
      ]
     },
     "metadata": {},
     "output_type": "display_data"
    }
   ],
   "source": [
    "rates=[1e-1,1e-2,1e-3,1e-4,1e-5]\n",
    "predictions_train_nn=[]\n",
    "predictions_dev_nn=[]\n",
    "predictions_test_nn=[]\n",
    "predictions_dev_b_nn=[]\n",
    "predictions_test_b_nn=[]\n",
    "\n",
    "\n",
    "for rate in (rates):\n",
    "  model = Feedforward(300, 50)#.cuda()\n",
    "  optimizer = optim.Adam(model.parameters(),lr=rate)\n",
    "  loss_function = nn.BCEWithLogitsLoss()\n",
    "\n",
    "  acc,losses=train_NN(model,optimizer,loss_function,train_tensors,train_labels=train_labels1,batch_size=50,epochs=10,accuracy_score=accuracy_score)\n",
    "\n",
    "  plt.figure(figsize=(12, 6))\n",
    "  plt.subplot(121)\n",
    "  plt.title('accuracy')\n",
    "  plt.plot(acc,label='loss')\n",
    "  plt.subplot(122)\n",
    "  plt.semilogy(losses,label='loss')\n",
    "  plt.title('loss')\n",
    "  plt.legend()\n",
    "  plt.show()\n",
    "\n",
    "#   preds_train=prediction_nn(model,train_tensors[-1],50)\n",
    "#   preds_dev=prediction_nn(model,dev_tensors[-1],50)\n",
    "#   preds_dev_b=prediction_nn(model,dev_b_tensors[-1],50)\n",
    "#   preds_test=prediction_nn(model,test_tensors[-1],50)\n",
    "#   preds_test_b=prediction_nn(model,test_b_tensors[-1],50)\n",
    "#   print('accuracy train: ', accuracy_score(preds_train,train_labels))\n",
    "#   print('accuracy dev: ',accuracy_score(preds_dev,dev_labels))\n",
    "#   print('accuracy dev_b: ',accuracy_score(preds_dev_b,dev_labels_b))\n",
    "#   predictions_train_nn.append(preds_train)\n",
    "#   predictions_dev_nn.append(preds_dev)\n",
    "#   predictions_test_nn.append(preds_test)\n",
    "#   predictions_dev_b_nn.append(preds_dev_b)\n",
    "#   predictions_test_b_nn.append(preds_test_b)"
   ]
  },
  {
   "cell_type": "markdown",
   "metadata": {
    "colab_type": "text",
    "id": "XVCwnLwXzG4S"
   },
   "source": [
    "# Finally train FFNN with dim=300, lr=1e-3"
   ]
  },
  {
   "cell_type": "code",
   "execution_count": 16,
   "metadata": {
    "colab": {
     "base_uri": "https://localhost:8080/",
     "height": 1000
    },
    "colab_type": "code",
    "id": "ZDCWU-uqoZPT",
    "outputId": "27bd5ea9-2371-440e-b2d9-724f881a45b1"
   },
   "outputs": [
    {
     "name": "stdout",
     "output_type": "stream",
     "text": [
      "epoch:  0  accuracy:  0.5556  loss:  0.67947567\n",
      "epoch:  10  accuracy:  0.8282  loss:  0.58062863\n",
      "epoch:  20  accuracy:  0.8356  loss:  0.5762901\n",
      "epoch:  30  accuracy:  0.8399333333333334  loss:  0.57519984\n",
      "epoch:  40  accuracy:  0.8412000000000001  loss:  0.57436395\n",
      "epoch:  50  accuracy:  0.8401333333333333  loss:  0.5745106\n",
      "epoch:  60  accuracy:  0.8438666666666668  loss:  0.57241184\n",
      "epoch:  70  accuracy:  0.8430666666666667  loss:  0.5728739\n",
      "epoch:  80  accuracy:  0.8441333333333334  loss:  0.57264066\n",
      "epoch:  90  accuracy:  0.8452666666666667  loss:  0.5718614\n",
      "epoch:  100  accuracy:  0.8493999999999999  loss:  0.5705572\n",
      "epoch:  110  accuracy:  0.8490666666666665  loss:  0.57032275\n",
      "epoch:  120  accuracy:  0.8495333333333333  loss:  0.571244\n",
      "epoch:  130  accuracy:  0.8497333333333333  loss:  0.57044303\n",
      "epoch:  140  accuracy:  0.8558666666666667  loss:  0.5677847\n",
      "epoch:  150  accuracy:  0.8528666666666667  loss:  0.5691222\n",
      "epoch:  160  accuracy:  0.8584000000000002  loss:  0.5669396\n",
      "epoch:  170  accuracy:  0.8579999999999999  loss:  0.56702024\n",
      "epoch:  180  accuracy:  0.8534666666666667  loss:  0.56806475\n",
      "epoch:  190  accuracy:  0.8552  loss:  0.56842697\n",
      "epoch:  200  accuracy:  0.8598666666666666  loss:  0.56586546\n",
      "epoch:  210  accuracy:  0.8598666666666666  loss:  0.5659462\n",
      "epoch:  220  accuracy:  0.8635999999999999  loss:  0.5641051\n",
      "epoch:  230  accuracy:  0.8625333333333333  loss:  0.564513\n",
      "epoch:  240  accuracy:  0.8686666666666667  loss:  0.56177014\n",
      "epoch:  250  accuracy:  0.8655333333333333  loss:  0.5634746\n",
      "epoch:  260  accuracy:  0.8704000000000001  loss:  0.56148946\n",
      "epoch:  270  accuracy:  0.8697333333333334  loss:  0.5612607\n",
      "epoch:  280  accuracy:  0.8709333333333332  loss:  0.5607618\n",
      "epoch:  290  accuracy:  0.8722666666666665  loss:  0.56027395\n",
      "epoch:  300  accuracy:  0.8721333333333333  loss:  0.5602794\n",
      "epoch:  310  accuracy:  0.8706666666666666  loss:  0.5609\n",
      "epoch:  320  accuracy:  0.8774000000000001  loss:  0.55822045\n",
      "epoch:  330  accuracy:  0.8765333333333335  loss:  0.55847013\n",
      "epoch:  340  accuracy:  0.8756666666666666  loss:  0.5589854\n",
      "epoch:  350  accuracy:  0.8772000000000001  loss:  0.5583143\n",
      "epoch:  360  accuracy:  0.8733333333333333  loss:  0.5592997\n",
      "epoch:  370  accuracy:  0.8811333333333334  loss:  0.55651206\n",
      "epoch:  380  accuracy:  0.8729333333333336  loss:  0.5596748\n",
      "epoch:  390  accuracy:  0.8814666666666666  loss:  0.5560772\n",
      "epoch:  400  accuracy:  0.8809333333333335  loss:  0.5561555\n",
      "epoch:  410  accuracy:  0.8813333333333333  loss:  0.55635\n",
      "epoch:  420  accuracy:  0.8835333333333335  loss:  0.5551877\n",
      "epoch:  430  accuracy:  0.8832666666666668  loss:  0.5550796\n",
      "epoch:  440  accuracy:  0.8822000000000001  loss:  0.55557907\n",
      "epoch:  450  accuracy:  0.8819333333333335  loss:  0.5559786\n",
      "epoch:  460  accuracy:  0.879  loss:  0.55755013\n",
      "epoch:  470  accuracy:  0.8745333333333334  loss:  0.5587074\n",
      "epoch:  480  accuracy:  0.8858  loss:  0.5541675\n",
      "epoch:  490  accuracy:  0.8873999999999999  loss:  0.55337614\n",
      "epoch:  500  accuracy:  0.8874666666666667  loss:  0.55345684\n",
      "epoch:  510  accuracy:  0.8876  loss:  0.5533547\n",
      "epoch:  520  accuracy:  0.8886666666666667  loss:  0.55265445\n",
      "epoch:  530  accuracy:  0.8893333333333334  loss:  0.55267197\n",
      "epoch:  540  accuracy:  0.8871333333333333  loss:  0.5534124\n",
      "epoch:  550  accuracy:  0.8900666666666668  loss:  0.55236775\n",
      "epoch:  560  accuracy:  0.8866666666666667  loss:  0.5535284\n",
      "epoch:  570  accuracy:  0.8900666666666666  loss:  0.5522705\n",
      "epoch:  580  accuracy:  0.8756666666666666  loss:  0.55859905\n",
      "epoch:  590  accuracy:  0.8842666666666668  loss:  0.55503905\n",
      "epoch:  600  accuracy:  0.8892666666666665  loss:  0.5525225\n",
      "epoch:  610  accuracy:  0.8883333333333333  loss:  0.55298674\n",
      "epoch:  620  accuracy:  0.8863999999999999  loss:  0.55397433\n",
      "epoch:  630  accuracy:  0.8838666666666668  loss:  0.5545997\n",
      "epoch:  640  accuracy:  0.8873333333333335  loss:  0.5532152\n",
      "epoch:  650  accuracy:  0.8798000000000001  loss:  0.55686593\n",
      "epoch:  660  accuracy:  0.8918666666666667  loss:  0.55151856\n",
      "epoch:  670  accuracy:  0.8902  loss:  0.55212575\n",
      "epoch:  680  accuracy:  0.8902  loss:  0.55211836\n",
      "epoch:  690  accuracy:  0.8919999999999999  loss:  0.551425\n",
      "epoch:  700  accuracy:  0.8941333333333333  loss:  0.55049014\n",
      "epoch:  710  accuracy:  0.8908666666666668  loss:  0.5519626\n",
      "epoch:  720  accuracy:  0.8884666666666665  loss:  0.55290335\n",
      "epoch:  730  accuracy:  0.8895333333333334  loss:  0.55230016\n",
      "epoch:  740  accuracy:  0.8946  loss:  0.5502079\n",
      "epoch:  750  accuracy:  0.8934  loss:  0.5505476\n",
      "epoch:  760  accuracy:  0.8914000000000002  loss:  0.5514964\n",
      "epoch:  770  accuracy:  0.8928000000000001  loss:  0.55096036\n",
      "epoch:  780  accuracy:  0.8931333333333333  loss:  0.55088544\n",
      "epoch:  790  accuracy:  0.8941333333333333  loss:  0.5502309\n",
      "epoch:  800  accuracy:  0.8906000000000001  loss:  0.55170804\n",
      "epoch:  810  accuracy:  0.8927333333333333  loss:  0.551037\n",
      "epoch:  820  accuracy:  0.8917333333333333  loss:  0.5513734\n",
      "epoch:  830  accuracy:  0.8880666666666667  loss:  0.5531025\n",
      "epoch:  840  accuracy:  0.8957333333333334  loss:  0.5496374\n",
      "epoch:  850  accuracy:  0.8888000000000001  loss:  0.55286807\n",
      "epoch:  860  accuracy:  0.8910000000000002  loss:  0.55165154\n",
      "epoch:  870  accuracy:  0.8959333333333332  loss:  0.5498066\n",
      "epoch:  880  accuracy:  0.8967333333333335  loss:  0.54914457\n",
      "epoch:  890  accuracy:  0.8957333333333334  loss:  0.54955924\n",
      "epoch:  900  accuracy:  0.8948  loss:  0.55004483\n",
      "epoch:  910  accuracy:  0.8935333333333333  loss:  0.5504986\n",
      "epoch:  920  accuracy:  0.8941333333333333  loss:  0.55052274\n",
      "epoch:  930  accuracy:  0.8820666666666667  loss:  0.55521375\n",
      "epoch:  940  accuracy:  0.8981333333333336  loss:  0.5486879\n",
      "epoch:  950  accuracy:  0.8946  loss:  0.55017877\n",
      "epoch:  960  accuracy:  0.8976  loss:  0.54892135\n",
      "epoch:  970  accuracy:  0.8886000000000002  loss:  0.552985\n",
      "epoch:  980  accuracy:  0.8987333333333334  loss:  0.5483867\n",
      "epoch:  990  accuracy:  0.8972000000000001  loss:  0.5490465\n",
      "epoch:  1000  accuracy:  0.8968666666666668  loss:  0.5491556\n",
      "epoch:  1010  accuracy:  0.8974666666666667  loss:  0.548817\n",
      "epoch:  1020  accuracy:  0.8991333333333333  loss:  0.5480849\n",
      "epoch:  1030  accuracy:  0.8988666666666666  loss:  0.5481598\n",
      "epoch:  1040  accuracy:  0.8990666666666668  loss:  0.5481312\n",
      "epoch:  1050  accuracy:  0.8964666666666669  loss:  0.54933995\n",
      "epoch:  1060  accuracy:  0.8975333333333333  loss:  0.548795\n",
      "epoch:  1070  accuracy:  0.8940666666666668  loss:  0.55009097\n",
      "epoch:  1080  accuracy:  0.8979333333333334  loss:  0.5487569\n",
      "epoch:  1090  accuracy:  0.8963999999999999  loss:  0.54930776\n",
      "epoch:  1100  accuracy:  0.8966000000000001  loss:  0.5491865\n",
      "epoch:  1110  accuracy:  0.8868666666666667  loss:  0.5529719\n",
      "epoch:  1120  accuracy:  0.8985333333333333  loss:  0.54840213\n",
      "epoch:  1130  accuracy:  0.8982666666666668  loss:  0.54849803\n",
      "epoch:  1140  accuracy:  0.8979999999999999  loss:  0.5485136\n",
      "epoch:  1150  accuracy:  0.9008666666666666  loss:  0.54742056\n",
      "epoch:  1160  accuracy:  0.9008666666666666  loss:  0.547359\n",
      "epoch:  1170  accuracy:  0.8971999999999999  loss:  0.54912966\n",
      "epoch:  1180  accuracy:  0.8993333333333333  loss:  0.54814553\n",
      "epoch:  1190  accuracy:  0.8980666666666666  loss:  0.54855204\n",
      "epoch:  1200  accuracy:  0.8987333333333334  loss:  0.5482864\n",
      "epoch:  1210  accuracy:  0.8969333333333332  loss:  0.54925406\n",
      "epoch:  1220  accuracy:  0.8846666666666666  loss:  0.55421185\n",
      "epoch:  1230  accuracy:  0.9003333333333334  loss:  0.5476386\n",
      "epoch:  1240  accuracy:  0.9011333333333332  loss:  0.54726565\n",
      "epoch:  1250  accuracy:  0.8975333333333333  loss:  0.54878163\n",
      "epoch:  1260  accuracy:  0.8941333333333333  loss:  0.55065936\n",
      "epoch:  1270  accuracy:  0.9024666666666668  loss:  0.54664844\n",
      "epoch:  1280  accuracy:  0.8992666666666665  loss:  0.5479247\n",
      "epoch:  1290  accuracy:  0.8993333333333333  loss:  0.54794955\n",
      "epoch:  1300  accuracy:  0.8876666666666667  loss:  0.55365354\n",
      "epoch:  1310  accuracy:  0.8934666666666667  loss:  0.55034405\n",
      "epoch:  1320  accuracy:  0.9004666666666666  loss:  0.5475652\n",
      "epoch:  1330  accuracy:  0.8965333333333334  loss:  0.5490792\n",
      "epoch:  1340  accuracy:  0.8979333333333334  loss:  0.54863524\n",
      "epoch:  1350  accuracy:  0.8948666666666668  loss:  0.54985106\n",
      "epoch:  1360  accuracy:  0.8999333333333333  loss:  0.54801816\n",
      "epoch:  1370  accuracy:  0.8994000000000002  loss:  0.5481231\n",
      "epoch:  1380  accuracy:  0.9002  loss:  0.5475068\n",
      "epoch:  1390  accuracy:  0.8942666666666668  loss:  0.55032736\n",
      "epoch:  1400  accuracy:  0.9015999999999998  loss:  0.54708594\n",
      "epoch:  1410  accuracy:  0.8984000000000001  loss:  0.54834694\n",
      "epoch:  1420  accuracy:  0.8997333333333332  loss:  0.547829\n",
      "epoch:  1430  accuracy:  0.8998  loss:  0.5479228\n",
      "epoch:  1440  accuracy:  0.8971999999999999  loss:  0.5487205\n",
      "epoch:  1450  accuracy:  0.9013333333333332  loss:  0.54716533\n",
      "epoch:  1460  accuracy:  0.9007333333333334  loss:  0.54741096\n",
      "epoch:  1470  accuracy:  0.9000666666666666  loss:  0.54764557\n",
      "epoch:  1480  accuracy:  0.9007333333333334  loss:  0.54730034\n",
      "epoch:  1490  accuracy:  0.8990666666666668  loss:  0.54861546\n"
     ]
    },
    {
     "data": {
      "image/png": "[encoded data removed]",
      "text/plain": [
       "<Figure size 864x432 with 2 Axes>"
      ]
     },
     "metadata": {
      "tags": []
     },
     "output_type": "display_data"
    },
    {
     "name": "stdout",
     "output_type": "stream",
     "text": [
      "accuracy train:  0.9012666666666667\n",
      "accuracy dev:  0.825\n",
      "accuracy dev_b:  0.733\n"
     ]
    }
   ],
   "source": [
    "model = Feedforward(300, 50)#.cuda()\n",
    "optimizer = optim.Adam(model.parameters(),lr=1e-3)\n",
    "loss_function = nn.BCEWithLogitsLoss()\n",
    "\n",
    "acc,losses=train_NN(model,optimizer,loss_function,train_tensors[-1],train_labels=train_labels,batch_size=50,epochs=1500,accuracy_score=accuracy_score)\n",
    "\n",
    "plt.figure(figsize=(12, 6))\n",
    "plt.subplot(121)\n",
    "plt.title('accuracy')\n",
    "plt.plot(acc,label='loss')\n",
    "plt.subplot(122)\n",
    "plt.semilogy(losses,label='loss')\n",
    "plt.title('loss')\n",
    "plt.legend()\n",
    "plt.show()\n",
    "\n",
    "preds_train=prediction_nn(model,train_tensors[-1],50)\n",
    "preds_dev=prediction_nn(model,dev_tensors[-1],50)\n",
    "preds_dev_b=prediction_nn(model,dev_b_tensors[-1],50)\n",
    "preds_test=prediction_nn(model,test_tensors[-1],50)\n",
    "preds_test_b=prediction_nn(model,test_b_tensors[-1],50)\n",
    "\n",
    "print('accuracy train: ', accuracy_score(preds_train,train_labels))\n",
    "print('accuracy dev: ',accuracy_score(preds_dev,dev_labels))\n",
    "print('accuracy dev_b: ',accuracy_score(preds_dev_b,dev_labels_b))"
   ]
  },
  {
   "cell_type": "code",
   "execution_count": 0,
   "metadata": {
    "colab": {
     "base_uri": "https://localhost:8080/",
     "height": 33
    },
    "colab_type": "code",
    "id": "dnuE1Lf1roj3",
    "outputId": "4905fd10-392a-4fee-9473-55e6465a1568"
   },
   "outputs": [
    {
     "name": "stderr",
     "output_type": "stream",
     "text": [
      "5it [00:04,  1.20it/s]\n"
     ]
    }
   ],
   "source": [
    "def to_df(predictions):    \n",
    "    dataframes=[]\n",
    "    tokens=[train_tokens,dev_tokens,test_tokens,dev_b_tokens,test_b_tokens]\n",
    "    names=['train/','dev/','test/','dev-b/','test-b/']\n",
    "    for token,name,pred in tqdm(zip(tokens,names,predictions)):\n",
    "        first_column=[]\n",
    "        for i in range(len(token)):\n",
    "            first_column.append(name+str(i))\n",
    "        df = pd.DataFrame([first_column,pred]).T\n",
    "        dataframes.append(df)\n",
    "    result=pd.concat(dataframes,ignore_index=True) \n",
    "    result[1]=result[1].replace([0,1],['neg','pos'])\n",
    "    return result\n",
    "preds=[preds_train,preds_dev,preds_test,preds_dev_b,preds_test_b]\n",
    "\n",
    "result=to_df(preds)\n",
    "result.to_csv('file2_ff.tsv',index=False,header=False,sep='\\t')"
   ]
  },
  {
   "cell_type": "markdown",
   "metadata": {
    "colab_type": "text",
    "id": "wjUtRcjRCfr_"
   },
   "source": [
    "### 2.3 Use of document embeddings for text classification \n",
    "\n",
    "Use ``gensim`` to obtain document embeddings for all reviews. Build a model based on logistic regression using ``sklearn`` which load these embeddings for each document and performs a classification. "
   ]
  },
  {
   "cell_type": "markdown",
   "metadata": {
    "colab_type": "text",
    "id": "slAwusmkypiR"
   },
   "source": [
    "### I will use embeddings dim=300"
   ]
  },
  {
   "cell_type": "code",
   "execution_count": 11,
   "metadata": {
    "colab": {},
    "colab_type": "code",
    "id": "WfoONByFMf63"
   },
   "outputs": [],
   "source": [
    "import numpy as np\n",
    "from sklearn.metrics import accuracy_score\n",
    "from gensim.models.doc2vec import Doc2Vec, TaggedDocument\n",
    "import gensim\n",
    "from sklearn.linear_model import LogisticRegression\n",
    "\n",
    "def gensim_preprocess_tain(data,labels):\n",
    "  train_documents = [TaggedDocument(gensim.utils.simple_preprocess(doc), [label]) for  doc,label in zip(data,labels)]\n",
    "  return train_documents\n",
    "\n",
    "def gensim_preprocess_test(data):\n",
    "  preprocessed=[gensim.utils.simple_preprocess(sentence) for sentence in data]\n",
    "  return preprocessed\n",
    "\n",
    "model = Doc2Vec(vector_size=300, min_count=1, epochs=55)\n",
    "from sklearn.metrics import accuracy_score\n",
    "# from classifier_doc_embeddings import logreg"
   ]
  },
  {
   "cell_type": "code",
   "execution_count": null,
   "metadata": {},
   "outputs": [],
   "source": []
  },
  {
   "cell_type": "code",
   "execution_count": 20,
   "metadata": {
    "colab": {},
    "colab_type": "code",
    "id": "1BCRNiNzAvK8"
   },
   "outputs": [],
   "source": [
    "\n",
    "from gensim.models.doc2vec import Doc2Vec, TaggedDocument\n",
    "# import gensim"
   ]
  },
  {
   "cell_type": "code",
   "execution_count": 21,
   "metadata": {
    "colab": {},
    "colab_type": "code",
    "id": "3_xQSOpGCfqJ"
   },
   "outputs": [],
   "source": [
    "from sklearn.linear_model import LogisticRegression"
   ]
  },
  {
   "cell_type": "code",
   "execution_count": 12,
   "metadata": {
    "colab": {},
    "colab_type": "code",
    "id": "wlmITZpD4I2C"
   },
   "outputs": [],
   "source": [
    "train_text=text_readers('FILIMDB/train.texts')\n",
    "dev=text_readers('FILIMDB/dev.texts')\n",
    "test=text_readers('FILIMDB/test.texts')\n",
    "dev_b=text_readers('FILIMDB/dev-b.texts')\n",
    "test_b=text_readers('FILIMDB/test-b.texts')\n",
    "\n",
    "\n",
    "train_labels=pd.read_csv('FILIMDB/train.labels',header=None)\n",
    "dev_labels=pd.read_csv('FILIMDB/dev.labels',header=None)\n",
    "dev_labels_b=pd.read_csv('FILIMDB/dev-b.labels',header=None)\n",
    "\n",
    "\n",
    "# train_labels=train_labels[0].replace(['neg','pos'],[0,1])\n",
    "# dev_labels=dev_labels[0].replace(['neg','pos'],[0,1])\n",
    "# dev_labels_b=dev_labels_b[0].replace(['neg','pos'],[0,1])"
   ]
  },
  {
   "cell_type": "code",
   "execution_count": null,
   "metadata": {},
   "outputs": [],
   "source": []
  },
  {
   "cell_type": "code",
   "execution_count": 0,
   "metadata": {
    "colab": {},
    "colab_type": "code",
    "id": "GSPBzNNTow7L"
   },
   "outputs": [],
   "source": [
    "train_gensim_data=gensim_preprocess_tain(train,train_labels)\n",
    "data_train=gensim_preprocess_test(train)\n",
    "data_dev=gensim_preprocess_test(dev)\n",
    "data_test=gensim_preprocess_test(test)\n",
    "data_dev_b=gensim_preprocess_test(dev_b)\n",
    "data_test_b=gensim_preprocess_test(test_b)"
   ]
  },
  {
   "cell_type": "code",
   "execution_count": 23,
   "metadata": {},
   "outputs": [],
   "source": [
    "def vectors_creature(model,tokens_list:list):\n",
    "  vectors=[model.infer_vector(sentence) for sentence in tqdm(tokens_list) ]\n",
    "  return vectors\n",
    "model = Doc2Vec(vector_size=300, min_count=1, epochs=55)"
   ]
  },
  {
   "cell_type": "code",
   "execution_count": 24,
   "metadata": {},
   "outputs": [],
   "source": [
    "def train(text,labels):\n",
    "    labels=labels[0].replace(['neg','pos'],[0,1])\n",
    "    train_gensim_data=gensim_preprocess_tain(text,labels)\n",
    "    data_train=gensim_preprocess_test(text)\n",
    "    model.build_vocab(train_gensim_data)\n",
    "    model.epochs=2\n",
    "    model.train(train_gensim_data, total_examples=model.corpus_count, epochs=model.epochs) \n",
    "    vectors=vectors_creature(model,data_train)\n",
    "    logreg = LogisticRegression(C=0.01,penalty='l2',max_iter=200,random_state=42,solver='saga')\n",
    "    logreg.fit(vectors,train_labels)\n",
    "    return logreg"
   ]
  },
  {
   "cell_type": "code",
   "execution_count": 25,
   "metadata": {},
   "outputs": [
    {
     "name": "stderr",
     "output_type": "stream",
     "text": [
      "\n",
      "\n",
      "  0%|                                                                                        | 0/15000 [00:00<?, ?it/s]\n",
      "\n",
      "  0%|▏                                                                             | 39/15000 [00:00<00:38, 386.05it/s]\n",
      "\n",
      "  0%|▎                                                                             | 69/15000 [00:00<00:42, 355.43it/s]\n",
      "\n",
      "  1%|▍                                                                             | 94/15000 [00:00<00:47, 313.11it/s]\n",
      "\n",
      "  1%|▌                                                                            | 121/15000 [00:00<00:50, 295.82it/s]\n",
      "\n",
      "  1%|▋                                                                            | 145/15000 [00:00<00:54, 272.73it/s]\n",
      "\n",
      "  1%|▉                                                                            | 175/15000 [00:00<00:53, 277.25it/s]\n",
      "\n",
      "  1%|█                                                                            | 199/15000 [00:00<00:57, 258.89it/s]\n",
      "\n",
      "  1%|█▏                                                                           | 223/15000 [00:00<01:01, 240.72it/s]\n",
      "\n",
      "  2%|█▎                                                                           | 253/15000 [00:00<00:57, 255.87it/s]\n",
      "\n",
      "  2%|█▍                                                                           | 282/15000 [00:01<00:55, 263.77it/s]\n",
      "\n",
      "  2%|█▌                                                                           | 314/15000 [00:01<00:52, 277.70it/s]\n",
      "\n",
      "  2%|█▊                                                                           | 342/15000 [00:01<00:55, 262.70it/s]\n",
      "\n",
      "  2%|█▉                                                                           | 373/15000 [00:01<00:53, 271.66it/s]\n",
      "\n",
      "  3%|██                                                                           | 401/15000 [00:01<00:54, 265.51it/s]\n",
      "\n",
      "  3%|██▏                                                                          | 434/15000 [00:01<00:51, 281.31it/s]\n",
      "\n",
      "  3%|██▍                                                                          | 463/15000 [00:01<00:53, 270.34it/s]\n",
      "\n",
      "  3%|██▌                                                                          | 496/15000 [00:01<00:51, 283.61it/s]\n",
      "\n",
      "  4%|██▋                                                                          | 525/15000 [00:01<00:52, 273.36it/s]\n",
      "\n",
      "  4%|██▊                                                                          | 554/15000 [00:02<00:52, 272.64it/s]\n",
      "\n",
      "  4%|███                                                                          | 585/15000 [00:02<00:50, 282.85it/s]\n",
      "\n",
      "  4%|███▏                                                                         | 614/15000 [00:02<00:53, 266.84it/s]\n",
      "\n",
      "  4%|███▎                                                                         | 644/15000 [00:02<00:52, 275.21it/s]\n",
      "\n",
      "  4%|███▍                                                                         | 672/15000 [00:02<00:53, 267.88it/s]\n",
      "\n",
      "  5%|███▌                                                                         | 704/15000 [00:02<00:51, 278.67it/s]\n",
      "\n",
      "  5%|███▊                                                                         | 733/15000 [00:02<00:52, 270.90it/s]\n",
      "\n",
      "  5%|███▉                                                                         | 761/15000 [00:02<00:56, 253.48it/s]\n",
      "\n",
      "  5%|████                                                                         | 790/15000 [00:02<00:53, 263.41it/s]\n",
      "\n",
      "  5%|████▏                                                                        | 822/15000 [00:03<00:50, 278.15it/s]\n",
      "\n",
      "  6%|████▎                                                                        | 851/15000 [00:03<00:53, 266.81it/s]\n",
      "\n",
      "  6%|████▌                                                                        | 883/15000 [00:03<00:50, 280.06it/s]\n",
      "\n",
      "  6%|████▋                                                                        | 912/15000 [00:03<00:49, 282.95it/s]\n",
      "\n",
      "  6%|████▊                                                                        | 941/15000 [00:03<00:51, 273.71it/s]\n",
      "\n",
      "  6%|████▉                                                                        | 969/15000 [00:03<00:51, 273.92it/s]\n",
      "\n",
      "  7%|█████                                                                       | 1000/15000 [00:03<00:49, 281.49it/s]\n",
      "\n",
      "  7%|█████▏                                                                      | 1033/15000 [00:03<00:47, 293.67it/s]\n",
      "\n",
      "  7%|█████▍                                                                      | 1063/15000 [00:03<00:49, 282.97it/s]\n",
      "\n",
      "  7%|█████▌                                                                      | 1095/15000 [00:03<00:48, 287.59it/s]\n",
      "\n",
      "  7%|█████▋                                                                      | 1124/15000 [00:04<00:50, 273.60it/s]\n",
      "\n",
      "  8%|█████▊                                                                      | 1152/15000 [00:04<00:58, 238.74it/s]\n",
      "\n",
      "  8%|██████                                                                      | 1185/15000 [00:04<00:53, 259.78it/s]\n",
      "\n",
      "  8%|██████▏                                                                     | 1220/15000 [00:04<00:48, 281.53it/s]\n",
      "\n",
      "  8%|██████▎                                                                     | 1250/15000 [00:04<00:51, 266.90it/s]\n",
      "\n",
      "  9%|██████▌                                                                     | 1284/15000 [00:04<00:48, 285.29it/s]\n",
      "\n",
      "  9%|██████▋                                                                     | 1316/15000 [00:04<00:46, 294.05it/s]\n",
      "\n",
      "  9%|██████▊                                                                     | 1349/15000 [00:04<00:45, 299.82it/s]\n",
      "\n",
      "  9%|██████▉                                                                     | 1380/15000 [00:04<00:45, 296.57it/s]\n",
      "\n",
      "  9%|███████▏                                                                    | 1412/15000 [00:05<00:45, 300.77it/s]\n",
      "\n",
      " 10%|███████▎                                                                    | 1443/15000 [00:05<00:45, 299.07it/s]\n",
      "\n",
      " 10%|███████▍                                                                    | 1474/15000 [00:05<00:45, 296.17it/s]\n",
      "\n",
      " 10%|███████▌                                                                    | 1504/15000 [00:05<00:47, 286.22it/s]\n",
      "\n",
      " 10%|███████▊                                                                    | 1533/15000 [00:05<00:51, 263.80it/s]\n",
      "\n",
      " 10%|███████▉                                                                    | 1561/15000 [00:05<00:50, 268.44it/s]\n",
      "\n",
      " 11%|████████                                                                    | 1599/15000 [00:05<00:45, 293.66it/s]\n",
      "\n",
      " 11%|████████▎                                                                   | 1633/15000 [00:05<00:43, 305.34it/s]\n",
      "\n",
      " 11%|████████▍                                                                   | 1665/15000 [00:05<00:46, 288.63it/s]\n",
      "\n",
      " 11%|████████▌                                                                   | 1695/15000 [00:06<00:46, 283.64it/s]\n",
      "\n",
      " 12%|████████▊                                                                   | 1730/15000 [00:06<00:44, 300.73it/s]\n",
      "\n",
      " 12%|████████▉                                                                   | 1761/15000 [00:06<00:44, 299.90it/s]\n",
      "\n",
      " 12%|█████████                                                                   | 1792/15000 [00:06<00:44, 295.06it/s]\n",
      "\n",
      " 12%|█████████▎                                                                  | 1828/15000 [00:06<00:42, 311.11it/s]\n",
      "\n",
      " 12%|█████████▍                                                                  | 1860/15000 [00:06<00:45, 288.26it/s]\n",
      "\n",
      " 13%|█████████▌                                                                  | 1891/15000 [00:06<00:44, 294.43it/s]\n",
      "\n",
      " 13%|█████████▋                                                                  | 1921/15000 [00:06<00:46, 282.67it/s]\n",
      "\n",
      " 13%|█████████▉                                                                  | 1950/15000 [00:06<00:53, 242.01it/s]\n",
      "\n",
      " 13%|██████████                                                                  | 1981/15000 [00:07<00:50, 257.75it/s]\n",
      "\n",
      " 13%|██████████▏                                                                 | 2008/15000 [00:07<00:49, 261.29it/s]\n",
      "\n",
      " 14%|██████████▎                                                                 | 2039/15000 [00:07<00:47, 270.60it/s]\n",
      "\n",
      " 14%|██████████▍                                                                 | 2068/15000 [00:07<00:46, 275.34it/s]\n",
      "\n",
      " 14%|██████████▌                                                                 | 2097/15000 [00:07<00:46, 277.04it/s]\n",
      "\n",
      " 14%|██████████▊                                                                 | 2127/15000 [00:07<00:45, 281.25it/s]\n",
      "\n",
      " 14%|██████████▉                                                                 | 2156/15000 [00:07<00:48, 262.24it/s]\n",
      "\n",
      " 15%|███████████                                                                 | 2183/15000 [00:07<00:48, 262.19it/s]\n",
      "\n",
      " 15%|███████████▏                                                                | 2210/15000 [00:07<00:50, 254.64it/s]\n",
      "\n",
      " 15%|███████████▎                                                                | 2242/15000 [00:08<00:47, 267.92it/s]\n",
      "\n",
      " 15%|███████████▌                                                                | 2277/15000 [00:08<00:44, 288.18it/s]\n",
      "\n",
      " 15%|███████████▋                                                                | 2307/15000 [00:08<00:43, 288.95it/s]\n",
      "\n",
      " 16%|███████████▊                                                                | 2338/15000 [00:08<00:43, 293.30it/s]\n",
      "\n",
      " 16%|███████████▉                                                                | 2368/15000 [00:08<00:47, 266.16it/s]\n",
      "\n",
      " 16%|████████████▏                                                               | 2396/15000 [00:08<00:48, 261.90it/s]\n",
      "\n",
      " 16%|████████████▎                                                               | 2425/15000 [00:08<00:47, 265.90it/s]\n",
      "\n",
      " 16%|████████████▌                                                               | 2469/15000 [00:08<00:41, 300.55it/s]\n",
      "\n",
      " 17%|████████████▋                                                               | 2505/15000 [00:08<00:39, 316.20it/s]\n",
      "\n",
      " 17%|████████████▊                                                               | 2540/15000 [00:09<00:38, 325.61it/s]\n",
      "\n",
      " 17%|█████████████                                                               | 2574/15000 [00:09<00:39, 317.65it/s]\n",
      "\n",
      " 17%|█████████████▏                                                              | 2607/15000 [00:09<00:40, 307.76it/s]\n",
      "\n",
      " 18%|█████████████▍                                                              | 2645/15000 [00:09<00:38, 324.76it/s]\n",
      "\n",
      " 18%|█████████████▌                                                              | 2679/15000 [00:09<00:39, 311.09it/s]\n",
      "\n",
      " 18%|█████████████▋                                                              | 2713/15000 [00:09<00:38, 318.31it/s]\n",
      "\n",
      " 18%|█████████████▉                                                              | 2746/15000 [00:09<00:40, 306.34it/s]\n",
      "\n",
      " 19%|██████████████                                                              | 2780/15000 [00:09<00:39, 313.21it/s]\n",
      "\n",
      " 19%|██████████████▏                                                             | 2812/15000 [00:09<00:40, 298.31it/s]\n",
      "\n",
      " 19%|██████████████▍                                                             | 2843/15000 [00:10<00:41, 293.26it/s]\n",
      "\n",
      " 19%|██████████████▌                                                             | 2879/15000 [00:10<00:39, 308.91it/s]\n",
      "\n",
      " 19%|██████████████▋                                                             | 2911/15000 [00:10<00:40, 295.58it/s]\n",
      "\n",
      " 20%|██████████████▉                                                             | 2941/15000 [00:10<00:41, 290.94it/s]\n",
      "\n",
      " 20%|███████████████                                                             | 2971/15000 [00:10<00:41, 288.38it/s]\n",
      "\n",
      " 20%|███████████████▏                                                            | 3002/15000 [00:10<00:40, 293.80it/s]\n",
      "\n",
      " 20%|███████████████▎                                                            | 3034/15000 [00:10<00:39, 300.19it/s]\n",
      "\n",
      " 20%|███████████████▌                                                            | 3066/15000 [00:10<00:39, 304.24it/s]\n",
      "\n",
      " 21%|███████████████▋                                                            | 3097/15000 [00:10<00:39, 304.89it/s]\n",
      "\n",
      " 21%|███████████████▉                                                            | 3136/15000 [00:10<00:36, 324.72it/s]\n",
      "\n",
      " 21%|████████████████                                                            | 3169/15000 [00:11<00:36, 322.33it/s]\n",
      "\n",
      " 21%|████████████████▏                                                           | 3202/15000 [00:11<00:38, 304.74it/s]\n",
      "\n",
      " 22%|████████████████▍                                                           | 3233/15000 [00:11<00:39, 295.04it/s]\n",
      "\n",
      " 22%|████████████████▌                                                           | 3266/15000 [00:11<00:38, 303.86it/s]\n",
      "\n",
      " 22%|████████████████▋                                                           | 3297/15000 [00:11<00:41, 284.61it/s]\n",
      "\n",
      " 22%|████████████████▊                                                           | 3329/15000 [00:11<00:40, 290.34it/s]\n",
      "\n",
      " 22%|█████████████████                                                           | 3366/15000 [00:11<00:37, 308.82it/s]\n",
      "\n",
      " 23%|█████████████████▏                                                          | 3401/15000 [00:11<00:36, 318.35it/s]\n",
      "\n",
      " 23%|█████████████████▍                                                          | 3437/15000 [00:11<00:35, 329.77it/s]\n",
      "\n",
      " 23%|█████████████████▌                                                          | 3471/15000 [00:12<00:35, 322.34it/s]\n",
      "\n",
      " 23%|█████████████████▊                                                          | 3504/15000 [00:12<00:35, 324.57it/s]\n",
      "\n",
      " 24%|█████████████████▉                                                          | 3541/15000 [00:12<00:34, 335.91it/s]\n",
      "\n",
      " 24%|██████████████████                                                          | 3575/15000 [00:12<00:36, 309.48it/s]\n",
      "\n",
      " 24%|██████████████████▎                                                         | 3607/15000 [00:12<00:36, 309.95it/s]\n",
      "\n",
      " 24%|██████████████████▍                                                         | 3639/15000 [00:12<00:38, 297.18it/s]\n",
      "\n",
      " 24%|██████████████████▌                                                         | 3670/15000 [00:12<00:41, 273.05it/s]\n",
      "\n",
      " 25%|██████████████████▋                                                         | 3698/15000 [00:12<00:42, 268.74it/s]\n",
      "\n",
      " 25%|██████████████████▉                                                         | 3729/15000 [00:12<00:40, 279.81it/s]\n",
      "\n",
      " 25%|███████████████████                                                         | 3758/15000 [00:13<00:41, 270.97it/s]\n",
      "\n",
      " 25%|███████████████████▏                                                        | 3786/15000 [00:13<00:41, 272.80it/s]\n",
      "\n",
      " 25%|███████████████████▎                                                        | 3814/15000 [00:13<00:40, 274.90it/s]\n",
      "\n",
      " 26%|███████████████████▍                                                        | 3843/15000 [00:13<00:40, 277.52it/s]\n",
      "\n",
      " 26%|███████████████████▌                                                        | 3873/15000 [00:13<00:39, 283.90it/s]\n",
      "\n",
      " 26%|███████████████████▊                                                        | 3902/15000 [00:13<00:39, 284.10it/s]\n",
      "\n",
      " 26%|███████████████████▉                                                        | 3931/15000 [00:13<00:38, 285.83it/s]\n",
      "\n",
      " 26%|████████████████████                                                        | 3960/15000 [00:13<00:38, 285.35it/s]\n",
      "\n",
      " 27%|████████████████████▏                                                       | 3994/15000 [00:13<00:36, 299.00it/s]\n",
      "\n",
      " 27%|████████████████████▍                                                       | 4025/15000 [00:13<00:36, 301.31it/s]\n",
      "\n",
      " 27%|████████████████████▌                                                       | 4056/15000 [00:14<00:36, 298.57it/s]\n",
      "\n",
      " 27%|████████████████████▋                                                       | 4090/15000 [00:14<00:35, 309.03it/s]\n",
      "\n",
      " 28%|████████████████████▉                                                       | 4125/15000 [00:14<00:33, 320.26it/s]\n",
      "\n",
      " 28%|█████████████████████                                                       | 4163/15000 [00:14<00:32, 335.08it/s]\n",
      "\n"
     ]
    },
    {
     "name": "stderr",
     "output_type": "stream",
     "text": [
      " 28%|█████████████████████▎                                                      | 4199/15000 [00:14<00:31, 339.39it/s]\n",
      "\n",
      " 28%|█████████████████████▍                                                      | 4234/15000 [00:14<00:32, 335.44it/s]\n",
      "\n",
      " 28%|█████████████████████▌                                                      | 4268/15000 [00:14<00:35, 301.90it/s]\n",
      "\n",
      " 29%|█████████████████████▊                                                      | 4299/15000 [00:14<00:35, 300.72it/s]\n",
      "\n",
      " 29%|█████████████████████▉                                                      | 4330/15000 [00:14<00:36, 293.93it/s]\n",
      "\n",
      " 29%|██████████████████████▏                                                     | 4368/15000 [00:15<00:33, 314.54it/s]\n",
      "\n",
      " 29%|██████████████████████▎                                                     | 4401/15000 [00:15<00:33, 315.35it/s]\n",
      "\n",
      " 30%|██████████████████████▍                                                     | 4434/15000 [00:15<00:33, 319.59it/s]\n",
      "\n",
      " 30%|██████████████████████▋                                                     | 4467/15000 [00:15<00:34, 306.32it/s]\n",
      "\n",
      " 30%|██████████████████████▊                                                     | 4501/15000 [00:15<00:33, 308.91it/s]\n",
      "\n",
      " 30%|██████████████████████▉                                                     | 4533/15000 [00:15<00:33, 312.13it/s]\n",
      "\n",
      " 30%|███████████████████████▏                                                    | 4566/15000 [00:15<00:33, 313.65it/s]\n",
      "\n",
      " 31%|███████████████████████▎                                                    | 4598/15000 [00:15<00:34, 302.83it/s]\n",
      "\n",
      " 31%|███████████████████████▍                                                    | 4635/15000 [00:15<00:32, 318.71it/s]\n",
      "\n",
      " 31%|███████████████████████▋                                                    | 4670/15000 [00:15<00:31, 327.45it/s]\n",
      "\n",
      " 31%|███████████████████████▊                                                    | 4704/15000 [00:16<00:31, 330.15it/s]\n",
      "\n",
      " 32%|████████████████████████                                                    | 4738/15000 [00:16<00:30, 333.03it/s]\n",
      "\n",
      " 32%|████████████████████████▏                                                   | 4772/15000 [00:16<00:32, 315.47it/s]\n",
      "\n",
      " 32%|████████████████████████▎                                                   | 4804/15000 [00:16<00:33, 305.89it/s]\n",
      "\n",
      " 32%|████████████████████████▌                                                   | 4838/15000 [00:16<00:32, 315.36it/s]\n",
      "\n",
      " 32%|████████████████████████▋                                                   | 4870/15000 [00:16<00:32, 312.08it/s]\n",
      "\n",
      " 33%|████████████████████████▉                                                   | 4910/15000 [00:16<00:30, 332.42it/s]\n",
      "\n",
      " 33%|█████████████████████████                                                   | 4944/15000 [00:16<00:30, 325.04it/s]\n",
      "\n",
      " 33%|█████████████████████████▏                                                  | 4977/15000 [00:16<00:32, 311.68it/s]\n",
      "\n",
      " 33%|█████████████████████████▍                                                  | 5012/15000 [00:17<00:30, 322.24it/s]\n",
      "\n",
      " 34%|█████████████████████████▌                                                  | 5045/15000 [00:17<00:31, 314.31it/s]\n",
      "\n",
      " 34%|█████████████████████████▋                                                  | 5077/15000 [00:17<00:33, 299.13it/s]\n",
      "\n",
      " 34%|█████████████████████████▉                                                  | 5109/15000 [00:17<00:32, 303.20it/s]\n",
      "\n",
      " 34%|██████████████████████████                                                  | 5140/15000 [00:17<00:33, 297.33it/s]\n",
      "\n",
      " 34%|██████████████████████████▏                                                 | 5170/15000 [00:17<00:33, 292.95it/s]\n",
      "\n",
      " 35%|██████████████████████████▎                                                 | 5200/15000 [00:17<00:33, 289.78it/s]\n",
      "\n",
      " 35%|██████████████████████████▌                                                 | 5232/15000 [00:17<00:33, 295.82it/s]\n",
      "\n",
      " 35%|██████████████████████████▋                                                 | 5263/15000 [00:17<00:32, 299.05it/s]\n",
      "\n",
      " 35%|██████████████████████████▊                                                 | 5298/15000 [00:18<00:31, 312.68it/s]\n",
      "\n",
      " 36%|███████████████████████████                                                 | 5330/15000 [00:18<00:31, 309.16it/s]\n",
      "\n",
      " 36%|███████████████████████████▏                                                | 5363/15000 [00:18<00:30, 313.48it/s]\n",
      "\n",
      " 36%|███████████████████████████▎                                                | 5395/15000 [00:18<00:33, 284.95it/s]\n",
      "\n",
      " 36%|███████████████████████████▌                                                | 5430/15000 [00:18<00:31, 299.41it/s]\n",
      "\n",
      " 36%|███████████████████████████▋                                                | 5465/15000 [00:18<00:30, 312.97it/s]\n",
      "\n",
      " 37%|███████████████████████████▊                                                | 5497/15000 [00:18<00:30, 314.22it/s]\n",
      "\n",
      " 37%|████████████████████████████                                                | 5529/15000 [00:18<00:30, 312.21it/s]\n",
      "\n",
      " 37%|████████████████████████████▏                                               | 5561/15000 [00:18<00:30, 311.73it/s]\n",
      "\n",
      " 37%|████████████████████████████▎                                               | 5593/15000 [00:18<00:30, 310.37it/s]\n",
      "\n",
      " 38%|████████████████████████████▌                                               | 5627/15000 [00:19<00:29, 316.12it/s]\n",
      "\n",
      " 38%|████████████████████████████▋                                               | 5661/15000 [00:19<00:29, 321.98it/s]\n",
      "\n",
      " 38%|████████████████████████████▊                                               | 5698/15000 [00:19<00:27, 334.86it/s]\n",
      "\n",
      " 38%|█████████████████████████████                                               | 5732/15000 [00:19<00:29, 316.64it/s]\n",
      "\n",
      " 38%|█████████████████████████████▏                                              | 5773/15000 [00:19<00:27, 339.10it/s]\n",
      "\n",
      " 39%|█████████████████████████████▍                                              | 5808/15000 [00:19<00:27, 335.39it/s]\n",
      "\n",
      " 39%|█████████████████████████████▌                                              | 5843/15000 [00:19<00:30, 304.98it/s]\n",
      "\n",
      " 39%|█████████████████████████████▊                                              | 5875/15000 [00:19<00:29, 305.64it/s]\n",
      "\n",
      " 39%|█████████████████████████████▉                                              | 5907/15000 [00:19<00:31, 288.81it/s]\n",
      "\n",
      " 40%|██████████████████████████████                                              | 5938/15000 [00:20<00:30, 292.45it/s]\n",
      "\n",
      " 40%|██████████████████████████████▏                                             | 5969/15000 [00:20<00:30, 296.63it/s]\n",
      "\n",
      " 40%|██████████████████████████████▍                                             | 5999/15000 [00:20<00:30, 294.01it/s]\n",
      "\n",
      " 40%|██████████████████████████████▌                                             | 6030/15000 [00:20<00:30, 297.85it/s]\n",
      "\n",
      " 40%|██████████████████████████████▋                                             | 6063/15000 [00:20<00:29, 299.16it/s]\n",
      "\n",
      " 41%|██████████████████████████████▉                                             | 6100/15000 [00:20<00:28, 315.86it/s]\n",
      "\n",
      " 41%|███████████████████████████████                                             | 6132/15000 [00:20<00:29, 300.84it/s]\n",
      "\n",
      " 41%|███████████████████████████████▏                                            | 6163/15000 [00:20<00:29, 298.37it/s]\n",
      "\n",
      " 41%|███████████████████████████████▍                                            | 6195/15000 [00:20<00:28, 303.66it/s]\n",
      "\n",
      " 42%|███████████████████████████████▌                                            | 6226/15000 [00:21<00:30, 288.44it/s]\n",
      "\n",
      " 42%|███████████████████████████████▋                                            | 6259/15000 [00:21<00:29, 298.02it/s]\n",
      "\n",
      " 42%|███████████████████████████████▊                                            | 6290/15000 [00:21<00:29, 293.06it/s]\n",
      "\n",
      " 42%|████████████████████████████████                                            | 6327/15000 [00:21<00:27, 310.08it/s]\n",
      "\n",
      " 42%|████████████████████████████████▏                                           | 6359/15000 [00:21<00:28, 300.72it/s]\n",
      "\n",
      " 43%|████████████████████████████████▍                                           | 6390/15000 [00:21<00:29, 293.09it/s]\n",
      "\n",
      " 43%|████████████████████████████████▌                                           | 6420/15000 [00:21<00:29, 294.98it/s]\n",
      "\n",
      " 43%|████████████████████████████████▋                                           | 6452/15000 [00:21<00:28, 299.62it/s]\n",
      "\n",
      " 43%|████████████████████████████████▊                                           | 6483/15000 [00:21<00:28, 294.03it/s]\n",
      "\n",
      " 43%|█████████████████████████████████                                           | 6517/15000 [00:21<00:27, 303.97it/s]\n",
      "\n",
      " 44%|█████████████████████████████████▏                                          | 6550/15000 [00:22<00:27, 310.41it/s]\n",
      "\n",
      " 44%|█████████████████████████████████▎                                          | 6582/15000 [00:22<00:27, 301.61it/s]\n",
      "\n",
      " 44%|█████████████████████████████████▌                                          | 6615/15000 [00:22<00:27, 308.69it/s]\n",
      "\n",
      " 44%|█████████████████████████████████▋                                          | 6647/15000 [00:22<00:26, 309.39it/s]\n",
      "\n",
      " 45%|█████████████████████████████████▊                                          | 6679/15000 [00:22<00:27, 306.19it/s]\n",
      "\n",
      " 45%|█████████████████████████████████▉                                          | 6710/15000 [00:22<00:27, 303.69it/s]\n",
      "\n",
      " 45%|██████████████████████████████████▏                                         | 6742/15000 [00:22<00:26, 308.38it/s]\n",
      "\n",
      " 45%|██████████████████████████████████▎                                         | 6773/15000 [00:22<00:27, 300.75it/s]\n",
      "\n",
      " 45%|██████████████████████████████████▍                                         | 6809/15000 [00:22<00:26, 312.14it/s]\n",
      "\n",
      " 46%|██████████████████████████████████▋                                         | 6848/15000 [00:23<00:24, 330.41it/s]\n",
      "\n",
      " 46%|██████████████████████████████████▊                                         | 6882/15000 [00:23<00:24, 331.26it/s]\n",
      "\n",
      " 46%|███████████████████████████████████                                         | 6916/15000 [00:23<00:24, 325.08it/s]\n",
      "\n",
      " 46%|███████████████████████████████████▏                                        | 6949/15000 [00:23<00:24, 323.68it/s]\n",
      "\n",
      " 47%|███████████████████████████████████▍                                        | 6982/15000 [00:23<00:25, 312.63it/s]\n",
      "\n",
      " 47%|███████████████████████████████████▌                                        | 7014/15000 [00:23<00:28, 276.43it/s]\n",
      "\n",
      " 47%|███████████████████████████████████▋                                        | 7043/15000 [00:23<00:30, 261.39it/s]\n",
      "\n",
      " 47%|███████████████████████████████████▊                                        | 7075/15000 [00:23<00:28, 276.49it/s]\n",
      "\n",
      " 47%|███████████████████████████████████▉                                        | 7104/15000 [00:23<00:28, 272.57it/s]\n",
      "\n",
      " 48%|████████████████████████████████████▏                                       | 7142/15000 [00:24<00:26, 295.63it/s]\n",
      "\n",
      " 48%|████████████████████████████████████▎                                       | 7173/15000 [00:24<00:26, 293.92it/s]\n",
      "\n",
      " 48%|████████████████████████████████████▌                                       | 7204/15000 [00:24<00:27, 280.65it/s]\n",
      "\n",
      " 48%|████████████████████████████████████▋                                       | 7238/15000 [00:24<00:26, 295.42it/s]\n",
      "\n",
      " 48%|████████████████████████████████████▊                                       | 7271/15000 [00:24<00:25, 303.30it/s]\n",
      "\n",
      " 49%|█████████████████████████████████████                                       | 7303/15000 [00:24<00:25, 306.33it/s]\n",
      "\n",
      " 49%|█████████████████████████████████████▏                                      | 7334/15000 [00:24<00:26, 288.40it/s]\n",
      "\n",
      " 49%|█████████████████████████████████████▎                                      | 7371/15000 [00:24<00:24, 306.51it/s]\n",
      "\n",
      " 49%|█████████████████████████████████████▌                                      | 7404/15000 [00:24<00:24, 308.04it/s]\n",
      "\n",
      " 50%|█████████████████████████████████████▋                                      | 7441/15000 [00:25<00:23, 318.45it/s]\n",
      "\n",
      " 50%|█████████████████████████████████████▊                                      | 7475/15000 [00:25<00:23, 324.49it/s]\n",
      "\n",
      " 50%|██████████████████████████████████████                                      | 7508/15000 [00:25<00:23, 315.90it/s]\n",
      "\n",
      " 50%|██████████████████████████████████████▏                                     | 7543/15000 [00:25<00:22, 324.49it/s]\n",
      "\n",
      " 51%|██████████████████████████████████████▍                                     | 7576/15000 [00:25<00:22, 323.09it/s]\n",
      "\n",
      " 51%|██████████████████████████████████████▌                                     | 7609/15000 [00:25<00:22, 323.33it/s]\n",
      "\n",
      " 51%|██████████████████████████████████████▋                                     | 7645/15000 [00:25<00:22, 332.57it/s]\n",
      "\n",
      " 51%|██████████████████████████████████████▉                                     | 7679/15000 [00:25<00:22, 324.08it/s]\n",
      "\n",
      " 51%|███████████████████████████████████████                                     | 7712/15000 [00:25<00:23, 309.43it/s]\n",
      "\n",
      " 52%|███████████████████████████████████████▏                                    | 7746/15000 [00:25<00:22, 316.96it/s]\n",
      "\n",
      " 52%|███████████████████████████████████████▍                                    | 7782/15000 [00:26<00:22, 327.97it/s]\n",
      "\n",
      " 52%|███████████████████████████████████████▌                                    | 7816/15000 [00:26<00:22, 324.68it/s]\n",
      "\n",
      " 52%|███████████████████████████████████████▊                                    | 7850/15000 [00:26<00:21, 326.39it/s]\n",
      "\n",
      " 53%|███████████████████████████████████████▉                                    | 7883/15000 [00:26<00:21, 326.47it/s]\n",
      "\n",
      " 53%|████████████████████████████████████████▏                                   | 7920/15000 [00:26<00:20, 337.35it/s]\n",
      "\n",
      " 53%|████████████████████████████████████████▎                                   | 7957/15000 [00:26<00:20, 344.54it/s]\n",
      "\n",
      " 53%|████████████████████████████████████████▌                                   | 7998/15000 [00:26<00:19, 359.14it/s]\n",
      "\n",
      " 54%|████████████████████████████████████████▋                                   | 8035/15000 [00:26<00:20, 345.90it/s]\n",
      "\n",
      " 54%|████████████████████████████████████████▉                                   | 8070/15000 [00:26<00:21, 322.18it/s]\n",
      "\n",
      " 54%|█████████████████████████████████████████                                   | 8103/15000 [00:27<00:21, 315.27it/s]\n",
      "\n",
      " 54%|█████████████████████████████████████████▏                                  | 8136/15000 [00:27<00:21, 316.77it/s]\n",
      "\n",
      " 54%|█████████████████████████████████████████▍                                  | 8172/15000 [00:27<00:20, 328.58it/s]\n",
      "\n",
      " 55%|█████████████████████████████████████████▌                                  | 8206/15000 [00:27<00:21, 323.38it/s]\n",
      "\n",
      " 55%|█████████████████████████████████████████▊                                  | 8242/15000 [00:27<00:20, 332.61it/s]\n",
      "\n",
      " 55%|█████████████████████████████████████████▉                                  | 8276/15000 [00:27<00:20, 332.65it/s]\n",
      "\n",
      " 55%|██████████████████████████████████████████                                  | 8310/15000 [00:27<00:20, 332.98it/s]\n",
      "\n",
      " 56%|██████████████████████████████████████████▎                                 | 8344/15000 [00:27<00:20, 320.68it/s]\n",
      "\n",
      " 56%|██████████████████████████████████████████▍                                 | 8377/15000 [00:27<00:20, 317.91it/s]\n",
      "\n",
      " 56%|██████████████████████████████████████████▌                                 | 8411/15000 [00:27<00:20, 323.29it/s]\n",
      "\n",
      " 56%|██████████████████████████████████████████▊                                 | 8444/15000 [00:28<00:20, 316.68it/s]\n",
      "\n",
      " 57%|██████████████████████████████████████████▉                                 | 8476/15000 [00:28<00:20, 314.96it/s]\n",
      "\n",
      " 57%|███████████████████████████████████████████                                 | 8508/15000 [00:28<00:21, 297.04it/s]\n",
      "\n",
      " 57%|███████████████████████████████████████████▎                                | 8538/15000 [00:28<00:22, 293.53it/s]\n",
      "\n",
      " 57%|███████████████████████████████████████████▍                                | 8568/15000 [00:28<00:22, 286.12it/s]\n",
      "\n",
      " 57%|███████████████████████████████████████████▌                                | 8607/15000 [00:28<00:20, 310.21it/s]\n",
      "\n",
      " 58%|███████████████████████████████████████████▊                                | 8641/15000 [00:28<00:20, 317.67it/s]\n",
      "\n"
     ]
    },
    {
     "name": "stderr",
     "output_type": "stream",
     "text": [
      " 58%|███████████████████████████████████████████▉                                | 8678/15000 [00:28<00:19, 331.72it/s]\n",
      "\n",
      " 58%|████████████████████████████████████████████▏                               | 8712/15000 [00:28<00:19, 322.72it/s]\n",
      "\n",
      " 58%|████████████████████████████████████████████▎                               | 8745/15000 [00:29<00:19, 314.62it/s]\n",
      "\n",
      " 59%|████████████████████████████████████████████▍                               | 8777/15000 [00:29<00:21, 293.56it/s]\n",
      "\n",
      " 59%|████████████████████████████████████████████▋                               | 8808/15000 [00:29<00:20, 296.57it/s]\n",
      "\n",
      " 59%|████████████████████████████████████████████▊                               | 8841/15000 [00:29<00:20, 302.38it/s]\n",
      "\n",
      " 59%|████████████████████████████████████████████▉                               | 8874/15000 [00:29<00:19, 306.79it/s]\n",
      "\n",
      " 59%|█████████████████████████████████████████████                               | 8905/15000 [00:29<00:20, 293.60it/s]\n",
      "\n",
      " 60%|█████████████████████████████████████████████▎                              | 8938/15000 [00:29<00:20, 302.08it/s]\n",
      "\n",
      " 60%|█████████████████████████████████████████████▍                              | 8971/15000 [00:29<00:19, 309.06it/s]\n",
      "\n",
      " 60%|█████████████████████████████████████████████▌                              | 9003/15000 [00:29<00:21, 285.49it/s]\n",
      "\n",
      " 60%|█████████████████████████████████████████████▊                              | 9033/15000 [00:30<00:21, 281.51it/s]\n",
      "\n",
      " 60%|█████████████████████████████████████████████▉                              | 9062/15000 [00:30<00:20, 283.15it/s]\n",
      "\n",
      " 61%|██████████████████████████████████████████████                              | 9096/15000 [00:30<00:19, 295.64it/s]\n",
      "\n",
      " 61%|██████████████████████████████████████████████▎                             | 9131/15000 [00:30<00:18, 310.07it/s]\n",
      "\n",
      " 61%|██████████████████████████████████████████████▍                             | 9166/15000 [00:30<00:18, 320.28it/s]\n",
      "\n",
      " 61%|██████████████████████████████████████████████▋                             | 9203/15000 [00:30<00:17, 332.69it/s]\n",
      "\n",
      " 62%|██████████████████████████████████████████████▊                             | 9242/15000 [00:30<00:16, 345.36it/s]\n",
      "\n",
      " 62%|███████████████████████████████████████████████                             | 9277/15000 [00:30<00:18, 313.20it/s]\n",
      "\n",
      " 62%|███████████████████████████████████████████████▏                            | 9314/15000 [00:30<00:17, 326.55it/s]\n",
      "\n",
      " 62%|███████████████████████████████████████████████▎                            | 9348/15000 [00:31<00:18, 303.05it/s]\n",
      "\n",
      " 63%|███████████████████████████████████████████████▌                            | 9387/15000 [00:31<00:17, 318.39it/s]\n",
      "\n",
      " 63%|███████████████████████████████████████████████▋                            | 9420/15000 [00:31<00:18, 302.20it/s]\n",
      "\n",
      " 63%|███████████████████████████████████████████████▉                            | 9455/15000 [00:31<00:17, 314.34it/s]\n",
      "\n",
      " 63%|████████████████████████████████████████████████                            | 9493/15000 [00:31<00:16, 331.50it/s]\n",
      "\n",
      " 64%|████████████████████████████████████████████████▎                           | 9533/15000 [00:31<00:15, 345.81it/s]\n",
      "\n",
      " 64%|████████████████████████████████████████████████▍                           | 9569/15000 [00:31<00:15, 343.90it/s]\n",
      "\n",
      " 64%|████████████████████████████████████████████████▋                           | 9605/15000 [00:31<00:15, 348.55it/s]\n",
      "\n",
      " 64%|████████████████████████████████████████████████▊                           | 9643/15000 [00:31<00:14, 357.29it/s]\n",
      "\n",
      " 65%|█████████████████████████████████████████████████                           | 9680/15000 [00:31<00:15, 336.46it/s]\n",
      "\n",
      " 65%|█████████████████████████████████████████████████▏                          | 9719/15000 [00:32<00:15, 350.89it/s]\n",
      "\n",
      " 65%|█████████████████████████████████████████████████▍                          | 9755/15000 [00:32<00:15, 331.90it/s]\n",
      "\n",
      " 65%|█████████████████████████████████████████████████▌                          | 9793/15000 [00:32<00:15, 344.16it/s]\n",
      "\n",
      " 66%|█████████████████████████████████████████████████▊                          | 9828/15000 [00:32<00:15, 330.09it/s]\n",
      "\n",
      " 66%|█████████████████████████████████████████████████▉                          | 9862/15000 [00:32<00:16, 313.73it/s]\n",
      "\n",
      " 66%|██████████████████████████████████████████████████▏                         | 9894/15000 [00:32<00:16, 309.16it/s]\n",
      "\n",
      " 66%|██████████████████████████████████████████████████▎                         | 9932/15000 [00:32<00:15, 326.60it/s]\n",
      "\n",
      " 66%|██████████████████████████████████████████████████▌                         | 9969/15000 [00:32<00:14, 335.72it/s]\n",
      "\n",
      " 67%|██████████████████████████████████████████████████                         | 10003/15000 [00:32<00:15, 323.50it/s]\n",
      "\n",
      " 67%|██████████████████████████████████████████████████▏                        | 10036/15000 [00:33<00:15, 314.24it/s]\n",
      "\n",
      " 67%|██████████████████████████████████████████████████▎                        | 10068/15000 [00:33<00:15, 312.22it/s]\n",
      "\n",
      " 67%|██████████████████████████████████████████████████▌                        | 10100/15000 [00:33<00:15, 309.93it/s]\n",
      "\n",
      " 68%|██████████████████████████████████████████████████▋                        | 10132/15000 [00:33<00:15, 309.23it/s]\n",
      "\n",
      " 68%|██████████████████████████████████████████████████▊                        | 10164/15000 [00:33<00:16, 301.75it/s]\n",
      "\n",
      " 68%|██████████████████████████████████████████████████▉                        | 10195/15000 [00:33<00:16, 286.44it/s]\n",
      "\n",
      " 68%|███████████████████████████████████████████████████▏                       | 10230/15000 [00:33<00:15, 302.84it/s]\n",
      "\n",
      " 68%|███████████████████████████████████████████████████▎                       | 10262/15000 [00:33<00:15, 306.99it/s]\n",
      "\n",
      " 69%|███████████████████████████████████████████████████▍                       | 10294/15000 [00:33<00:16, 287.31it/s]\n",
      "\n",
      " 69%|███████████████████████████████████████████████████▋                       | 10327/15000 [00:34<00:15, 298.89it/s]\n",
      "\n",
      " 69%|███████████████████████████████████████████████████▊                       | 10359/15000 [00:34<00:15, 304.90it/s]\n",
      "\n",
      " 69%|███████████████████████████████████████████████████▉                       | 10395/15000 [00:34<00:14, 317.86it/s]\n",
      "\n",
      " 70%|████████████████████████████████████████████████████▏                      | 10431/15000 [00:34<00:13, 328.40it/s]\n",
      "\n",
      " 70%|████████████████████████████████████████████████████▎                      | 10467/15000 [00:34<00:13, 336.42it/s]\n",
      "\n",
      " 70%|████████████████████████████████████████████████████▌                      | 10501/15000 [00:34<00:13, 326.76it/s]\n",
      "\n",
      " 70%|████████████████████████████████████████████████████▋                      | 10534/15000 [00:34<00:14, 302.46it/s]\n",
      "\n",
      " 70%|████████████████████████████████████████████████████▊                      | 10570/15000 [00:34<00:14, 316.00it/s]\n",
      "\n",
      " 71%|█████████████████████████████████████████████████████                      | 10603/15000 [00:34<00:14, 312.66it/s]\n",
      "\n",
      " 71%|█████████████████████████████████████████████████████▏                     | 10635/15000 [00:35<00:13, 313.99it/s]\n",
      "\n",
      " 71%|█████████████████████████████████████████████████████▎                     | 10669/15000 [00:35<00:13, 318.51it/s]\n",
      "\n",
      " 71%|█████████████████████████████████████████████████████▌                     | 10702/15000 [00:35<00:13, 321.03it/s]\n",
      "\n",
      " 72%|█████████████████████████████████████████████████████▋                     | 10735/15000 [00:35<00:13, 308.23it/s]\n",
      "\n",
      " 72%|█████████████████████████████████████████████████████▊                     | 10767/15000 [00:35<00:14, 293.62it/s]\n",
      "\n",
      " 72%|██████████████████████████████████████████████████████                     | 10802/15000 [00:35<00:13, 308.51it/s]\n",
      "\n",
      " 72%|██████████████████████████████████████████████████████▏                    | 10838/15000 [00:35<00:12, 322.32it/s]\n",
      "\n",
      " 72%|██████████████████████████████████████████████████████▎                    | 10871/15000 [00:35<00:12, 317.99it/s]\n",
      "\n",
      " 73%|██████████████████████████████████████████████████████▌                    | 10904/15000 [00:35<00:13, 305.41it/s]\n",
      "\n",
      " 73%|██████████████████████████████████████████████████████▋                    | 10935/15000 [00:35<00:13, 301.38it/s]\n",
      "\n",
      " 73%|██████████████████████████████████████████████████████▊                    | 10973/15000 [00:36<00:12, 321.20it/s]\n",
      "\n",
      " 73%|███████████████████████████████████████████████████████                    | 11006/15000 [00:36<00:12, 322.41it/s]\n",
      "\n",
      " 74%|███████████████████████████████████████████████████████▏                   | 11039/15000 [00:36<00:12, 313.14it/s]\n",
      "\n",
      " 74%|███████████████████████████████████████████████████████▎                   | 11071/15000 [00:36<00:13, 296.46it/s]\n",
      "\n",
      " 74%|███████████████████████████████████████████████████████▌                   | 11107/15000 [00:36<00:12, 313.01it/s]\n",
      "\n",
      " 74%|███████████████████████████████████████████████████████▋                   | 11139/15000 [00:36<00:12, 314.95it/s]\n",
      "\n",
      " 74%|███████████████████████████████████████████████████████▊                   | 11173/15000 [00:36<00:11, 321.10it/s]\n",
      "\n",
      " 75%|████████████████████████████████████████████████████████                   | 11206/15000 [00:36<00:12, 315.48it/s]\n",
      "\n",
      " 75%|████████████████████████████████████████████████████████▏                  | 11240/15000 [00:36<00:11, 321.51it/s]\n",
      "\n",
      " 75%|████████████████████████████████████████████████████████▎                  | 11273/15000 [00:37<00:11, 323.99it/s]\n",
      "\n",
      " 75%|████████████████████████████████████████████████████████▌                  | 11306/15000 [00:37<00:11, 324.78it/s]\n",
      "\n",
      " 76%|████████████████████████████████████████████████████████▋                  | 11339/15000 [00:37<00:11, 315.00it/s]\n",
      "\n",
      " 76%|████████████████████████████████████████████████████████▊                  | 11371/15000 [00:37<00:11, 304.70it/s]\n",
      "\n",
      " 76%|█████████████████████████████████████████████████████████                  | 11402/15000 [00:37<00:12, 294.87it/s]\n",
      "\n",
      " 76%|█████████████████████████████████████████████████████████▏                 | 11438/15000 [00:37<00:11, 309.35it/s]\n",
      "\n",
      " 76%|█████████████████████████████████████████████████████████▍                 | 11475/15000 [00:37<00:10, 325.33it/s]\n",
      "\n",
      " 77%|█████████████████████████████████████████████████████████▌                 | 11511/15000 [00:37<00:10, 331.40it/s]\n",
      "\n",
      " 77%|█████████████████████████████████████████████████████████▋                 | 11545/15000 [00:37<00:11, 310.06it/s]\n",
      "\n",
      " 77%|█████████████████████████████████████████████████████████▉                 | 11579/15000 [00:38<00:10, 317.64it/s]\n",
      "\n",
      " 77%|██████████████████████████████████████████████████████████                 | 11612/15000 [00:38<00:10, 310.35it/s]\n",
      "\n",
      " 78%|██████████████████████████████████████████████████████████▏                | 11644/15000 [00:38<00:10, 312.25it/s]\n",
      "\n",
      " 78%|██████████████████████████████████████████████████████████▍                | 11676/15000 [00:38<00:10, 311.75it/s]\n",
      "\n",
      " 78%|██████████████████████████████████████████████████████████▌                | 11708/15000 [00:38<00:10, 308.70it/s]\n",
      "\n",
      " 78%|██████████████████████████████████████████████████████████▋                | 11739/15000 [00:38<00:10, 306.32it/s]\n",
      "\n",
      " 78%|██████████████████████████████████████████████████████████▊                | 11773/15000 [00:38<00:10, 315.59it/s]\n",
      "\n",
      " 79%|███████████████████████████████████████████████████████████                | 11805/15000 [00:38<00:10, 312.33it/s]\n",
      "\n",
      " 79%|███████████████████████████████████████████████████████████▏               | 11837/15000 [00:38<00:10, 305.55it/s]\n",
      "\n",
      " 79%|███████████████████████████████████████████████████████████▎               | 11868/15000 [00:38<00:10, 305.95it/s]\n",
      "\n",
      " 79%|███████████████████████████████████████████████████████████▌               | 11905/15000 [00:39<00:09, 321.84it/s]\n",
      "\n",
      " 80%|███████████████████████████████████████████████████████████▋               | 11938/15000 [00:39<00:10, 302.80it/s]\n",
      "\n",
      " 80%|███████████████████████████████████████████████████████████▊               | 11971/15000 [00:39<00:09, 308.59it/s]\n",
      "\n",
      " 80%|████████████████████████████████████████████████████████████               | 12006/15000 [00:39<00:09, 319.17it/s]\n",
      "\n",
      " 80%|████████████████████████████████████████████████████████████▏              | 12044/15000 [00:39<00:08, 331.61it/s]\n",
      "\n",
      " 81%|████████████████████████████████████████████████████████████▍              | 12078/15000 [00:39<00:09, 296.58it/s]\n",
      "\n",
      " 81%|████████████████████████████████████████████████████████████▌              | 12109/15000 [00:39<00:09, 300.46it/s]\n",
      "\n",
      " 81%|████████████████████████████████████████████████████████████▋              | 12140/15000 [00:39<00:09, 288.02it/s]\n",
      "\n",
      " 81%|████████████████████████████████████████████████████████████▊              | 12170/15000 [00:39<00:10, 278.50it/s]\n",
      "\n",
      " 81%|█████████████████████████████████████████████████████████████              | 12200/15000 [00:40<00:09, 282.19it/s]\n",
      "\n",
      " 82%|█████████████████████████████████████████████████████████████▏             | 12233/15000 [00:40<00:09, 292.53it/s]\n",
      "\n",
      " 82%|█████████████████████████████████████████████████████████████▎             | 12269/15000 [00:40<00:08, 308.45it/s]\n",
      "\n",
      " 82%|█████████████████████████████████████████████████████████████▌             | 12301/15000 [00:40<00:08, 308.20it/s]\n",
      "\n",
      " 82%|█████████████████████████████████████████████████████████████▋             | 12334/15000 [00:40<00:08, 312.62it/s]\n",
      "\n",
      " 82%|█████████████████████████████████████████████████████████████▊             | 12366/15000 [00:40<00:08, 307.51it/s]\n",
      "\n",
      " 83%|██████████████████████████████████████████████████████████████             | 12400/15000 [00:40<00:08, 315.69it/s]\n",
      "\n",
      " 83%|██████████████████████████████████████████████████████████████▏            | 12433/15000 [00:40<00:08, 318.90it/s]\n",
      "\n",
      " 83%|██████████████████████████████████████████████████████████████▎            | 12468/15000 [00:40<00:07, 322.94it/s]\n",
      "\n",
      " 83%|██████████████████████████████████████████████████████████████▌            | 12501/15000 [00:41<00:07, 316.72it/s]\n",
      "\n",
      " 84%|██████████████████████████████████████████████████████████████▋            | 12533/15000 [00:41<00:07, 314.86it/s]\n",
      "\n",
      " 84%|██████████████████████████████████████████████████████████████▊            | 12565/15000 [00:41<00:07, 314.49it/s]\n",
      "\n",
      " 84%|███████████████████████████████████████████████████████████████            | 12605/15000 [00:41<00:07, 336.02it/s]\n",
      "\n",
      " 84%|███████████████████████████████████████████████████████████████▏           | 12641/15000 [00:41<00:06, 342.85it/s]\n",
      "\n",
      " 85%|███████████████████████████████████████████████████████████████▍           | 12676/15000 [00:41<00:06, 341.76it/s]\n",
      "\n",
      " 85%|███████████████████████████████████████████████████████████████▌           | 12711/15000 [00:41<00:06, 337.34it/s]\n",
      "\n",
      " 85%|███████████████████████████████████████████████████████████████▋           | 12745/15000 [00:41<00:06, 332.99it/s]\n",
      "\n",
      " 85%|███████████████████████████████████████████████████████████████▉           | 12780/15000 [00:41<00:06, 335.12it/s]\n",
      "\n",
      " 85%|████████████████████████████████████████████████████████████████           | 12814/15000 [00:41<00:07, 310.71it/s]\n",
      "\n",
      " 86%|████████████████████████████████████████████████████████████████▎          | 12850/15000 [00:42<00:06, 317.86it/s]\n",
      "\n",
      " 86%|████████████████████████████████████████████████████████████████▍          | 12887/15000 [00:42<00:06, 330.22it/s]\n",
      "\n",
      " 86%|████████████████████████████████████████████████████████████████▌          | 12921/15000 [00:42<00:06, 307.74it/s]\n",
      "\n",
      " 86%|████████████████████████████████████████████████████████████████▊          | 12958/15000 [00:42<00:06, 322.28it/s]\n",
      "\n",
      " 87%|████████████████████████████████████████████████████████████████▉          | 12992/15000 [00:42<00:06, 325.61it/s]\n",
      "\n",
      " 87%|█████████████████████████████████████████████████████████████████▏         | 13025/15000 [00:42<00:06, 321.16it/s]\n",
      "\n",
      " 87%|█████████████████████████████████████████████████████████████████▎         | 13058/15000 [00:42<00:06, 313.59it/s]\n",
      "\n",
      " 87%|█████████████████████████████████████████████████████████████████▍         | 13092/15000 [00:42<00:05, 319.22it/s]\n",
      "\n",
      " 88%|█████████████████████████████████████████████████████████████████▋         | 13125/15000 [00:42<00:05, 315.89it/s]\n",
      "\n",
      " 88%|█████████████████████████████████████████████████████████████████▊         | 13157/15000 [00:43<00:06, 297.52it/s]\n",
      "\n",
      " 88%|█████████████████████████████████████████████████████████████████▉         | 13191/15000 [00:43<00:05, 306.67it/s]\n",
      "\n"
     ]
    },
    {
     "name": "stderr",
     "output_type": "stream",
     "text": [
      " 88%|██████████████████████████████████████████████████████████████████▏        | 13228/15000 [00:43<00:05, 322.41it/s]\n",
      "\n",
      " 88%|██████████████████████████████████████████████████████████████████▎        | 13261/15000 [00:43<00:05, 317.03it/s]\n",
      "\n",
      " 89%|██████████████████████████████████████████████████████████████████▍        | 13296/15000 [00:43<00:05, 324.38it/s]\n",
      "\n",
      " 89%|██████████████████████████████████████████████████████████████████▋        | 13329/15000 [00:43<00:05, 316.77it/s]\n",
      "\n",
      " 89%|██████████████████████████████████████████████████████████████████▊        | 13361/15000 [00:43<00:05, 312.93it/s]\n",
      "\n",
      " 89%|██████████████████████████████████████████████████████████████████▉        | 13394/15000 [00:43<00:05, 317.04it/s]\n",
      "\n",
      " 90%|███████████████████████████████████████████████████████████████████▏       | 13433/15000 [00:43<00:04, 335.00it/s]\n",
      "\n",
      " 90%|███████████████████████████████████████████████████████████████████▎       | 13467/15000 [00:43<00:04, 323.95it/s]\n",
      "\n",
      " 90%|███████████████████████████████████████████████████████████████████▌       | 13500/15000 [00:44<00:04, 321.91it/s]\n",
      "\n",
      " 90%|███████████████████████████████████████████████████████████████████▋       | 13538/15000 [00:44<00:04, 335.57it/s]\n",
      "\n",
      " 90%|███████████████████████████████████████████████████████████████████▊       | 13572/15000 [00:44<00:04, 335.86it/s]\n",
      "\n",
      " 91%|████████████████████████████████████████████████████████████████████       | 13606/15000 [00:44<00:04, 335.07it/s]\n",
      "\n",
      " 91%|████████████████████████████████████████████████████████████████████▏      | 13640/15000 [00:44<00:04, 325.87it/s]\n",
      "\n",
      " 91%|████████████████████████████████████████████████████████████████████▍      | 13675/15000 [00:44<00:03, 331.78it/s]\n",
      "\n",
      " 91%|████████████████████████████████████████████████████████████████████▌      | 13709/15000 [00:44<00:04, 318.99it/s]\n",
      "\n",
      " 92%|████████████████████████████████████████████████████████████████████▋      | 13745/15000 [00:44<00:03, 327.67it/s]\n",
      "\n",
      " 92%|████████████████████████████████████████████████████████████████████▉      | 13781/15000 [00:44<00:03, 335.78it/s]\n",
      "\n",
      " 92%|█████████████████████████████████████████████████████████████████████      | 13815/15000 [00:45<00:03, 304.41it/s]\n",
      "\n",
      " 92%|█████████████████████████████████████████████████████████████████████▎     | 13854/15000 [00:45<00:03, 324.11it/s]\n",
      "\n",
      " 93%|█████████████████████████████████████████████████████████████████████▍     | 13891/15000 [00:45<00:03, 335.82it/s]\n",
      "\n",
      " 93%|█████████████████████████████████████████████████████████████████████▋     | 13926/15000 [00:45<00:03, 329.37it/s]\n",
      "\n",
      " 93%|█████████████████████████████████████████████████████████████████████▊     | 13960/15000 [00:45<00:03, 323.91it/s]\n",
      "\n",
      " 93%|█████████████████████████████████████████████████████████████████████▉     | 13993/15000 [00:45<00:03, 322.82it/s]\n",
      "\n",
      " 94%|██████████████████████████████████████████████████████████████████████▏    | 14026/15000 [00:45<00:03, 323.01it/s]\n",
      "\n",
      " 94%|██████████████████████████████████████████████████████████████████████▎    | 14059/15000 [00:45<00:02, 315.72it/s]\n",
      "\n",
      " 94%|██████████████████████████████████████████████████████████████████████▍    | 14091/15000 [00:45<00:02, 314.17it/s]\n",
      "\n",
      " 94%|██████████████████████████████████████████████████████████████████████▌    | 14123/15000 [00:46<00:02, 308.56it/s]\n",
      "\n",
      " 94%|██████████████████████████████████████████████████████████████████████▊    | 14158/15000 [00:46<00:02, 319.90it/s]\n",
      "\n",
      " 95%|██████████████████████████████████████████████████████████████████████▉    | 14191/15000 [00:46<00:02, 322.84it/s]\n",
      "\n",
      " 95%|███████████████████████████████████████████████████████████████████████▏   | 14225/15000 [00:46<00:02, 325.89it/s]\n",
      "\n",
      " 95%|███████████████████████████████████████████████████████████████████████▎   | 14259/15000 [00:46<00:02, 326.98it/s]\n",
      "\n",
      " 95%|███████████████████████████████████████████████████████████████████████▍   | 14293/15000 [00:46<00:02, 328.98it/s]\n",
      "\n",
      " 96%|███████████████████████████████████████████████████████████████████████▋   | 14327/15000 [00:46<00:02, 332.18it/s]\n",
      "\n",
      " 96%|███████████████████████████████████████████████████████████████████████▊   | 14363/15000 [00:46<00:01, 336.23it/s]\n",
      "\n",
      " 96%|███████████████████████████████████████████████████████████████████████▉   | 14397/15000 [00:46<00:01, 324.63it/s]\n",
      "\n",
      " 96%|████████████████████████████████████████████████████████████████████████▏  | 14436/15000 [00:46<00:01, 339.24it/s]\n",
      "\n",
      " 96%|████████████████████████████████████████████████████████████████████████▎  | 14471/15000 [00:47<00:01, 312.98it/s]\n",
      "\n",
      " 97%|████████████████████████████████████████████████████████████████████████▌  | 14503/15000 [00:47<00:01, 310.44it/s]\n",
      "\n",
      " 97%|████████████████████████████████████████████████████████████████████████▋  | 14535/15000 [00:47<00:01, 312.18it/s]\n",
      "\n",
      " 97%|████████████████████████████████████████████████████████████████████████▊  | 14567/15000 [00:47<00:01, 297.89it/s]\n",
      "\n",
      " 97%|█████████████████████████████████████████████████████████████████████████  | 14600/15000 [00:47<00:01, 305.98it/s]\n",
      "\n",
      " 98%|█████████████████████████████████████████████████████████████████████████▏ | 14631/15000 [00:47<00:01, 297.30it/s]\n",
      "\n",
      " 98%|█████████████████████████████████████████████████████████████████████████▎ | 14665/15000 [00:47<00:01, 304.88it/s]\n",
      "\n",
      " 98%|█████████████████████████████████████████████████████████████████████████▍ | 14699/15000 [00:47<00:00, 314.61it/s]\n",
      "\n",
      " 98%|█████████████████████████████████████████████████████████████████████████▋ | 14731/15000 [00:47<00:00, 310.65it/s]\n",
      "\n",
      " 98%|█████████████████████████████████████████████████████████████████████████▊ | 14764/15000 [00:48<00:00, 313.49it/s]\n",
      "\n",
      " 99%|█████████████████████████████████████████████████████████████████████████▉ | 14796/15000 [00:48<00:00, 315.39it/s]\n",
      "\n",
      " 99%|██████████████████████████████████████████████████████████████████████████▏| 14828/15000 [00:48<00:00, 307.47it/s]\n",
      "\n",
      " 99%|██████████████████████████████████████████████████████████████████████████▎| 14860/15000 [00:48<00:00, 310.33it/s]\n",
      "\n",
      " 99%|██████████████████████████████████████████████████████████████████████████▍| 14892/15000 [00:48<00:00, 294.14it/s]\n",
      "\n",
      " 99%|██████████████████████████████████████████████████████████████████████████▌| 14922/15000 [00:48<00:00, 291.54it/s]\n",
      "\n",
      "100%|██████████████████████████████████████████████████████████████████████████▊| 14952/15000 [00:48<00:00, 283.98it/s]\n",
      "\n",
      "100%|██████████████████████████████████████████████████████████████████████████▉| 14982/15000 [00:48<00:00, 287.76it/s]\n",
      "\n",
      "100%|███████████████████████████████████████████████████████████████████████████| 15000/15000 [00:48<00:00, 307.06it/s]C:\\Users\\nikos\\Anaconda3\\lib\\site-packages\\sklearn\\utils\\validation.py:578: DataConversionWarning: A column-vector y was passed when a 1d array was expected. Please change the shape of y to (n_samples, ), for example using ravel().\n",
      "  y = column_or_1d(y, warn=True)\n"
     ]
    }
   ],
   "source": [
    "logreg=train(train_text,train_labels)"
   ]
  },
  {
   "cell_type": "code",
   "execution_count": 20,
   "metadata": {},
   "outputs": [],
   "source": [
    "model = Doc2Vec(vector_size=300, min_count=1, epochs=55)"
   ]
  },
  {
   "cell_type": "code",
   "execution_count": 26,
   "metadata": {},
   "outputs": [],
   "source": [
    "def classify(data,logreg):\n",
    "    data_train=gensim_preprocess_test(data)\n",
    "    vectors=vectors_creature(model,data_train)\n",
    "    y_pred=logreg.predict(vectors) \n",
    "    return y_pred"
   ]
  },
  {
   "cell_type": "code",
   "execution_count": 31,
   "metadata": {},
   "outputs": [
    {
     "data": {
      "text/html": [
       "<div>\n",
       "<style scoped>\n",
       "    .dataframe tbody tr th:only-of-type {\n",
       "        vertical-align: middle;\n",
       "    }\n",
       "\n",
       "    .dataframe tbody tr th {\n",
       "        vertical-align: top;\n",
       "    }\n",
       "\n",
       "    .dataframe thead th {\n",
       "        text-align: right;\n",
       "    }\n",
       "</style>\n",
       "<table border=\"1\" class=\"dataframe\">\n",
       "  <thead>\n",
       "    <tr style=\"text-align: right;\">\n",
       "      <th></th>\n",
       "      <th>0</th>\n",
       "    </tr>\n",
       "  </thead>\n",
       "  <tbody>\n",
       "    <tr>\n",
       "      <th>0</th>\n",
       "      <td>neg</td>\n",
       "    </tr>\n",
       "    <tr>\n",
       "      <th>1</th>\n",
       "      <td>pos</td>\n",
       "    </tr>\n",
       "    <tr>\n",
       "      <th>2</th>\n",
       "      <td>neg</td>\n",
       "    </tr>\n",
       "    <tr>\n",
       "      <th>3</th>\n",
       "      <td>neg</td>\n",
       "    </tr>\n",
       "    <tr>\n",
       "      <th>4</th>\n",
       "      <td>pos</td>\n",
       "    </tr>\n",
       "    <tr>\n",
       "      <th>5</th>\n",
       "      <td>neg</td>\n",
       "    </tr>\n",
       "    <tr>\n",
       "      <th>6</th>\n",
       "      <td>neg</td>\n",
       "    </tr>\n",
       "    <tr>\n",
       "      <th>7</th>\n",
       "      <td>pos</td>\n",
       "    </tr>\n",
       "    <tr>\n",
       "      <th>8</th>\n",
       "      <td>neg</td>\n",
       "    </tr>\n",
       "    <tr>\n",
       "      <th>9</th>\n",
       "      <td>neg</td>\n",
       "    </tr>\n",
       "    <tr>\n",
       "      <th>10</th>\n",
       "      <td>pos</td>\n",
       "    </tr>\n",
       "    <tr>\n",
       "      <th>11</th>\n",
       "      <td>pos</td>\n",
       "    </tr>\n",
       "    <tr>\n",
       "      <th>12</th>\n",
       "      <td>neg</td>\n",
       "    </tr>\n",
       "    <tr>\n",
       "      <th>13</th>\n",
       "      <td>pos</td>\n",
       "    </tr>\n",
       "    <tr>\n",
       "      <th>14</th>\n",
       "      <td>pos</td>\n",
       "    </tr>\n",
       "    <tr>\n",
       "      <th>15</th>\n",
       "      <td>pos</td>\n",
       "    </tr>\n",
       "    <tr>\n",
       "      <th>16</th>\n",
       "      <td>pos</td>\n",
       "    </tr>\n",
       "    <tr>\n",
       "      <th>17</th>\n",
       "      <td>neg</td>\n",
       "    </tr>\n",
       "    <tr>\n",
       "      <th>18</th>\n",
       "      <td>pos</td>\n",
       "    </tr>\n",
       "    <tr>\n",
       "      <th>19</th>\n",
       "      <td>pos</td>\n",
       "    </tr>\n",
       "    <tr>\n",
       "      <th>20</th>\n",
       "      <td>neg</td>\n",
       "    </tr>\n",
       "    <tr>\n",
       "      <th>21</th>\n",
       "      <td>pos</td>\n",
       "    </tr>\n",
       "    <tr>\n",
       "      <th>22</th>\n",
       "      <td>neg</td>\n",
       "    </tr>\n",
       "    <tr>\n",
       "      <th>23</th>\n",
       "      <td>pos</td>\n",
       "    </tr>\n",
       "    <tr>\n",
       "      <th>24</th>\n",
       "      <td>pos</td>\n",
       "    </tr>\n",
       "    <tr>\n",
       "      <th>25</th>\n",
       "      <td>neg</td>\n",
       "    </tr>\n",
       "    <tr>\n",
       "      <th>26</th>\n",
       "      <td>pos</td>\n",
       "    </tr>\n",
       "    <tr>\n",
       "      <th>27</th>\n",
       "      <td>neg</td>\n",
       "    </tr>\n",
       "    <tr>\n",
       "      <th>28</th>\n",
       "      <td>pos</td>\n",
       "    </tr>\n",
       "    <tr>\n",
       "      <th>29</th>\n",
       "      <td>pos</td>\n",
       "    </tr>\n",
       "    <tr>\n",
       "      <th>...</th>\n",
       "      <td>...</td>\n",
       "    </tr>\n",
       "    <tr>\n",
       "      <th>14970</th>\n",
       "      <td>pos</td>\n",
       "    </tr>\n",
       "    <tr>\n",
       "      <th>14971</th>\n",
       "      <td>neg</td>\n",
       "    </tr>\n",
       "    <tr>\n",
       "      <th>14972</th>\n",
       "      <td>neg</td>\n",
       "    </tr>\n",
       "    <tr>\n",
       "      <th>14973</th>\n",
       "      <td>pos</td>\n",
       "    </tr>\n",
       "    <tr>\n",
       "      <th>14974</th>\n",
       "      <td>neg</td>\n",
       "    </tr>\n",
       "    <tr>\n",
       "      <th>14975</th>\n",
       "      <td>neg</td>\n",
       "    </tr>\n",
       "    <tr>\n",
       "      <th>14976</th>\n",
       "      <td>pos</td>\n",
       "    </tr>\n",
       "    <tr>\n",
       "      <th>14977</th>\n",
       "      <td>neg</td>\n",
       "    </tr>\n",
       "    <tr>\n",
       "      <th>14978</th>\n",
       "      <td>pos</td>\n",
       "    </tr>\n",
       "    <tr>\n",
       "      <th>14979</th>\n",
       "      <td>neg</td>\n",
       "    </tr>\n",
       "    <tr>\n",
       "      <th>14980</th>\n",
       "      <td>pos</td>\n",
       "    </tr>\n",
       "    <tr>\n",
       "      <th>14981</th>\n",
       "      <td>neg</td>\n",
       "    </tr>\n",
       "    <tr>\n",
       "      <th>14982</th>\n",
       "      <td>neg</td>\n",
       "    </tr>\n",
       "    <tr>\n",
       "      <th>14983</th>\n",
       "      <td>pos</td>\n",
       "    </tr>\n",
       "    <tr>\n",
       "      <th>14984</th>\n",
       "      <td>pos</td>\n",
       "    </tr>\n",
       "    <tr>\n",
       "      <th>14985</th>\n",
       "      <td>neg</td>\n",
       "    </tr>\n",
       "    <tr>\n",
       "      <th>14986</th>\n",
       "      <td>neg</td>\n",
       "    </tr>\n",
       "    <tr>\n",
       "      <th>14987</th>\n",
       "      <td>neg</td>\n",
       "    </tr>\n",
       "    <tr>\n",
       "      <th>14988</th>\n",
       "      <td>pos</td>\n",
       "    </tr>\n",
       "    <tr>\n",
       "      <th>14989</th>\n",
       "      <td>pos</td>\n",
       "    </tr>\n",
       "    <tr>\n",
       "      <th>14990</th>\n",
       "      <td>neg</td>\n",
       "    </tr>\n",
       "    <tr>\n",
       "      <th>14991</th>\n",
       "      <td>neg</td>\n",
       "    </tr>\n",
       "    <tr>\n",
       "      <th>14992</th>\n",
       "      <td>pos</td>\n",
       "    </tr>\n",
       "    <tr>\n",
       "      <th>14993</th>\n",
       "      <td>pos</td>\n",
       "    </tr>\n",
       "    <tr>\n",
       "      <th>14994</th>\n",
       "      <td>pos</td>\n",
       "    </tr>\n",
       "    <tr>\n",
       "      <th>14995</th>\n",
       "      <td>neg</td>\n",
       "    </tr>\n",
       "    <tr>\n",
       "      <th>14996</th>\n",
       "      <td>neg</td>\n",
       "    </tr>\n",
       "    <tr>\n",
       "      <th>14997</th>\n",
       "      <td>neg</td>\n",
       "    </tr>\n",
       "    <tr>\n",
       "      <th>14998</th>\n",
       "      <td>pos</td>\n",
       "    </tr>\n",
       "    <tr>\n",
       "      <th>14999</th>\n",
       "      <td>pos</td>\n",
       "    </tr>\n",
       "  </tbody>\n",
       "</table>\n",
       "<p>15000 rows × 1 columns</p>\n",
       "</div>"
      ],
      "text/plain": [
       "         0\n",
       "0      neg\n",
       "1      pos\n",
       "2      neg\n",
       "3      neg\n",
       "4      pos\n",
       "5      neg\n",
       "6      neg\n",
       "7      pos\n",
       "8      neg\n",
       "9      neg\n",
       "10     pos\n",
       "11     pos\n",
       "12     neg\n",
       "13     pos\n",
       "14     pos\n",
       "15     pos\n",
       "16     pos\n",
       "17     neg\n",
       "18     pos\n",
       "19     pos\n",
       "20     neg\n",
       "21     pos\n",
       "22     neg\n",
       "23     pos\n",
       "24     pos\n",
       "25     neg\n",
       "26     pos\n",
       "27     neg\n",
       "28     pos\n",
       "29     pos\n",
       "...    ...\n",
       "14970  pos\n",
       "14971  neg\n",
       "14972  neg\n",
       "14973  pos\n",
       "14974  neg\n",
       "14975  neg\n",
       "14976  pos\n",
       "14977  neg\n",
       "14978  pos\n",
       "14979  neg\n",
       "14980  pos\n",
       "14981  neg\n",
       "14982  neg\n",
       "14983  pos\n",
       "14984  pos\n",
       "14985  neg\n",
       "14986  neg\n",
       "14987  neg\n",
       "14988  pos\n",
       "14989  pos\n",
       "14990  neg\n",
       "14991  neg\n",
       "14992  pos\n",
       "14993  pos\n",
       "14994  pos\n",
       "14995  neg\n",
       "14996  neg\n",
       "14997  neg\n",
       "14998  pos\n",
       "14999  pos\n",
       "\n",
       "[15000 rows x 1 columns]"
      ]
     },
     "execution_count": 31,
     "metadata": {},
     "output_type": "execute_result"
    }
   ],
   "source": [
    "train_labels"
   ]
  },
  {
   "cell_type": "code",
   "execution_count": 29,
   "metadata": {},
   "outputs": [
    {
     "data": {
      "text/plain": [
       "array(['neg', 'neg', 'neg', ..., 'neg', 'pos', 'pos'], dtype=object)"
      ]
     },
     "execution_count": 29,
     "metadata": {},
     "output_type": "execute_result"
    }
   ],
   "source": [
    "y_pred"
   ]
  },
  {
   "cell_type": "code",
   "execution_count": 30,
   "metadata": {
    "colab": {},
    "colab_type": "code",
    "id": "XjH8vUgioxOX"
   },
   "outputs": [
    {
     "data": {
      "text/plain": [
       "0.8322666666666667"
      ]
     },
     "execution_count": 30,
     "metadata": {},
     "output_type": "execute_result"
    }
   ],
   "source": [
    "#train_labels=train_labels[0].replace(['neg','pos'],[0,1])\n",
    "accuracy_score(train_labels,y_pred)"
   ]
  },
  {
   "cell_type": "code",
   "execution_count": 0,
   "metadata": {
    "colab": {},
    "colab_type": "code",
    "id": "H0GI6OxTTBVr"
   },
   "outputs": [],
   "source": [
    "model.epochs=10"
   ]
  },
  {
   "cell_type": "code",
   "execution_count": 23,
   "metadata": {
    "colab": {
     "base_uri": "https://localhost:8080/",
     "height": 50
    },
    "colab_type": "code",
    "id": "z3yHNC35oxLY",
    "outputId": "335aa4d5-3a8d-4db6-b2b7-c7bf574c6e85"
   },
   "outputs": [
    {
     "name": "stdout",
     "output_type": "stream",
     "text": [
      "CPU times: user 3min 7s, sys: 3.05 s, total: 3min 10s\n",
      "Wall time: 1min 42s\n"
     ]
    }
   ],
   "source": [
    "%time model.train(train_gensim_data, total_examples=model.corpus_count, epochs=model.epochs) "
   ]
  },
  {
   "cell_type": "code",
   "execution_count": 0,
   "metadata": {
    "colab": {},
    "colab_type": "code",
    "id": "-NAfY_jn9678"
   },
   "outputs": [],
   "source": [
    "def vectors_creature(model,tokens_list:list):\n",
    "  vectors=[model.infer_vector(sentence) for sentence in tqdm(tokens_list) ]\n",
    "  return vectors"
   ]
  },
  {
   "cell_type": "code",
   "execution_count": 25,
   "metadata": {
    "colab": {
     "base_uri": "https://localhost:8080/",
     "height": 98
    },
    "colab_type": "code",
    "id": "EnvWRNI-oxIc",
    "outputId": "f2d55fde-58a4-4ff9-ea7d-7abd77f8ec6d"
   },
   "outputs": [
    {
     "name": "stderr",
     "output_type": "stream",
     "text": [
      "100%|██████████| 15000/15000 [01:44<00:00, 142.97it/s]\n",
      "100%|██████████| 10000/10000 [01:07<00:00, 147.16it/s]\n",
      "100%|██████████| 25000/25000 [02:46<00:00, 149.73it/s]\n",
      "100%|██████████| 2000/2000 [00:03<00:00, 648.35it/s]\n",
      "100%|██████████| 8599/8599 [00:13<00:00, 654.70it/s]\n"
     ]
    }
   ],
   "source": [
    "train_vectors=vectors_creature(model,data_train)\n",
    "dev_vectors=vectors_creature(model,data_dev)\n",
    "test_vectors=vectors_creature(model,data_test)\n",
    "dev_b_vectors=vectors_creature(model,data_dev_b)\n",
    "test_b_vectors=vectors_creature(model,data_test_b)"
   ]
  },
  {
   "cell_type": "code",
   "execution_count": 0,
   "metadata": {
    "colab": {},
    "colab_type": "code",
    "id": "Xax_phsRdktH"
   },
   "outputs": [],
   "source": [
    "import warnings\n",
    "warnings.simplefilter(\"ignore\")"
   ]
  },
  {
   "cell_type": "code",
   "execution_count": 0,
   "metadata": {
    "colab": {
     "base_uri": "https://localhost:8080/",
     "height": 261
    },
    "colab_type": "code",
    "id": "hmFf2IdLcz1I",
    "outputId": "f69b6ddc-6298-4c14-b7cd-cb061eed97a9"
   },
   "outputs": [
    {
     "data": {
      "text/plain": [
       "GridSearchCV(cv=5, error_score='raise-deprecating',\n",
       "             estimator=LogisticRegression(C=1.0, class_weight=None, dual=False,\n",
       "                                          fit_intercept=True,\n",
       "                                          intercept_scaling=1, l1_ratio=None,\n",
       "                                          max_iter=100, multi_class='warn',\n",
       "                                          n_jobs=None, penalty='l2',\n",
       "                                          random_state=None, solver='warn',\n",
       "                                          tol=0.0001, verbose=0,\n",
       "                                          warm_start=False),\n",
       "             iid='warn', n_jobs=None,\n",
       "             param_grid={'C': array([1.e-03, 1.e-02, 1.e-01, 1.e+00, 1.e+01, 1.e+02, 1.e+03]),\n",
       "                         'l1_ratio': array([0. , 0.1, 0.2, 0.3, 0.4, 0.5, 0.6, 0.7, 0.8, 0.9]),\n",
       "                         'penalty': ['l1', 'l2']},\n",
       "             pre_dispatch='2*n_jobs', refit=True, return_train_score=False,\n",
       "             scoring=None, verbose=0)"
      ]
     },
     "execution_count": 171,
     "metadata": {
      "tags": []
     },
     "output_type": "execute_result"
    }
   ],
   "source": [
    "#Just to fine tune model\n",
    "# from sklearn.model_selection import GridSearchCV\n",
    "# from sklearn.linear_model import LogisticRegression\n",
    "# grid={\"C\":np.logspace(-3,3,7), \"penalty\":[\"l1\",\"l2\"],'l1_ratio':np.arange(0,1,0.1)}# l1 lasso l2 ridge\n",
    "# logreg=LogisticRegression()\n",
    "# logreg_cv=GridSearchCV(logreg,grid,cv=5)\n",
    "# logreg_cv.fit(train_vectors,train_labels)"
   ]
  },
  {
   "cell_type": "code",
   "execution_count": 0,
   "metadata": {
    "colab": {
     "base_uri": "https://localhost:8080/",
     "height": 33
    },
    "colab_type": "code",
    "id": "Ic4r9gZ3dm_Y",
    "outputId": "f727476c-4fa2-431e-9704-b6f6638cad41"
   },
   "outputs": [
    {
     "data": {
      "text/plain": [
       "{'C': 0.01, 'l1_ratio': 0.0, 'penalty': 'l2'}"
      ]
     },
     "execution_count": 172,
     "metadata": {
      "tags": []
     },
     "output_type": "execute_result"
    }
   ],
   "source": [
    "# logreg_cv.best_params_"
   ]
  },
  {
   "cell_type": "code",
   "execution_count": 27,
   "metadata": {
    "colab": {
     "base_uri": "https://localhost:8080/",
     "height": 98
    },
    "colab_type": "code",
    "id": "y8C8Jsk6Jqe8",
    "outputId": "addbbc8d-0c19-4621-8198-840c648e07b5"
   },
   "outputs": [
    {
     "data": {
      "text/plain": [
       "LogisticRegression(C=0.01, class_weight=None, dual=False, fit_intercept=True,\n",
       "                   intercept_scaling=1, l1_ratio=0, max_iter=200,\n",
       "                   multi_class='warn', n_jobs=None, penalty='l2',\n",
       "                   random_state=42, solver='saga', tol=0.0001, verbose=0,\n",
       "                   warm_start=False)"
      ]
     },
     "execution_count": 27,
     "metadata": {
      "tags": []
     },
     "output_type": "execute_result"
    }
   ],
   "source": [
    "\n",
    "logreg = LogisticRegression(C=0.01,penalty='l2',max_iter=200,random_state=42,solver='saga',l1_ratio=0)\n",
    "logreg.fit(train_vectors,train_labels)"
   ]
  },
  {
   "cell_type": "code",
   "execution_count": 0,
   "metadata": {
    "colab": {
     "base_uri": "https://localhost:8080/",
     "height": 66
    },
    "colab_type": "code",
    "id": "nbxac-T_JqlV",
    "outputId": "97aad8a7-7b5f-4bc4-c057-91fab06af479"
   },
   "outputs": [
    {
     "name": "stdout",
     "output_type": "stream",
     "text": [
      "Train accuracy:  0.9257333333333333\n",
      "dev accuracy:  0.8346\n",
      "dev_b accuracy:  0.6375\n"
     ]
    }
   ],
   "source": [
    "pred_train = logreg.predict(train_vectors)\n",
    "pred_dev = logreg.predict(dev_vectors)\n",
    "pred_test = logreg.predict(test_vectors)\n",
    "pred_dev_b = logreg.predict(dev_b_vectors)\n",
    "pred_test_b = logreg.predict(test_b_vectors)\n",
    "print(\"Train accuracy: \", accuracy_score(pred_train, train_labels))\n",
    "print(\"dev accuracy: \", accuracy_score(pred_dev, dev_labels))\n",
    "print(\"dev_b accuracy: \", accuracy_score(pred_dev_b, dev_labels_b))"
   ]
  },
  {
   "cell_type": "code",
   "execution_count": 0,
   "metadata": {
    "colab": {
     "base_uri": "https://localhost:8080/",
     "height": 33
    },
    "colab_type": "code",
    "id": "6l96VgyrLPdD",
    "outputId": "3feac17a-1481-4cb3-b368-169c4f039e46"
   },
   "outputs": [
    {
     "name": "stderr",
     "output_type": "stream",
     "text": [
      "5it [00:04,  1.23it/s]\n"
     ]
    }
   ],
   "source": [
    "preds=[pred_train,pred_dev,pred_test,pred_dev_b,pred_test_b]\n",
    "\n",
    "result=to_df(preds)\n",
    "result.to_csv('file_sk_lr.tsv',index=False,header=False,sep='\\t')"
   ]
  },
  {
   "cell_type": "markdown",
   "metadata": {
    "colab_type": "text",
    "id": "tJH7QFoWCfsC"
   },
   "source": [
    "## 3. Research part"
   ]
  },
  {
   "cell_type": "markdown",
   "metadata": {
    "colab_type": "text",
    "id": "WMMXdmO1CfsE"
   },
   "source": [
    "### 3.1 Different embedding models\n",
    "\n",
    "Compare performance of [GloVe](http://nlp.stanford.edu/data/wordvecs/glove.6B.zip), [word2vec](https://drive.google.com/file/d/0B7XkCwpI5KDYNlNUTTlSS21pQmM/edit?usp=sharing) and [fastText](https://fasttext.cc/docs/en/english-vectors.html) models. Plot the results depending on the type of used embeddings. "
   ]
  },
  {
   "cell_type": "code",
   "execution_count": 28,
   "metadata": {
    "colab": {
     "base_uri": "https://localhost:8080/",
     "height": 98
    },
    "colab_type": "code",
    "id": "r2oteKIh6fua",
    "outputId": "3b999e89-da3a-4fb6-b71e-a71783abee26"
   },
   "outputs": [
    {
     "name": "stderr",
     "output_type": "stream",
     "text": [
      "100%|██████████| 4/4 [01:05<00:00, 16.51s/it]\n",
      "100%|██████████| 4/4 [00:43<00:00, 10.79s/it]\n",
      "100%|██████████| 4/4 [00:00<00:00,  4.99it/s]\n",
      "100%|██████████| 4/4 [01:45<00:00, 26.55s/it]\n",
      "100%|██████████| 4/4 [00:03<00:00,  1.20it/s]\n"
     ]
    }
   ],
   "source": [
    "glove_models=[glove_model_50,glove_model_100,glove_model_200,glove_model_300]\n",
    "train_doc_vecs=vector(train_tokens,glove_models)\n",
    "dev_doc_vecs=vector(dev_tokens,glove_models)\n",
    "dev_b_doc_vecs=vector(dev_b_tokens,glove_models)\n",
    "test_doc_vecs=vector(test_tokens,glove_models)\n",
    "test_b_doc_vecs=vector(test_b_tokens,glove_models)"
   ]
  },
  {
   "cell_type": "code",
   "execution_count": 0,
   "metadata": {
    "colab": {},
    "colab_type": "code",
    "id": "iLTdm_IFVK-S"
   },
   "outputs": [],
   "source": [
    "# from torchtext.vocab import Vectors\n",
    "# fast_text=Vectors('wiki-news-300d-1M.vec')\n",
    "fasttext = KeyedVectors.load_word2vec_format(\"wiki-news-300d-1M.vec\", binary=False)"
   ]
  },
  {
   "cell_type": "code",
   "execution_count": 0,
   "metadata": {
    "colab": {},
    "colab_type": "code",
    "id": "dxYC4uP5aC9R"
   },
   "outputs": [],
   "source": [
    "\n",
    "def vector_ft(tokens:list,glove_model):\n",
    "  doc_vecs=[]\n",
    "  for sentence in tqdm(tokens):\n",
    "    doc_vecs.append(sent_vec(sentence,glove_model))\n",
    "  return doc_vecs"
   ]
  },
  {
   "cell_type": "code",
   "execution_count": 31,
   "metadata": {
    "colab": {
     "base_uri": "https://localhost:8080/",
     "height": 180
    },
    "colab_type": "code",
    "id": "l9Mol4Zzf26a",
    "outputId": "d2bebd68-e247-4320-c3ba-be18c9dfa8d1"
   },
   "outputs": [
    {
     "name": "stderr",
     "output_type": "stream",
     "text": [
      "100%|██████████| 4/4 [01:05<00:00, 16.45s/it]\n",
      "100%|██████████| 4/4 [00:42<00:00, 10.64s/it]\n",
      "100%|██████████| 4/4 [00:00<00:00,  5.02it/s]\n",
      "100%|██████████| 4/4 [01:46<00:00, 26.68s/it]\n",
      "100%|██████████| 4/4 [00:03<00:00,  1.20it/s]\n",
      "100%|██████████| 15000/15000 [00:18<00:00, 793.29it/s]\n",
      "100%|██████████| 10000/10000 [00:12<00:00, 811.57it/s]\n",
      "100%|██████████| 2000/2000 [00:00<00:00, 9041.31it/s]\n",
      "100%|██████████| 25000/25000 [00:30<00:00, 810.87it/s]\n",
      "100%|██████████| 8599/8599 [00:00<00:00, 8924.31it/s]\n"
     ]
    }
   ],
   "source": [
    "train_doc_vecs=vector(train_tokens,glove_models)\n",
    "dev_doc_vecs=vector(dev_tokens,glove_models)\n",
    "dev_b_doc_vecs=vector(dev_b_tokens,glove_models)\n",
    "test_doc_vecs=vector(test_tokens,glove_models)\n",
    "test_b_doc_vecs=vector(test_b_tokens,glove_models)\n",
    "\n",
    "\n",
    "train_doc_vecs_ft=vector_ft(train_tokens,fasttext)\n",
    "dev_doc_vecs_ft=vector_ft(dev_tokens,fasttext)\n",
    "dev_b_doc_vecs_ft=vector_ft(dev_b_tokens,fasttext)\n",
    "test_doc_vecs_ft=vector_ft(test_tokens,fasttext)\n",
    "test_b_doc_vecs_ft=vector_ft(test_b_tokens,fasttext)"
   ]
  },
  {
   "cell_type": "code",
   "execution_count": 0,
   "metadata": {
    "colab": {},
    "colab_type": "code",
    "id": "d_0QqM8pjkbp"
   },
   "outputs": [],
   "source": [
    "train_tensors=[tensor_from_array(docs) for docs in train_doc_vecs]\n",
    "dev_tensors=[tensor_from_array(docs) for docs in dev_doc_vecs]\n",
    "dev_b_tensors=[tensor_from_array(docs) for docs in dev_b_doc_vecs]\n",
    "test_tensors=[tensor_from_array(docs) for docs in test_doc_vecs]\n",
    "test_b_tensors=[tensor_from_array(docs) for docs in test_b_doc_vecs]\n",
    "\n",
    "\n",
    "train_tensors_fast=tensor_from_array(train_doc_vecs_ft) \n",
    "dev_tensors_fast=tensor_from_array(dev_doc_vecs_ft) \n",
    "dev_b_tensors_fast=tensor_from_array(dev_b_doc_vecs_ft)\n",
    "test_tensors_fast=tensor_from_array(test_doc_vecs_ft) \n",
    "test_b_tensors_fast=tensor_from_array(test_b_doc_vecs_ft) "
   ]
  },
  {
   "cell_type": "code",
   "execution_count": 33,
   "metadata": {
    "colab": {
     "base_uri": "https://localhost:8080/",
     "height": 1000
    },
    "colab_type": "code",
    "id": "BcrFv3EJ_hLA",
    "outputId": "7f44d80c-677b-49ad-f9d1-2ca57b59117c"
   },
   "outputs": [
    {
     "name": "stdout",
     "output_type": "stream",
     "text": [
      "epoch:  0  accuracy:  0.6768666666666667  loss:  0.6438881\n",
      "epoch:  10  accuracy:  0.8130666666666667  loss:  0.44648254\n",
      "epoch:  20  accuracy:  0.8281333333333334  loss:  0.41076392\n",
      "epoch:  30  accuracy:  0.8319333333333334  loss:  0.3947455\n",
      "epoch:  40  accuracy:  0.8353333333333333  loss:  0.3862373\n",
      "epoch:  50  accuracy:  0.8386666666666667  loss:  0.38080475\n",
      "epoch:  60  accuracy:  0.8393333333333334  loss:  0.37672734\n",
      "epoch:  70  accuracy:  0.8401333333333333  loss:  0.3743268\n",
      "epoch:  80  accuracy:  0.8406  loss:  0.37192792\n",
      "epoch:  90  accuracy:  0.8412000000000001  loss:  0.37023225\n",
      "epoch:  100  accuracy:  0.8429333333333333  loss:  0.36885238\n",
      "epoch:  110  accuracy:  0.8430000000000001  loss:  0.36819622\n",
      "epoch:  120  accuracy:  0.8427333333333333  loss:  0.36700493\n",
      "epoch:  130  accuracy:  0.8448666666666668  loss:  0.36618143\n",
      "epoch:  140  accuracy:  0.8450666666666666  loss:  0.36560023\n",
      "epoch:  150  accuracy:  0.8448  loss:  0.36510688\n",
      "epoch:  160  accuracy:  0.8452  loss:  0.3645617\n",
      "epoch:  170  accuracy:  0.8462000000000001  loss:  0.36378434\n",
      "epoch:  180  accuracy:  0.8452666666666668  loss:  0.36383724\n",
      "epoch:  190  accuracy:  0.8460666666666666  loss:  0.36307892\n",
      "epoch:  200  accuracy:  0.8461333333333333  loss:  0.36320782\n",
      "epoch:  210  accuracy:  0.8458666666666668  loss:  0.36267534\n",
      "epoch:  220  accuracy:  0.8446666666666666  loss:  0.36214146\n",
      "epoch:  230  accuracy:  0.8470666666666666  loss:  0.36207005\n",
      "epoch:  240  accuracy:  0.8480666666666666  loss:  0.36174372\n",
      "epoch:  250  accuracy:  0.8467333333333332  loss:  0.36149505\n",
      "epoch:  260  accuracy:  0.8470666666666666  loss:  0.36117965\n",
      "epoch:  270  accuracy:  0.847  loss:  0.3610978\n",
      "epoch:  280  accuracy:  0.8471333333333334  loss:  0.36100885\n",
      "epoch:  290  accuracy:  0.8478666666666667  loss:  0.36070022\n",
      "epoch:  300  accuracy:  0.8465333333333334  loss:  0.36098635\n",
      "epoch:  310  accuracy:  0.8471333333333333  loss:  0.36062017\n",
      "epoch:  320  accuracy:  0.8486666666666667  loss:  0.36003453\n",
      "epoch:  330  accuracy:  0.8470000000000001  loss:  0.3602805\n",
      "epoch:  340  accuracy:  0.8486  loss:  0.36013004\n",
      "epoch:  350  accuracy:  0.8480000000000001  loss:  0.35996538\n",
      "epoch:  360  accuracy:  0.8488666666666667  loss:  0.36012888\n",
      "epoch:  370  accuracy:  0.8481333333333333  loss:  0.35961667\n",
      "epoch:  380  accuracy:  0.8480666666666667  loss:  0.35955077\n",
      "epoch:  390  accuracy:  0.8487333333333333  loss:  0.35995743\n",
      "epoch:  400  accuracy:  0.8480666666666667  loss:  0.35942936\n",
      "epoch:  410  accuracy:  0.8484666666666666  loss:  0.35924876\n",
      "epoch:  420  accuracy:  0.8491333333333334  loss:  0.3590613\n",
      "epoch:  430  accuracy:  0.8486666666666668  loss:  0.35899675\n",
      "epoch:  440  accuracy:  0.8481333333333333  loss:  0.35904247\n",
      "epoch:  450  accuracy:  0.8490666666666667  loss:  0.3590386\n",
      "epoch:  460  accuracy:  0.8483333333333334  loss:  0.35903648\n",
      "epoch:  470  accuracy:  0.8481333333333334  loss:  0.35915312\n",
      "epoch:  480  accuracy:  0.8491333333333333  loss:  0.3590047\n",
      "epoch:  490  accuracy:  0.8483999999999999  loss:  0.3586828\n",
      "epoch:  500  accuracy:  0.8492000000000001  loss:  0.35863128\n",
      "epoch:  510  accuracy:  0.8490000000000001  loss:  0.35845557\n",
      "epoch:  520  accuracy:  0.8484666666666666  loss:  0.35876775\n",
      "epoch:  530  accuracy:  0.8485333333333333  loss:  0.35860756\n",
      "epoch:  540  accuracy:  0.8484666666666666  loss:  0.35862732\n",
      "epoch:  550  accuracy:  0.8488666666666667  loss:  0.35857952\n",
      "epoch:  560  accuracy:  0.8482000000000001  loss:  0.35857707\n",
      "epoch:  570  accuracy:  0.8482666666666667  loss:  0.35847446\n",
      "epoch:  580  accuracy:  0.8488666666666668  loss:  0.35830408\n",
      "epoch:  590  accuracy:  0.8499333333333334  loss:  0.3580451\n",
      "epoch:  600  accuracy:  0.8488  loss:  0.35829997\n",
      "epoch:  610  accuracy:  0.8495333333333333  loss:  0.35823604\n",
      "epoch:  620  accuracy:  0.8490666666666666  loss:  0.35836416\n",
      "epoch:  630  accuracy:  0.8479333333333333  loss:  0.35831147\n",
      "epoch:  640  accuracy:  0.8490000000000001  loss:  0.3579473\n",
      "epoch:  650  accuracy:  0.8496  loss:  0.35775584\n",
      "epoch:  660  accuracy:  0.8486666666666668  loss:  0.35791376\n",
      "epoch:  670  accuracy:  0.8489333333333333  loss:  0.35803366\n",
      "epoch:  680  accuracy:  0.8498666666666667  loss:  0.35788804\n",
      "epoch:  690  accuracy:  0.8484666666666667  loss:  0.35778964\n",
      "epoch:  700  accuracy:  0.8492666666666667  loss:  0.35796097\n",
      "epoch:  710  accuracy:  0.8491333333333334  loss:  0.3578832\n",
      "epoch:  720  accuracy:  0.8500666666666667  loss:  0.35785645\n",
      "epoch:  730  accuracy:  0.8502666666666667  loss:  0.3576443\n",
      "epoch:  740  accuracy:  0.8482666666666666  loss:  0.35819778\n",
      "epoch:  750  accuracy:  0.8484666666666667  loss:  0.3577942\n",
      "epoch:  760  accuracy:  0.8493999999999999  loss:  0.3579393\n",
      "epoch:  770  accuracy:  0.8490000000000001  loss:  0.35767204\n",
      "epoch:  780  accuracy:  0.8489333333333334  loss:  0.35794422\n",
      "epoch:  790  accuracy:  0.8496  loss:  0.357372\n",
      "epoch:  800  accuracy:  0.8494  loss:  0.35768458\n",
      "epoch:  810  accuracy:  0.8479333333333334  loss:  0.35756904\n",
      "epoch:  820  accuracy:  0.8486666666666668  loss:  0.35764807\n",
      "epoch:  830  accuracy:  0.8502666666666667  loss:  0.35722774\n",
      "epoch:  840  accuracy:  0.8484666666666666  loss:  0.35743165\n",
      "epoch:  850  accuracy:  0.8490666666666667  loss:  0.3573845\n",
      "epoch:  860  accuracy:  0.8491333333333334  loss:  0.35751325\n",
      "epoch:  870  accuracy:  0.848  loss:  0.35756624\n",
      "epoch:  880  accuracy:  0.8492000000000001  loss:  0.3571107\n",
      "epoch:  890  accuracy:  0.8483333333333334  loss:  0.35780808\n",
      "epoch:  900  accuracy:  0.8484666666666666  loss:  0.35748115\n",
      "epoch:  910  accuracy:  0.8500666666666667  loss:  0.35694316\n",
      "epoch:  920  accuracy:  0.8496  loss:  0.35731226\n",
      "epoch:  930  accuracy:  0.8490666666666666  loss:  0.35728714\n",
      "epoch:  940  accuracy:  0.8488  loss:  0.35706794\n",
      "epoch:  950  accuracy:  0.8486666666666667  loss:  0.35726792\n",
      "epoch:  960  accuracy:  0.8482000000000002  loss:  0.35731837\n",
      "epoch:  970  accuracy:  0.8496666666666666  loss:  0.35710582\n",
      "epoch:  980  accuracy:  0.8493333333333334  loss:  0.35697824\n",
      "epoch:  990  accuracy:  0.8493333333333334  loss:  0.35715514\n",
      "accuracy train:  0.8490666666666666\n",
      "accuracy dev:  0.8349\n",
      "accuracy dev_b:  0.7485\n",
      "epoch:  0  accuracy:  0.6646666666666666  loss:  0.67628306\n",
      "epoch:  10  accuracy:  0.7993333333333333  loss:  0.51140136\n",
      "epoch:  20  accuracy:  0.8235333333333333  loss:  0.44847494\n",
      "epoch:  30  accuracy:  0.8364666666666667  loss:  0.4149002\n",
      "epoch:  40  accuracy:  0.8432000000000001  loss:  0.3939086\n",
      "epoch:  50  accuracy:  0.8489333333333333  loss:  0.37982318\n",
      "epoch:  60  accuracy:  0.8530666666666665  loss:  0.3699229\n",
      "epoch:  70  accuracy:  0.8542  loss:  0.36231583\n",
      "epoch:  80  accuracy:  0.8558  loss:  0.35629702\n",
      "epoch:  90  accuracy:  0.8583333333333333  loss:  0.3515948\n",
      "epoch:  100  accuracy:  0.8597333333333333  loss:  0.34752485\n",
      "epoch:  110  accuracy:  0.8609999999999999  loss:  0.34446308\n",
      "epoch:  120  accuracy:  0.8618666666666664  loss:  0.34162292\n",
      "epoch:  130  accuracy:  0.8608666666666667  loss:  0.33930856\n",
      "epoch:  140  accuracy:  0.8626666666666667  loss:  0.3372031\n",
      "epoch:  150  accuracy:  0.8632000000000001  loss:  0.3353306\n",
      "epoch:  160  accuracy:  0.8635333333333334  loss:  0.33385453\n",
      "epoch:  170  accuracy:  0.8649333333333334  loss:  0.33247533\n",
      "epoch:  180  accuracy:  0.8647333333333334  loss:  0.33124635\n",
      "epoch:  190  accuracy:  0.8660666666666667  loss:  0.33011132\n",
      "epoch:  200  accuracy:  0.8658  loss:  0.3289918\n",
      "epoch:  210  accuracy:  0.8670666666666667  loss:  0.32812417\n",
      "epoch:  220  accuracy:  0.8674000000000001  loss:  0.32706928\n",
      "epoch:  230  accuracy:  0.8661333333333334  loss:  0.32619715\n",
      "epoch:  240  accuracy:  0.8656666666666666  loss:  0.32550466\n",
      "epoch:  250  accuracy:  0.8660666666666669  loss:  0.32502434\n",
      "epoch:  260  accuracy:  0.8673333333333333  loss:  0.3241336\n",
      "epoch:  270  accuracy:  0.8671333333333333  loss:  0.3236028\n",
      "epoch:  280  accuracy:  0.8676666666666667  loss:  0.32311997\n",
      "epoch:  290  accuracy:  0.8672666666666667  loss:  0.32255876\n",
      "epoch:  300  accuracy:  0.8685333333333334  loss:  0.32201976\n",
      "epoch:  310  accuracy:  0.8671333333333333  loss:  0.32152376\n",
      "epoch:  320  accuracy:  0.8679333333333333  loss:  0.3212007\n",
      "epoch:  330  accuracy:  0.8678666666666667  loss:  0.32083145\n",
      "epoch:  340  accuracy:  0.8682666666666665  loss:  0.32032645\n",
      "epoch:  350  accuracy:  0.8691333333333333  loss:  0.31981167\n",
      "epoch:  360  accuracy:  0.8692666666666667  loss:  0.31959125\n",
      "epoch:  370  accuracy:  0.8684  loss:  0.3192939\n",
      "epoch:  380  accuracy:  0.8680666666666668  loss:  0.3190708\n",
      "epoch:  390  accuracy:  0.8687999999999999  loss:  0.31867743\n",
      "epoch:  400  accuracy:  0.8689333333333333  loss:  0.31830332\n",
      "epoch:  410  accuracy:  0.8694666666666667  loss:  0.31811056\n",
      "epoch:  420  accuracy:  0.8692  loss:  0.31798247\n",
      "epoch:  430  accuracy:  0.8694666666666666  loss:  0.31755716\n",
      "epoch:  440  accuracy:  0.8698  loss:  0.31739593\n",
      "epoch:  450  accuracy:  0.8706  loss:  0.31706437\n",
      "epoch:  460  accuracy:  0.8694000000000002  loss:  0.3169949\n",
      "epoch:  470  accuracy:  0.869  loss:  0.31657884\n",
      "epoch:  480  accuracy:  0.8702  loss:  0.31650755\n",
      "epoch:  490  accuracy:  0.8701333333333332  loss:  0.31628212\n",
      "epoch:  500  accuracy:  0.8694  loss:  0.31607553\n",
      "epoch:  510  accuracy:  0.87  loss:  0.31607\n",
      "epoch:  520  accuracy:  0.8704000000000001  loss:  0.3157325\n",
      "epoch:  530  accuracy:  0.8704666666666666  loss:  0.31552687\n",
      "epoch:  540  accuracy:  0.8702  loss:  0.31559208\n",
      "epoch:  550  accuracy:  0.8704666666666666  loss:  0.31522378\n",
      "epoch:  560  accuracy:  0.87  loss:  0.3151739\n",
      "epoch:  570  accuracy:  0.8704666666666666  loss:  0.31499398\n",
      "epoch:  580  accuracy:  0.8709333333333332  loss:  0.314891\n",
      "epoch:  590  accuracy:  0.8713333333333333  loss:  0.31470826\n",
      "epoch:  600  accuracy:  0.8711333333333334  loss:  0.31449234\n",
      "epoch:  610  accuracy:  0.8710666666666669  loss:  0.3145394\n",
      "epoch:  620  accuracy:  0.8710000000000002  loss:  0.31433913\n",
      "epoch:  630  accuracy:  0.8705333333333334  loss:  0.31417394\n",
      "epoch:  640  accuracy:  0.8705333333333333  loss:  0.31411895\n",
      "epoch:  650  accuracy:  0.8702666666666666  loss:  0.31397018\n",
      "epoch:  660  accuracy:  0.8722666666666669  loss:  0.31395268\n",
      "epoch:  670  accuracy:  0.8712000000000001  loss:  0.31372142\n",
      "epoch:  680  accuracy:  0.8703333333333334  loss:  0.31380868\n",
      "epoch:  690  accuracy:  0.8708  loss:  0.31363094\n",
      "epoch:  700  accuracy:  0.8708666666666667  loss:  0.3136002\n",
      "epoch:  710  accuracy:  0.8714666666666666  loss:  0.31349975\n",
      "epoch:  720  accuracy:  0.8708  loss:  0.31336492\n",
      "epoch:  730  accuracy:  0.8712666666666666  loss:  0.31347114\n",
      "epoch:  740  accuracy:  0.8712000000000001  loss:  0.31318596\n",
      "epoch:  750  accuracy:  0.871  loss:  0.31310064\n",
      "epoch:  760  accuracy:  0.8719333333333334  loss:  0.31320745\n",
      "epoch:  770  accuracy:  0.8711333333333332  loss:  0.31294906\n",
      "epoch:  780  accuracy:  0.8711333333333334  loss:  0.31287605\n",
      "epoch:  790  accuracy:  0.8714666666666666  loss:  0.31284237\n",
      "epoch:  800  accuracy:  0.8710000000000002  loss:  0.31275475\n",
      "epoch:  810  accuracy:  0.8712000000000001  loss:  0.3127227\n",
      "epoch:  820  accuracy:  0.8707333333333335  loss:  0.31267792\n",
      "epoch:  830  accuracy:  0.8709333333333332  loss:  0.31263837\n",
      "epoch:  840  accuracy:  0.8708  loss:  0.31252235\n",
      "epoch:  850  accuracy:  0.871  loss:  0.31244975\n",
      "epoch:  860  accuracy:  0.8719333333333332  loss:  0.31231335\n",
      "epoch:  870  accuracy:  0.8704000000000001  loss:  0.31235433\n",
      "epoch:  880  accuracy:  0.8709333333333332  loss:  0.3122506\n",
      "epoch:  890  accuracy:  0.8716666666666667  loss:  0.3122781\n",
      "epoch:  900  accuracy:  0.8713333333333333  loss:  0.31225505\n",
      "epoch:  910  accuracy:  0.8715333333333335  loss:  0.31220374\n",
      "epoch:  920  accuracy:  0.8705333333333334  loss:  0.3120366\n",
      "epoch:  930  accuracy:  0.8706  loss:  0.31206977\n",
      "epoch:  940  accuracy:  0.8709999999999999  loss:  0.31196913\n",
      "epoch:  950  accuracy:  0.8716  loss:  0.3119883\n",
      "epoch:  960  accuracy:  0.8713999999999998  loss:  0.3117737\n",
      "epoch:  970  accuracy:  0.8709333333333334  loss:  0.3119142\n",
      "epoch:  980  accuracy:  0.8711333333333334  loss:  0.3117685\n",
      "epoch:  990  accuracy:  0.8711333333333334  loss:  0.31182012\n",
      "accuracy train:  0.8707333333333334\n",
      "accuracy dev:  0.8574\n",
      "accuracy dev_b:  0.764\n"
     ]
    },
    {
     "data": {
      "image/png": "[encoded data removed]",
      "text/plain": [
       "<Figure size 864x432 with 2 Axes>"
      ]
     },
     "metadata": {
      "tags": []
     },
     "output_type": "display_data"
    }
   ],
   "source": [
    "from classifier_word_embeddings import train\n",
    "model = LogisticRegressionBow(300, 2)#.cuda()\n",
    "optimizer = optim.Adam(model.parameters(),lr=1e-3)\n",
    "loss_function = nn.CrossEntropyLoss()\n",
    "acc,losses=train(model,optimizer,loss_function,train_tensors[-1],train_labels=train_labels,batch_size=50,epochs=1000,accuracy_score=accuracy_score)\n",
    "\n",
    "\n",
    "preds_train=prediction(model,train_tensors[-1],50)\n",
    "preds_dev=prediction(model,dev_tensors[-1],50)\n",
    "preds_dev_b=prediction(model,dev_b_tensors[-1],50)\n",
    "preds_test=prediction(model,test_tensors[-1],50)\n",
    "preds_test_b=prediction(model,test_b_tensors[-1],50)\n",
    "print('accuracy train: ',accuracy_score(preds_train,train_labels))\n",
    "print('accuracy dev: ',accuracy_score(preds_dev,dev_labels))\n",
    "print('accuracy dev_b: ',accuracy_score(preds_dev_b,dev_labels_b))\n",
    "\n",
    "\n",
    "\n",
    "from classifier_word_embeddings import train\n",
    "model = LogisticRegressionBow(300, 2)#.cuda()\n",
    "optimizer = optim.Adam(model.parameters(),lr=1e-3)\n",
    "loss_function = nn.CrossEntropyLoss()\n",
    "acc_fast,losses_fast=train(model,optimizer,loss_function,train_tensors_fast,train_labels=train_labels,batch_size=50,epochs=1000,accuracy_score=accuracy_score)\n",
    "\n",
    "\n",
    "\n",
    "preds_train=prediction(model,train_tensors_fast,50)\n",
    "preds_dev=prediction(model,dev_tensors_fast,50)\n",
    "preds_dev_b=prediction(model,dev_b_tensors_fast,50)\n",
    "preds_test=prediction(model,test_tensors_fast,50)\n",
    "preds_test_b=prediction(model,test_b_tensors_fast,50)\n",
    "print('accuracy train: ',accuracy_score(preds_train,train_labels))\n",
    "print('accuracy dev: ',accuracy_score(preds_dev,dev_labels))\n",
    "print('accuracy dev_b: ',accuracy_score(preds_dev_b,dev_labels_b))\n",
    "\n",
    "\n",
    "plt.figure(figsize=(12, 6))\n",
    "plt.subplot(121)\n",
    "plt.title('accuracy')\n",
    "plt.plot(acc,label='accuracy glove')\n",
    "plt.plot(acc_fast,label='accuracy fasttext')\n",
    "plt.legend()\n",
    "plt.subplot(122)\n",
    "plt.semilogy(losses,label='loss glove')\n",
    "plt.semilogy(losses_fast,label='loss fasttext')\n",
    "plt.title('loss')\n",
    "plt.legend()\n",
    "plt.show()"
   ]
  },
  {
   "cell_type": "code",
   "execution_count": 0,
   "metadata": {
    "colab": {
     "base_uri": "https://localhost:8080/",
     "height": 131
    },
    "colab_type": "code",
    "id": "TwSWd7k7GSl8",
    "outputId": "23c7339a-9e35-44fd-9999-11acd710180e"
   },
   "outputs": [
    {
     "name": "stderr",
     "output_type": "stream",
     "text": [
      "\n",
      "0it [00:00, ?it/s]\u001b[A\n",
      "1it [00:01,  1.12s/it]\u001b[A\n",
      "2it [00:01,  1.01s/it]\u001b[A\n",
      "3it [00:05,  1.67s/it]\u001b[A\n",
      "4it [00:05,  1.22s/it]\u001b[A\n",
      "5it [00:05,  1.04s/it]\u001b[A\n",
      "\u001b[A"
     ]
    }
   ],
   "source": [
    "preds=[preds_train,preds_dev,preds_test,preds_dev_b,preds_test_b]\n",
    "result=to_df(preds)\n",
    "result.to_csv('file2_ff.tsv',index=False,header=False,sep='\\t')\n"
   ]
  },
  {
   "cell_type": "markdown",
   "metadata": {
    "colab_type": "text",
    "id": "sm6F2EndCfsH"
   },
   "source": [
    "### 3.2 Impact of dimensionality"
   ]
  },
  {
   "cell_type": "markdown",
   "metadata": {
    "colab_type": "text",
    "id": "pkAxigvRCfsJ"
   },
   "source": [
    "Train document embeddings from the Section 2.3 with different number of dimensions and plot dependence of classification accuracy from the number of dimensions."
   ]
  },
  {
   "cell_type": "code",
   "execution_count": 0,
   "metadata": {
    "colab": {
     "base_uri": "https://localhost:8080/",
     "height": 420
    },
    "colab_type": "code",
    "id": "4evZ5YKhfJod",
    "outputId": "c3956d12-aae4-4438-9bae-2b88b01c555d"
   },
   "outputs": [
    {
     "data": {
      "text/plain": [
       "Text(0.5, 0, 'dim')"
      ]
     },
     "execution_count": 48,
     "metadata": {
      "tags": []
     },
     "output_type": "execute_result"
    },
    {
     "data": {
      "image/png": "[encoded data removed]",
      "text/plain": [
       "<Figure size 720x432 with 1 Axes>"
      ]
     },
     "metadata": {
      "tags": []
     },
     "output_type": "display_data"
    }
   ],
   "source": [
    "n_dim=[10,50,100,500]\n",
    "train_accuracy=[]\n",
    "dev_accuracy=[]\n",
    "dev_b_accuracy=[]\n",
    "\n",
    "for comp in n_dim:\n",
    "  model = Doc2Vec(vector_size=comp, min_count=1, epochs=55)\n",
    "  model.build_vocab(train_gensim_data)\n",
    "  model.train(train_gensim_data, total_examples=model.corpus_count, epochs=model.epochs) \n",
    "  \n",
    "  train_vectors=vectors_creature(model,data_train)\n",
    "  dev_vectors=vectors_creature(model,data_dev)\n",
    "  dev_b_vectors=vectors_creature(model,data_dev_b)\n",
    " \n",
    "  logreg.fit(train_vectors,train_labels)\n",
    "  train_accuracy.append(accuracy_score(logreg.predict(train_vectors),train_labels))\n",
    "  dev_accuracy.append(accuracy_score(logreg.predict(dev_vectors),dev_labels))\n",
    "  dev_b_accuracy.append(accuracy_score(logreg.predict(dev_b_vectors),dev_labels_b))\n",
    "\n",
    "plt.figure(figsize=(10,6))\n",
    "plt.plot(train_accuracy,label='train accuracy')\n",
    "plt.plot(dev_accuracy,label='dev accuracy')\n",
    "plt.plot(dev_b_accuracy,label='dev-b accuracy')\n",
    "plt.title('accuracy depended from dims')\n",
    "plt.xticks(range(4),(10, 50, 100, 500))\n",
    "plt.legend()\n",
    "plt.ylabel('accuracy')\n",
    "plt.xlabel('dim')"
   ]
  },
  {
   "cell_type": "code",
   "execution_count": 0,
   "metadata": {
    "colab": {},
    "colab_type": "code",
    "id": "UpL5zVAWIU9B"
   },
   "outputs": [],
   "source": []
  }
 ],
 "metadata": {
  "accelerator": "GPU",
  "colab": {
   "name": "assignment3.ipynb",
   "provenance": []
  },
  "kernelspec": {
   "display_name": "Python 3",
   "language": "python",
   "name": "python3"
  },
  "language_info": {
   "codemirror_mode": {
    "name": "ipython",
    "version": 3
   },
   "file_extension": ".py",
   "mimetype": "text/x-python",
   "name": "python",
   "nbconvert_exporter": "python",
   "pygments_lexer": "ipython3",
   "version": "3.6.5"
  }
 },
 "nbformat": 4,
 "nbformat_minor": 1
}
