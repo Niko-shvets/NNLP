{
 "cells": [
  {
   "cell_type": "markdown",
   "metadata": {},
   "source": [
    "# Assignment 1. Sentiment analysis using Naive Bayes classifier"
   ]
  },
  {
   "cell_type": "markdown",
   "metadata": {},
   "source": [
    "Full instructions on completion of this assignment can be found in Canvas."
   ]
  },
  {
   "cell_type": "markdown",
   "metadata": {},
   "source": [
    "## 1. Theoretical part"
   ]
  },
  {
   "cell_type": "markdown",
   "metadata": {},
   "source": [
    "### Naive Bayes Classifier, the Bernoulli model\n",
    "\n",
    "Let $V$ be a set of words $\\{v_1 ,v_2 ,...,v_{|V|} \\}$ (dictionary). In the Bernoulli model for each class $c_j$ we look at random $|V|$-dimentional variable ($\\beta_{1j}, \\beta_{2j}, ..., \\beta_{|V|j}$) with independent components. Component $\\beta_i$ corresponds to $v_i$ word in the dictionary and has Bernoulli distribution with success probability $s_{ij}$. In other words, for each class $c_j$ we have our own set of $|V|$ asymmetrical coins.\n",
    "\n",
    "In order to generate a document (words collection) we need to flip all these coins and choose those words from the dictionary that appeared with \"heads\". \n",
    "\n",
    "Documents that differ only with the word order or/and frequencies should be considered equal.\n",
    "\n",
    "In each of the following questions write the formula in the **general form** first, then its **estimation on the train set** using **additive smoothing** (Laplace smoothing).\n",
    "\n",
    "a) Find $P(v_i \\in d | c_j)$ -- probability to see the word $v_i$ from the dictionary $V$ in a random document of $c_j$ class\n",
    "\n",
    "b) Find $P(d=(k_1,k_2,...,k_{|V|}) | c_j)$ – probability of document $d$ from class $c_j$ to comprise $k_1, k_2, ..., k_{|V|}$ entries of words $v_1, v_2, ..., v_{|V|}$. Use the naive assumption that the features are independent.\n",
    "\n",
    "\n",
    "c) Find $P(c_j|d)$ -- probability that document $d$ belongs to class $c_j$. Use Bayes’ rule.\n",
    "\n",
    "d) Which class $c_j$ will be assigned to document $d$, given the $P(c_j)$ and $P(d|c_j)$? How to evaluate the error probability?"
   ]
  },
  {
   "cell_type": "markdown",
   "metadata": {},
   "source": [
    "a)$P(c_j|d)=\\{0,1\\}$\n",
    "so\n",
    "$P(v_i \\in d | c_j)=\\frac{\\sum^{|D|}_{t=1}\\beta_{i,t}P(c_j|d)}{\\sum^{|D|}_{t=1}P(c_j|d)}$\n",
    "\n",
    "with Laplace smoothing\n",
    "\n",
    "$P(v_i \\in d | c_j)=\\frac{1+\\sum^{|D|}_{t=1}\\beta_{i,t}P(c_j|d)}{2+\\sum^{|D|}{t=1}P(c_j|d)}$\n",
    "\n",
    "b) $P(v_i \\in d | c_j)=\\prod^{|V|}_{k=1}\\beta_{ik}P(v_k|c_j)+(1-\\beta_{ik}(1-P(v_k|c_j)))$\n",
    "\n",
    "c) Bayes rule is $frac{P(c_j)P(d_i|cj)}{P(d_i)}$ then\n",
    "\n",
    "$P(c_j|d_i)=P(c_j)P(d_i|cj)$\n",
    "\n",
    "d)\n",
    "$class=argmax_{c\\in C}P(c|d)=argmax_{c\\in C}P(c)P(d|c)$\n",
    "\n",
    "and $P(c)$ is aprior probability $c_j$ it's equal to $\\frac{n_{c_j}}{n}$ where $n_j$ number of docs of j class and n is total number of docs"
   ]
  },
  {
   "cell_type": "markdown",
   "metadata": {},
   "source": [
    "### Multinomial Naive Bayes classifier\n",
    "For each class $c_j$ we consider a random variable $W$ with multinominal distribution $Mult(r_{1j} ,..., r_{|V|j})$ (a dice with $|V|$ faces, probability of $i^{th}$ face is $r_{ij}$) and a random variable $N$ with the $P(N)$ distribution, $N \\in [1, \\infty)$.\n",
    "\n",
    "For each document we first sample its length $n\\sim P(N)$ than we sample $n$ times each word $w\\sim Mutl(r_{1j},..., r_{|V|j} )$: $n$ times we roll the unsymmetrical dice with $V$ faces. \n",
    "\n",
    "\n",
    "We assume that document length does not depend on class: \n",
    "$$\n",
    "P(N|c_j )=P(N)\n",
    "$$\n",
    "\n",
    "In this case we may ignore the length as well as the document probability $P(d)$. Documents that differ only with the word order are considered equal\n",
    "\n",
    "Questions a)–d): same as for the Bernoulli model"
   ]
  },
  {
   "cell_type": "markdown",
   "metadata": {},
   "source": [
    "a)$P(c_j|d)=\\{0,1\\}$\n",
    "so\n",
    "$P(w_i \\in d | c_j)=\\frac{\\sum^{|D|}_{t=1}\\beta_{i,t}P(c_j|d)}{\\sum^{|D|}_{t=1}P(c_j|d)}$\n",
    "\n",
    "with Laplace smoothing\n",
    "\n",
    "$P(w_i \\in d | c_j)=\\frac{1+\\sum_{i=1}^{|D|}r_{ki}p(c_j|d_i)}{|V|+\\sum^{|D|}_{i=1}P(c_j|d)}$\n",
    "\n",
    "b)$P(w_i \\in d | c_j)=\\frac{|N_i|!}{\\prod_{k=1}^{|V|}N_{ik}!}\\prod_{k=1}^|V|P(w_k|c_j)$\n",
    "\n",
    "c) $log(P(c_j|d_i))=log(P(c_j))+\\sum_{k=1}^{|V|}N_{ik}log(P(w_i|c_j))$\n",
    "\n",
    "d)$class=argmax_{c\\in C}log(P(c))+log(P(d|c))$"
   ]
  },
  {
   "cell_type": "markdown",
   "metadata": {},
   "source": [
    "## 2. Practical part"
   ]
  },
  {
   "cell_type": "markdown",
   "metadata": {},
   "source": [
    "_**NB**: Classifiers should be **compatible with python 3.7** and **independent of third-party (non-standard) libraries**. We recommend to install Anaconda and to create an environment, containing python 3.7 only:_"
   ]
  },
  {
   "cell_type": "code",
   "execution_count": null,
   "metadata": {},
   "outputs": [],
   "source": [
    "!conda create -n a1 python=3.7 --yes"
   ]
  },
  {
   "cell_type": "code",
   "execution_count": 1,
   "metadata": {},
   "outputs": [
    {
     "name": "stderr",
     "output_type": "stream",
     "text": [
      "\"source\" ­Ґ пў«пҐвбп ў­гваҐ­­Ґ© Ё«Ё ў­Ґи­Ґ©\n",
      "Є®¬ ­¤®©, ЁбЇ®«­пҐ¬®© Їа®Ја ¬¬®© Ё«Ё Ї ЄҐв­л¬ д ©«®¬.\n"
     ]
    }
   ],
   "source": [
    "!source activate a1"
   ]
  },
  {
   "cell_type": "markdown",
   "metadata": {},
   "source": [
    "Implement Bernoulli Naive Bayes and Multinomial Naive Bayes classifiers. Evaluate them on FILIMDB Dataset ([http://github.com/slangtech/filimdb_evaluation](http://github.com/slangtech/filimdb\\_evaluation)). Use accuracy to compare their performance on train / dev / test sets."
   ]
  },
  {
   "cell_type": "code",
   "execution_count": 2,
   "metadata": {},
   "outputs": [],
   "source": [
    "import pandas as pd\n",
    "from tqdm import tqdm\n",
    "from sklearn.metrics import accuracy_score\n",
    "import numpy as np\n",
    "from collections import Counter, defaultdict\n",
    "import codecs\n",
    "import matplotlib.pyplot as plt\n",
    "import re\n",
    "import seaborn as sns\n",
    "import string\n",
    "from time import time\n",
    "%matplotlib inline"
   ]
  },
  {
   "cell_type": "code",
   "execution_count": 3,
   "metadata": {},
   "outputs": [],
   "source": [
    "#for read files\n",
    "def text_readers(path):\n",
    "    file=codecs.open(path,'r','utf_8_sig')\n",
    "    text=file.read()\n",
    "    file.close()\n",
    "    text=text.split('\\n')\n",
    "    text=text[:-1]\n",
    "    return text"
   ]
  },
  {
   "cell_type": "code",
   "execution_count": 4,
   "metadata": {},
   "outputs": [],
   "source": [
    "train_labels=pd.read_csv('FILIMDB/train.labels',header=None)\n",
    "dev_labels=pd.read_csv('FILIMDB/dev.labels',header=None)\n",
    "dev_labels_b=pd.read_csv('FILIMDB/dev-b.labels',header=None)"
   ]
  },
  {
   "cell_type": "code",
   "execution_count": 5,
   "metadata": {},
   "outputs": [],
   "source": [
    "train=text_readers('FILIMDB/train.texts')\n",
    "dev=text_readers('FILIMDB/dev.texts')\n",
    "test=text_readers('FILIMDB/test.texts')\n",
    "dev_b=text_readers('FILIMDB/dev-b.texts')\n",
    "test_b=text_readers('FILIMDB/test-b.texts')"
   ]
  },
  {
   "cell_type": "markdown",
   "metadata": {},
   "source": [
    "1. Split train data into two lists: positives and negative reviews. What is the min/max/avg/median length of negative reviews?"
   ]
  },
  {
   "cell_type": "code",
   "execution_count": 6,
   "metadata": {},
   "outputs": [
    {
     "name": "stdout",
     "output_type": "stream",
     "text": [
      "(array(['neg', 'pos'], dtype=object), array([7480, 7520], dtype=int64))\n"
     ]
    }
   ],
   "source": [
    "#separeted by negative and positive reviews\n",
    "print(np.unique(train_labels,return_counts=True))\n",
    "separated = [[x for x, t in zip(np.array(train), np.array(train_labels)) if t == c] for c in np.unique(train_labels)]\n",
    "negative_length=[len(i) for i in separated[0]]"
   ]
  },
  {
   "cell_type": "code",
   "execution_count": 7,
   "metadata": {},
   "outputs": [
    {
     "name": "stdout",
     "output_type": "stream",
     "text": [
      "min:  52 max:  8969 avg:  1316.3576203208556 median:  981.0\n"
     ]
    }
   ],
   "source": [
    "minimum_length=np.min(negative_length)\n",
    "maximum_length=np.max(negative_length)\n",
    "avg_length=np.mean(negative_length)\n",
    "median_length=np.median(negative_length)\n",
    "print('min: ',minimum_length,'max: ',maximum_length,'avg: ',avg_length,'median: ',median_length)"
   ]
  },
  {
   "cell_type": "markdown",
   "metadata": {},
   "source": [
    "2. Preprocess the data. Convert texts to lowercase, surround non-alphanumeric symbols with spaces. \n",
    "\n",
    "_(Be careful: you may come across non-latin characters, e.g. **é** in the word \"cliché\". However, keeping this word is quite beneficial: word \"cliché\" serves as a good feature for negative reviews)._"
   ]
  },
  {
   "cell_type": "code",
   "execution_count": 8,
   "metadata": {},
   "outputs": [],
   "source": [
    "#function for surround non-alphanumeric symbols with spaces\n",
    "def surround_non_symbols(word):\n",
    "    new_word=''\n",
    "    list_letters=list(word)    \n",
    "    for symbol in list_letters:\n",
    "        if symbol in set(string.punctuation):\n",
    "            symbol=' '+symbol+' '\n",
    "        else:\n",
    "            symbol=symbol\n",
    "        new_word+=symbol\n",
    "    return new_word\n",
    "    "
   ]
  },
  {
   "cell_type": "code",
   "execution_count": 9,
   "metadata": {},
   "outputs": [],
   "source": [
    "#preprocessing function,make letters lower, also can delete punktuations an other symbols\n",
    "translator = str.maketrans('', '', string.punctuation)\n",
    "def preprocess_text(Text,punct=False,figures=False):\n",
    "    result=[]\n",
    "    for sentense in Text:\n",
    "        string=(sentense.lower())\n",
    "        string = \" \".join([surround_non_symbols(word) for word in string.split()])\n",
    "        clear_sentence=\" \".join(string.split())\n",
    "        if punct==True:\n",
    "            clear_sentence=clear_sentence.translate(translator)\n",
    "        if figures==True:\n",
    "            clear_sentence=re.sub(r'\\d+', '', clear_sentence)\n",
    "        result.append(clear_sentence)\n",
    "    return result\n"
   ]
  },
  {
   "cell_type": "code",
   "execution_count": 10,
   "metadata": {},
   "outputs": [],
   "source": [
    "preprocessed_train = preprocess_text(train,False,False)"
   ]
  },
  {
   "cell_type": "markdown",
   "metadata": {},
   "source": [
    "## Before"
   ]
  },
  {
   "cell_type": "code",
   "execution_count": 11,
   "metadata": {},
   "outputs": [
    {
     "data": {
      "text/plain": [
       "\"This movie is traditional bollywood fare as far as the star power, sentimentality and love triangle of emotions. What really bothered me about this movie was the makers' absurd notion of surrogate mother. A whore who conceives a child with someone after have sex with the man (of the family desiring a child) is not a surrogate mother. Neither is she a good candidate for a surrogate mother. I have seen Indian movies and television shows that made 10 to 15 years ago that dealt with this issue more intelligently. The whole concept of the movie is ridiculous and absolutely implausible. I realize that most bollywood movies aren't meant to be plausible, but they don't pretend to be either. This movie wants us to emote along with the characters, but this can't done with such a ridiculous, contrived conflict. I would have expected better from Abbas and Mustan.\""
      ]
     },
     "execution_count": 11,
     "metadata": {},
     "output_type": "execute_result"
    }
   ],
   "source": [
    "train[25]"
   ]
  },
  {
   "cell_type": "markdown",
   "metadata": {},
   "source": [
    "## After"
   ]
  },
  {
   "cell_type": "code",
   "execution_count": 12,
   "metadata": {},
   "outputs": [
    {
     "data": {
      "text/plain": [
       "\"this movie is traditional bollywood fare as far as the star power , sentimentality and love triangle of emotions . what really bothered me about this movie was the makers ' absurd notion of surrogate mother . a whore who conceives a child with someone after have sex with the man ( of the family desiring a child ) is not a surrogate mother . neither is she a good candidate for a surrogate mother . i have seen indian movies and television shows that made 10 to 15 years ago that dealt with this issue more intelligently . the whole concept of the movie is ridiculous and absolutely implausible . i realize that most bollywood movies aren ' t meant to be plausible , but they don ' t pretend to be either . this movie wants us to emote along with the characters , but this can ' t done with such a ridiculous , contrived conflict . i would have expected better from abbas and mustan .\""
      ]
     },
     "execution_count": 12,
     "metadata": {},
     "output_type": "execute_result"
    }
   ],
   "source": [
    "preprocessed_train[25]"
   ]
  },
  {
   "cell_type": "code",
   "execution_count": 13,
   "metadata": {},
   "outputs": [],
   "source": [
    "#Now repeat preprocessing in order to delete punctuation and etc.\n",
    "# 1st iteration of preprocessing just to show for task with spaces around non-alphabit symbols\n",
    "preprocessed_train = preprocess_text(train,True,False)\n",
    "preprocessed_dev = preprocess_text(dev,True,False)\n",
    "preprocessed_dev_b = preprocess_text(dev_b,True,False)\n",
    "preprocessed_test = preprocess_text(test,True,False) \n",
    "preprocessed_test_b = preprocess_text(test_b,True,False)\n",
    "preprocessed_negative=preprocess_text(separated[0],True,False)\n",
    "preprocessed_positive=preprocess_text(separated[1],True,False)"
   ]
  },
  {
   "cell_type": "markdown",
   "metadata": {},
   "source": [
    " 3. Tokenization step: reviews should be stored as lists of tokens ( tokens = words, numbers, punctuation). \n",
    "\n",
    "_NB: if tokenization is performed correctly, punctuation won't be adjacent to previous words. Moreover, place tokenization and preprocessing steps into separate functions (to be reused for test data preprocessing). Why is it important to preprocess both train and test data equally?_"
   ]
  },
  {
   "cell_type": "markdown",
   "metadata": {},
   "source": [
    "#### Answer\n",
    "\n",
    "it is importand make equal preprocessing for train and predict data in order to all features which were found in train data can be found in test. If we use different preprocessing, then we will have different features and etc. "
   ]
  },
  {
   "cell_type": "code",
   "execution_count": 14,
   "metadata": {},
   "outputs": [],
   "source": [
    "#function for tokenization\n",
    "def tokenization(data):\n",
    "    data_tok =[line.split() for line in data]\n",
    "    return data_tok\n",
    "train_tokens=tokenization(preprocessed_train)\n",
    "dev_tokens=tokenization(preprocessed_dev)\n",
    "dev_b_tokens=tokenization(preprocessed_dev_b)\n",
    "test_tokens=tokenization(preprocessed_test)\n",
    "test_b_tokens=tokenization(preprocessed_test_b)\n",
    "negative_tokens=tokenization(preprocessed_negative)\n",
    "positive_tokens=tokenization(preprocessed_positive)"
   ]
  },
  {
   "cell_type": "markdown",
   "metadata": {},
   "source": [
    "4. Create two python dictionaries (words to frequencies) for positive and negative reviews, print their 15 most common words. \n",
    "\n",
    "Find 15 words with max and min Bayes weigths. Print both words and weights. Naive Bayes weight is equal to \n",
    "$$\n",
    "log (\\frac{P(w|pos)}{P(w|neg)}).$$\n"
   ]
  },
  {
   "cell_type": "code",
   "execution_count": 15,
   "metadata": {},
   "outputs": [],
   "source": [
    "#My custom stopwords\n",
    "stopWords=[\"i\", \"me\", \"my\", \"myself\", \"we\", \"our\", \"ours\", \"ourselves\", \"you\", \"your\", \"yours\", \"yourself\", \"yourselves\", \"he\", \"him\", \"his\", \"himself\", \"she\", \"her\", \"hers\", \"herself\", \"it\", \"its\", \"itself\", \"they\", \"them\", \"their\", \"theirs\", \"themselves\", \"what\", \"which\", \"who\", \"whom\", \"this\", \"that\", \"these\", \"those\", \"am\", \"is\", \"are\", \"was\", \"were\", \"be\", \"been\", \"being\", \"have\", \"has\", \"had\", \"having\", \"do\", \"does\", \"did\", \"doing\", \"a\", \"an\", \"the\", \"and\", \"but\", \"if\", \"or\", \"because\", \"as\", \"until\", \"while\", \"of\", \"at\", \"by\", \"for\", \"with\", \"about\", \"against\", \"between\", \"into\", \"through\", \"during\", \"before\", \"after\", \"above\", \"below\", \"to\", \"from\", \"up\", \"down\", \"in\", \"out\", \"on\", \"off\", \"over\", \"under\", \"again\", \"further\", \"then\", \"once\", \"here\", \"there\", \"when\", \"where\", \"why\", \"how\", \"all\", \"any\", \"both\", \"each\", \"few\", \"more\", \"most\", \"other\", \"some\", \"such\", \"no\", \"nor\", \"not\", \"only\", \"own\", \"same\", \"so\", \"than\", \"too\", \"very\", \"s\", \"t\", \"can\", \"will\", \"just\", \"don\", \"should\", \"now\"]\n",
    "stopWords+=['br','\\x00','\\x01','XYZ','\\x00','\\x10']\n",
    "\n",
    "def removeStopwords(wordlist, stopwords):\n",
    "    return [w for w in (wordlist) if w not in stopwords]"
   ]
  },
  {
   "cell_type": "code",
   "execution_count": 16,
   "metadata": {},
   "outputs": [
    {
     "name": "stderr",
     "output_type": "stream",
     "text": [
      "100%|████████████████████████████████████████████████████████████████████████████| 7480/7480 [00:05<00:00, 1489.07it/s]\n",
      "100%|████████████████████████████████████████████████████████████████████████████| 7520/7520 [00:05<00:00, 1304.55it/s]\n",
      "100%|██████████████████████████████████████████████████████████████████████████| 15000/15000 [00:12<00:00, 1185.32it/s]\n",
      "100%|██████████████████████████████████████████████████████████████████████████| 25000/25000 [00:17<00:00, 1405.17it/s]\n",
      "100%|██████████████████████████████████████████████████████████████████████████| 10000/10000 [00:05<00:00, 1676.87it/s]\n",
      "100%|███████████████████████████████████████████████████████████████████████████| 8599/8599 [00:00<00:00, 14069.95it/s]\n",
      "100%|███████████████████████████████████████████████████████████████████████████| 2000/2000 [00:00<00:00, 14810.92it/s]\n"
     ]
    }
   ],
   "source": [
    "negative_words=[removeStopwords(sentences,stopWords) for sentences in tqdm(negative_tokens) ]\n",
    "positive_words=[removeStopwords(sentences,stopWords) for sentences in tqdm(positive_tokens) ]\n",
    "train_words=[removeStopwords(sentences,stopWords) for sentences in tqdm(train_tokens) ]\n",
    "test_words=[removeStopwords(sentences,stopWords) for sentences in tqdm(test_tokens) ]\n",
    "dev_words=[removeStopwords(sentences,stopWords) for sentences in tqdm(dev_tokens) ]\n",
    "test_words_b=[removeStopwords(sentences,stopWords) for sentences in tqdm(test_b_tokens) ]\n",
    "dev_words_b=[removeStopwords(sentences,stopWords) for sentences in tqdm(dev_b_tokens) ]"
   ]
  },
  {
   "cell_type": "code",
   "execution_count": 17,
   "metadata": {},
   "outputs": [],
   "source": [
    "def vocabular_creator(tokens,NB,smoothing,min_cnt):\n",
    "    dictionary=defaultdict(lambda: smoothing)\n",
    "    #caunted only 1 token appearence in sentence for Bernulli\n",
    "    if NB=='Bernully':\n",
    "        for sentences in tokens:\n",
    "            for token in set(sentences):\n",
    "                dictionary[token]+=1\n",
    "    #caunted only all token appearence in sentence for Multinomial\n",
    "    if NB=='Multinomial':\n",
    "        for sentences in tokens:\n",
    "            for token in sentences:\n",
    "                dictionary[token]+=1\n",
    "    new_dict = {k: v for k, v in dictionary.items() if v >= min_cnt}\n",
    "    new_dict=defaultdict(lambda:smoothing,new_dict)\n",
    "    return new_dict\n",
    "    "
   ]
  },
  {
   "cell_type": "code",
   "execution_count": 18,
   "metadata": {},
   "outputs": [],
   "source": [
    "#vocabular creations for models\n",
    "dictionary_Bernully_neg=vocabular_creator(negative_words,NB='Bernully',smoothing=1,min_cnt=0)\n",
    "dictionary_Bernully_pos=vocabular_creator(positive_words,NB='Bernully',smoothing=1,min_cnt=0)\n",
    "\n",
    "dictionary_Multinomial_neg=vocabular_creator(negative_words,NB='Multinomial',smoothing=1,min_cnt=0)\n",
    "dictionary_Multinomial_pos=vocabular_creator(positive_words,NB='Multinomial',smoothing=1,min_cnt=0)\n"
   ]
  },
  {
   "cell_type": "code",
   "execution_count": 19,
   "metadata": {},
   "outputs": [],
   "source": [
    "# Sorting dictionaries\n",
    "sorted_neg = sorted(dictionary_Multinomial_neg.items(), key=lambda kv: kv[1])\n",
    "sorted_pos = sorted(dictionary_Multinomial_pos.items(), key=lambda kv: kv[1])\n"
   ]
  },
  {
   "cell_type": "code",
   "execution_count": 20,
   "metadata": {},
   "outputs": [
    {
     "data": {
      "text/plain": [
       "[('film', 12759),\n",
       " ('movie', 11716),\n",
       " ('one', 8183),\n",
       " ('like', 5420),\n",
       " ('good', 4692),\n",
       " ('story', 4190),\n",
       " ('well', 3966),\n",
       " ('time', 3910),\n",
       " ('great', 3900),\n",
       " ('see', 3656),\n",
       " ('also', 3349),\n",
       " ('really', 3313),\n",
       " ('would', 3286),\n",
       " ('even', 3059),\n",
       " ('first', 2885)]"
      ]
     },
     "execution_count": 20,
     "metadata": {},
     "output_type": "execute_result"
    }
   ],
   "source": [
    "sorted_pos[::-1][:15]"
   ]
  },
  {
   "cell_type": "code",
   "execution_count": 21,
   "metadata": {},
   "outputs": [
    {
     "data": {
      "text/plain": [
       "[('movie', 14840),\n",
       " ('film', 11734),\n",
       " ('one', 8019),\n",
       " ('like', 6799),\n",
       " ('even', 4607),\n",
       " ('bad', 4457),\n",
       " ('good', 4447),\n",
       " ('would', 4324),\n",
       " ('time', 3792),\n",
       " ('really', 3655),\n",
       " ('see', 3268),\n",
       " ('story', 3109),\n",
       " ('much', 3056),\n",
       " ('get', 2988),\n",
       " ('people', 2923)]"
      ]
     },
     "execution_count": 21,
     "metadata": {},
     "output_type": "execute_result"
    }
   ],
   "source": [
    "sorted_neg[::-1][:15]"
   ]
  },
  {
   "cell_type": "code",
   "execution_count": 22,
   "metadata": {},
   "outputs": [],
   "source": [
    "Dataframe=pd.DataFrame({'positive_dict':pd.Series(dictionary_Multinomial_pos),'negative_dict':pd.Series(dictionary_Multinomial_neg)})\n",
    "Dataframe=Dataframe.fillna(1)#for regulariztion, in oeder to avoid divizion by zero\n",
    "feature_prob_ = np.array(Dataframe) / np.array(Dataframe).sum(axis=1)[np.newaxis].T"
   ]
  },
  {
   "cell_type": "code",
   "execution_count": 23,
   "metadata": {},
   "outputs": [
    {
     "data": {
      "text/html": [
       "<div>\n",
       "<style scoped>\n",
       "    .dataframe tbody tr th:only-of-type {\n",
       "        vertical-align: middle;\n",
       "    }\n",
       "\n",
       "    .dataframe tbody tr th {\n",
       "        vertical-align: top;\n",
       "    }\n",
       "\n",
       "    .dataframe thead th {\n",
       "        text-align: right;\n",
       "    }\n",
       "</style>\n",
       "<table border=\"1\" class=\"dataframe\">\n",
       "  <thead>\n",
       "    <tr style=\"text-align: right;\">\n",
       "      <th></th>\n",
       "      <th>positive_dict</th>\n",
       "      <th>negative_dict</th>\n",
       "      <th>Byes_weight</th>\n",
       "    </tr>\n",
       "  </thead>\n",
       "  <tbody>\n",
       "    <tr>\n",
       "      <th>antwone</th>\n",
       "      <td>79.0</td>\n",
       "      <td>1.0</td>\n",
       "      <td>4.369448</td>\n",
       "    </tr>\n",
       "    <tr>\n",
       "      <th>edie</th>\n",
       "      <td>78.0</td>\n",
       "      <td>1.0</td>\n",
       "      <td>4.356709</td>\n",
       "    </tr>\n",
       "    <tr>\n",
       "      <th>paulie</th>\n",
       "      <td>73.0</td>\n",
       "      <td>1.0</td>\n",
       "      <td>4.290459</td>\n",
       "    </tr>\n",
       "    <tr>\n",
       "      <th>mildred</th>\n",
       "      <td>66.0</td>\n",
       "      <td>1.0</td>\n",
       "      <td>4.189655</td>\n",
       "    </tr>\n",
       "    <tr>\n",
       "      <th>gundam</th>\n",
       "      <td>63.0</td>\n",
       "      <td>1.0</td>\n",
       "      <td>4.143135</td>\n",
       "    </tr>\n",
       "    <tr>\n",
       "      <th>biko</th>\n",
       "      <td>46.0</td>\n",
       "      <td>1.0</td>\n",
       "      <td>3.828641</td>\n",
       "    </tr>\n",
       "    <tr>\n",
       "      <th>din</th>\n",
       "      <td>44.0</td>\n",
       "      <td>1.0</td>\n",
       "      <td>3.784190</td>\n",
       "    </tr>\n",
       "    <tr>\n",
       "      <th>flavia</th>\n",
       "      <td>44.0</td>\n",
       "      <td>1.0</td>\n",
       "      <td>3.784190</td>\n",
       "    </tr>\n",
       "    <tr>\n",
       "      <th>visconti</th>\n",
       "      <td>42.0</td>\n",
       "      <td>1.0</td>\n",
       "      <td>3.737670</td>\n",
       "    </tr>\n",
       "    <tr>\n",
       "      <th>khouri</th>\n",
       "      <td>37.0</td>\n",
       "      <td>1.0</td>\n",
       "      <td>3.610918</td>\n",
       "    </tr>\n",
       "    <tr>\n",
       "      <th>deathtrap</th>\n",
       "      <td>36.0</td>\n",
       "      <td>1.0</td>\n",
       "      <td>3.583519</td>\n",
       "    </tr>\n",
       "    <tr>\n",
       "      <th>creasy</th>\n",
       "      <td>34.0</td>\n",
       "      <td>1.0</td>\n",
       "      <td>3.526361</td>\n",
       "    </tr>\n",
       "    <tr>\n",
       "      <th>brashear</th>\n",
       "      <td>34.0</td>\n",
       "      <td>1.0</td>\n",
       "      <td>3.526361</td>\n",
       "    </tr>\n",
       "    <tr>\n",
       "      <th>panahi</th>\n",
       "      <td>33.0</td>\n",
       "      <td>1.0</td>\n",
       "      <td>3.496508</td>\n",
       "    </tr>\n",
       "    <tr>\n",
       "      <th>ossessione</th>\n",
       "      <td>33.0</td>\n",
       "      <td>1.0</td>\n",
       "      <td>3.496508</td>\n",
       "    </tr>\n",
       "  </tbody>\n",
       "</table>\n",
       "</div>"
      ],
      "text/plain": [
       "            positive_dict  negative_dict  Byes_weight\n",
       "antwone              79.0            1.0     4.369448\n",
       "edie                 78.0            1.0     4.356709\n",
       "paulie               73.0            1.0     4.290459\n",
       "mildred              66.0            1.0     4.189655\n",
       "gundam               63.0            1.0     4.143135\n",
       "biko                 46.0            1.0     3.828641\n",
       "din                  44.0            1.0     3.784190\n",
       "flavia               44.0            1.0     3.784190\n",
       "visconti             42.0            1.0     3.737670\n",
       "khouri               37.0            1.0     3.610918\n",
       "deathtrap            36.0            1.0     3.583519\n",
       "creasy               34.0            1.0     3.526361\n",
       "brashear             34.0            1.0     3.526361\n",
       "panahi               33.0            1.0     3.496508\n",
       "ossessione           33.0            1.0     3.496508"
      ]
     },
     "execution_count": 23,
     "metadata": {},
     "output_type": "execute_result"
    }
   ],
   "source": [
    "# 15 words with max Bayes weight \n",
    "p_w_pos = [item[0] for item in feature_prob_]\n",
    "p_w_neg = [item[1] for item in feature_prob_]\n",
    "Dataframe['Byes_weight']=np.log(np.array(p_w_pos)/np.array(p_w_neg))\n",
    "b_w=Dataframe.sort_values(by='Byes_weight')[::-1]\n",
    "b_w[:15]"
   ]
  },
  {
   "cell_type": "code",
   "execution_count": 24,
   "metadata": {},
   "outputs": [
    {
     "data": {
      "text/html": [
       "<div>\n",
       "<style scoped>\n",
       "    .dataframe tbody tr th:only-of-type {\n",
       "        vertical-align: middle;\n",
       "    }\n",
       "\n",
       "    .dataframe tbody tr th {\n",
       "        vertical-align: top;\n",
       "    }\n",
       "\n",
       "    .dataframe thead th {\n",
       "        text-align: right;\n",
       "    }\n",
       "</style>\n",
       "<table border=\"1\" class=\"dataframe\">\n",
       "  <thead>\n",
       "    <tr style=\"text-align: right;\">\n",
       "      <th></th>\n",
       "      <th>positive_dict</th>\n",
       "      <th>negative_dict</th>\n",
       "      <th>Byes_weight</th>\n",
       "    </tr>\n",
       "  </thead>\n",
       "  <tbody>\n",
       "    <tr>\n",
       "      <th>gram</th>\n",
       "      <td>1.0</td>\n",
       "      <td>25.0</td>\n",
       "      <td>-3.218876</td>\n",
       "    </tr>\n",
       "    <tr>\n",
       "      <th>sarne</th>\n",
       "      <td>1.0</td>\n",
       "      <td>25.0</td>\n",
       "      <td>-3.218876</td>\n",
       "    </tr>\n",
       "    <tr>\n",
       "      <th>palermo</th>\n",
       "      <td>1.0</td>\n",
       "      <td>26.0</td>\n",
       "      <td>-3.258097</td>\n",
       "    </tr>\n",
       "    <tr>\n",
       "      <th>slater</th>\n",
       "      <td>1.0</td>\n",
       "      <td>26.0</td>\n",
       "      <td>-3.258097</td>\n",
       "    </tr>\n",
       "    <tr>\n",
       "      <th>tedium</th>\n",
       "      <td>1.0</td>\n",
       "      <td>27.0</td>\n",
       "      <td>-3.295837</td>\n",
       "    </tr>\n",
       "    <tr>\n",
       "      <th>kareena</th>\n",
       "      <td>1.0</td>\n",
       "      <td>27.0</td>\n",
       "      <td>-3.295837</td>\n",
       "    </tr>\n",
       "    <tr>\n",
       "      <th>seagal</th>\n",
       "      <td>3.0</td>\n",
       "      <td>82.0</td>\n",
       "      <td>-3.308107</td>\n",
       "    </tr>\n",
       "    <tr>\n",
       "      <th>uwe</th>\n",
       "      <td>2.0</td>\n",
       "      <td>58.0</td>\n",
       "      <td>-3.367296</td>\n",
       "    </tr>\n",
       "    <tr>\n",
       "      <th>deathstalker</th>\n",
       "      <td>1.0</td>\n",
       "      <td>30.0</td>\n",
       "      <td>-3.401197</td>\n",
       "    </tr>\n",
       "    <tr>\n",
       "      <th>ajay</th>\n",
       "      <td>1.0</td>\n",
       "      <td>30.0</td>\n",
       "      <td>-3.401197</td>\n",
       "    </tr>\n",
       "    <tr>\n",
       "      <th>grendel</th>\n",
       "      <td>1.0</td>\n",
       "      <td>30.0</td>\n",
       "      <td>-3.401197</td>\n",
       "    </tr>\n",
       "    <tr>\n",
       "      <th>beowulf</th>\n",
       "      <td>1.0</td>\n",
       "      <td>34.0</td>\n",
       "      <td>-3.526361</td>\n",
       "    </tr>\n",
       "    <tr>\n",
       "      <th>boll</th>\n",
       "      <td>2.0</td>\n",
       "      <td>84.0</td>\n",
       "      <td>-3.737670</td>\n",
       "    </tr>\n",
       "    <tr>\n",
       "      <th>dahmer</th>\n",
       "      <td>1.0</td>\n",
       "      <td>42.0</td>\n",
       "      <td>-3.737670</td>\n",
       "    </tr>\n",
       "    <tr>\n",
       "      <th>thunderbirds</th>\n",
       "      <td>1.0</td>\n",
       "      <td>44.0</td>\n",
       "      <td>-3.784190</td>\n",
       "    </tr>\n",
       "  </tbody>\n",
       "</table>\n",
       "</div>"
      ],
      "text/plain": [
       "              positive_dict  negative_dict  Byes_weight\n",
       "gram                    1.0           25.0    -3.218876\n",
       "sarne                   1.0           25.0    -3.218876\n",
       "palermo                 1.0           26.0    -3.258097\n",
       "slater                  1.0           26.0    -3.258097\n",
       "tedium                  1.0           27.0    -3.295837\n",
       "kareena                 1.0           27.0    -3.295837\n",
       "seagal                  3.0           82.0    -3.308107\n",
       "uwe                     2.0           58.0    -3.367296\n",
       "deathstalker            1.0           30.0    -3.401197\n",
       "ajay                    1.0           30.0    -3.401197\n",
       "grendel                 1.0           30.0    -3.401197\n",
       "beowulf                 1.0           34.0    -3.526361\n",
       "boll                    2.0           84.0    -3.737670\n",
       "dahmer                  1.0           42.0    -3.737670\n",
       "thunderbirds            1.0           44.0    -3.784190"
      ]
     },
     "execution_count": 24,
     "metadata": {},
     "output_type": "execute_result"
    }
   ],
   "source": [
    "#with min bayes \n",
    "b_w[-15:]"
   ]
  },
  {
   "cell_type": "markdown",
   "metadata": {},
   "source": [
    "\n",
    "5. Using formulas from Part 1, implement both Bayes classifiers. Fit the train set and predict label for the reviews from test set. How much time does it take to train classifiers and to make predictions for the test data? \n",
    "Compare the results on train, dev and test sets. Why do we have different accuracy values on different parts of the dataset (train and dev, dev and test)? \n"
   ]
  },
  {
   "cell_type": "code",
   "execution_count": 25,
   "metadata": {},
   "outputs": [],
   "source": [
    "# import classifiers\n",
    "from classifier_bnb import BernoulliNB\n",
    "from classifier_mnb import multinomial\n",
    "# replace to 0 and zero for accuracy calculation\n",
    "train_labels=train_labels[0].replace(['neg','pos'],[0,1])\n",
    "dev_labels=dev_labels[0].replace(['neg','pos'],[0,1])\n",
    "dev_labels_b=dev_labels_b[0].replace(['neg','pos'],[0,1])"
   ]
  },
  {
   "cell_type": "code",
   "execution_count": 26,
   "metadata": {},
   "outputs": [],
   "source": [
    "#functions for make predictions for all datasets\n",
    "def predict(model,N):\n",
    "    tokens=[train_words,dev_words,test_words,dev_words_b,test_words_b]\n",
    "    names=['train','dev','test','dev-b','test-b']\n",
    "    predictions=[]\n",
    "    for t,name in zip (tokens,names):\n",
    "        start=time()\n",
    "        preds=model.predict(t,N)\n",
    "        end=time()\n",
    "        print('predict time for ' + str(name)+' is: ',end-start)\n",
    "        predictions.append(preds)\n",
    "    return predictions\n",
    "#function for concat all predictions in one dataframe and save it as need by conditions\n",
    "def to_df(predictions):    \n",
    "    dataframes=[]\n",
    "    tokens=[train_words,dev_words,test_words,dev_words_b,test_words_b]\n",
    "    names=['train/','dev/','test/','dev-b/','test-b/']\n",
    "    for token,name,pred in tqdm(zip(tokens,names,predictions)):\n",
    "        first_column=[]\n",
    "        for i in range(len(token)):\n",
    "            first_column.append(name+str(i))\n",
    "        df = pd.DataFrame([first_column,pred]).T\n",
    "        dataframes.append(df)\n",
    "    result=pd.concat(dataframes,ignore_index=True) \n",
    "    result[1]=result[1].replace([0,1],['neg','pos'])\n",
    "    return result"
   ]
  },
  {
   "cell_type": "code",
   "execution_count": 27,
   "metadata": {},
   "outputs": [
    {
     "name": "stdout",
     "output_type": "stream",
     "text": [
      "fit time:  0.4011039733886719\n",
      "predict time for train is:  25.404410362243652\n",
      "predict time for dev is:  11.552893877029419\n",
      "predict time for test is:  28.732210874557495\n",
      "predict time for dev-b is:  0.2500605583190918\n",
      "predict time for test-b is:  0.9012222290039062\n",
      "0.9231333333333334\n",
      "0.8572\n",
      "0.723\n"
     ]
    }
   ],
   "source": [
    "Bern=BernoulliNB(positive_words,negative_words)\n",
    "start=time()\n",
    "Bern.fit(dictionary_Bernully_pos,dictionary_Bernully_neg)\n",
    "end=time()\n",
    "print('fit time: ',end-start)\n",
    "preds=predict(Bern,(1,1))\n",
    "\n",
    "print(accuracy_score(train_labels,preds[0]))\n",
    "print(accuracy_score(dev_labels,preds[1]))\n",
    "print(accuracy_score(dev_labels_b,preds[3]))"
   ]
  },
  {
   "cell_type": "code",
   "execution_count": 26,
   "metadata": {},
   "outputs": [
    {
     "name": "stderr",
     "output_type": "stream",
     "text": [
      "5it [00:17,  3.11s/it]\n"
     ]
    }
   ],
   "source": [
    "#Just save results\n",
    "result=to_df(preds)\n",
    "result.to_csv('file_b.tsv',index=False,header=False,sep='\\t')"
   ]
  },
  {
   "cell_type": "code",
   "execution_count": 28,
   "metadata": {},
   "outputs": [
    {
     "name": "stdout",
     "output_type": "stream",
     "text": [
      "fit time :  0.32808518409729004\n",
      "predict time for train is:  20.49014711380005\n",
      "predict time for dev is:  12.68819284439087\n",
      "predict time for test is:  35.87924098968506\n",
      "predict time for dev-b is:  0.3020656108856201\n",
      "predict time for test-b is:  1.0803945064544678\n",
      "0.9266666666666666\n",
      "0.8581\n",
      "0.714\n"
     ]
    }
   ],
   "source": [
    "M=multinomial(positive_words,negative_words)\n",
    "start=time()\n",
    "M.fit(dictionary_Multinomial_pos,dictionary_Multinomial_neg)\n",
    "end=time()\n",
    "print(\"fit time : \", end-start)\n",
    "predictions=predict(M,(1,1))\n",
    "print(accuracy_score(train_labels,predictions[0]))\n",
    "print(accuracy_score(dev_labels,predictions[1]))\n",
    "print(accuracy_score(dev_labels_b,predictions[3]))"
   ]
  },
  {
   "cell_type": "code",
   "execution_count": 28,
   "metadata": {},
   "outputs": [
    {
     "name": "stderr",
     "output_type": "stream",
     "text": [
      "5it [00:12,  2.32s/it]\n"
     ]
    }
   ],
   "source": [
    "#Just save results\n",
    "result=to_df(predictions)\n",
    "result.to_csv('file_m.tsv',index=False,header=False,sep='\\t')"
   ]
  },
  {
   "cell_type": "markdown",
   "metadata": {},
   "source": [
    "### Answer\n",
    "\n",
    "We have different accuracies in different datasets(train,dev,test) beacause we have appearence data. the biggest accuracy in train data, because we have fit our model on it. As for dev and test data, their accuracy depend from possibility our model to approximate data. If we have situation when accuracy in train is high and low in test, it's mean that our model is overfitted."
   ]
  },
  {
   "cell_type": "markdown",
   "metadata": {},
   "source": [
    "6. Dictionaries may also contain not only unigrams (words) but also $N$-grams. Add bigrams to dictionaries: does it improve the results (calculate the difference)? Are trigrams helpful? $N$-grams with $n > 3$? Is it worth including $N$-grams (bi-, tri- or n- grams) to dictionaries at all? "
   ]
  },
  {
   "cell_type": "code",
   "execution_count": 29,
   "metadata": {},
   "outputs": [],
   "source": [
    "def N_gram(token_list, N):\n",
    "    tokens=[]\n",
    "    for token in token_list:\n",
    "        tokens.append([\" \".join(token[idx:idx+i]) \n",
    "            for i in range(N[0],N[1]+1) \n",
    "            for idx in range(len(token)-i+1)])\n",
    "    return tokens\n",
    "        "
   ]
  },
  {
   "cell_type": "code",
   "execution_count": 30,
   "metadata": {},
   "outputs": [],
   "source": [
    "positive_ng=N_gram(positive_words,(1,5))\n",
    "negative_ng=N_gram(negative_words,(1,5))\n",
    "\n",
    "dictionary_Bernully_neg_ng=vocabular_creator(negative_ng,NB='Bernully',smoothing=1,min_cnt=0)\n",
    "dictionary_Bernully_pos_ng=vocabular_creator(positive_ng,NB='Bernully',smoothing=1,min_cnt=0)\n",
    "\n",
    "dictionary_Multinomial_neg_ng=vocabular_creator(negative_ng,NB='Multinomial',smoothing=1,min_cnt=0)\n",
    "dictionary_Multinomial_pos_ng=vocabular_creator(positive_ng,NB='Multinomial',smoothing=1,min_cnt=0)"
   ]
  },
  {
   "cell_type": "code",
   "execution_count": 31,
   "metadata": {},
   "outputs": [
    {
     "name": "stdout",
     "output_type": "stream",
     "text": [
      "fit time:  72.73622488975525\n",
      "predict time for train is:  93.96989130973816\n",
      "predict time for dev is:  27.835108757019043\n",
      "predict time for test is:  79.48144316673279\n",
      "predict time for dev-b is:  0.535083532333374\n",
      "predict time for test-b is:  2.3476364612579346\n",
      "1.0\n",
      "0.884\n",
      "0.7265\n"
     ]
    }
   ],
   "source": [
    "start=time()\n",
    "Bern=BernoulliNB(positive_words,negative_words)\n",
    "Bern.fit(dictionary_Bernully_pos_ng,dictionary_Bernully_neg_ng)\n",
    "end=time()\n",
    "print('fit time: ',end-start)\n",
    "preds=predict(Bern,N=(1,5))\n",
    "print(accuracy_score(train_labels,preds[0]))\n",
    "print(accuracy_score(dev_labels,preds[1]))\n",
    "print(accuracy_score(dev_labels_b,preds[3]))"
   ]
  },
  {
   "cell_type": "code",
   "execution_count": 38,
   "metadata": {},
   "outputs": [
    {
     "name": "stderr",
     "output_type": "stream",
     "text": [
      "5it [07:48, 70.35s/it] \n"
     ]
    }
   ],
   "source": [
    "result=to_df(preds)\n",
    "result.to_csv('file.tsv',index=False,header=False,sep='\\t')"
   ]
  },
  {
   "cell_type": "code",
   "execution_count": 32,
   "metadata": {},
   "outputs": [
    {
     "name": "stdout",
     "output_type": "stream",
     "text": [
      "fit time :  63.54126787185669\n",
      "predict time for train is:  148.01653838157654\n",
      "predict time for dev is:  36.96857690811157\n",
      "predict time for test is:  100.36101913452148\n",
      "predict time for dev-b is:  0.7819626331329346\n",
      "predict time for test-b is:  2.7907345294952393\n",
      "1.0\n",
      "0.8846\n",
      "0.719\n"
     ]
    }
   ],
   "source": [
    "start=time()\n",
    "M=multinomial(positive_words,negative_words)\n",
    "M.fit(dictionary_Multinomial_pos_ng,dictionary_Multinomial_neg_ng)\n",
    "end=time()\n",
    "print(\"fit time : \", end-start)\n",
    "predictions=predict(M,N=(1,5))\n",
    "print(accuracy_score(train_labels,predictions[0]))\n",
    "print(accuracy_score(dev_labels,predictions[1]))\n",
    "print(accuracy_score(dev_labels_b,predictions[3]))"
   ]
  },
  {
   "cell_type": "code",
   "execution_count": 51,
   "metadata": {},
   "outputs": [
    {
     "name": "stderr",
     "output_type": "stream",
     "text": [
      "\n",
      "0it [00:00, ?it/s]\n",
      "1it [00:12, 12.69s/it]\n",
      "2it [00:15,  9.64s/it]\n",
      "3it [29:56, 540.75s/it]\n",
      "4it [29:58, 379.57s/it]\n",
      "5it [30:00, 266.31s/it]"
     ]
    }
   ],
   "source": [
    "result=to_df(predictions)\n",
    "result.to_csv('file_m.tsv',index=False,header=False,sep='\\t')"
   ]
  },
  {
   "cell_type": "markdown",
   "metadata": {},
   "source": [
    "Yes n-grams are helpfull, especially n>3, most useful were (1,4) or (1,5). such n-grams we can consider as additional features"
   ]
  },
  {
   "cell_type": "markdown",
   "metadata": {},
   "source": [
    "### Now I want to add dev to train, with hope to improve accuracy on test, I will add only dev, without dev-b, because I little bit scare of overfitted and I dont know use dev-b is cheating it is or not"
   ]
  },
  {
   "cell_type": "code",
   "execution_count": 33,
   "metadata": {},
   "outputs": [
    {
     "name": "stdout",
     "output_type": "stream",
     "text": [
      "(array([0, 1], dtype=int64), array([5020, 4980], dtype=int64))\n",
      "(array([0, 1], dtype=int64), array([1006,  994], dtype=int64))\n"
     ]
    }
   ],
   "source": [
    "print(np.unique(dev_labels,return_counts=True))\n",
    "separated_dev = [[x for x, t in zip(np.array(dev), np.array(dev_labels)) if t == c] for c in np.unique(dev_labels)]\n",
    "print(np.unique(dev_labels_b,return_counts=True))\n",
    "separated_dev_b = [[x for x, t in zip(np.array(dev_b), np.array(dev_labels_b)) if t == c] for c in np.unique(dev_labels_b)]\n"
   ]
  },
  {
   "cell_type": "code",
   "execution_count": 34,
   "metadata": {},
   "outputs": [],
   "source": [
    "preprocessed_negative_dev_tokens=tokenization(preprocess_text(separated_dev[0],True,False))\n",
    "preprocessed_positive_dev_tokens=tokenization(preprocess_text(separated_dev[1],True,False))\n",
    "\n"
   ]
  },
  {
   "cell_type": "code",
   "execution_count": 35,
   "metadata": {},
   "outputs": [
    {
     "name": "stderr",
     "output_type": "stream",
     "text": [
      "100%|████████████████████████████████████████████████████████████████████████████| 5020/5020 [00:03<00:00, 1358.55it/s]\n",
      "100%|████████████████████████████████████████████████████████████████████████████| 4980/4980 [00:02<00:00, 1863.24it/s]\n"
     ]
    }
   ],
   "source": [
    "negative_words_dev=[removeStopwords(sentences,stopWords) for sentences in tqdm(preprocessed_negative_dev_tokens) ]\n",
    "positive_words_dev=[removeStopwords(sentences,stopWords) for sentences in tqdm(preprocessed_positive_dev_tokens) ]\n"
   ]
  },
  {
   "cell_type": "code",
   "execution_count": 36,
   "metadata": {},
   "outputs": [],
   "source": [
    "total_negative_words=negative_words+negative_words_dev\n",
    "total_positive_words=positive_words+positive_words_dev\n",
    "\n",
    "dictionary_Bernully_neg=vocabular_creator(total_negative_words,NB='Bernully',smoothing=1,min_cnt=0)\n",
    "dictionary_Bernully_pos=vocabular_creator(total_positive_words,NB='Bernully',smoothing=1,min_cnt=0)\n",
    "\n",
    "dictionary_Multinomial_neg=vocabular_creator(total_negative_words,NB='Multinomial',smoothing=1,min_cnt=0)\n",
    "dictionary_Multinomial_pos=vocabular_creator(total_positive_words,NB='Multinomial',smoothing=1,min_cnt=0)"
   ]
  },
  {
   "cell_type": "code",
   "execution_count": 37,
   "metadata": {},
   "outputs": [
    {
     "name": "stdout",
     "output_type": "stream",
     "text": [
      "fit time:  0.5670726299285889\n",
      "predict time for train is:  25.56725001335144\n",
      "predict time for dev is:  11.281965970993042\n",
      "predict time for test is:  32.19393491744995\n",
      "predict time for dev-b is:  0.2511887550354004\n",
      "predict time for test-b is:  0.9113273620605469\n",
      "0.9096666666666666\n",
      "0.9077\n",
      "0.727\n"
     ]
    }
   ],
   "source": [
    "Bern=BernoulliNB(total_positive_words,total_negative_words)\n",
    "start=time()\n",
    "Bern.fit(dictionary_Bernully_pos,dictionary_Bernully_neg)\n",
    "end=time()\n",
    "print('fit time: ',end-start)\n",
    "preds=predict(Bern,(1,1))\n",
    "\n",
    "print(accuracy_score(train_labels,preds[0]))\n",
    "print(accuracy_score(dev_labels,preds[1]))\n",
    "print(accuracy_score(dev_labels_b,preds[3]))"
   ]
  },
  {
   "cell_type": "code",
   "execution_count": 38,
   "metadata": {},
   "outputs": [
    {
     "name": "stdout",
     "output_type": "stream",
     "text": [
      "fit time :  1.5043864250183105\n",
      "predict time for train is:  19.540339708328247\n",
      "predict time for dev is:  12.878241539001465\n",
      "predict time for test is:  29.04232907295227\n",
      "predict time for dev-b is:  0.2740662097930908\n",
      "predict time for test-b is:  1.0022516250610352\n",
      "0.9135333333333333\n",
      "0.9141\n",
      "0.7235\n"
     ]
    }
   ],
   "source": [
    "start=time()\n",
    "M=multinomial(total_positive_words,total_negative_words)\n",
    "M.fit(dictionary_Multinomial_pos,dictionary_Multinomial_neg)\n",
    "end=time()\n",
    "print(\"fit time : \", end-start)\n",
    "predictions=predict(M,N=(1,1))\n",
    "print(accuracy_score(train_labels,predictions[0]))\n",
    "print(accuracy_score(dev_labels,predictions[1]))\n",
    "print(accuracy_score(dev_labels_b,predictions[3]))"
   ]
  },
  {
   "cell_type": "markdown",
   "metadata": {},
   "source": [
    "#### seems better, lets try with ngrams"
   ]
  },
  {
   "cell_type": "code",
   "execution_count": 39,
   "metadata": {},
   "outputs": [],
   "source": [
    "positive_ng=N_gram(total_positive_words,(1,5))\n",
    "negative_ng=N_gram(total_negative_words,(1,5))\n",
    "\n",
    "dictionary_Bernully_neg_ng=vocabular_creator(negative_ng,NB='Bernully',smoothing=1,min_cnt=0)\n",
    "dictionary_Bernully_pos_ng=vocabular_creator(positive_ng,NB='Bernully',smoothing=1,min_cnt=0)\n",
    "\n",
    "dictionary_Multinomial_neg_ng=vocabular_creator(negative_ng,NB='Multinomial',smoothing=1,min_cnt=0)\n",
    "dictionary_Multinomial_pos_ng=vocabular_creator(positive_ng,NB='Multinomial',smoothing=1,min_cnt=0)"
   ]
  },
  {
   "cell_type": "code",
   "execution_count": 40,
   "metadata": {},
   "outputs": [
    {
     "name": "stdout",
     "output_type": "stream",
     "text": [
      "fit time:  147.22080969810486\n",
      "predict time for train is:  122.71932125091553\n",
      "predict time for dev is:  76.97036457061768\n",
      "predict time for test is:  110.8006522655487\n",
      "predict time for dev-b is:  0.9184606075286865\n",
      "predict time for test-b is:  2.6004014015197754\n",
      "1.0\n",
      "1.0\n",
      "0.7405\n"
     ]
    }
   ],
   "source": [
    "start=time()\n",
    "Bern=BernoulliNB(total_positive_words,total_negative_words)\n",
    "Bern.fit(dictionary_Bernully_pos_ng,dictionary_Bernully_neg_ng)\n",
    "end=time()\n",
    "print('fit time: ',end-start)\n",
    "preds=predict(Bern,N=(1,5))\n",
    "print(accuracy_score(train_labels,preds[0]))\n",
    "print(accuracy_score(dev_labels,preds[1]))\n",
    "print(accuracy_score(dev_labels_b,preds[3]))"
   ]
  },
  {
   "cell_type": "code",
   "execution_count": 42,
   "metadata": {},
   "outputs": [
    {
     "name": "stderr",
     "output_type": "stream",
     "text": [
      "\n",
      "0it [00:00, ?it/s]\n",
      "1it [00:05,  5.19s/it]\n",
      "2it [00:07,  4.26s/it]\n",
      "3it [00:14,  5.28s/it]\n",
      "4it [00:15,  3.89s/it]\n",
      "5it [00:17,  3.36s/it]"
     ]
    }
   ],
   "source": [
    "result=to_df(preds)\n",
    "result.to_csv('file_b.tsv',index=False,header=False,sep='\\t')"
   ]
  },
  {
   "cell_type": "code",
   "execution_count": 44,
   "metadata": {},
   "outputs": [
    {
     "name": "stdout",
     "output_type": "stream",
     "text": [
      "fit time :  130.98242735862732\n",
      "predict time for train is:  142.0803201198578\n",
      "predict time for dev is:  74.24800872802734\n",
      "predict time for test is:  84.49394035339355\n",
      "predict time for dev-b is:  0.6840596199035645\n",
      "predict time for test-b is:  2.817547082901001\n",
      "1.0\n",
      "1.0\n",
      "0.7365\n"
     ]
    }
   ],
   "source": [
    "start=time()\n",
    "M=multinomial(total_positive_words,total_negative_words)\n",
    "M.fit(dictionary_Multinomial_pos_ng,dictionary_Multinomial_neg_ng)\n",
    "end=time()\n",
    "print(\"fit time : \", end-start)\n",
    "predictions=predict(M,N=(1,5))\n",
    "print(accuracy_score(train_labels,predictions[0]))\n",
    "print(accuracy_score(dev_labels,predictions[1]))\n",
    "print(accuracy_score(dev_labels_b,predictions[3]))"
   ]
  },
  {
   "cell_type": "code",
   "execution_count": 46,
   "metadata": {},
   "outputs": [
    {
     "name": "stderr",
     "output_type": "stream",
     "text": [
      "\n",
      "\n",
      "0it [00:00, ?it/s]\n",
      "\n",
      "1it [00:04,  4.40s/it]\n",
      "\n",
      "2it [00:06,  3.79s/it]\n",
      "\n",
      "3it [00:21,  7.11s/it]\n",
      "\n",
      "4it [00:22,  5.09s/it]\n",
      "\n",
      "5it [00:23,  4.00s/it]"
     ]
    }
   ],
   "source": [
    "result=to_df(predictions)"
   ]
  },
  {
   "cell_type": "code",
   "execution_count": 47,
   "metadata": {},
   "outputs": [],
   "source": [
    "result.to_csv('file_m.tsv',index=False,header=False,sep='\\t')"
   ]
  },
  {
   "cell_type": "markdown",
   "metadata": {},
   "source": [
    "So adding dev to train improve quality on dev-b, little bit on 1.5% , but also we can consider overfitting here.\n",
    "Basically now both models has almost the same qualty, but Bernulli classifier little bit better\n"
   ]
  },
  {
   "cell_type": "markdown",
   "metadata": {},
   "source": [
    "## 3. Research part"
   ]
  },
  {
   "cell_type": "markdown",
   "metadata": {},
   "source": [
    "1. $P(w|c_j )$ estimations are unreliable for words with low frequencies. For example, it may be just a coincidence that a word occurred only 2 times and in positive texts only. On the contrary, if it occurs 1000 times and in positive texts only: this is highly likely to be a regularity, a consistent pattern. \n",
    "\n",
    "Try to delete words from the dictionaries that occur at least several times (set some $min\\_cnt$ value). Does it help to improve the results for the unigram model? Bigram model? Which $min\\_cnt$ value is more suitable for each model?\n",
    "\n",
    "\n",
    "Compare the thresholds for document frequency and term frequency: draw dependence plots on accuraсy versus vocabulary size. Find the threshold to get equal vocabulary sizes for each option."
   ]
  },
  {
   "cell_type": "code",
   "execution_count": 48,
   "metadata": {},
   "outputs": [],
   "source": [
    "#Bern=BernoulliNB(positive_words,negative_words)\n",
    "def func_for_plots(model,bern_pos,bern_neg,N):\n",
    "    all_preds=[]\n",
    "    train_accuracy=[]\n",
    "    dev_accuracy=[]\n",
    "    dev_b_accuracy=[]\n",
    "    for pos,neg in tqdm(zip(bern_pos,bern_neg)):\n",
    "        start=time()\n",
    "        model.fit(pos,neg)\n",
    "        end=time()\n",
    "        print('fit time: ',end-start)\n",
    "        preds=predict(model,N=N)\n",
    "        all_preds.append(preds)\n",
    "        train_ac=accuracy_score(train_labels,preds[0])\n",
    "        dev_ac=accuracy_score(dev_labels,preds[1])\n",
    "        dev_b_ac=accuracy_score(dev_labels_b,preds[3])\n",
    "        train_accuracy.append(train_ac)\n",
    "        dev_accuracy.append(dev_ac)\n",
    "        dev_b_accuracy.append(dev_b_ac)\n",
    "        print(train_ac)\n",
    "        print(dev_ac)\n",
    "        print(dev_b_ac)\n",
    "    return all_preds,train_accuracy,dev_accuracy,dev_b_accuracy"
   ]
  },
  {
   "cell_type": "code",
   "execution_count": 49,
   "metadata": {},
   "outputs": [
    {
     "name": "stderr",
     "output_type": "stream",
     "text": [
      "\n",
      "\n",
      "  0%|                                                                                            | 0/7 [00:00<?, ?it/s]\n",
      "\n",
      " 14%|████████████                                                                        | 1/7 [00:27<02:42, 27.02s/it]\n",
      "\n",
      " 29%|████████████████████████                                                            | 2/7 [00:47<02:04, 24.97s/it]\n",
      "\n",
      " 43%|████████████████████████████████████                                                | 3/7 [01:00<01:26, 21.59s/it]\n",
      "\n",
      " 57%|████████████████████████████████████████████████                                    | 4/7 [01:13<00:56, 18.86s/it]\n",
      "\n",
      " 71%|████████████████████████████████████████████████████████████                        | 5/7 [01:27<00:34, 17.30s/it]\n",
      "\n",
      " 86%|████████████████████████████████████████████████████████████████████████            | 6/7 [01:39<00:15, 15.90s/it]\n",
      "\n",
      "100%|████████████████████████████████████████████████████████████████████████████████████| 7/7 [01:52<00:00, 14.91s/it]"
     ]
    }
   ],
   "source": [
    "# we will count word and phrase if it appear more then 20 times\n",
    "positive_ng=N_gram(positive_words,(1,4))\n",
    "negative_ng=N_gram(negative_words,(1,4))\n",
    "bern_pos=[]\n",
    "bern_neg=[]\n",
    "mult_pos=[]\n",
    "mult_neg=[]\n",
    "min_cnt=[0,2,3,5,8,15,20]\n",
    "for min_c in tqdm(min_cnt):\n",
    "    dictionary_Bernully_neg_ng=vocabular_creator(negative_ng,NB='Bernully',smoothing=1,min_cnt=min_c)\n",
    "    bern_neg.append(dictionary_Bernully_neg_ng)\n",
    "    dictionary_Bernully_pos_ng=vocabular_creator(positive_ng,NB='Bernully',smoothing=1,min_cnt=min_c)\n",
    "    bern_pos.append(dictionary_Bernully_pos_ng)\n",
    "    dictionary_Multinomial_neg_ng=vocabular_creator(negative_ng,NB='Multinomial',smoothing=1,min_cnt=min_c)\n",
    "    mult_neg.append(dictionary_Multinomial_neg_ng)\n",
    "    dictionary_Multinomial_pos_ng=vocabular_creator(positive_ng,NB='Multinomial',smoothing=1,min_cnt=min_c)\n",
    "    mult_pos.append(dictionary_Multinomial_pos_ng)"
   ]
  },
  {
   "cell_type": "code",
   "execution_count": 50,
   "metadata": {},
   "outputs": [
    {
     "name": "stdout",
     "output_type": "stream",
     "text": [
      "bernulli positive min_cnt= 0 :  2538642\n",
      "bernulli negative min_cnt= 0 :  2413805\n",
      "multinomial positive min_cnt= 0 :  2538642\n",
      "multinomial negative min_cnt= 0 :  2413805\n",
      "bernulli positive min_cnt= 2 :  2538642\n",
      "bernulli negative min_cnt= 2 :  2413805\n",
      "multinomial positive min_cnt= 2 :  2538642\n",
      "multinomial negative min_cnt= 2 :  2413805\n",
      "bernulli positive min_cnt= 3 :  135456\n",
      "bernulli negative min_cnt= 3 :  137132\n",
      "multinomial positive min_cnt= 3 :  142487\n",
      "multinomial negative min_cnt= 3 :  144851\n",
      "bernulli positive min_cnt= 5 :  41698\n",
      "bernulli negative min_cnt= 5 :  40256\n",
      "multinomial positive min_cnt= 5 :  44410\n",
      "multinomial negative min_cnt= 5 :  43078\n",
      "bernulli positive min_cnt= 8 :  21168\n",
      "bernulli negative min_cnt= 8 :  20338\n",
      "multinomial positive min_cnt= 8 :  23019\n",
      "multinomial negative min_cnt= 8 :  22007\n",
      "bernulli positive min_cnt= 15 :  10130\n",
      "bernulli negative min_cnt= 15 :  9785\n",
      "multinomial positive min_cnt= 15 :  11346\n",
      "multinomial negative min_cnt= 15 :  10744\n",
      "bernulli positive min_cnt= 20 :  7376\n",
      "bernulli negative min_cnt= 20 :  7137\n",
      "multinomial positive min_cnt= 20 :  8391\n",
      "multinomial negative min_cnt= 20 :  7894\n"
     ]
    }
   ],
   "source": [
    "for i,j,t,r,l in zip(bern_pos,bern_neg,mult_pos,mult_neg,min_cnt):\n",
    "    print('bernulli positive min_cnt= ' +str(l),': ',len(i))\n",
    "    print('bernulli negative min_cnt= ' +str(l),': ',len(j))\n",
    "    print('multinomial positive min_cnt= ' +str(l),': ',len(t))\n",
    "    print('multinomial negative min_cnt= ' +str(l),': ',len(r))"
   ]
  },
  {
   "cell_type": "code",
   "execution_count": 51,
   "metadata": {},
   "outputs": [
    {
     "name": "stderr",
     "output_type": "stream",
     "text": [
      "\n",
      "\n",
      "  0%|                                                                                            | 0/7 [00:00<?, ?it/s]\n",
      "\n",
      " 14%|████████████                                                                        | 1/7 [00:05<00:35,  5.87s/it]\n",
      "\n",
      " 29%|████████████████████████                                                            | 2/7 [00:11<00:28,  5.68s/it]\n",
      "\n",
      " 43%|████████████████████████████████████                                                | 3/7 [00:14<00:20,  5.01s/it]\n",
      "\n",
      " 57%|████████████████████████████████████████████████                                    | 4/7 [00:17<00:13,  4.49s/it]\n",
      "\n",
      " 71%|████████████████████████████████████████████████████████████                        | 5/7 [00:21<00:08,  4.11s/it]\n",
      "\n",
      " 86%|████████████████████████████████████████████████████████████████████████            | 6/7 [00:24<00:03,  3.85s/it]\n",
      "\n",
      "100%|████████████████████████████████████████████████████████████████████████████████████| 7/7 [00:27<00:00,  3.74s/it]"
     ]
    }
   ],
   "source": [
    "#for bigramms\n",
    "positive_ng=N_gram(positive_words,(2,2))\n",
    "negative_ng=N_gram(negative_words,(2,2))\n",
    "bern_pos_bi=[]\n",
    "bern_neg_bi=[]\n",
    "mult_pos_bi=[]\n",
    "mult_neg_bi=[]\n",
    "min_cnt=[0,2,3,5,8,15,20]\n",
    "for min_c in tqdm(min_cnt):\n",
    "    dictionary_Bernully_neg_ng=vocabular_creator(negative_ng,NB='Bernully',smoothing=1,min_cnt=min_c)\n",
    "    bern_neg_bi.append(dictionary_Bernully_neg_ng)\n",
    "    dictionary_Bernully_pos_ng=vocabular_creator(positive_ng,NB='Bernully',smoothing=1,min_cnt=min_c)\n",
    "    bern_pos_bi.append(dictionary_Bernully_pos_ng)\n",
    "    dictionary_Multinomial_neg_ng=vocabular_creator(negative_ng,NB='Multinomial',smoothing=1,min_cnt=min_c)\n",
    "    mult_neg_bi.append(dictionary_Multinomial_neg_ng)\n",
    "    dictionary_Multinomial_pos_ng=vocabular_creator(positive_ng,NB='Multinomial',smoothing=1,min_cnt=min_c)\n",
    "    mult_pos_bi.append(dictionary_Multinomial_pos_ng)"
   ]
  },
  {
   "cell_type": "code",
   "execution_count": 52,
   "metadata": {},
   "outputs": [
    {
     "name": "stderr",
     "output_type": "stream",
     "text": [
      "\n",
      "\n",
      "0it [00:00, ?it/s]"
     ]
    },
    {
     "name": "stdout",
     "output_type": "stream",
     "text": [
      "fit time:  114.06023979187012\n",
      "predict time for train is:  100.70753407478333\n",
      "predict time for dev is:  32.470765352249146\n",
      "predict time for test is:  93.25092506408691\n",
      "predict time for dev-b is:  0.6027674674987793\n",
      "predict time for test-b is:  2.2416977882385254\n",
      "1.0\n",
      "0.8846\n",
      "0.722\n"
     ]
    },
    {
     "name": "stderr",
     "output_type": "stream",
     "text": [
      "\n",
      "\n",
      "1it [05:45, 345.42s/it]"
     ]
    },
    {
     "name": "stdout",
     "output_type": "stream",
     "text": [
      "fit time:  46.44193935394287\n",
      "predict time for train is:  73.33355522155762\n",
      "predict time for dev is:  23.265859127044678\n",
      "predict time for test is:  55.98135685920715\n",
      "predict time for dev-b is:  0.4041011333465576\n",
      "predict time for test-b is:  1.5693929195404053\n",
      "1.0\n",
      "0.8846\n",
      "0.722\n"
     ]
    },
    {
     "name": "stderr",
     "output_type": "stream",
     "text": [
      "\n",
      "\n",
      "2it [09:06, 302.20s/it]"
     ]
    },
    {
     "name": "stdout",
     "output_type": "stream",
     "text": [
      "fit time:  5.673891305923462\n",
      "predict time for train is:  30.760990858078003\n",
      "predict time for dev is:  18.74172616004944\n",
      "predict time for test is:  47.33130407333374\n",
      "predict time for dev-b is:  0.3640921115875244\n",
      "predict time for test-b is:  1.3543384075164795\n",
      "0.9811333333333333\n",
      "0.8789\n",
      "0.7155\n"
     ]
    },
    {
     "name": "stderr",
     "output_type": "stream",
     "text": [
      "\n",
      "\n",
      "3it [10:51, 242.90s/it]"
     ]
    },
    {
     "name": "stdout",
     "output_type": "stream",
     "text": [
      "fit time:  2.446976900100708\n",
      "predict time for train is:  27.53703474998474\n",
      "predict time for dev is:  18.235591650009155\n",
      "predict time for test is:  42.57985186576843\n",
      "predict time for dev-b is:  0.3966202735900879\n",
      "predict time for test-b is:  1.4981944561004639\n",
      "0.9476666666666667\n",
      "0.8721\n",
      "0.72\n"
     ]
    },
    {
     "name": "stderr",
     "output_type": "stream",
     "text": [
      "\n",
      "\n",
      "4it [12:24, 197.88s/it]"
     ]
    },
    {
     "name": "stdout",
     "output_type": "stream",
     "text": [
      "fit time:  0.40024709701538086\n",
      "predict time for train is:  23.840874910354614\n",
      "predict time for dev is:  16.165592193603516\n",
      "predict time for test is:  41.64286136627197\n",
      "predict time for dev-b is:  0.32807350158691406\n",
      "predict time for test-b is:  1.2064340114593506\n",
      "0.9206\n",
      "0.8649\n",
      "0.7325\n"
     ]
    },
    {
     "name": "stderr",
     "output_type": "stream",
     "text": [
      "\n",
      "\n",
      "5it [13:47, 163.62s/it]"
     ]
    },
    {
     "name": "stdout",
     "output_type": "stream",
     "text": [
      "fit time:  1.0566203594207764\n",
      "predict time for train is:  24.08047318458557\n",
      "predict time for dev is:  15.827009439468384\n",
      "predict time for test is:  37.30384421348572\n",
      "predict time for dev-b is:  0.3446013927459717\n",
      "predict time for test-b is:  1.4593677520751953\n",
      "0.892\n",
      "0.8502\n",
      "0.7205\n"
     ]
    },
    {
     "name": "stderr",
     "output_type": "stream",
     "text": [
      "\n",
      "\n",
      "6it [15:08, 138.60s/it]"
     ]
    },
    {
     "name": "stdout",
     "output_type": "stream",
     "text": [
      "fit time:  0.28844738006591797\n",
      "predict time for train is:  22.70273232460022\n",
      "predict time for dev is:  14.794747829437256\n",
      "predict time for test is:  37.74552392959595\n",
      "predict time for dev-b is:  0.36309075355529785\n",
      "predict time for test-b is:  1.2933239936828613\n",
      "0.8756666666666667\n",
      "0.845\n",
      "0.713\n"
     ]
    },
    {
     "name": "stderr",
     "output_type": "stream",
     "text": [
      "\n",
      "\n",
      "7it [16:25, 120.22s/it]"
     ]
    },
    {
     "name": "stdout",
     "output_type": "stream",
     "text": [
      "for bigramms\n"
     ]
    },
    {
     "name": "stderr",
     "output_type": "stream",
     "text": [
      "\n",
      "\n",
      "0it [00:00, ?it/s]"
     ]
    },
    {
     "name": "stdout",
     "output_type": "stream",
     "text": [
      "fit time:  14.710863828659058\n",
      "predict time for train is:  20.39829921722412\n",
      "predict time for dev is:  7.36105489730835\n",
      "predict time for test is:  17.360658407211304\n",
      "predict time for dev-b is:  0.13003277778625488\n",
      "predict time for test-b is:  0.5541322231292725\n",
      "0.9998666666666667\n",
      "0.8774\n",
      "0.6515\n"
     ]
    },
    {
     "name": "stderr",
     "output_type": "stream",
     "text": [
      "\n",
      "\n",
      "1it [01:00, 60.67s/it]"
     ]
    },
    {
     "name": "stdout",
     "output_type": "stream",
     "text": [
      "fit time:  10.653419494628906\n",
      "predict time for train is:  19.117799520492554\n",
      "predict time for dev is:  6.684688329696655\n",
      "predict time for test is:  16.455429315567017\n",
      "predict time for dev-b is:  0.10117578506469727\n",
      "predict time for test-b is:  0.44111108779907227\n",
      "0.9998666666666667\n",
      "0.8774\n",
      "0.6515\n"
     ]
    },
    {
     "name": "stderr",
     "output_type": "stream",
     "text": [
      "\n",
      "\n",
      "2it [01:54, 58.67s/it]"
     ]
    },
    {
     "name": "stdout",
     "output_type": "stream",
     "text": [
      "fit time:  2.527425765991211\n",
      "predict time for train is:  9.636769771575928\n",
      "predict time for dev is:  5.595158338546753\n",
      "predict time for test is:  12.134639978408813\n",
      "predict time for dev-b is:  0.0780172348022461\n",
      "predict time for test-b is:  0.43083786964416504\n",
      "0.9924\n",
      "0.8701\n",
      "0.6355\n"
     ]
    },
    {
     "name": "stderr",
     "output_type": "stream",
     "text": [
      "\n",
      "\n",
      "3it [02:25, 50.21s/it]"
     ]
    },
    {
     "name": "stdout",
     "output_type": "stream",
     "text": [
      "fit time:  0.6961588859558105\n",
      "predict time for train is:  6.79371190071106\n",
      "predict time for dev is:  3.792962074279785\n",
      "predict time for test is:  9.48939847946167\n",
      "predict time for dev-b is:  0.07101917266845703\n",
      "predict time for test-b is:  0.3200693130493164\n",
      "0.9542\n",
      "0.854\n",
      "0.604\n"
     ]
    },
    {
     "name": "stderr",
     "output_type": "stream",
     "text": [
      "\n",
      "\n",
      "4it [02:46, 41.52s/it]"
     ]
    },
    {
     "name": "stdout",
     "output_type": "stream",
     "text": [
      "fit time:  0.2912116050720215\n",
      "predict time for train is:  4.712191820144653\n",
      "predict time for dev is:  2.683678388595581\n",
      "predict time for test is:  6.80272650718689\n",
      "predict time for dev-b is:  0.05301022529602051\n",
      "predict time for test-b is:  0.3100740909576416\n",
      "0.908\n",
      "0.8323\n",
      "0.589\n"
     ]
    },
    {
     "name": "stderr",
     "output_type": "stream",
     "text": [
      "\n",
      "\n",
      "5it [03:01, 33.55s/it]"
     ]
    },
    {
     "name": "stdout",
     "output_type": "stream",
     "text": [
      "fit time:  0.18904709815979004\n",
      "predict time for train is:  3.2748236656188965\n",
      "predict time for dev is:  1.9976375102996826\n",
      "predict time for test is:  5.313825368881226\n",
      "predict time for dev-b is:  0.042008161544799805\n",
      "predict time for test-b is:  0.41602420806884766\n",
      "0.8454666666666667\n",
      "0.7939\n",
      "0.5655\n"
     ]
    },
    {
     "name": "stderr",
     "output_type": "stream",
     "text": [
      "\n",
      "\n",
      "6it [03:12, 26.96s/it]"
     ]
    },
    {
     "name": "stdout",
     "output_type": "stream",
     "text": [
      "fit time:  0.25275254249572754\n",
      "predict time for train is:  2.6476657390594482\n",
      "predict time for dev is:  1.6624186038970947\n",
      "predict time for test is:  4.151051044464111\n",
      "predict time for dev-b is:  0.03400611877441406\n",
      "predict time for test-b is:  0.37824440002441406\n",
      "0.8146666666666667\n",
      "0.7846\n",
      "0.5525\n"
     ]
    },
    {
     "name": "stderr",
     "output_type": "stream",
     "text": [
      "\n",
      "\n",
      "7it [03:22, 21.63s/it]"
     ]
    }
   ],
   "source": [
    "all_preds,train_accuracy,dev_accuracy,dev_b_accuracy=func_for_plots(Bern,bern_pos,bern_neg,(1,4))\n",
    "print('for bigramms')\n",
    "all_preds_bi,train_accuracy_bi,dev_accuracy_bi,dev_b_accuracy_bi=func_for_plots(Bern,bern_pos_bi,bern_neg_bi,(2,2))"
   ]
  },
  {
   "cell_type": "code",
   "execution_count": 53,
   "metadata": {},
   "outputs": [
    {
     "data": {
      "text/plain": [
       "Text(0.5, 1.0, 'for ngrams(2,2)')"
      ]
     },
     "execution_count": 53,
     "metadata": {},
     "output_type": "execute_result"
    },
    {
     "data": {
      "image/png": "[encoded data removed]",
      "text/plain": [
       "<Figure size 1296x432 with 2 Axes>"
      ]
     },
     "metadata": {},
     "output_type": "display_data"
    }
   ],
   "source": [
    "plt.figure(figsize=(18,6))\n",
    "plt.subplot(1,2,1)\n",
    "plt.plot(min_cnt,train_accuracy,label='train')\n",
    "plt.plot(min_cnt,dev_accuracy,label='dev')\n",
    "plt.plot(min_cnt,dev_b_accuracy,label='dev_b')\n",
    "plt.legend()\n",
    "plt.title('for ngrams(1,3)')\n",
    "plt.subplot(1,2,2)\n",
    "plt.plot(min_cnt,train_accuracy_bi,label='train')\n",
    "plt.plot(min_cnt,dev_accuracy_bi,label='dev')\n",
    "plt.plot(min_cnt,dev_b_accuracy_bi,label='dev_b')\n",
    "plt.legend()\n",
    "plt.title('for ngrams(2,2)')"
   ]
  },
  {
   "cell_type": "code",
   "execution_count": null,
   "metadata": {},
   "outputs": [],
   "source": [
    "#As we can see additional min_ct from one side improve dev_b results, but result on other data are decreased. \n",
    "#on bigrams min_cnt=2 has little bit improvements"
   ]
  },
  {
   "cell_type": "code",
   "execution_count": 54,
   "metadata": {},
   "outputs": [
    {
     "name": "stderr",
     "output_type": "stream",
     "text": [
      "\n",
      "\n",
      "0it [00:00, ?it/s]"
     ]
    },
    {
     "name": "stdout",
     "output_type": "stream",
     "text": [
      "fit time:  273.9736828804016\n",
      "predict time for train is:  86.74687242507935\n",
      "predict time for dev is:  28.176718711853027\n",
      "predict time for test is:  64.63358521461487\n",
      "predict time for dev-b is:  0.47911763191223145\n",
      "predict time for test-b is:  1.7384381294250488\n",
      "1.0\n",
      "0.8844\n",
      "0.72\n"
     ]
    },
    {
     "name": "stderr",
     "output_type": "stream",
     "text": [
      "\n",
      "\n",
      "1it [07:39, 459.66s/it]"
     ]
    },
    {
     "name": "stdout",
     "output_type": "stream",
     "text": [
      "fit time:  47.28224420547485\n",
      "predict time for train is:  80.68605971336365\n",
      "predict time for dev is:  23.335771083831787\n",
      "predict time for test is:  55.38623905181885\n",
      "predict time for dev-b is:  0.40874314308166504\n",
      "predict time for test-b is:  3.0802927017211914\n",
      "1.0\n",
      "0.8844\n",
      "0.72\n"
     ]
    },
    {
     "name": "stderr",
     "output_type": "stream",
     "text": [
      "\n",
      "\n",
      "2it [11:11, 385.43s/it]"
     ]
    },
    {
     "name": "stdout",
     "output_type": "stream",
     "text": [
      "fit time:  4.857954502105713\n",
      "predict time for train is:  35.48243045806885\n",
      "predict time for dev is:  21.174246072769165\n",
      "predict time for test is:  51.25528025627136\n",
      "predict time for dev-b is:  0.3902466297149658\n",
      "predict time for test-b is:  1.7752645015716553\n",
      "0.9833333333333333\n",
      "0.8814\n",
      "0.7185\n"
     ]
    },
    {
     "name": "stderr",
     "output_type": "stream",
     "text": [
      "\n",
      "\n",
      "3it [13:07, 304.35s/it]"
     ]
    },
    {
     "name": "stdout",
     "output_type": "stream",
     "text": [
      "fit time:  1.120131492614746\n",
      "predict time for train is:  30.256955862045288\n",
      "predict time for dev is:  19.675349712371826\n",
      "predict time for test is:  49.28154158592224\n",
      "predict time for dev-b is:  0.4584202766418457\n",
      "predict time for test-b is:  1.6113903522491455\n",
      "0.9528666666666666\n",
      "0.8777\n",
      "0.7135\n"
     ]
    },
    {
     "name": "stderr",
     "output_type": "stream",
     "text": [
      "\n",
      "\n",
      "4it [14:49, 243.84s/it]"
     ]
    },
    {
     "name": "stdout",
     "output_type": "stream",
     "text": [
      "fit time:  0.9528994560241699\n",
      "predict time for train is:  33.626827239990234\n",
      "predict time for dev is:  20.72920036315918\n",
      "predict time for test is:  45.606186389923096\n",
      "predict time for dev-b is:  0.33608317375183105\n",
      "predict time for test-b is:  1.349336862564087\n",
      "0.9278\n",
      "0.8682\n",
      "0.7275\n"
     ]
    },
    {
     "name": "stderr",
     "output_type": "stream",
     "text": [
      "\n",
      "\n",
      "5it [16:32, 201.53s/it]"
     ]
    },
    {
     "name": "stdout",
     "output_type": "stream",
     "text": [
      "fit time:  0.48754024505615234\n",
      "predict time for train is:  26.570739030838013\n",
      "predict time for dev is:  16.781212329864502\n",
      "predict time for test is:  44.949384927749634\n",
      "predict time for dev-b is:  0.29906773567199707\n",
      "predict time for test-b is:  1.2893240451812744\n",
      "0.8984\n",
      "0.8509\n",
      "0.7165\n"
     ]
    },
    {
     "name": "stderr",
     "output_type": "stream",
     "text": [
      "\n",
      "\n",
      "6it [18:03, 168.25s/it]"
     ]
    },
    {
     "name": "stdout",
     "output_type": "stream",
     "text": [
      "fit time:  0.5221281051635742\n",
      "predict time for train is:  28.488205194473267\n",
      "predict time for dev is:  18.680216550827026\n",
      "predict time for test is:  41.846601247787476\n",
      "predict time for dev-b is:  0.3481590747833252\n",
      "predict time for test-b is:  1.1852991580963135\n",
      "0.884\n",
      "0.8453\n",
      "0.712\n"
     ]
    },
    {
     "name": "stderr",
     "output_type": "stream",
     "text": [
      "\n",
      "\n",
      "7it [19:34, 145.24s/it]"
     ]
    },
    {
     "name": "stdout",
     "output_type": "stream",
     "text": [
      "for bigramms\n"
     ]
    },
    {
     "name": "stderr",
     "output_type": "stream",
     "text": [
      "\n",
      "\n",
      "0it [00:00, ?it/s]"
     ]
    },
    {
     "name": "stdout",
     "output_type": "stream",
     "text": [
      "fit time:  14.522407054901123\n",
      "predict time for train is:  22.417676210403442\n",
      "predict time for dev is:  7.365908861160278\n",
      "predict time for test is:  18.600708484649658\n",
      "predict time for dev-b is:  0.13002514839172363\n",
      "predict time for test-b is:  0.5611352920532227\n",
      "0.9998666666666667\n",
      "0.8781\n",
      "0.647\n"
     ]
    },
    {
     "name": "stderr",
     "output_type": "stream",
     "text": [
      "\n",
      "\n",
      "1it [01:03, 63.81s/it]"
     ]
    },
    {
     "name": "stdout",
     "output_type": "stream",
     "text": [
      "fit time:  10.800151348114014\n",
      "predict time for train is:  21.011313676834106\n",
      "predict time for dev is:  7.535058975219727\n",
      "predict time for test is:  18.869067430496216\n",
      "predict time for dev-b is:  0.12615489959716797\n",
      "predict time for test-b is:  0.6358489990234375\n",
      "0.9998666666666667\n",
      "0.8781\n",
      "0.647\n"
     ]
    },
    {
     "name": "stderr",
     "output_type": "stream",
     "text": [
      "\n",
      "\n",
      "2it [02:04, 62.80s/it]"
     ]
    },
    {
     "name": "stdout",
     "output_type": "stream",
     "text": [
      "fit time:  2.8072307109832764\n",
      "predict time for train is:  9.597431421279907\n",
      "predict time for dev is:  6.149550676345825\n",
      "predict time for test is:  13.932516813278198\n",
      "predict time for dev-b is:  0.10402655601501465\n",
      "predict time for test-b is:  0.39009547233581543\n",
      "0.9937333333333334\n",
      "0.8706\n",
      "0.6285\n"
     ]
    },
    {
     "name": "stderr",
     "output_type": "stream",
     "text": [
      "\n",
      "\n",
      "3it [02:37, 53.93s/it]"
     ]
    },
    {
     "name": "stdout",
     "output_type": "stream",
     "text": [
      "fit time:  0.8808140754699707\n",
      "predict time for train is:  6.985927104949951\n",
      "predict time for dev is:  4.503138780593872\n",
      "predict time for test is:  9.95652437210083\n",
      "predict time for dev-b is:  0.06401228904724121\n",
      "predict time for test-b is:  0.8570687770843506\n",
      "0.9584\n",
      "0.8551\n",
      "0.6\n"
     ]
    },
    {
     "name": "stderr",
     "output_type": "stream",
     "text": [
      "\n",
      "\n",
      "4it [03:00, 44.75s/it]"
     ]
    },
    {
     "name": "stdout",
     "output_type": "stream",
     "text": [
      "fit time:  0.30692434310913086\n",
      "predict time for train is:  5.199499845504761\n",
      "predict time for dev is:  3.3759984970092773\n",
      "predict time for test is:  9.004366397857666\n",
      "predict time for dev-b is:  0.06801700592041016\n",
      "predict time for test-b is:  0.3030729293823242\n",
      "0.9140666666666667\n",
      "0.8373\n",
      "0.5825\n"
     ]
    },
    {
     "name": "stderr",
     "output_type": "stream",
     "text": [
      "\n",
      "\n",
      "5it [03:19, 36.83s/it]"
     ]
    },
    {
     "name": "stdout",
     "output_type": "stream",
     "text": [
      "fit time:  0.30507612228393555\n",
      "predict time for train is:  3.7709524631500244\n",
      "predict time for dev is:  2.398603916168213\n",
      "predict time for test is:  5.775455951690674\n",
      "predict time for dev-b is:  0.05701732635498047\n",
      "predict time for test-b is:  2.0268023014068604\n",
      "0.8496\n",
      "0.8017\n",
      "0.5595\n"
     ]
    },
    {
     "name": "stderr",
     "output_type": "stream",
     "text": [
      "\n",
      "\n",
      "6it [03:34, 30.35s/it]"
     ]
    },
    {
     "name": "stdout",
     "output_type": "stream",
     "text": [
      "fit time:  0.17014670372009277\n",
      "predict time for train is:  3.8097987174987793\n",
      "predict time for dev is:  2.3866028785705566\n",
      "predict time for test is:  4.995260715484619\n",
      "predict time for dev-b is:  0.042005300521850586\n",
      "predict time for test-b is:  0.25403499603271484\n",
      "0.8235333333333333\n",
      "0.789\n",
      "0.555\n"
     ]
    },
    {
     "name": "stderr",
     "output_type": "stream",
     "text": [
      "\n",
      "\n",
      "7it [03:46, 24.83s/it]"
     ]
    }
   ],
   "source": [
    "all_preds_m,train_accuracy_m,dev_accuracy_m,dev_b_accuracy_m=func_for_plots(M,mult_pos,mult_neg,N=(1,4))\n",
    "print('for bigramms')\n",
    "all_preds_bi_m,train_accuracy_bi_m,dev_accuracy_bi_m,dev_b_accuracy_bi_m=func_for_plots(M,mult_pos_bi,mult_neg_bi,N=(2,2))"
   ]
  },
  {
   "cell_type": "code",
   "execution_count": 55,
   "metadata": {},
   "outputs": [
    {
     "data": {
      "text/plain": [
       "Text(0.5, 1.0, 'for ngrams(2,2)')"
      ]
     },
     "execution_count": 55,
     "metadata": {},
     "output_type": "execute_result"
    },
    {
     "data": {
      "image/png": "[encoded data removed]",
      "text/plain": [
       "<Figure size 1296x432 with 2 Axes>"
      ]
     },
     "metadata": {},
     "output_type": "display_data"
    }
   ],
   "source": [
    "plt.figure(figsize=(18,6))\n",
    "plt.subplot(1,2,1)\n",
    "plt.plot(min_cnt,train_accuracy_m,label='train')\n",
    "plt.plot(min_cnt,dev_accuracy_m,label='dev')\n",
    "plt.plot(min_cnt,dev_b_accuracy_m,label='dev_b')\n",
    "plt.legend()\n",
    "plt.title('for ngrams(1,3)')\n",
    "plt.subplot(1,2,2)\n",
    "plt.plot(min_cnt,train_accuracy_bi_m,label='train')\n",
    "plt.plot(min_cnt,dev_accuracy_bi_m,label='dev')\n",
    "plt.plot(min_cnt,dev_b_accuracy_bi_m,label='dev_b')\n",
    "plt.legend()\n",
    "plt.title('for ngrams(2,2)')"
   ]
  },
  {
   "cell_type": "code",
   "execution_count": 89,
   "metadata": {},
   "outputs": [
    {
     "name": "stderr",
     "output_type": "stream",
     "text": [
      "\n",
      "\n",
      "\n",
      "0it [00:00, ?it/s]\n",
      "\n",
      "\n",
      "1it [00:04,  4.04s/it]\n",
      "\n",
      "\n",
      "2it [00:50, 16.61s/it]\n",
      "\n",
      "\n",
      "3it [00:56, 13.49s/it]\n",
      "\n",
      "\n",
      "4it [00:56,  9.56s/it]\n",
      "\n",
      "\n",
      "5it [00:57,  7.09s/it]"
     ]
    }
   ],
   "source": [
    "result=to_df(all_preds[4])\n",
    "result.to_csv('file.tsv',index=False,header=False,sep='\\t')"
   ]
  },
  {
   "cell_type": "code",
   "execution_count": null,
   "metadata": {},
   "outputs": [],
   "source": [
    "#As we can see additional min_ct from one side improve dev_b results, but result on other data are decreased. \n",
    "#on bigrams min_cnt=2 has little bit improvements"
   ]
  },
  {
   "cell_type": "markdown",
   "metadata": {},
   "source": [
    "2. Multinomial Naive Bayes classifier may take (or not) into account word frequencies (by keeping or deleting words that occur more than once). How does it affect the results?"
   ]
  },
  {
   "cell_type": "code",
   "execution_count": null,
   "metadata": {},
   "outputs": [],
   "source": []
  },
  {
   "cell_type": "markdown",
   "metadata": {},
   "source": [
    "3. Preprocessing is crucial for the model performance. Try different methods: lowercase, punctuation deletion, replacing numbers with the **NUMBER** token. How do those methods affect the results?"
   ]
  },
  {
   "cell_type": "code",
   "execution_count": null,
   "metadata": {},
   "outputs": [],
   "source": [
    "# it was tested lowercase and punctuation deletion, it's improve quality. because punctuation appear very often that's why \n",
    "#it can add additional unusefull information. as for lower letters it's also improve because if do not do it classifier \n",
    "# account same words but with 1 big letter and other with low letter as different words\n",
    "# also I see that if I delete figures, accuracy in dev get lower, then if I made calculation with "
   ]
  },
  {
   "cell_type": "markdown",
   "metadata": {},
   "source": [
    "4. Some words in the test set do not appear in the dictionaries. However, they may also be a good indicator (for instance, a lot of unknown words in a email is a good feature for spam detection). Try to replace unknown words with **UNK** token. How do we estimate $P( UNK |c_j )$ then? \n",
    "\n",
    "_Hint: we get this by replacing words that occur only once in the training set with this token._"
   ]
  },
  {
   "cell_type": "markdown",
   "metadata": {},
   "source": [
    "5. Check the relation between the document length and the class label. Draw the distribution of document lengths for each class. Is it useful to take the length into account? "
   ]
  },
  {
   "cell_type": "code",
   "execution_count": 56,
   "metadata": {},
   "outputs": [],
   "source": [
    "\n",
    "neg_length=[]\n",
    "pos_length=[]\n",
    "for i,j in zip(negative_words,positive_words):\n",
    "    neg_length.append(len(i))\n",
    "    pos_length.append(len(j))"
   ]
  },
  {
   "cell_type": "code",
   "execution_count": 57,
   "metadata": {},
   "outputs": [
    {
     "name": "stderr",
     "output_type": "stream",
     "text": [
      "C:\\Users\\nikos\\Anaconda3\\lib\\site-packages\\scipy\\stats\\stats.py:1713: FutureWarning: Using a non-tuple sequence for multidimensional indexing is deprecated; use `arr[tuple(seq)]` instead of `arr[seq]`. In the future this will be interpreted as an array index, `arr[np.array(seq)]`, which will result either in an error or a different result.\n",
      "  return np.add.reduce(sorted[indexer] * weights, axis=axis) / sumval\n"
     ]
    },
    {
     "data": {
      "image/png": "[encoded data removed]",
      "text/plain": [
       "<Figure size 432x288 with 1 Axes>"
      ]
     },
     "metadata": {},
     "output_type": "display_data"
    }
   ],
   "source": [
    "#distribution for negative reviews\n",
    "sns.distplot(neg_length);"
   ]
  },
  {
   "cell_type": "code",
   "execution_count": 58,
   "metadata": {},
   "outputs": [
    {
     "name": "stderr",
     "output_type": "stream",
     "text": [
      "C:\\Users\\nikos\\Anaconda3\\lib\\site-packages\\scipy\\stats\\stats.py:1713: FutureWarning: Using a non-tuple sequence for multidimensional indexing is deprecated; use `arr[tuple(seq)]` instead of `arr[seq]`. In the future this will be interpreted as an array index, `arr[np.array(seq)]`, which will result either in an error or a different result.\n",
      "  return np.add.reduce(sorted[indexer] * weights, axis=axis) / sumval\n"
     ]
    },
    {
     "data": {
      "image/png": "[encoded data removed]",
      "text/plain": [
       "<Figure size 432x288 with 1 Axes>"
      ]
     },
     "metadata": {},
     "output_type": "display_data"
    }
   ],
   "source": [
    "#distribution for positive reviews\n",
    "sns.distplot(pos_length);"
   ]
  },
  {
   "cell_type": "code",
   "execution_count": null,
   "metadata": {},
   "outputs": [],
   "source": [
    "# from one side sentence length in positive and negative review can be feature, but in our case we have almost  same distribution\n",
    "# exception that in positive reviews we have bigger outliers to 1000 words instead to 800 in negative"
   ]
  },
  {
   "cell_type": "markdown",
   "metadata": {},
   "source": [
    "6. Apart from the reviews, there are many unlabeled texts (file *train\\_unlabeled.texts*) -- try to use them to improve classifier performance. Suggest your own ideas, how to use the data. Implement and compare the approaches that seem to you to be more prospective."
   ]
  },
  {
   "cell_type": "code",
   "execution_count": null,
   "metadata": {},
   "outputs": [],
   "source": []
  }
 ],
 "metadata": {
  "kernelspec": {
   "display_name": "Python 3",
   "language": "python",
   "name": "python3"
  },
  "language_info": {
   "codemirror_mode": {
    "name": "ipython",
    "version": 3
   },
   "file_extension": ".py",
   "mimetype": "text/x-python",
   "name": "python",
   "nbconvert_exporter": "python",
   "pygments_lexer": "ipython3",
   "version": "3.6.5"
  }
 },
 "nbformat": 4,
 "nbformat_minor": 4
}
